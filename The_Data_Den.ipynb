{
 "cells": [
  {
   "cell_type": "code",
   "execution_count": 1,
   "id": "321307b3",
   "metadata": {},
   "outputs": [],
   "source": [
    "import pandas as pd\n",
    "import numpy as np\n",
    "import matplotlib.pyplot as plt\n",
    "import seaborn as sns\n",
    "%matplotlib inline\n",
    "sns.set_style('whitegrid')\n"
   ]
  },
  {
   "cell_type": "code",
   "execution_count": 2,
   "id": "d6ef9db9",
   "metadata": {},
   "outputs": [],
   "source": [
    "#Don't run this cell all the time\n",
    "import os, glob\n",
    "import pandas as pd\n",
    "path = r\"C:\\Users\\DELL\\Desktop\\PES 5 SEM\\DATA ANALYTICS\\PROJECT CLIMATE CHANGE\\Dataset\"\n",
    "all_files = glob.glob(os.path.join(path, \"Global*.csv\"))\n",
    "df_from_each_file = (pd.read_csv(f, sep=',') for f in all_files)\n",
    "df_merged = pd.concat(df_from_each_file, ignore_index = True)\n",
    "df_merged.to_csv(\"mergeddata.csv\")"
   ]
  },
  {
   "cell_type": "code",
   "execution_count": 3,
   "id": "f69caae1",
   "metadata": {},
   "outputs": [
    {
     "name": "stderr",
     "output_type": "stream",
     "text": [
      "C:\\Users\\DELL\\anaconda3\\lib\\site-packages\\IPython\\core\\interactiveshell.py:3165: DtypeWarning: Columns (5,6,7,8) have mixed types.Specify dtype option on import or set low_memory=False.\n",
      "  has_raised = await self.run_ast_nodes(code_ast.body, cell_name,\n"
     ]
    }
   ],
   "source": [
    "df = pd.read_csv(r\"C:\\Users\\DELL\\Desktop\\PES 5 SEM\\DATA ANALYTICS\\PROJECT CLIMATE CHANGE\\mergeddata.csv\")"
   ]
  },
  {
   "cell_type": "code",
   "execution_count": 4,
   "id": "2f8b4ab8",
   "metadata": {},
   "outputs": [
    {
     "data": {
      "text/html": [
       "<div>\n",
       "<style scoped>\n",
       "    .dataframe tbody tr th:only-of-type {\n",
       "        vertical-align: middle;\n",
       "    }\n",
       "\n",
       "    .dataframe tbody tr th {\n",
       "        vertical-align: top;\n",
       "    }\n",
       "\n",
       "    .dataframe thead th {\n",
       "        text-align: right;\n",
       "    }\n",
       "</style>\n",
       "<table border=\"1\" class=\"dataframe\">\n",
       "  <thead>\n",
       "    <tr style=\"text-align: right;\">\n",
       "      <th></th>\n",
       "      <th>Unnamed: 0</th>\n",
       "      <th>dt</th>\n",
       "      <th>AverageTemperature</th>\n",
       "      <th>AverageTemperatureUncertainty</th>\n",
       "      <th>Country</th>\n",
       "      <th>City</th>\n",
       "      <th>Latitude</th>\n",
       "      <th>Longitude</th>\n",
       "      <th>State</th>\n",
       "      <th>LandAverageTemperature</th>\n",
       "      <th>LandAverageTemperatureUncertainty</th>\n",
       "      <th>LandMaxTemperature</th>\n",
       "      <th>LandMaxTemperatureUncertainty</th>\n",
       "      <th>LandMinTemperature</th>\n",
       "      <th>LandMinTemperatureUncertainty</th>\n",
       "      <th>LandAndOceanAverageTemperature</th>\n",
       "      <th>LandAndOceanAverageTemperatureUncertainty</th>\n",
       "    </tr>\n",
       "  </thead>\n",
       "  <tbody>\n",
       "    <tr>\n",
       "      <th>0</th>\n",
       "      <td>0</td>\n",
       "      <td>1743-11-01</td>\n",
       "      <td>4.384</td>\n",
       "      <td>2.294</td>\n",
       "      <td>Åland</td>\n",
       "      <td>NaN</td>\n",
       "      <td>NaN</td>\n",
       "      <td>NaN</td>\n",
       "      <td>NaN</td>\n",
       "      <td>NaN</td>\n",
       "      <td>NaN</td>\n",
       "      <td>NaN</td>\n",
       "      <td>NaN</td>\n",
       "      <td>NaN</td>\n",
       "      <td>NaN</td>\n",
       "      <td>NaN</td>\n",
       "      <td>NaN</td>\n",
       "    </tr>\n",
       "    <tr>\n",
       "      <th>1</th>\n",
       "      <td>1</td>\n",
       "      <td>1743-12-01</td>\n",
       "      <td>NaN</td>\n",
       "      <td>NaN</td>\n",
       "      <td>Åland</td>\n",
       "      <td>NaN</td>\n",
       "      <td>NaN</td>\n",
       "      <td>NaN</td>\n",
       "      <td>NaN</td>\n",
       "      <td>NaN</td>\n",
       "      <td>NaN</td>\n",
       "      <td>NaN</td>\n",
       "      <td>NaN</td>\n",
       "      <td>NaN</td>\n",
       "      <td>NaN</td>\n",
       "      <td>NaN</td>\n",
       "      <td>NaN</td>\n",
       "    </tr>\n",
       "    <tr>\n",
       "      <th>2</th>\n",
       "      <td>2</td>\n",
       "      <td>1744-01-01</td>\n",
       "      <td>NaN</td>\n",
       "      <td>NaN</td>\n",
       "      <td>Åland</td>\n",
       "      <td>NaN</td>\n",
       "      <td>NaN</td>\n",
       "      <td>NaN</td>\n",
       "      <td>NaN</td>\n",
       "      <td>NaN</td>\n",
       "      <td>NaN</td>\n",
       "      <td>NaN</td>\n",
       "      <td>NaN</td>\n",
       "      <td>NaN</td>\n",
       "      <td>NaN</td>\n",
       "      <td>NaN</td>\n",
       "      <td>NaN</td>\n",
       "    </tr>\n",
       "    <tr>\n",
       "      <th>3</th>\n",
       "      <td>3</td>\n",
       "      <td>1744-02-01</td>\n",
       "      <td>NaN</td>\n",
       "      <td>NaN</td>\n",
       "      <td>Åland</td>\n",
       "      <td>NaN</td>\n",
       "      <td>NaN</td>\n",
       "      <td>NaN</td>\n",
       "      <td>NaN</td>\n",
       "      <td>NaN</td>\n",
       "      <td>NaN</td>\n",
       "      <td>NaN</td>\n",
       "      <td>NaN</td>\n",
       "      <td>NaN</td>\n",
       "      <td>NaN</td>\n",
       "      <td>NaN</td>\n",
       "      <td>NaN</td>\n",
       "    </tr>\n",
       "    <tr>\n",
       "      <th>4</th>\n",
       "      <td>4</td>\n",
       "      <td>1744-03-01</td>\n",
       "      <td>NaN</td>\n",
       "      <td>NaN</td>\n",
       "      <td>Åland</td>\n",
       "      <td>NaN</td>\n",
       "      <td>NaN</td>\n",
       "      <td>NaN</td>\n",
       "      <td>NaN</td>\n",
       "      <td>NaN</td>\n",
       "      <td>NaN</td>\n",
       "      <td>NaN</td>\n",
       "      <td>NaN</td>\n",
       "      <td>NaN</td>\n",
       "      <td>NaN</td>\n",
       "      <td>NaN</td>\n",
       "      <td>NaN</td>\n",
       "    </tr>\n",
       "  </tbody>\n",
       "</table>\n",
       "</div>"
      ],
      "text/plain": [
       "   Unnamed: 0          dt  AverageTemperature  AverageTemperatureUncertainty  \\\n",
       "0           0  1743-11-01               4.384                          2.294   \n",
       "1           1  1743-12-01                 NaN                            NaN   \n",
       "2           2  1744-01-01                 NaN                            NaN   \n",
       "3           3  1744-02-01                 NaN                            NaN   \n",
       "4           4  1744-03-01                 NaN                            NaN   \n",
       "\n",
       "  Country City Latitude Longitude State  LandAverageTemperature  \\\n",
       "0   Åland  NaN      NaN       NaN   NaN                     NaN   \n",
       "1   Åland  NaN      NaN       NaN   NaN                     NaN   \n",
       "2   Åland  NaN      NaN       NaN   NaN                     NaN   \n",
       "3   Åland  NaN      NaN       NaN   NaN                     NaN   \n",
       "4   Åland  NaN      NaN       NaN   NaN                     NaN   \n",
       "\n",
       "   LandAverageTemperatureUncertainty  LandMaxTemperature  \\\n",
       "0                                NaN                 NaN   \n",
       "1                                NaN                 NaN   \n",
       "2                                NaN                 NaN   \n",
       "3                                NaN                 NaN   \n",
       "4                                NaN                 NaN   \n",
       "\n",
       "   LandMaxTemperatureUncertainty  LandMinTemperature  \\\n",
       "0                            NaN                 NaN   \n",
       "1                            NaN                 NaN   \n",
       "2                            NaN                 NaN   \n",
       "3                            NaN                 NaN   \n",
       "4                            NaN                 NaN   \n",
       "\n",
       "   LandMinTemperatureUncertainty  LandAndOceanAverageTemperature  \\\n",
       "0                            NaN                             NaN   \n",
       "1                            NaN                             NaN   \n",
       "2                            NaN                             NaN   \n",
       "3                            NaN                             NaN   \n",
       "4                            NaN                             NaN   \n",
       "\n",
       "   LandAndOceanAverageTemperatureUncertainty  \n",
       "0                                        NaN  \n",
       "1                                        NaN  \n",
       "2                                        NaN  \n",
       "3                                        NaN  \n",
       "4                                        NaN  "
      ]
     },
     "execution_count": 4,
     "metadata": {},
     "output_type": "execute_result"
    }
   ],
   "source": [
    "df.head()"
   ]
  },
  {
   "cell_type": "code",
   "execution_count": 5,
   "id": "2c7cdf3e",
   "metadata": {},
   "outputs": [
    {
     "data": {
      "text/plain": [
       "1465506"
      ]
     },
     "execution_count": 5,
     "metadata": {},
     "output_type": "execute_result"
    }
   ],
   "source": [
    "len(df)"
   ]
  },
  {
   "cell_type": "code",
   "execution_count": 6,
   "id": "5f8064a4",
   "metadata": {},
   "outputs": [
    {
     "data": {
      "text/plain": [
       "Index(['Unnamed: 0', 'dt', 'AverageTemperature',\n",
       "       'AverageTemperatureUncertainty', 'Country', 'City', 'Latitude',\n",
       "       'Longitude', 'State', 'LandAverageTemperature',\n",
       "       'LandAverageTemperatureUncertainty', 'LandMaxTemperature',\n",
       "       'LandMaxTemperatureUncertainty', 'LandMinTemperature',\n",
       "       'LandMinTemperatureUncertainty', 'LandAndOceanAverageTemperature',\n",
       "       'LandAndOceanAverageTemperatureUncertainty'],\n",
       "      dtype='object')"
      ]
     },
     "execution_count": 6,
     "metadata": {},
     "output_type": "execute_result"
    }
   ],
   "source": [
    "cols=df.columns\n",
    "cols"
   ]
  },
  {
   "cell_type": "code",
   "execution_count": 7,
   "id": "0131f2ad",
   "metadata": {},
   "outputs": [
    {
     "data": {
      "text/plain": [
       "0          1743-11-01\n",
       "1          1743-12-01\n",
       "2          1744-01-01\n",
       "3          1744-02-01\n",
       "4          1744-03-01\n",
       "              ...    \n",
       "1465501    2015-08-01\n",
       "1465502    2015-09-01\n",
       "1465503    2015-10-01\n",
       "1465504    2015-11-01\n",
       "1465505    2015-12-01\n",
       "Name: dt, Length: 1465506, dtype: object"
      ]
     },
     "execution_count": 7,
     "metadata": {},
     "output_type": "execute_result"
    }
   ],
   "source": [
    "df[\"dt\"]"
   ]
  },
  {
   "cell_type": "code",
   "execution_count": 8,
   "id": "48785a84",
   "metadata": {},
   "outputs": [
    {
     "name": "stdout",
     "output_type": "stream",
     "text": [
      "<class 'pandas.core.frame.DataFrame'>\n",
      "RangeIndex: 1465506 entries, 0 to 1465505\n",
      "Data columns (total 17 columns):\n",
      " #   Column                                     Non-Null Count    Dtype  \n",
      "---  ------                                     --------------    -----  \n",
      " 0   Unnamed: 0                                 1465506 non-null  int64  \n",
      " 1   dt                                         1465506 non-null  object \n",
      " 2   AverageTemperature                         1393013 non-null  float64\n",
      " 3   AverageTemperatureUncertainty              1393752 non-null  float64\n",
      " 4   Country                                    1462314 non-null  object \n",
      " 5   City                                       239177 non-null   object \n",
      " 6   Latitude                                   239177 non-null   object \n",
      " 7   Longitude                                  239177 non-null   object \n",
      " 8   State                                      645675 non-null   object \n",
      " 9   LandAverageTemperature                     3180 non-null     float64\n",
      " 10  LandAverageTemperatureUncertainty          3180 non-null     float64\n",
      " 11  LandMaxTemperature                         1992 non-null     float64\n",
      " 12  LandMaxTemperatureUncertainty              1992 non-null     float64\n",
      " 13  LandMinTemperature                         1992 non-null     float64\n",
      " 14  LandMinTemperatureUncertainty              1992 non-null     float64\n",
      " 15  LandAndOceanAverageTemperature             1992 non-null     float64\n",
      " 16  LandAndOceanAverageTemperatureUncertainty  1992 non-null     float64\n",
      "dtypes: float64(10), int64(1), object(6)\n",
      "memory usage: 190.1+ MB\n"
     ]
    }
   ],
   "source": [
    "df.info()"
   ]
  },
  {
   "cell_type": "code",
   "execution_count": 9,
   "id": "4de6ae4d",
   "metadata": {},
   "outputs": [
    {
     "data": {
      "text/html": [
       "<div>\n",
       "<style scoped>\n",
       "    .dataframe tbody tr th:only-of-type {\n",
       "        vertical-align: middle;\n",
       "    }\n",
       "\n",
       "    .dataframe tbody tr th {\n",
       "        vertical-align: top;\n",
       "    }\n",
       "\n",
       "    .dataframe thead th {\n",
       "        text-align: right;\n",
       "    }\n",
       "</style>\n",
       "<table border=\"1\" class=\"dataframe\">\n",
       "  <thead>\n",
       "    <tr style=\"text-align: right;\">\n",
       "      <th></th>\n",
       "      <th>Unnamed: 0</th>\n",
       "      <th>AverageTemperature</th>\n",
       "      <th>AverageTemperatureUncertainty</th>\n",
       "      <th>LandAverageTemperature</th>\n",
       "      <th>LandAverageTemperatureUncertainty</th>\n",
       "      <th>LandMaxTemperature</th>\n",
       "      <th>LandMaxTemperatureUncertainty</th>\n",
       "      <th>LandMinTemperature</th>\n",
       "      <th>LandMinTemperatureUncertainty</th>\n",
       "      <th>LandAndOceanAverageTemperature</th>\n",
       "      <th>LandAndOceanAverageTemperatureUncertainty</th>\n",
       "    </tr>\n",
       "  </thead>\n",
       "  <tbody>\n",
       "    <tr>\n",
       "      <th>count</th>\n",
       "      <td>1.465506e+06</td>\n",
       "      <td>1.393013e+06</td>\n",
       "      <td>1.393752e+06</td>\n",
       "      <td>3180.000000</td>\n",
       "      <td>3180.000000</td>\n",
       "      <td>1992.000000</td>\n",
       "      <td>1992.000000</td>\n",
       "      <td>1992.000000</td>\n",
       "      <td>1992.000000</td>\n",
       "      <td>1992.000000</td>\n",
       "      <td>1992.000000</td>\n",
       "    </tr>\n",
       "    <tr>\n",
       "      <th>mean</th>\n",
       "      <td>7.327525e+05</td>\n",
       "      <td>1.369621e+01</td>\n",
       "      <td>1.130404e+00</td>\n",
       "      <td>8.374731</td>\n",
       "      <td>0.938468</td>\n",
       "      <td>14.350601</td>\n",
       "      <td>0.479782</td>\n",
       "      <td>2.743595</td>\n",
       "      <td>0.431849</td>\n",
       "      <td>15.212566</td>\n",
       "      <td>0.128532</td>\n",
       "    </tr>\n",
       "    <tr>\n",
       "      <th>std</th>\n",
       "      <td>4.230553e+05</td>\n",
       "      <td>1.287068e+01</td>\n",
       "      <td>1.251388e+00</td>\n",
       "      <td>4.381310</td>\n",
       "      <td>1.096440</td>\n",
       "      <td>4.309579</td>\n",
       "      <td>0.583203</td>\n",
       "      <td>4.155835</td>\n",
       "      <td>0.445838</td>\n",
       "      <td>1.274093</td>\n",
       "      <td>0.073587</td>\n",
       "    </tr>\n",
       "    <tr>\n",
       "      <th>min</th>\n",
       "      <td>0.000000e+00</td>\n",
       "      <td>-4.538900e+01</td>\n",
       "      <td>3.600000e-02</td>\n",
       "      <td>-2.080000</td>\n",
       "      <td>0.034000</td>\n",
       "      <td>5.900000</td>\n",
       "      <td>0.044000</td>\n",
       "      <td>-5.407000</td>\n",
       "      <td>0.045000</td>\n",
       "      <td>12.475000</td>\n",
       "      <td>0.042000</td>\n",
       "    </tr>\n",
       "    <tr>\n",
       "      <th>25%</th>\n",
       "      <td>3.663762e+05</td>\n",
       "      <td>5.438000e+00</td>\n",
       "      <td>3.230000e-01</td>\n",
       "      <td>4.312000</td>\n",
       "      <td>0.186750</td>\n",
       "      <td>10.212000</td>\n",
       "      <td>0.142000</td>\n",
       "      <td>-1.334500</td>\n",
       "      <td>0.155000</td>\n",
       "      <td>14.047000</td>\n",
       "      <td>0.063000</td>\n",
       "    </tr>\n",
       "    <tr>\n",
       "      <th>50%</th>\n",
       "      <td>7.327525e+05</td>\n",
       "      <td>1.657900e+01</td>\n",
       "      <td>6.040000e-01</td>\n",
       "      <td>8.610500</td>\n",
       "      <td>0.392000</td>\n",
       "      <td>14.760000</td>\n",
       "      <td>0.252000</td>\n",
       "      <td>2.949500</td>\n",
       "      <td>0.279000</td>\n",
       "      <td>15.251000</td>\n",
       "      <td>0.122000</td>\n",
       "    </tr>\n",
       "    <tr>\n",
       "      <th>75%</th>\n",
       "      <td>1.099129e+06</td>\n",
       "      <td>2.460800e+01</td>\n",
       "      <td>1.474000e+00</td>\n",
       "      <td>12.548250</td>\n",
       "      <td>1.419250</td>\n",
       "      <td>18.451500</td>\n",
       "      <td>0.539000</td>\n",
       "      <td>6.778750</td>\n",
       "      <td>0.458250</td>\n",
       "      <td>16.396250</td>\n",
       "      <td>0.151000</td>\n",
       "    </tr>\n",
       "    <tr>\n",
       "      <th>max</th>\n",
       "      <td>1.465505e+06</td>\n",
       "      <td>3.884200e+01</td>\n",
       "      <td>1.500300e+01</td>\n",
       "      <td>19.021000</td>\n",
       "      <td>7.880000</td>\n",
       "      <td>21.320000</td>\n",
       "      <td>4.373000</td>\n",
       "      <td>9.715000</td>\n",
       "      <td>3.498000</td>\n",
       "      <td>17.611000</td>\n",
       "      <td>0.457000</td>\n",
       "    </tr>\n",
       "  </tbody>\n",
       "</table>\n",
       "</div>"
      ],
      "text/plain": [
       "         Unnamed: 0  AverageTemperature  AverageTemperatureUncertainty  \\\n",
       "count  1.465506e+06        1.393013e+06                   1.393752e+06   \n",
       "mean   7.327525e+05        1.369621e+01                   1.130404e+00   \n",
       "std    4.230553e+05        1.287068e+01                   1.251388e+00   \n",
       "min    0.000000e+00       -4.538900e+01                   3.600000e-02   \n",
       "25%    3.663762e+05        5.438000e+00                   3.230000e-01   \n",
       "50%    7.327525e+05        1.657900e+01                   6.040000e-01   \n",
       "75%    1.099129e+06        2.460800e+01                   1.474000e+00   \n",
       "max    1.465505e+06        3.884200e+01                   1.500300e+01   \n",
       "\n",
       "       LandAverageTemperature  LandAverageTemperatureUncertainty  \\\n",
       "count             3180.000000                        3180.000000   \n",
       "mean                 8.374731                           0.938468   \n",
       "std                  4.381310                           1.096440   \n",
       "min                 -2.080000                           0.034000   \n",
       "25%                  4.312000                           0.186750   \n",
       "50%                  8.610500                           0.392000   \n",
       "75%                 12.548250                           1.419250   \n",
       "max                 19.021000                           7.880000   \n",
       "\n",
       "       LandMaxTemperature  LandMaxTemperatureUncertainty  LandMinTemperature  \\\n",
       "count         1992.000000                    1992.000000         1992.000000   \n",
       "mean            14.350601                       0.479782            2.743595   \n",
       "std              4.309579                       0.583203            4.155835   \n",
       "min              5.900000                       0.044000           -5.407000   \n",
       "25%             10.212000                       0.142000           -1.334500   \n",
       "50%             14.760000                       0.252000            2.949500   \n",
       "75%             18.451500                       0.539000            6.778750   \n",
       "max             21.320000                       4.373000            9.715000   \n",
       "\n",
       "       LandMinTemperatureUncertainty  LandAndOceanAverageTemperature  \\\n",
       "count                    1992.000000                     1992.000000   \n",
       "mean                        0.431849                       15.212566   \n",
       "std                         0.445838                        1.274093   \n",
       "min                         0.045000                       12.475000   \n",
       "25%                         0.155000                       14.047000   \n",
       "50%                         0.279000                       15.251000   \n",
       "75%                         0.458250                       16.396250   \n",
       "max                         3.498000                       17.611000   \n",
       "\n",
       "       LandAndOceanAverageTemperatureUncertainty  \n",
       "count                                1992.000000  \n",
       "mean                                    0.128532  \n",
       "std                                     0.073587  \n",
       "min                                     0.042000  \n",
       "25%                                     0.063000  \n",
       "50%                                     0.122000  \n",
       "75%                                     0.151000  \n",
       "max                                     0.457000  "
      ]
     },
     "execution_count": 9,
     "metadata": {},
     "output_type": "execute_result"
    }
   ],
   "source": [
    "df.describe()"
   ]
  },
  {
   "cell_type": "code",
   "execution_count": 10,
   "id": "bf81f0cb",
   "metadata": {},
   "outputs": [
    {
     "data": {
      "text/plain": [
       "(1465506, 17)"
      ]
     },
     "execution_count": 10,
     "metadata": {},
     "output_type": "execute_result"
    }
   ],
   "source": [
    "df.shape  #rows and cols"
   ]
  },
  {
   "cell_type": "code",
   "execution_count": 11,
   "id": "12bc4670",
   "metadata": {},
   "outputs": [
    {
     "data": {
      "text/plain": [
       "Unnamed: 0                                         0\n",
       "dt                                                 0\n",
       "AverageTemperature                             72493\n",
       "AverageTemperatureUncertainty                  71754\n",
       "Country                                         3192\n",
       "City                                         1226329\n",
       "Latitude                                     1226329\n",
       "Longitude                                    1226329\n",
       "State                                         819831\n",
       "LandAverageTemperature                       1462326\n",
       "LandAverageTemperatureUncertainty            1462326\n",
       "LandMaxTemperature                           1463514\n",
       "LandMaxTemperatureUncertainty                1463514\n",
       "LandMinTemperature                           1463514\n",
       "LandMinTemperatureUncertainty                1463514\n",
       "LandAndOceanAverageTemperature               1463514\n",
       "LandAndOceanAverageTemperatureUncertainty    1463514\n",
       "dtype: int64"
      ]
     },
     "execution_count": 11,
     "metadata": {},
     "output_type": "execute_result"
    }
   ],
   "source": [
    "df.isnull().sum()"
   ]
  },
  {
   "cell_type": "code",
   "execution_count": 12,
   "id": "977bd0db",
   "metadata": {},
   "outputs": [
    {
     "data": {
      "text/plain": [
       "<AxesSubplot:>"
      ]
     },
     "execution_count": 12,
     "metadata": {},
     "output_type": "execute_result"
    },
    {
     "data": {
      "image/png": "[encoded data removed]",
      "text/plain": [
       "<Figure size 432x288 with 2 Axes>"
      ]
     },
     "metadata": {},
     "output_type": "display_data"
    }
   ],
   "source": [
    "sns.heatmap(df.isnull())"
   ]
  },
  {
   "cell_type": "code",
   "execution_count": 13,
   "id": "b0fe968a",
   "metadata": {},
   "outputs": [
    {
     "data": {
      "text/plain": [
       "16351993"
      ]
     },
     "execution_count": 13,
     "metadata": {},
     "output_type": "execute_result"
    }
   ],
   "source": [
    "df.isnull().sum().sum() #Total missing values"
   ]
  },
  {
   "cell_type": "code",
   "execution_count": 14,
   "id": "d04975d9",
   "metadata": {},
   "outputs": [
    {
     "data": {
      "text/plain": [
       " 26.864    118\n",
       " 25.567    118\n",
       " 26.320    114\n",
       " 26.996    114\n",
       " 25.759    113\n",
       "          ... \n",
       "-0.726       1\n",
       "-1.116       1\n",
       "-7.321       1\n",
       " 1.654       1\n",
       "-31.684      1\n",
       "Name: AverageTemperature, Length: 102761, dtype: int64"
      ]
     },
     "execution_count": 14,
     "metadata": {},
     "output_type": "execute_result"
    }
   ],
   "source": [
    "df['AverageTemperature'].value_counts()"
   ]
  },
  {
   "cell_type": "code",
   "execution_count": 15,
   "id": "a4244098",
   "metadata": {},
   "outputs": [
    {
     "data": {
      "text/plain": [
       "0.248     2277\n",
       "0.265     2251\n",
       "0.256     2249\n",
       "0.254     2227\n",
       "0.260     2220\n",
       "          ... \n",
       "10.073       1\n",
       "9.745        1\n",
       "9.366        1\n",
       "9.902        1\n",
       "9.176        1\n",
       "Name: AverageTemperatureUncertainty, Length: 9665, dtype: int64"
      ]
     },
     "execution_count": 15,
     "metadata": {},
     "output_type": "execute_result"
    }
   ],
   "source": [
    "df['AverageTemperatureUncertainty'].value_counts()"
   ]
  },
  {
   "cell_type": "code",
   "execution_count": 16,
   "id": "6cf61147",
   "metadata": {},
   "outputs": [
    {
     "data": {
      "text/plain": [
       "Montreal      3239\n",
       "New York      3239\n",
       "Kiev          3239\n",
       "Paris         3239\n",
       "Chicago       3239\n",
       "              ... \n",
       "Kano          1893\n",
       "Durban        1881\n",
       "Cape Town     1881\n",
       "Umm Durman    1857\n",
       "Lima          1591\n",
       "Name: City, Length: 100, dtype: int64"
      ]
     },
     "execution_count": 16,
     "metadata": {},
     "output_type": "execute_result"
    }
   ],
   "source": [
    "df['City'].value_counts()  #so max major cities-Rome,min -Lima"
   ]
  },
  {
   "cell_type": "code",
   "execution_count": 17,
   "id": "201d6cad",
   "metadata": {},
   "outputs": [
    {
     "data": {
      "text/plain": [
       "Ontario                      3239\n",
       "Leningrad                    3239\n",
       "Pskov                        3239\n",
       "Florida                      3239\n",
       "Newfoundland And Labrador    3239\n",
       "                             ... \n",
       "Western Australia            1935\n",
       "Acre                         1901\n",
       "Queensland                   1901\n",
       "Northern Territory           1901\n",
       "Hawaii                       1569\n",
       "Name: State, Length: 241, dtype: int64"
      ]
     },
     "execution_count": 17,
     "metadata": {},
     "output_type": "execute_result"
    }
   ],
   "source": [
    "df['State'].value_counts()   #so max States-Belgorod,min-Hawaii"
   ]
  },
  {
   "cell_type": "code",
   "execution_count": 18,
   "id": "5651d45f",
   "metadata": {},
   "outputs": [
    {
     "data": {
      "text/plain": [
       "Russia                                 263871\n",
       "United States                          161141\n",
       "India                                  125859\n",
       "China                                  106268\n",
       "Brazil                                  49439\n",
       "                                        ...  \n",
       "Guam                                     1329\n",
       "Northern Mariana Islands                 1329\n",
       "French Southern And Antarctic Lands       788\n",
       "Heard Island And Mcdonald Islands         788\n",
       "Antarctica                                764\n",
       "Name: Country, Length: 243, dtype: int64"
      ]
     },
     "execution_count": 18,
     "metadata": {},
     "output_type": "execute_result"
    }
   ],
   "source": [
    "df['Country'].value_counts()   #so max countries-Russia,min-Antarctica"
   ]
  },
  {
   "cell_type": "code",
   "execution_count": 19,
   "id": "18d4038f",
   "metadata": {},
   "outputs": [
    {
     "data": {
      "text/html": [
       "<div>\n",
       "<style scoped>\n",
       "    .dataframe tbody tr th:only-of-type {\n",
       "        vertical-align: middle;\n",
       "    }\n",
       "\n",
       "    .dataframe tbody tr th {\n",
       "        vertical-align: top;\n",
       "    }\n",
       "\n",
       "    .dataframe thead th {\n",
       "        text-align: right;\n",
       "    }\n",
       "</style>\n",
       "<table border=\"1\" class=\"dataframe\">\n",
       "  <thead>\n",
       "    <tr style=\"text-align: right;\">\n",
       "      <th></th>\n",
       "      <th>dt</th>\n",
       "      <th>AverageTemperature</th>\n",
       "      <th>AverageTemperatureUncertainty</th>\n",
       "      <th>Country</th>\n",
       "      <th>City</th>\n",
       "      <th>Latitude</th>\n",
       "      <th>Longitude</th>\n",
       "      <th>State</th>\n",
       "      <th>LandAverageTemperature</th>\n",
       "      <th>LandAverageTemperatureUncertainty</th>\n",
       "      <th>LandMaxTemperature</th>\n",
       "      <th>LandMaxTemperatureUncertainty</th>\n",
       "      <th>LandMinTemperature</th>\n",
       "      <th>LandMinTemperatureUncertainty</th>\n",
       "      <th>LandAndOceanAverageTemperature</th>\n",
       "      <th>LandAndOceanAverageTemperatureUncertainty</th>\n",
       "    </tr>\n",
       "  </thead>\n",
       "  <tbody>\n",
       "    <tr>\n",
       "      <th>0</th>\n",
       "      <td>1743-11-01</td>\n",
       "      <td>4.384</td>\n",
       "      <td>2.294</td>\n",
       "      <td>Åland</td>\n",
       "      <td>NaN</td>\n",
       "      <td>NaN</td>\n",
       "      <td>NaN</td>\n",
       "      <td>NaN</td>\n",
       "      <td>NaN</td>\n",
       "      <td>NaN</td>\n",
       "      <td>NaN</td>\n",
       "      <td>NaN</td>\n",
       "      <td>NaN</td>\n",
       "      <td>NaN</td>\n",
       "      <td>NaN</td>\n",
       "      <td>NaN</td>\n",
       "    </tr>\n",
       "    <tr>\n",
       "      <th>1</th>\n",
       "      <td>1743-12-01</td>\n",
       "      <td>NaN</td>\n",
       "      <td>NaN</td>\n",
       "      <td>Åland</td>\n",
       "      <td>NaN</td>\n",
       "      <td>NaN</td>\n",
       "      <td>NaN</td>\n",
       "      <td>NaN</td>\n",
       "      <td>NaN</td>\n",
       "      <td>NaN</td>\n",
       "      <td>NaN</td>\n",
       "      <td>NaN</td>\n",
       "      <td>NaN</td>\n",
       "      <td>NaN</td>\n",
       "      <td>NaN</td>\n",
       "      <td>NaN</td>\n",
       "    </tr>\n",
       "    <tr>\n",
       "      <th>2</th>\n",
       "      <td>1744-01-01</td>\n",
       "      <td>NaN</td>\n",
       "      <td>NaN</td>\n",
       "      <td>Åland</td>\n",
       "      <td>NaN</td>\n",
       "      <td>NaN</td>\n",
       "      <td>NaN</td>\n",
       "      <td>NaN</td>\n",
       "      <td>NaN</td>\n",
       "      <td>NaN</td>\n",
       "      <td>NaN</td>\n",
       "      <td>NaN</td>\n",
       "      <td>NaN</td>\n",
       "      <td>NaN</td>\n",
       "      <td>NaN</td>\n",
       "      <td>NaN</td>\n",
       "    </tr>\n",
       "    <tr>\n",
       "      <th>3</th>\n",
       "      <td>1744-02-01</td>\n",
       "      <td>NaN</td>\n",
       "      <td>NaN</td>\n",
       "      <td>Åland</td>\n",
       "      <td>NaN</td>\n",
       "      <td>NaN</td>\n",
       "      <td>NaN</td>\n",
       "      <td>NaN</td>\n",
       "      <td>NaN</td>\n",
       "      <td>NaN</td>\n",
       "      <td>NaN</td>\n",
       "      <td>NaN</td>\n",
       "      <td>NaN</td>\n",
       "      <td>NaN</td>\n",
       "      <td>NaN</td>\n",
       "      <td>NaN</td>\n",
       "    </tr>\n",
       "    <tr>\n",
       "      <th>4</th>\n",
       "      <td>1744-03-01</td>\n",
       "      <td>NaN</td>\n",
       "      <td>NaN</td>\n",
       "      <td>Åland</td>\n",
       "      <td>NaN</td>\n",
       "      <td>NaN</td>\n",
       "      <td>NaN</td>\n",
       "      <td>NaN</td>\n",
       "      <td>NaN</td>\n",
       "      <td>NaN</td>\n",
       "      <td>NaN</td>\n",
       "      <td>NaN</td>\n",
       "      <td>NaN</td>\n",
       "      <td>NaN</td>\n",
       "      <td>NaN</td>\n",
       "      <td>NaN</td>\n",
       "    </tr>\n",
       "    <tr>\n",
       "      <th>...</th>\n",
       "      <td>...</td>\n",
       "      <td>...</td>\n",
       "      <td>...</td>\n",
       "      <td>...</td>\n",
       "      <td>...</td>\n",
       "      <td>...</td>\n",
       "      <td>...</td>\n",
       "      <td>...</td>\n",
       "      <td>...</td>\n",
       "      <td>...</td>\n",
       "      <td>...</td>\n",
       "      <td>...</td>\n",
       "      <td>...</td>\n",
       "      <td>...</td>\n",
       "      <td>...</td>\n",
       "      <td>...</td>\n",
       "    </tr>\n",
       "    <tr>\n",
       "      <th>1465501</th>\n",
       "      <td>2015-08-01</td>\n",
       "      <td>NaN</td>\n",
       "      <td>NaN</td>\n",
       "      <td>NaN</td>\n",
       "      <td>NaN</td>\n",
       "      <td>NaN</td>\n",
       "      <td>NaN</td>\n",
       "      <td>NaN</td>\n",
       "      <td>14.755</td>\n",
       "      <td>0.072</td>\n",
       "      <td>20.699</td>\n",
       "      <td>0.110</td>\n",
       "      <td>9.005</td>\n",
       "      <td>0.170</td>\n",
       "      <td>17.589</td>\n",
       "      <td>0.057</td>\n",
       "    </tr>\n",
       "    <tr>\n",
       "      <th>1465502</th>\n",
       "      <td>2015-09-01</td>\n",
       "      <td>NaN</td>\n",
       "      <td>NaN</td>\n",
       "      <td>NaN</td>\n",
       "      <td>NaN</td>\n",
       "      <td>NaN</td>\n",
       "      <td>NaN</td>\n",
       "      <td>NaN</td>\n",
       "      <td>12.999</td>\n",
       "      <td>0.079</td>\n",
       "      <td>18.845</td>\n",
       "      <td>0.088</td>\n",
       "      <td>7.199</td>\n",
       "      <td>0.229</td>\n",
       "      <td>17.049</td>\n",
       "      <td>0.058</td>\n",
       "    </tr>\n",
       "    <tr>\n",
       "      <th>1465503</th>\n",
       "      <td>2015-10-01</td>\n",
       "      <td>NaN</td>\n",
       "      <td>NaN</td>\n",
       "      <td>NaN</td>\n",
       "      <td>NaN</td>\n",
       "      <td>NaN</td>\n",
       "      <td>NaN</td>\n",
       "      <td>NaN</td>\n",
       "      <td>10.801</td>\n",
       "      <td>0.102</td>\n",
       "      <td>16.450</td>\n",
       "      <td>0.059</td>\n",
       "      <td>5.232</td>\n",
       "      <td>0.115</td>\n",
       "      <td>16.290</td>\n",
       "      <td>0.062</td>\n",
       "    </tr>\n",
       "    <tr>\n",
       "      <th>1465504</th>\n",
       "      <td>2015-11-01</td>\n",
       "      <td>NaN</td>\n",
       "      <td>NaN</td>\n",
       "      <td>NaN</td>\n",
       "      <td>NaN</td>\n",
       "      <td>NaN</td>\n",
       "      <td>NaN</td>\n",
       "      <td>NaN</td>\n",
       "      <td>7.433</td>\n",
       "      <td>0.119</td>\n",
       "      <td>12.892</td>\n",
       "      <td>0.093</td>\n",
       "      <td>2.157</td>\n",
       "      <td>0.106</td>\n",
       "      <td>15.252</td>\n",
       "      <td>0.063</td>\n",
       "    </tr>\n",
       "    <tr>\n",
       "      <th>1465505</th>\n",
       "      <td>2015-12-01</td>\n",
       "      <td>NaN</td>\n",
       "      <td>NaN</td>\n",
       "      <td>NaN</td>\n",
       "      <td>NaN</td>\n",
       "      <td>NaN</td>\n",
       "      <td>NaN</td>\n",
       "      <td>NaN</td>\n",
       "      <td>5.518</td>\n",
       "      <td>0.100</td>\n",
       "      <td>10.725</td>\n",
       "      <td>0.154</td>\n",
       "      <td>0.287</td>\n",
       "      <td>0.099</td>\n",
       "      <td>14.774</td>\n",
       "      <td>0.062</td>\n",
       "    </tr>\n",
       "  </tbody>\n",
       "</table>\n",
       "<p>1465506 rows × 16 columns</p>\n",
       "</div>"
      ],
      "text/plain": [
       "                 dt  AverageTemperature  AverageTemperatureUncertainty  \\\n",
       "0        1743-11-01               4.384                          2.294   \n",
       "1        1743-12-01                 NaN                            NaN   \n",
       "2        1744-01-01                 NaN                            NaN   \n",
       "3        1744-02-01                 NaN                            NaN   \n",
       "4        1744-03-01                 NaN                            NaN   \n",
       "...             ...                 ...                            ...   \n",
       "1465501  2015-08-01                 NaN                            NaN   \n",
       "1465502  2015-09-01                 NaN                            NaN   \n",
       "1465503  2015-10-01                 NaN                            NaN   \n",
       "1465504  2015-11-01                 NaN                            NaN   \n",
       "1465505  2015-12-01                 NaN                            NaN   \n",
       "\n",
       "        Country City Latitude Longitude State  LandAverageTemperature  \\\n",
       "0         Åland  NaN      NaN       NaN   NaN                     NaN   \n",
       "1         Åland  NaN      NaN       NaN   NaN                     NaN   \n",
       "2         Åland  NaN      NaN       NaN   NaN                     NaN   \n",
       "3         Åland  NaN      NaN       NaN   NaN                     NaN   \n",
       "4         Åland  NaN      NaN       NaN   NaN                     NaN   \n",
       "...         ...  ...      ...       ...   ...                     ...   \n",
       "1465501     NaN  NaN      NaN       NaN   NaN                  14.755   \n",
       "1465502     NaN  NaN      NaN       NaN   NaN                  12.999   \n",
       "1465503     NaN  NaN      NaN       NaN   NaN                  10.801   \n",
       "1465504     NaN  NaN      NaN       NaN   NaN                   7.433   \n",
       "1465505     NaN  NaN      NaN       NaN   NaN                   5.518   \n",
       "\n",
       "         LandAverageTemperatureUncertainty  LandMaxTemperature  \\\n",
       "0                                      NaN                 NaN   \n",
       "1                                      NaN                 NaN   \n",
       "2                                      NaN                 NaN   \n",
       "3                                      NaN                 NaN   \n",
       "4                                      NaN                 NaN   \n",
       "...                                    ...                 ...   \n",
       "1465501                              0.072              20.699   \n",
       "1465502                              0.079              18.845   \n",
       "1465503                              0.102              16.450   \n",
       "1465504                              0.119              12.892   \n",
       "1465505                              0.100              10.725   \n",
       "\n",
       "         LandMaxTemperatureUncertainty  LandMinTemperature  \\\n",
       "0                                  NaN                 NaN   \n",
       "1                                  NaN                 NaN   \n",
       "2                                  NaN                 NaN   \n",
       "3                                  NaN                 NaN   \n",
       "4                                  NaN                 NaN   \n",
       "...                                ...                 ...   \n",
       "1465501                          0.110               9.005   \n",
       "1465502                          0.088               7.199   \n",
       "1465503                          0.059               5.232   \n",
       "1465504                          0.093               2.157   \n",
       "1465505                          0.154               0.287   \n",
       "\n",
       "         LandMinTemperatureUncertainty  LandAndOceanAverageTemperature  \\\n",
       "0                                  NaN                             NaN   \n",
       "1                                  NaN                             NaN   \n",
       "2                                  NaN                             NaN   \n",
       "3                                  NaN                             NaN   \n",
       "4                                  NaN                             NaN   \n",
       "...                                ...                             ...   \n",
       "1465501                          0.170                          17.589   \n",
       "1465502                          0.229                          17.049   \n",
       "1465503                          0.115                          16.290   \n",
       "1465504                          0.106                          15.252   \n",
       "1465505                          0.099                          14.774   \n",
       "\n",
       "         LandAndOceanAverageTemperatureUncertainty  \n",
       "0                                              NaN  \n",
       "1                                              NaN  \n",
       "2                                              NaN  \n",
       "3                                              NaN  \n",
       "4                                              NaN  \n",
       "...                                            ...  \n",
       "1465501                                      0.057  \n",
       "1465502                                      0.058  \n",
       "1465503                                      0.062  \n",
       "1465504                                      0.063  \n",
       "1465505                                      0.062  \n",
       "\n",
       "[1465506 rows x 16 columns]"
      ]
     },
     "execution_count": 19,
     "metadata": {},
     "output_type": "execute_result"
    }
   ],
   "source": [
    "df=df.drop(['Unnamed: 0'],axis=1)\n",
    "df"
   ]
  },
  {
   "cell_type": "code",
   "execution_count": 20,
   "id": "ed4239c3",
   "metadata": {},
   "outputs": [
    {
     "data": {
      "text/html": [
       "<div>\n",
       "<style scoped>\n",
       "    .dataframe tbody tr th:only-of-type {\n",
       "        vertical-align: middle;\n",
       "    }\n",
       "\n",
       "    .dataframe tbody tr th {\n",
       "        vertical-align: top;\n",
       "    }\n",
       "\n",
       "    .dataframe thead th {\n",
       "        text-align: right;\n",
       "    }\n",
       "</style>\n",
       "<table border=\"1\" class=\"dataframe\">\n",
       "  <thead>\n",
       "    <tr style=\"text-align: right;\">\n",
       "      <th></th>\n",
       "      <th>dt</th>\n",
       "      <th>AverageTemperature</th>\n",
       "      <th>AverageTemperatureUncertainty</th>\n",
       "      <th>Country</th>\n",
       "      <th>City</th>\n",
       "      <th>Latitude</th>\n",
       "      <th>Longitude</th>\n",
       "      <th>State</th>\n",
       "      <th>LandAverageTemperature</th>\n",
       "      <th>LandAverageTemperatureUncertainty</th>\n",
       "      <th>LandMaxTemperature</th>\n",
       "      <th>LandMaxTemperatureUncertainty</th>\n",
       "      <th>LandMinTemperature</th>\n",
       "      <th>LandMinTemperatureUncertainty</th>\n",
       "      <th>LandAndOceanAverageTemperature</th>\n",
       "      <th>LandAndOceanAverageTemperatureUncertainty</th>\n",
       "    </tr>\n",
       "  </thead>\n",
       "  <tbody>\n",
       "    <tr>\n",
       "      <th>0</th>\n",
       "      <td>1743-11-01</td>\n",
       "      <td>4.384</td>\n",
       "      <td>2.294</td>\n",
       "      <td>Åland</td>\n",
       "      <td>0</td>\n",
       "      <td>0</td>\n",
       "      <td>0</td>\n",
       "      <td>0</td>\n",
       "      <td>0.000</td>\n",
       "      <td>0.000</td>\n",
       "      <td>0.000</td>\n",
       "      <td>0.000</td>\n",
       "      <td>0.000</td>\n",
       "      <td>0.000</td>\n",
       "      <td>0.000</td>\n",
       "      <td>0.000</td>\n",
       "    </tr>\n",
       "    <tr>\n",
       "      <th>1</th>\n",
       "      <td>1743-12-01</td>\n",
       "      <td>0.000</td>\n",
       "      <td>0.000</td>\n",
       "      <td>Åland</td>\n",
       "      <td>0</td>\n",
       "      <td>0</td>\n",
       "      <td>0</td>\n",
       "      <td>0</td>\n",
       "      <td>0.000</td>\n",
       "      <td>0.000</td>\n",
       "      <td>0.000</td>\n",
       "      <td>0.000</td>\n",
       "      <td>0.000</td>\n",
       "      <td>0.000</td>\n",
       "      <td>0.000</td>\n",
       "      <td>0.000</td>\n",
       "    </tr>\n",
       "    <tr>\n",
       "      <th>2</th>\n",
       "      <td>1744-01-01</td>\n",
       "      <td>0.000</td>\n",
       "      <td>0.000</td>\n",
       "      <td>Åland</td>\n",
       "      <td>0</td>\n",
       "      <td>0</td>\n",
       "      <td>0</td>\n",
       "      <td>0</td>\n",
       "      <td>0.000</td>\n",
       "      <td>0.000</td>\n",
       "      <td>0.000</td>\n",
       "      <td>0.000</td>\n",
       "      <td>0.000</td>\n",
       "      <td>0.000</td>\n",
       "      <td>0.000</td>\n",
       "      <td>0.000</td>\n",
       "    </tr>\n",
       "    <tr>\n",
       "      <th>3</th>\n",
       "      <td>1744-02-01</td>\n",
       "      <td>0.000</td>\n",
       "      <td>0.000</td>\n",
       "      <td>Åland</td>\n",
       "      <td>0</td>\n",
       "      <td>0</td>\n",
       "      <td>0</td>\n",
       "      <td>0</td>\n",
       "      <td>0.000</td>\n",
       "      <td>0.000</td>\n",
       "      <td>0.000</td>\n",
       "      <td>0.000</td>\n",
       "      <td>0.000</td>\n",
       "      <td>0.000</td>\n",
       "      <td>0.000</td>\n",
       "      <td>0.000</td>\n",
       "    </tr>\n",
       "    <tr>\n",
       "      <th>4</th>\n",
       "      <td>1744-03-01</td>\n",
       "      <td>0.000</td>\n",
       "      <td>0.000</td>\n",
       "      <td>Åland</td>\n",
       "      <td>0</td>\n",
       "      <td>0</td>\n",
       "      <td>0</td>\n",
       "      <td>0</td>\n",
       "      <td>0.000</td>\n",
       "      <td>0.000</td>\n",
       "      <td>0.000</td>\n",
       "      <td>0.000</td>\n",
       "      <td>0.000</td>\n",
       "      <td>0.000</td>\n",
       "      <td>0.000</td>\n",
       "      <td>0.000</td>\n",
       "    </tr>\n",
       "    <tr>\n",
       "      <th>...</th>\n",
       "      <td>...</td>\n",
       "      <td>...</td>\n",
       "      <td>...</td>\n",
       "      <td>...</td>\n",
       "      <td>...</td>\n",
       "      <td>...</td>\n",
       "      <td>...</td>\n",
       "      <td>...</td>\n",
       "      <td>...</td>\n",
       "      <td>...</td>\n",
       "      <td>...</td>\n",
       "      <td>...</td>\n",
       "      <td>...</td>\n",
       "      <td>...</td>\n",
       "      <td>...</td>\n",
       "      <td>...</td>\n",
       "    </tr>\n",
       "    <tr>\n",
       "      <th>1465501</th>\n",
       "      <td>2015-08-01</td>\n",
       "      <td>0.000</td>\n",
       "      <td>0.000</td>\n",
       "      <td>0</td>\n",
       "      <td>0</td>\n",
       "      <td>0</td>\n",
       "      <td>0</td>\n",
       "      <td>0</td>\n",
       "      <td>14.755</td>\n",
       "      <td>0.072</td>\n",
       "      <td>20.699</td>\n",
       "      <td>0.110</td>\n",
       "      <td>9.005</td>\n",
       "      <td>0.170</td>\n",
       "      <td>17.589</td>\n",
       "      <td>0.057</td>\n",
       "    </tr>\n",
       "    <tr>\n",
       "      <th>1465502</th>\n",
       "      <td>2015-09-01</td>\n",
       "      <td>0.000</td>\n",
       "      <td>0.000</td>\n",
       "      <td>0</td>\n",
       "      <td>0</td>\n",
       "      <td>0</td>\n",
       "      <td>0</td>\n",
       "      <td>0</td>\n",
       "      <td>12.999</td>\n",
       "      <td>0.079</td>\n",
       "      <td>18.845</td>\n",
       "      <td>0.088</td>\n",
       "      <td>7.199</td>\n",
       "      <td>0.229</td>\n",
       "      <td>17.049</td>\n",
       "      <td>0.058</td>\n",
       "    </tr>\n",
       "    <tr>\n",
       "      <th>1465503</th>\n",
       "      <td>2015-10-01</td>\n",
       "      <td>0.000</td>\n",
       "      <td>0.000</td>\n",
       "      <td>0</td>\n",
       "      <td>0</td>\n",
       "      <td>0</td>\n",
       "      <td>0</td>\n",
       "      <td>0</td>\n",
       "      <td>10.801</td>\n",
       "      <td>0.102</td>\n",
       "      <td>16.450</td>\n",
       "      <td>0.059</td>\n",
       "      <td>5.232</td>\n",
       "      <td>0.115</td>\n",
       "      <td>16.290</td>\n",
       "      <td>0.062</td>\n",
       "    </tr>\n",
       "    <tr>\n",
       "      <th>1465504</th>\n",
       "      <td>2015-11-01</td>\n",
       "      <td>0.000</td>\n",
       "      <td>0.000</td>\n",
       "      <td>0</td>\n",
       "      <td>0</td>\n",
       "      <td>0</td>\n",
       "      <td>0</td>\n",
       "      <td>0</td>\n",
       "      <td>7.433</td>\n",
       "      <td>0.119</td>\n",
       "      <td>12.892</td>\n",
       "      <td>0.093</td>\n",
       "      <td>2.157</td>\n",
       "      <td>0.106</td>\n",
       "      <td>15.252</td>\n",
       "      <td>0.063</td>\n",
       "    </tr>\n",
       "    <tr>\n",
       "      <th>1465505</th>\n",
       "      <td>2015-12-01</td>\n",
       "      <td>0.000</td>\n",
       "      <td>0.000</td>\n",
       "      <td>0</td>\n",
       "      <td>0</td>\n",
       "      <td>0</td>\n",
       "      <td>0</td>\n",
       "      <td>0</td>\n",
       "      <td>5.518</td>\n",
       "      <td>0.100</td>\n",
       "      <td>10.725</td>\n",
       "      <td>0.154</td>\n",
       "      <td>0.287</td>\n",
       "      <td>0.099</td>\n",
       "      <td>14.774</td>\n",
       "      <td>0.062</td>\n",
       "    </tr>\n",
       "  </tbody>\n",
       "</table>\n",
       "<p>1465506 rows × 16 columns</p>\n",
       "</div>"
      ],
      "text/plain": [
       "                 dt  AverageTemperature  AverageTemperatureUncertainty  \\\n",
       "0        1743-11-01               4.384                          2.294   \n",
       "1        1743-12-01               0.000                          0.000   \n",
       "2        1744-01-01               0.000                          0.000   \n",
       "3        1744-02-01               0.000                          0.000   \n",
       "4        1744-03-01               0.000                          0.000   \n",
       "...             ...                 ...                            ...   \n",
       "1465501  2015-08-01               0.000                          0.000   \n",
       "1465502  2015-09-01               0.000                          0.000   \n",
       "1465503  2015-10-01               0.000                          0.000   \n",
       "1465504  2015-11-01               0.000                          0.000   \n",
       "1465505  2015-12-01               0.000                          0.000   \n",
       "\n",
       "        Country City Latitude Longitude State  LandAverageTemperature  \\\n",
       "0         Åland    0        0         0     0                   0.000   \n",
       "1         Åland    0        0         0     0                   0.000   \n",
       "2         Åland    0        0         0     0                   0.000   \n",
       "3         Åland    0        0         0     0                   0.000   \n",
       "4         Åland    0        0         0     0                   0.000   \n",
       "...         ...  ...      ...       ...   ...                     ...   \n",
       "1465501       0    0        0         0     0                  14.755   \n",
       "1465502       0    0        0         0     0                  12.999   \n",
       "1465503       0    0        0         0     0                  10.801   \n",
       "1465504       0    0        0         0     0                   7.433   \n",
       "1465505       0    0        0         0     0                   5.518   \n",
       "\n",
       "         LandAverageTemperatureUncertainty  LandMaxTemperature  \\\n",
       "0                                    0.000               0.000   \n",
       "1                                    0.000               0.000   \n",
       "2                                    0.000               0.000   \n",
       "3                                    0.000               0.000   \n",
       "4                                    0.000               0.000   \n",
       "...                                    ...                 ...   \n",
       "1465501                              0.072              20.699   \n",
       "1465502                              0.079              18.845   \n",
       "1465503                              0.102              16.450   \n",
       "1465504                              0.119              12.892   \n",
       "1465505                              0.100              10.725   \n",
       "\n",
       "         LandMaxTemperatureUncertainty  LandMinTemperature  \\\n",
       "0                                0.000               0.000   \n",
       "1                                0.000               0.000   \n",
       "2                                0.000               0.000   \n",
       "3                                0.000               0.000   \n",
       "4                                0.000               0.000   \n",
       "...                                ...                 ...   \n",
       "1465501                          0.110               9.005   \n",
       "1465502                          0.088               7.199   \n",
       "1465503                          0.059               5.232   \n",
       "1465504                          0.093               2.157   \n",
       "1465505                          0.154               0.287   \n",
       "\n",
       "         LandMinTemperatureUncertainty  LandAndOceanAverageTemperature  \\\n",
       "0                                0.000                           0.000   \n",
       "1                                0.000                           0.000   \n",
       "2                                0.000                           0.000   \n",
       "3                                0.000                           0.000   \n",
       "4                                0.000                           0.000   \n",
       "...                                ...                             ...   \n",
       "1465501                          0.170                          17.589   \n",
       "1465502                          0.229                          17.049   \n",
       "1465503                          0.115                          16.290   \n",
       "1465504                          0.106                          15.252   \n",
       "1465505                          0.099                          14.774   \n",
       "\n",
       "         LandAndOceanAverageTemperatureUncertainty  \n",
       "0                                            0.000  \n",
       "1                                            0.000  \n",
       "2                                            0.000  \n",
       "3                                            0.000  \n",
       "4                                            0.000  \n",
       "...                                            ...  \n",
       "1465501                                      0.057  \n",
       "1465502                                      0.058  \n",
       "1465503                                      0.062  \n",
       "1465504                                      0.063  \n",
       "1465505                                      0.062  \n",
       "\n",
       "[1465506 rows x 16 columns]"
      ]
     },
     "execution_count": 20,
     "metadata": {},
     "output_type": "execute_result"
    }
   ],
   "source": [
    "df = df.fillna(value = 0)\n",
    "df"
   ]
  },
  {
   "cell_type": "code",
   "execution_count": 21,
   "id": "5ea582e6",
   "metadata": {},
   "outputs": [],
   "source": [
    "#imputing missing values with mean and mode for numeric and category respectively\n",
    "cateogry_columns=df.select_dtypes(include=['object']).columns.tolist()\n",
    "integer_columns=df.select_dtypes(include=['int64','float64']).columns.tolist()\n",
    "\n",
    "for column in df:\n",
    "    if df[column].isnull().any():\n",
    "        if(column in cateogry_columns):\n",
    "            df[column]=df[column].fillna(df[column].mode()[0])\n",
    "        else:\n",
    "            df[column]=df[column].fillna(df[column].mean)"
   ]
  },
  {
   "cell_type": "code",
   "execution_count": 22,
   "id": "dd37096c",
   "metadata": {},
   "outputs": [
    {
     "data": {
      "text/plain": [
       "dt                                           0\n",
       "AverageTemperature                           0\n",
       "AverageTemperatureUncertainty                0\n",
       "Country                                      0\n",
       "City                                         0\n",
       "Latitude                                     0\n",
       "Longitude                                    0\n",
       "State                                        0\n",
       "LandAverageTemperature                       0\n",
       "LandAverageTemperatureUncertainty            0\n",
       "LandMaxTemperature                           0\n",
       "LandMaxTemperatureUncertainty                0\n",
       "LandMinTemperature                           0\n",
       "LandMinTemperatureUncertainty                0\n",
       "LandAndOceanAverageTemperature               0\n",
       "LandAndOceanAverageTemperatureUncertainty    0\n",
       "dtype: int64"
      ]
     },
     "execution_count": 22,
     "metadata": {},
     "output_type": "execute_result"
    }
   ],
   "source": [
    "df.isnull().sum()"
   ]
  },
  {
   "cell_type": "code",
   "execution_count": 23,
   "id": "44567076",
   "metadata": {},
   "outputs": [
    {
     "data": {
      "text/html": [
       "<div>\n",
       "<style scoped>\n",
       "    .dataframe tbody tr th:only-of-type {\n",
       "        vertical-align: middle;\n",
       "    }\n",
       "\n",
       "    .dataframe tbody tr th {\n",
       "        vertical-align: top;\n",
       "    }\n",
       "\n",
       "    .dataframe thead th {\n",
       "        text-align: right;\n",
       "    }\n",
       "</style>\n",
       "<table border=\"1\" class=\"dataframe\">\n",
       "  <thead>\n",
       "    <tr style=\"text-align: right;\">\n",
       "      <th></th>\n",
       "      <th>dt</th>\n",
       "      <th>AverageTemperature</th>\n",
       "      <th>AverageTemperatureUncertainty</th>\n",
       "      <th>Country</th>\n",
       "      <th>City</th>\n",
       "      <th>Latitude</th>\n",
       "      <th>Longitude</th>\n",
       "      <th>State</th>\n",
       "      <th>LandAverageTemperature</th>\n",
       "      <th>LandAverageTemperatureUncertainty</th>\n",
       "      <th>LandMaxTemperature</th>\n",
       "      <th>LandMaxTemperatureUncertainty</th>\n",
       "      <th>LandMinTemperature</th>\n",
       "      <th>LandMinTemperatureUncertainty</th>\n",
       "      <th>LandAndOceanAverageTemperature</th>\n",
       "      <th>LandAndOceanAverageTemperatureUncertainty</th>\n",
       "    </tr>\n",
       "  </thead>\n",
       "  <tbody>\n",
       "    <tr>\n",
       "      <th>0</th>\n",
       "      <td>1743-11-01</td>\n",
       "      <td>4.384</td>\n",
       "      <td>2.294</td>\n",
       "      <td>Åland</td>\n",
       "      <td>0</td>\n",
       "      <td>0</td>\n",
       "      <td>0</td>\n",
       "      <td>0</td>\n",
       "      <td>0.0</td>\n",
       "      <td>0.0</td>\n",
       "      <td>0.0</td>\n",
       "      <td>0.0</td>\n",
       "      <td>0.0</td>\n",
       "      <td>0.0</td>\n",
       "      <td>0.0</td>\n",
       "      <td>0.0</td>\n",
       "    </tr>\n",
       "    <tr>\n",
       "      <th>1</th>\n",
       "      <td>1743-12-01</td>\n",
       "      <td>0.000</td>\n",
       "      <td>0.000</td>\n",
       "      <td>Åland</td>\n",
       "      <td>0</td>\n",
       "      <td>0</td>\n",
       "      <td>0</td>\n",
       "      <td>0</td>\n",
       "      <td>0.0</td>\n",
       "      <td>0.0</td>\n",
       "      <td>0.0</td>\n",
       "      <td>0.0</td>\n",
       "      <td>0.0</td>\n",
       "      <td>0.0</td>\n",
       "      <td>0.0</td>\n",
       "      <td>0.0</td>\n",
       "    </tr>\n",
       "    <tr>\n",
       "      <th>2</th>\n",
       "      <td>1744-01-01</td>\n",
       "      <td>0.000</td>\n",
       "      <td>0.000</td>\n",
       "      <td>Åland</td>\n",
       "      <td>0</td>\n",
       "      <td>0</td>\n",
       "      <td>0</td>\n",
       "      <td>0</td>\n",
       "      <td>0.0</td>\n",
       "      <td>0.0</td>\n",
       "      <td>0.0</td>\n",
       "      <td>0.0</td>\n",
       "      <td>0.0</td>\n",
       "      <td>0.0</td>\n",
       "      <td>0.0</td>\n",
       "      <td>0.0</td>\n",
       "    </tr>\n",
       "    <tr>\n",
       "      <th>3</th>\n",
       "      <td>1744-02-01</td>\n",
       "      <td>0.000</td>\n",
       "      <td>0.000</td>\n",
       "      <td>Åland</td>\n",
       "      <td>0</td>\n",
       "      <td>0</td>\n",
       "      <td>0</td>\n",
       "      <td>0</td>\n",
       "      <td>0.0</td>\n",
       "      <td>0.0</td>\n",
       "      <td>0.0</td>\n",
       "      <td>0.0</td>\n",
       "      <td>0.0</td>\n",
       "      <td>0.0</td>\n",
       "      <td>0.0</td>\n",
       "      <td>0.0</td>\n",
       "    </tr>\n",
       "    <tr>\n",
       "      <th>4</th>\n",
       "      <td>1744-03-01</td>\n",
       "      <td>0.000</td>\n",
       "      <td>0.000</td>\n",
       "      <td>Åland</td>\n",
       "      <td>0</td>\n",
       "      <td>0</td>\n",
       "      <td>0</td>\n",
       "      <td>0</td>\n",
       "      <td>0.0</td>\n",
       "      <td>0.0</td>\n",
       "      <td>0.0</td>\n",
       "      <td>0.0</td>\n",
       "      <td>0.0</td>\n",
       "      <td>0.0</td>\n",
       "      <td>0.0</td>\n",
       "      <td>0.0</td>\n",
       "    </tr>\n",
       "  </tbody>\n",
       "</table>\n",
       "</div>"
      ],
      "text/plain": [
       "           dt  AverageTemperature  AverageTemperatureUncertainty Country City  \\\n",
       "0  1743-11-01               4.384                          2.294   Åland    0   \n",
       "1  1743-12-01               0.000                          0.000   Åland    0   \n",
       "2  1744-01-01               0.000                          0.000   Åland    0   \n",
       "3  1744-02-01               0.000                          0.000   Åland    0   \n",
       "4  1744-03-01               0.000                          0.000   Åland    0   \n",
       "\n",
       "  Latitude Longitude State  LandAverageTemperature  \\\n",
       "0        0         0     0                     0.0   \n",
       "1        0         0     0                     0.0   \n",
       "2        0         0     0                     0.0   \n",
       "3        0         0     0                     0.0   \n",
       "4        0         0     0                     0.0   \n",
       "\n",
       "   LandAverageTemperatureUncertainty  LandMaxTemperature  \\\n",
       "0                                0.0                 0.0   \n",
       "1                                0.0                 0.0   \n",
       "2                                0.0                 0.0   \n",
       "3                                0.0                 0.0   \n",
       "4                                0.0                 0.0   \n",
       "\n",
       "   LandMaxTemperatureUncertainty  LandMinTemperature  \\\n",
       "0                            0.0                 0.0   \n",
       "1                            0.0                 0.0   \n",
       "2                            0.0                 0.0   \n",
       "3                            0.0                 0.0   \n",
       "4                            0.0                 0.0   \n",
       "\n",
       "   LandMinTemperatureUncertainty  LandAndOceanAverageTemperature  \\\n",
       "0                            0.0                             0.0   \n",
       "1                            0.0                             0.0   \n",
       "2                            0.0                             0.0   \n",
       "3                            0.0                             0.0   \n",
       "4                            0.0                             0.0   \n",
       "\n",
       "   LandAndOceanAverageTemperatureUncertainty  \n",
       "0                                        0.0  \n",
       "1                                        0.0  \n",
       "2                                        0.0  \n",
       "3                                        0.0  \n",
       "4                                        0.0  "
      ]
     },
     "execution_count": 23,
     "metadata": {},
     "output_type": "execute_result"
    }
   ],
   "source": [
    "df.head()"
   ]
  },
  {
   "cell_type": "code",
   "execution_count": 24,
   "id": "c8a93dbc",
   "metadata": {},
   "outputs": [
    {
     "data": {
      "text/html": [
       "<div>\n",
       "<style scoped>\n",
       "    .dataframe tbody tr th:only-of-type {\n",
       "        vertical-align: middle;\n",
       "    }\n",
       "\n",
       "    .dataframe tbody tr th {\n",
       "        vertical-align: top;\n",
       "    }\n",
       "\n",
       "    .dataframe thead th {\n",
       "        text-align: right;\n",
       "    }\n",
       "</style>\n",
       "<table border=\"1\" class=\"dataframe\">\n",
       "  <thead>\n",
       "    <tr style=\"text-align: right;\">\n",
       "      <th></th>\n",
       "      <th>dt</th>\n",
       "      <th>AverageTemperature</th>\n",
       "      <th>AverageTemperatureUncertainty</th>\n",
       "      <th>Country</th>\n",
       "      <th>City</th>\n",
       "      <th>Latitude</th>\n",
       "      <th>Longitude</th>\n",
       "      <th>State</th>\n",
       "      <th>LandAverageTemperature</th>\n",
       "      <th>LandAverageTemperatureUncertainty</th>\n",
       "      <th>LandMaxTemperature</th>\n",
       "      <th>LandMaxTemperatureUncertainty</th>\n",
       "      <th>LandMinTemperature</th>\n",
       "      <th>LandMinTemperatureUncertainty</th>\n",
       "      <th>LandAndOceanAverageTemperature</th>\n",
       "      <th>LandAndOceanAverageTemperatureUncertainty</th>\n",
       "    </tr>\n",
       "  </thead>\n",
       "  <tbody>\n",
       "    <tr>\n",
       "      <th>1465501</th>\n",
       "      <td>2015-08-01</td>\n",
       "      <td>0.0</td>\n",
       "      <td>0.0</td>\n",
       "      <td>0</td>\n",
       "      <td>0</td>\n",
       "      <td>0</td>\n",
       "      <td>0</td>\n",
       "      <td>0</td>\n",
       "      <td>14.755</td>\n",
       "      <td>0.072</td>\n",
       "      <td>20.699</td>\n",
       "      <td>0.110</td>\n",
       "      <td>9.005</td>\n",
       "      <td>0.170</td>\n",
       "      <td>17.589</td>\n",
       "      <td>0.057</td>\n",
       "    </tr>\n",
       "    <tr>\n",
       "      <th>1465502</th>\n",
       "      <td>2015-09-01</td>\n",
       "      <td>0.0</td>\n",
       "      <td>0.0</td>\n",
       "      <td>0</td>\n",
       "      <td>0</td>\n",
       "      <td>0</td>\n",
       "      <td>0</td>\n",
       "      <td>0</td>\n",
       "      <td>12.999</td>\n",
       "      <td>0.079</td>\n",
       "      <td>18.845</td>\n",
       "      <td>0.088</td>\n",
       "      <td>7.199</td>\n",
       "      <td>0.229</td>\n",
       "      <td>17.049</td>\n",
       "      <td>0.058</td>\n",
       "    </tr>\n",
       "    <tr>\n",
       "      <th>1465503</th>\n",
       "      <td>2015-10-01</td>\n",
       "      <td>0.0</td>\n",
       "      <td>0.0</td>\n",
       "      <td>0</td>\n",
       "      <td>0</td>\n",
       "      <td>0</td>\n",
       "      <td>0</td>\n",
       "      <td>0</td>\n",
       "      <td>10.801</td>\n",
       "      <td>0.102</td>\n",
       "      <td>16.450</td>\n",
       "      <td>0.059</td>\n",
       "      <td>5.232</td>\n",
       "      <td>0.115</td>\n",
       "      <td>16.290</td>\n",
       "      <td>0.062</td>\n",
       "    </tr>\n",
       "    <tr>\n",
       "      <th>1465504</th>\n",
       "      <td>2015-11-01</td>\n",
       "      <td>0.0</td>\n",
       "      <td>0.0</td>\n",
       "      <td>0</td>\n",
       "      <td>0</td>\n",
       "      <td>0</td>\n",
       "      <td>0</td>\n",
       "      <td>0</td>\n",
       "      <td>7.433</td>\n",
       "      <td>0.119</td>\n",
       "      <td>12.892</td>\n",
       "      <td>0.093</td>\n",
       "      <td>2.157</td>\n",
       "      <td>0.106</td>\n",
       "      <td>15.252</td>\n",
       "      <td>0.063</td>\n",
       "    </tr>\n",
       "    <tr>\n",
       "      <th>1465505</th>\n",
       "      <td>2015-12-01</td>\n",
       "      <td>0.0</td>\n",
       "      <td>0.0</td>\n",
       "      <td>0</td>\n",
       "      <td>0</td>\n",
       "      <td>0</td>\n",
       "      <td>0</td>\n",
       "      <td>0</td>\n",
       "      <td>5.518</td>\n",
       "      <td>0.100</td>\n",
       "      <td>10.725</td>\n",
       "      <td>0.154</td>\n",
       "      <td>0.287</td>\n",
       "      <td>0.099</td>\n",
       "      <td>14.774</td>\n",
       "      <td>0.062</td>\n",
       "    </tr>\n",
       "  </tbody>\n",
       "</table>\n",
       "</div>"
      ],
      "text/plain": [
       "                 dt  AverageTemperature  AverageTemperatureUncertainty  \\\n",
       "1465501  2015-08-01                 0.0                            0.0   \n",
       "1465502  2015-09-01                 0.0                            0.0   \n",
       "1465503  2015-10-01                 0.0                            0.0   \n",
       "1465504  2015-11-01                 0.0                            0.0   \n",
       "1465505  2015-12-01                 0.0                            0.0   \n",
       "\n",
       "        Country City Latitude Longitude State  LandAverageTemperature  \\\n",
       "1465501       0    0        0         0     0                  14.755   \n",
       "1465502       0    0        0         0     0                  12.999   \n",
       "1465503       0    0        0         0     0                  10.801   \n",
       "1465504       0    0        0         0     0                   7.433   \n",
       "1465505       0    0        0         0     0                   5.518   \n",
       "\n",
       "         LandAverageTemperatureUncertainty  LandMaxTemperature  \\\n",
       "1465501                              0.072              20.699   \n",
       "1465502                              0.079              18.845   \n",
       "1465503                              0.102              16.450   \n",
       "1465504                              0.119              12.892   \n",
       "1465505                              0.100              10.725   \n",
       "\n",
       "         LandMaxTemperatureUncertainty  LandMinTemperature  \\\n",
       "1465501                          0.110               9.005   \n",
       "1465502                          0.088               7.199   \n",
       "1465503                          0.059               5.232   \n",
       "1465504                          0.093               2.157   \n",
       "1465505                          0.154               0.287   \n",
       "\n",
       "         LandMinTemperatureUncertainty  LandAndOceanAverageTemperature  \\\n",
       "1465501                          0.170                          17.589   \n",
       "1465502                          0.229                          17.049   \n",
       "1465503                          0.115                          16.290   \n",
       "1465504                          0.106                          15.252   \n",
       "1465505                          0.099                          14.774   \n",
       "\n",
       "         LandAndOceanAverageTemperatureUncertainty  \n",
       "1465501                                      0.057  \n",
       "1465502                                      0.058  \n",
       "1465503                                      0.062  \n",
       "1465504                                      0.063  \n",
       "1465505                                      0.062  "
      ]
     },
     "execution_count": 24,
     "metadata": {},
     "output_type": "execute_result"
    }
   ],
   "source": [
    "df.tail()"
   ]
  },
  {
   "cell_type": "code",
   "execution_count": 25,
   "id": "3dc0b2c8",
   "metadata": {},
   "outputs": [
    {
     "data": {
      "text/plain": [
       "<AxesSubplot:>"
      ]
     },
     "execution_count": 25,
     "metadata": {},
     "output_type": "execute_result"
    },
    {
     "data": {
      "image/png": "[encoded data removed]",
      "text/plain": [
       "<Figure size 432x288 with 2 Axes>"
      ]
     },
     "metadata": {},
     "output_type": "display_data"
    }
   ],
   "source": [
    "sns.heatmap(df.isnull())"
   ]
  },
  {
   "cell_type": "code",
   "execution_count": 26,
   "id": "51acbe2e",
   "metadata": {},
   "outputs": [],
   "source": [
    "## downcasting to reduce the size of the dataset\n",
    "for column in df:\n",
    " if (df[column].dtype == 'float64'):\n",
    "  df[column]=pd.to_numeric(df[column], downcast='float')\n",
    " if df[column].dtype == 'int64':\n",
    "  df[column]=pd.to_numeric(df[column], downcast='integer')\n"
   ]
  },
  {
   "cell_type": "code",
   "execution_count": 27,
   "id": "d9720ea0",
   "metadata": {},
   "outputs": [
    {
     "name": "stdout",
     "output_type": "stream",
     "text": [
      "<class 'pandas.core.frame.DataFrame'>\n",
      "RangeIndex: 1465506 entries, 0 to 1465505\n",
      "Data columns (total 16 columns):\n",
      " #   Column                                     Non-Null Count    Dtype  \n",
      "---  ------                                     --------------    -----  \n",
      " 0   dt                                         1465506 non-null  object \n",
      " 1   AverageTemperature                         1465506 non-null  float32\n",
      " 2   AverageTemperatureUncertainty              1465506 non-null  float32\n",
      " 3   Country                                    1465506 non-null  object \n",
      " 4   City                                       1465506 non-null  object \n",
      " 5   Latitude                                   1465506 non-null  object \n",
      " 6   Longitude                                  1465506 non-null  object \n",
      " 7   State                                      1465506 non-null  object \n",
      " 8   LandAverageTemperature                     1465506 non-null  float32\n",
      " 9   LandAverageTemperatureUncertainty          1465506 non-null  float32\n",
      " 10  LandMaxTemperature                         1465506 non-null  float32\n",
      " 11  LandMaxTemperatureUncertainty              1465506 non-null  float32\n",
      " 12  LandMinTemperature                         1465506 non-null  float32\n",
      " 13  LandMinTemperatureUncertainty              1465506 non-null  float32\n",
      " 14  LandAndOceanAverageTemperature             1465506 non-null  float32\n",
      " 15  LandAndOceanAverageTemperatureUncertainty  1465506 non-null  float32\n",
      "dtypes: float32(10), object(6)\n",
      "memory usage: 123.0+ MB\n"
     ]
    }
   ],
   "source": [
    "df.info()"
   ]
  },
  {
   "cell_type": "code",
   "execution_count": 28,
   "id": "d2f51c2f",
   "metadata": {},
   "outputs": [
    {
     "data": {
      "text/html": [
       "<div>\n",
       "<style scoped>\n",
       "    .dataframe tbody tr th:only-of-type {\n",
       "        vertical-align: middle;\n",
       "    }\n",
       "\n",
       "    .dataframe tbody tr th {\n",
       "        vertical-align: top;\n",
       "    }\n",
       "\n",
       "    .dataframe thead th {\n",
       "        text-align: right;\n",
       "    }\n",
       "</style>\n",
       "<table border=\"1\" class=\"dataframe\">\n",
       "  <thead>\n",
       "    <tr style=\"text-align: right;\">\n",
       "      <th></th>\n",
       "      <th>AverageTemperature</th>\n",
       "      <th>AverageTemperatureUncertainty</th>\n",
       "      <th>LandAverageTemperature</th>\n",
       "      <th>LandAverageTemperatureUncertainty</th>\n",
       "      <th>LandMaxTemperature</th>\n",
       "      <th>LandMaxTemperatureUncertainty</th>\n",
       "      <th>LandMinTemperature</th>\n",
       "      <th>LandMinTemperatureUncertainty</th>\n",
       "      <th>LandAndOceanAverageTemperature</th>\n",
       "      <th>LandAndOceanAverageTemperatureUncertainty</th>\n",
       "    </tr>\n",
       "  </thead>\n",
       "  <tbody>\n",
       "    <tr>\n",
       "      <th>0</th>\n",
       "      <td>4.384</td>\n",
       "      <td>2.294</td>\n",
       "      <td>0.000</td>\n",
       "      <td>0.000</td>\n",
       "      <td>0.000000</td>\n",
       "      <td>0.000</td>\n",
       "      <td>0.000</td>\n",
       "      <td>0.000</td>\n",
       "      <td>0.000000</td>\n",
       "      <td>0.000</td>\n",
       "    </tr>\n",
       "    <tr>\n",
       "      <th>1</th>\n",
       "      <td>0.000</td>\n",
       "      <td>0.000</td>\n",
       "      <td>0.000</td>\n",
       "      <td>0.000</td>\n",
       "      <td>0.000000</td>\n",
       "      <td>0.000</td>\n",
       "      <td>0.000</td>\n",
       "      <td>0.000</td>\n",
       "      <td>0.000000</td>\n",
       "      <td>0.000</td>\n",
       "    </tr>\n",
       "    <tr>\n",
       "      <th>2</th>\n",
       "      <td>0.000</td>\n",
       "      <td>0.000</td>\n",
       "      <td>0.000</td>\n",
       "      <td>0.000</td>\n",
       "      <td>0.000000</td>\n",
       "      <td>0.000</td>\n",
       "      <td>0.000</td>\n",
       "      <td>0.000</td>\n",
       "      <td>0.000000</td>\n",
       "      <td>0.000</td>\n",
       "    </tr>\n",
       "    <tr>\n",
       "      <th>3</th>\n",
       "      <td>0.000</td>\n",
       "      <td>0.000</td>\n",
       "      <td>0.000</td>\n",
       "      <td>0.000</td>\n",
       "      <td>0.000000</td>\n",
       "      <td>0.000</td>\n",
       "      <td>0.000</td>\n",
       "      <td>0.000</td>\n",
       "      <td>0.000000</td>\n",
       "      <td>0.000</td>\n",
       "    </tr>\n",
       "    <tr>\n",
       "      <th>4</th>\n",
       "      <td>0.000</td>\n",
       "      <td>0.000</td>\n",
       "      <td>0.000</td>\n",
       "      <td>0.000</td>\n",
       "      <td>0.000000</td>\n",
       "      <td>0.000</td>\n",
       "      <td>0.000</td>\n",
       "      <td>0.000</td>\n",
       "      <td>0.000000</td>\n",
       "      <td>0.000</td>\n",
       "    </tr>\n",
       "    <tr>\n",
       "      <th>...</th>\n",
       "      <td>...</td>\n",
       "      <td>...</td>\n",
       "      <td>...</td>\n",
       "      <td>...</td>\n",
       "      <td>...</td>\n",
       "      <td>...</td>\n",
       "      <td>...</td>\n",
       "      <td>...</td>\n",
       "      <td>...</td>\n",
       "      <td>...</td>\n",
       "    </tr>\n",
       "    <tr>\n",
       "      <th>1465501</th>\n",
       "      <td>0.000</td>\n",
       "      <td>0.000</td>\n",
       "      <td>14.755</td>\n",
       "      <td>0.072</td>\n",
       "      <td>20.698999</td>\n",
       "      <td>0.110</td>\n",
       "      <td>9.005</td>\n",
       "      <td>0.170</td>\n",
       "      <td>17.589001</td>\n",
       "      <td>0.057</td>\n",
       "    </tr>\n",
       "    <tr>\n",
       "      <th>1465502</th>\n",
       "      <td>0.000</td>\n",
       "      <td>0.000</td>\n",
       "      <td>12.999</td>\n",
       "      <td>0.079</td>\n",
       "      <td>18.844999</td>\n",
       "      <td>0.088</td>\n",
       "      <td>7.199</td>\n",
       "      <td>0.229</td>\n",
       "      <td>17.049000</td>\n",
       "      <td>0.058</td>\n",
       "    </tr>\n",
       "    <tr>\n",
       "      <th>1465503</th>\n",
       "      <td>0.000</td>\n",
       "      <td>0.000</td>\n",
       "      <td>10.801</td>\n",
       "      <td>0.102</td>\n",
       "      <td>16.450001</td>\n",
       "      <td>0.059</td>\n",
       "      <td>5.232</td>\n",
       "      <td>0.115</td>\n",
       "      <td>16.290001</td>\n",
       "      <td>0.062</td>\n",
       "    </tr>\n",
       "    <tr>\n",
       "      <th>1465504</th>\n",
       "      <td>0.000</td>\n",
       "      <td>0.000</td>\n",
       "      <td>7.433</td>\n",
       "      <td>0.119</td>\n",
       "      <td>12.892000</td>\n",
       "      <td>0.093</td>\n",
       "      <td>2.157</td>\n",
       "      <td>0.106</td>\n",
       "      <td>15.252000</td>\n",
       "      <td>0.063</td>\n",
       "    </tr>\n",
       "    <tr>\n",
       "      <th>1465505</th>\n",
       "      <td>0.000</td>\n",
       "      <td>0.000</td>\n",
       "      <td>5.518</td>\n",
       "      <td>0.100</td>\n",
       "      <td>10.725000</td>\n",
       "      <td>0.154</td>\n",
       "      <td>0.287</td>\n",
       "      <td>0.099</td>\n",
       "      <td>14.774000</td>\n",
       "      <td>0.062</td>\n",
       "    </tr>\n",
       "  </tbody>\n",
       "</table>\n",
       "<p>1465506 rows × 10 columns</p>\n",
       "</div>"
      ],
      "text/plain": [
       "         AverageTemperature  AverageTemperatureUncertainty  \\\n",
       "0                     4.384                          2.294   \n",
       "1                     0.000                          0.000   \n",
       "2                     0.000                          0.000   \n",
       "3                     0.000                          0.000   \n",
       "4                     0.000                          0.000   \n",
       "...                     ...                            ...   \n",
       "1465501               0.000                          0.000   \n",
       "1465502               0.000                          0.000   \n",
       "1465503               0.000                          0.000   \n",
       "1465504               0.000                          0.000   \n",
       "1465505               0.000                          0.000   \n",
       "\n",
       "         LandAverageTemperature  LandAverageTemperatureUncertainty  \\\n",
       "0                         0.000                              0.000   \n",
       "1                         0.000                              0.000   \n",
       "2                         0.000                              0.000   \n",
       "3                         0.000                              0.000   \n",
       "4                         0.000                              0.000   \n",
       "...                         ...                                ...   \n",
       "1465501                  14.755                              0.072   \n",
       "1465502                  12.999                              0.079   \n",
       "1465503                  10.801                              0.102   \n",
       "1465504                   7.433                              0.119   \n",
       "1465505                   5.518                              0.100   \n",
       "\n",
       "         LandMaxTemperature  LandMaxTemperatureUncertainty  \\\n",
       "0                  0.000000                          0.000   \n",
       "1                  0.000000                          0.000   \n",
       "2                  0.000000                          0.000   \n",
       "3                  0.000000                          0.000   \n",
       "4                  0.000000                          0.000   \n",
       "...                     ...                            ...   \n",
       "1465501           20.698999                          0.110   \n",
       "1465502           18.844999                          0.088   \n",
       "1465503           16.450001                          0.059   \n",
       "1465504           12.892000                          0.093   \n",
       "1465505           10.725000                          0.154   \n",
       "\n",
       "         LandMinTemperature  LandMinTemperatureUncertainty  \\\n",
       "0                     0.000                          0.000   \n",
       "1                     0.000                          0.000   \n",
       "2                     0.000                          0.000   \n",
       "3                     0.000                          0.000   \n",
       "4                     0.000                          0.000   \n",
       "...                     ...                            ...   \n",
       "1465501               9.005                          0.170   \n",
       "1465502               7.199                          0.229   \n",
       "1465503               5.232                          0.115   \n",
       "1465504               2.157                          0.106   \n",
       "1465505               0.287                          0.099   \n",
       "\n",
       "         LandAndOceanAverageTemperature  \\\n",
       "0                              0.000000   \n",
       "1                              0.000000   \n",
       "2                              0.000000   \n",
       "3                              0.000000   \n",
       "4                              0.000000   \n",
       "...                                 ...   \n",
       "1465501                       17.589001   \n",
       "1465502                       17.049000   \n",
       "1465503                       16.290001   \n",
       "1465504                       15.252000   \n",
       "1465505                       14.774000   \n",
       "\n",
       "         LandAndOceanAverageTemperatureUncertainty  \n",
       "0                                            0.000  \n",
       "1                                            0.000  \n",
       "2                                            0.000  \n",
       "3                                            0.000  \n",
       "4                                            0.000  \n",
       "...                                            ...  \n",
       "1465501                                      0.057  \n",
       "1465502                                      0.058  \n",
       "1465503                                      0.062  \n",
       "1465504                                      0.063  \n",
       "1465505                                      0.062  \n",
       "\n",
       "[1465506 rows x 10 columns]"
      ]
     },
     "execution_count": 28,
     "metadata": {},
     "output_type": "execute_result"
    }
   ],
   "source": [
    "#To find numerical columns in our dataset\n",
    "df_num=df._get_numeric_data()\n",
    "df_num"
   ]
  },
  {
   "cell_type": "code",
   "execution_count": 29,
   "id": "40b5a566",
   "metadata": {},
   "outputs": [],
   "source": [
    "cols=df.columns\n",
    "#To find categorical columns in our dataset\n",
    "df_categorical=set(cols)-set(df_num)\n",
    "df_cat=(df_categorical)"
   ]
  },
  {
   "cell_type": "code",
   "execution_count": 30,
   "id": "ef1cb90e",
   "metadata": {},
   "outputs": [],
   "source": [
    "Q1 = df.quantile(0.25)\n",
    "Q3 = df.quantile(0.75)\n",
    "IQR = Q3 - Q1"
   ]
  },
  {
   "cell_type": "code",
   "execution_count": 31,
   "id": "41266182",
   "metadata": {},
   "outputs": [
    {
     "name": "stderr",
     "output_type": "stream",
     "text": [
      "<ipython-input-31-9d9184d8b141>:2: FutureWarning: Automatic reindexing on DataFrame vs Series comparisons is deprecated and will raise ValueError in a future version.  Do `left, right = left.align(right, axis=1, copy=False)` before e.g. `left == right`\n",
      "  outliers=((df < (Q1 - 1.5 * IQR))) | ((df > (Q3 + 1.5 * IQR)))\n",
      "<ipython-input-31-9d9184d8b141>:2: FutureWarning: Automatic reindexing on DataFrame vs Series comparisons is deprecated and will raise ValueError in a future version.  Do `left, right = left.align(right, axis=1, copy=False)` before e.g. `left == right`\n",
      "  outliers=((df < (Q1 - 1.5 * IQR))) | ((df > (Q3 + 1.5 * IQR)))\n"
     ]
    },
    {
     "data": {
      "text/plain": [
       "AverageTemperature                             6514\n",
       "AverageTemperatureUncertainty                121206\n",
       "City                                              0\n",
       "Country                                           0\n",
       "LandAndOceanAverageTemperature                 1992\n",
       "LandAndOceanAverageTemperatureUncertainty      1992\n",
       "LandAverageTemperature                         3180\n",
       "LandAverageTemperatureUncertainty              3180\n",
       "LandMaxTemperature                             1992\n",
       "LandMaxTemperatureUncertainty                  1992\n",
       "LandMinTemperature                             1992\n",
       "LandMinTemperatureUncertainty                  1992\n",
       "Latitude                                          0\n",
       "Longitude                                         0\n",
       "State                                             0\n",
       "dt                                                0\n",
       "dtype: int64"
      ]
     },
     "execution_count": 31,
     "metadata": {},
     "output_type": "execute_result"
    }
   ],
   "source": [
    "#to find the count of outliers \n",
    "outliers=((df < (Q1 - 1.5 * IQR))) | ((df > (Q3 + 1.5 * IQR)))\n",
    "outliers.sum()"
   ]
  },
  {
   "cell_type": "code",
   "execution_count": 32,
   "id": "af90ea2c",
   "metadata": {},
   "outputs": [
    {
     "data": {
      "text/html": [
       "<div>\n",
       "<style scoped>\n",
       "    .dataframe tbody tr th:only-of-type {\n",
       "        vertical-align: middle;\n",
       "    }\n",
       "\n",
       "    .dataframe tbody tr th {\n",
       "        vertical-align: top;\n",
       "    }\n",
       "\n",
       "    .dataframe thead th {\n",
       "        text-align: right;\n",
       "    }\n",
       "</style>\n",
       "<table border=\"1\" class=\"dataframe\">\n",
       "  <thead>\n",
       "    <tr style=\"text-align: right;\">\n",
       "      <th></th>\n",
       "      <th>AverageTemperature</th>\n",
       "      <th>AverageTemperatureUncertainty</th>\n",
       "      <th>LandAverageTemperature</th>\n",
       "      <th>LandAverageTemperatureUncertainty</th>\n",
       "      <th>LandMaxTemperature</th>\n",
       "      <th>LandMaxTemperatureUncertainty</th>\n",
       "      <th>LandMinTemperature</th>\n",
       "      <th>LandMinTemperatureUncertainty</th>\n",
       "      <th>LandAndOceanAverageTemperature</th>\n",
       "      <th>LandAndOceanAverageTemperatureUncertainty</th>\n",
       "    </tr>\n",
       "  </thead>\n",
       "  <tbody>\n",
       "    <tr>\n",
       "      <th>AverageTemperature</th>\n",
       "      <td>1.000000</td>\n",
       "      <td>-0.213129</td>\n",
       "      <td>-0.041708</td>\n",
       "      <td>-0.030598</td>\n",
       "      <td>-0.035672</td>\n",
       "      <td>-0.023657</td>\n",
       "      <td>-0.020515</td>\n",
       "      <td>-0.025909</td>\n",
       "      <td>-0.037117</td>\n",
       "      <td>-0.032321</td>\n",
       "    </tr>\n",
       "    <tr>\n",
       "      <th>AverageTemperatureUncertainty</th>\n",
       "      <td>-0.213129</td>\n",
       "      <td>1.000000</td>\n",
       "      <td>-0.035687</td>\n",
       "      <td>-0.026180</td>\n",
       "      <td>-0.030522</td>\n",
       "      <td>-0.020242</td>\n",
       "      <td>-0.017553</td>\n",
       "      <td>-0.022168</td>\n",
       "      <td>-0.031759</td>\n",
       "      <td>-0.027655</td>\n",
       "    </tr>\n",
       "    <tr>\n",
       "      <th>LandAverageTemperature</th>\n",
       "      <td>-0.041708</td>\n",
       "      <td>-0.035687</td>\n",
       "      <td>1.000000</td>\n",
       "      <td>0.503758</td>\n",
       "      <td>0.789393</td>\n",
       "      <td>0.425714</td>\n",
       "      <td>0.691964</td>\n",
       "      <td>0.456028</td>\n",
       "      <td>0.744342</td>\n",
       "      <td>0.599168</td>\n",
       "    </tr>\n",
       "    <tr>\n",
       "      <th>LandAverageTemperatureUncertainty</th>\n",
       "      <td>-0.030598</td>\n",
       "      <td>-0.026180</td>\n",
       "      <td>0.503758</td>\n",
       "      <td>1.000000</td>\n",
       "      <td>0.139714</td>\n",
       "      <td>0.178066</td>\n",
       "      <td>0.066121</td>\n",
       "      <td>0.183355</td>\n",
       "      <td>0.148129</td>\n",
       "      <td>0.190242</td>\n",
       "    </tr>\n",
       "    <tr>\n",
       "      <th>LandMaxTemperature</th>\n",
       "      <td>-0.035672</td>\n",
       "      <td>-0.030522</td>\n",
       "      <td>0.789393</td>\n",
       "      <td>0.139714</td>\n",
       "      <td>1.000000</td>\n",
       "      <td>0.584875</td>\n",
       "      <td>0.766060</td>\n",
       "      <td>0.633100</td>\n",
       "      <td>0.978004</td>\n",
       "      <td>0.813807</td>\n",
       "    </tr>\n",
       "    <tr>\n",
       "      <th>LandMaxTemperatureUncertainty</th>\n",
       "      <td>-0.023657</td>\n",
       "      <td>-0.020242</td>\n",
       "      <td>0.425714</td>\n",
       "      <td>0.178066</td>\n",
       "      <td>0.584875</td>\n",
       "      <td>1.000000</td>\n",
       "      <td>0.270371</td>\n",
       "      <td>0.923858</td>\n",
       "      <td>0.622392</td>\n",
       "      <td>0.881452</td>\n",
       "    </tr>\n",
       "    <tr>\n",
       "      <th>LandMinTemperature</th>\n",
       "      <td>-0.020515</td>\n",
       "      <td>-0.017553</td>\n",
       "      <td>0.691964</td>\n",
       "      <td>0.066121</td>\n",
       "      <td>0.766060</td>\n",
       "      <td>0.270371</td>\n",
       "      <td>1.000000</td>\n",
       "      <td>0.271880</td>\n",
       "      <td>0.617601</td>\n",
       "      <td>0.413668</td>\n",
       "    </tr>\n",
       "    <tr>\n",
       "      <th>LandMinTemperatureUncertainty</th>\n",
       "      <td>-0.025909</td>\n",
       "      <td>-0.022168</td>\n",
       "      <td>0.456028</td>\n",
       "      <td>0.183355</td>\n",
       "      <td>0.633100</td>\n",
       "      <td>0.923858</td>\n",
       "      <td>0.271880</td>\n",
       "      <td>1.000000</td>\n",
       "      <td>0.679864</td>\n",
       "      <td>0.917842</td>\n",
       "    </tr>\n",
       "    <tr>\n",
       "      <th>LandAndOceanAverageTemperature</th>\n",
       "      <td>-0.037117</td>\n",
       "      <td>-0.031759</td>\n",
       "      <td>0.744342</td>\n",
       "      <td>0.148129</td>\n",
       "      <td>0.978004</td>\n",
       "      <td>0.622392</td>\n",
       "      <td>0.617601</td>\n",
       "      <td>0.679864</td>\n",
       "      <td>1.000000</td>\n",
       "      <td>0.856287</td>\n",
       "    </tr>\n",
       "    <tr>\n",
       "      <th>LandAndOceanAverageTemperatureUncertainty</th>\n",
       "      <td>-0.032321</td>\n",
       "      <td>-0.027655</td>\n",
       "      <td>0.599168</td>\n",
       "      <td>0.190242</td>\n",
       "      <td>0.813807</td>\n",
       "      <td>0.881452</td>\n",
       "      <td>0.413668</td>\n",
       "      <td>0.917842</td>\n",
       "      <td>0.856287</td>\n",
       "      <td>1.000000</td>\n",
       "    </tr>\n",
       "  </tbody>\n",
       "</table>\n",
       "</div>"
      ],
      "text/plain": [
       "                                           AverageTemperature  \\\n",
       "AverageTemperature                                   1.000000   \n",
       "AverageTemperatureUncertainty                       -0.213129   \n",
       "LandAverageTemperature                              -0.041708   \n",
       "LandAverageTemperatureUncertainty                   -0.030598   \n",
       "LandMaxTemperature                                  -0.035672   \n",
       "LandMaxTemperatureUncertainty                       -0.023657   \n",
       "LandMinTemperature                                  -0.020515   \n",
       "LandMinTemperatureUncertainty                       -0.025909   \n",
       "LandAndOceanAverageTemperature                      -0.037117   \n",
       "LandAndOceanAverageTemperatureUncertainty           -0.032321   \n",
       "\n",
       "                                           AverageTemperatureUncertainty  \\\n",
       "AverageTemperature                                             -0.213129   \n",
       "AverageTemperatureUncertainty                                   1.000000   \n",
       "LandAverageTemperature                                         -0.035687   \n",
       "LandAverageTemperatureUncertainty                              -0.026180   \n",
       "LandMaxTemperature                                             -0.030522   \n",
       "LandMaxTemperatureUncertainty                                  -0.020242   \n",
       "LandMinTemperature                                             -0.017553   \n",
       "LandMinTemperatureUncertainty                                  -0.022168   \n",
       "LandAndOceanAverageTemperature                                 -0.031759   \n",
       "LandAndOceanAverageTemperatureUncertainty                      -0.027655   \n",
       "\n",
       "                                           LandAverageTemperature  \\\n",
       "AverageTemperature                                      -0.041708   \n",
       "AverageTemperatureUncertainty                           -0.035687   \n",
       "LandAverageTemperature                                   1.000000   \n",
       "LandAverageTemperatureUncertainty                        0.503758   \n",
       "LandMaxTemperature                                       0.789393   \n",
       "LandMaxTemperatureUncertainty                            0.425714   \n",
       "LandMinTemperature                                       0.691964   \n",
       "LandMinTemperatureUncertainty                            0.456028   \n",
       "LandAndOceanAverageTemperature                           0.744342   \n",
       "LandAndOceanAverageTemperatureUncertainty                0.599168   \n",
       "\n",
       "                                           LandAverageTemperatureUncertainty  \\\n",
       "AverageTemperature                                                 -0.030598   \n",
       "AverageTemperatureUncertainty                                      -0.026180   \n",
       "LandAverageTemperature                                              0.503758   \n",
       "LandAverageTemperatureUncertainty                                   1.000000   \n",
       "LandMaxTemperature                                                  0.139714   \n",
       "LandMaxTemperatureUncertainty                                       0.178066   \n",
       "LandMinTemperature                                                  0.066121   \n",
       "LandMinTemperatureUncertainty                                       0.183355   \n",
       "LandAndOceanAverageTemperature                                      0.148129   \n",
       "LandAndOceanAverageTemperatureUncertainty                           0.190242   \n",
       "\n",
       "                                           LandMaxTemperature  \\\n",
       "AverageTemperature                                  -0.035672   \n",
       "AverageTemperatureUncertainty                       -0.030522   \n",
       "LandAverageTemperature                               0.789393   \n",
       "LandAverageTemperatureUncertainty                    0.139714   \n",
       "LandMaxTemperature                                   1.000000   \n",
       "LandMaxTemperatureUncertainty                        0.584875   \n",
       "LandMinTemperature                                   0.766060   \n",
       "LandMinTemperatureUncertainty                        0.633100   \n",
       "LandAndOceanAverageTemperature                       0.978004   \n",
       "LandAndOceanAverageTemperatureUncertainty            0.813807   \n",
       "\n",
       "                                           LandMaxTemperatureUncertainty  \\\n",
       "AverageTemperature                                             -0.023657   \n",
       "AverageTemperatureUncertainty                                  -0.020242   \n",
       "LandAverageTemperature                                          0.425714   \n",
       "LandAverageTemperatureUncertainty                               0.178066   \n",
       "LandMaxTemperature                                              0.584875   \n",
       "LandMaxTemperatureUncertainty                                   1.000000   \n",
       "LandMinTemperature                                              0.270371   \n",
       "LandMinTemperatureUncertainty                                   0.923858   \n",
       "LandAndOceanAverageTemperature                                  0.622392   \n",
       "LandAndOceanAverageTemperatureUncertainty                       0.881452   \n",
       "\n",
       "                                           LandMinTemperature  \\\n",
       "AverageTemperature                                  -0.020515   \n",
       "AverageTemperatureUncertainty                       -0.017553   \n",
       "LandAverageTemperature                               0.691964   \n",
       "LandAverageTemperatureUncertainty                    0.066121   \n",
       "LandMaxTemperature                                   0.766060   \n",
       "LandMaxTemperatureUncertainty                        0.270371   \n",
       "LandMinTemperature                                   1.000000   \n",
       "LandMinTemperatureUncertainty                        0.271880   \n",
       "LandAndOceanAverageTemperature                       0.617601   \n",
       "LandAndOceanAverageTemperatureUncertainty            0.413668   \n",
       "\n",
       "                                           LandMinTemperatureUncertainty  \\\n",
       "AverageTemperature                                             -0.025909   \n",
       "AverageTemperatureUncertainty                                  -0.022168   \n",
       "LandAverageTemperature                                          0.456028   \n",
       "LandAverageTemperatureUncertainty                               0.183355   \n",
       "LandMaxTemperature                                              0.633100   \n",
       "LandMaxTemperatureUncertainty                                   0.923858   \n",
       "LandMinTemperature                                              0.271880   \n",
       "LandMinTemperatureUncertainty                                   1.000000   \n",
       "LandAndOceanAverageTemperature                                  0.679864   \n",
       "LandAndOceanAverageTemperatureUncertainty                       0.917842   \n",
       "\n",
       "                                           LandAndOceanAverageTemperature  \\\n",
       "AverageTemperature                                              -0.037117   \n",
       "AverageTemperatureUncertainty                                   -0.031759   \n",
       "LandAverageTemperature                                           0.744342   \n",
       "LandAverageTemperatureUncertainty                                0.148129   \n",
       "LandMaxTemperature                                               0.978004   \n",
       "LandMaxTemperatureUncertainty                                    0.622392   \n",
       "LandMinTemperature                                               0.617601   \n",
       "LandMinTemperatureUncertainty                                    0.679864   \n",
       "LandAndOceanAverageTemperature                                   1.000000   \n",
       "LandAndOceanAverageTemperatureUncertainty                        0.856287   \n",
       "\n",
       "                                           LandAndOceanAverageTemperatureUncertainty  \n",
       "AverageTemperature                                                         -0.032321  \n",
       "AverageTemperatureUncertainty                                              -0.027655  \n",
       "LandAverageTemperature                                                      0.599168  \n",
       "LandAverageTemperatureUncertainty                                           0.190242  \n",
       "LandMaxTemperature                                                          0.813807  \n",
       "LandMaxTemperatureUncertainty                                               0.881452  \n",
       "LandMinTemperature                                                          0.413668  \n",
       "LandMinTemperatureUncertainty                                               0.917842  \n",
       "LandAndOceanAverageTemperature                                              0.856287  \n",
       "LandAndOceanAverageTemperatureUncertainty                                   1.000000  "
      ]
     },
     "execution_count": 32,
     "metadata": {},
     "output_type": "execute_result"
    }
   ],
   "source": [
    "df.corr()"
   ]
  },
  {
   "cell_type": "code",
   "execution_count": 33,
   "id": "6416fb52",
   "metadata": {},
   "outputs": [
    {
     "data": {
      "text/plain": [
       "<AxesSubplot:>"
      ]
     },
     "execution_count": 33,
     "metadata": {},
     "output_type": "execute_result"
    },
    {
     "data": {
      "image/png": "[encoded data removed]",
      "text/plain": [
       "<Figure size 432x288 with 2 Axes>"
      ]
     },
     "metadata": {},
     "output_type": "display_data"
    }
   ],
   "source": [
    "sns.heatmap(df.corr())"
   ]
  },
  {
   "cell_type": "code",
   "execution_count": 42,
   "id": "d375cc6d",
   "metadata": {},
   "outputs": [],
   "source": [
    "#Average temperature for each country\n",
    "\n",
    "\n",
    "countries = df['Country'].unique()\n",
    "mean_temp = []\n",
    "for country in countries:\n",
    "    mean_temp.append(df[df['Country'] == country]['AverageTemperature'].mean())\n"
   ]
  },
  {
   "cell_type": "code",
   "execution_count": 43,
   "id": "a6eeb84f",
   "metadata": {},
   "outputs": [
    {
     "data": {
      "text/plain": [
       "244"
      ]
     },
     "execution_count": 43,
     "metadata": {},
     "output_type": "execute_result"
    }
   ],
   "source": [
    "\n",
    "num_countries = df['Country'].nunique()\n",
    "num_countries"
   ]
  },
  {
   "cell_type": "code",
   "execution_count": 44,
   "id": "8e1e40dc",
   "metadata": {},
   "outputs": [
    {
     "data": {
      "text/plain": [
       "<AxesSubplot:ylabel='Count'>"
      ]
     },
     "execution_count": 44,
     "metadata": {},
     "output_type": "execute_result"
    },
    {
     "data": {
      "image/png": "[encoded data removed]",
      "text/plain": [
       "<Figure size 432x288 with 1 Axes>"
      ]
     },
     "metadata": {},
     "output_type": "display_data"
    }
   ],
   "source": [
    "sns.histplot(mean_temp)"
   ]
  },
  {
   "cell_type": "code",
   "execution_count": 45,
   "id": "c0561fe1",
   "metadata": {},
   "outputs": [
    {
     "data": {
      "text/html": [
       "        <script type=\"text/javascript\">\n",
       "        window.PlotlyConfig = {MathJaxConfig: 'local'};\n",
       "        if (window.MathJax) {MathJax.Hub.Config({SVG: {font: \"STIX-Web\"}});}\n",
       "        if (typeof require !== 'undefined') {\n",
       "        require.undef(\"plotly\");\n",
       "        requirejs.config({\n",
       "            paths: {\n",
       "                'plotly': ['https://cdn.plot.ly/plotly-2.4.2.min']\n",
       "            }\n",
       "        });\n",
       "        require(['plotly'], function(Plotly) {\n",
       "            window._Plotly = Plotly;\n",
       "        });\n",
       "        }\n",
       "        </script>\n",
       "        "
      ]
     },
     "metadata": {},
     "output_type": "display_data"
    },
    {
     "data": {
      "application/vnd.plotly.v1+json": {
       "config": {
        "plotlyServerURL": "https://plot.ly"
       },
       "data": [
        {
         "colorbar": {
          "title": {
           "text": "Average Temp"
          }
         },
         "colorscale": [
          [
           0,
           "rgb(5,48,97)"
          ],
          [
           0.1,
           "rgb(33,102,172)"
          ],
          [
           0.2,
           "rgb(67,147,195)"
          ],
          [
           0.3,
           "rgb(146,197,222)"
          ],
          [
           0.4,
           "rgb(209,229,240)"
          ],
          [
           0.5,
           "rgb(247,247,247)"
          ],
          [
           0.6,
           "rgb(253,219,199)"
          ],
          [
           0.7,
           "rgb(244,165,130)"
          ],
          [
           0.8,
           "rgb(214,96,77)"
          ],
          [
           0.9,
           "rgb(178,24,43)"
          ],
          [
           1,
           "rgb(103,0,31)"
          ]
         ],
         "locationmode": "country names",
         "locations": [
          "Åland",
          "Afghanistan",
          "Africa",
          "Albania",
          "Algeria",
          "American Samoa",
          "Andorra",
          "Angola",
          "Anguilla",
          "Antarctica",
          "Antigua And Barbuda",
          "Argentina",
          "Armenia",
          "Aruba",
          "Asia",
          "Australia",
          "Austria",
          "Azerbaijan",
          "Bahamas",
          "Bahrain",
          "Baker Island",
          "Bangladesh",
          "Barbados",
          "Belarus",
          "Belgium",
          "Belize",
          "Benin",
          "Bhutan",
          "Bolivia",
          "Bonaire, Saint Eustatius And Saba",
          "Bosnia And Herzegovina",
          "Botswana",
          "Brazil",
          "British Virgin Islands",
          "Bulgaria",
          "Burkina Faso",
          "Burma",
          "Burundi",
          "Côte D'Ivoire",
          "Cambodia",
          "Cameroon",
          "Canada",
          "Cape Verde",
          "Cayman Islands",
          "Central African Republic",
          "Chad",
          "Chile",
          "China",
          "Christmas Island",
          "Colombia",
          "Comoros",
          "Congo (Democratic Republic Of The)",
          "Congo",
          "Costa Rica",
          "Croatia",
          "Cuba",
          "Curaçao",
          "Cyprus",
          "Czech Republic",
          "Denmark (Europe)",
          "Denmark",
          "Djibouti",
          "Dominica",
          "Dominican Republic",
          "Ecuador",
          "Egypt",
          "El Salvador",
          "Equatorial Guinea",
          "Eritrea",
          "Estonia",
          "Ethiopia",
          "Europe",
          "Falkland Islands (Islas Malvinas)",
          "Faroe Islands",
          "Federated States Of Micronesia",
          "Fiji",
          "Finland",
          "France (Europe)",
          "France",
          "French Guiana",
          "French Polynesia",
          "French Southern And Antarctic Lands",
          "Gabon",
          "Gambia",
          "Gaza Strip",
          "Georgia",
          "Germany",
          "Ghana",
          "Greece",
          "Greenland",
          "Grenada",
          "Guadeloupe",
          "Guam",
          "Guatemala",
          "Guernsey",
          "Guinea Bissau",
          "Guinea",
          "Guyana",
          "Haiti",
          "Heard Island And Mcdonald Islands",
          "Honduras",
          "Hong Kong",
          "Hungary",
          "Iceland",
          "India",
          "Indonesia",
          "Iran",
          "Iraq",
          "Ireland",
          "Isle Of Man",
          "Israel",
          "Italy",
          "Jamaica",
          "Japan",
          "Jersey",
          "Jordan",
          "Kazakhstan",
          "Kenya",
          "Kingman Reef",
          "Kiribati",
          "Kuwait",
          "Kyrgyzstan",
          "Laos",
          "Latvia",
          "Lebanon",
          "Lesotho",
          "Liberia",
          "Libya",
          "Liechtenstein",
          "Lithuania",
          "Luxembourg",
          "Macau",
          "Macedonia",
          "Madagascar",
          "Malawi",
          "Malaysia",
          "Mali",
          "Malta",
          "Martinique",
          "Mauritania",
          "Mauritius",
          "Mayotte",
          "Mexico",
          "Moldova",
          "Monaco",
          "Mongolia",
          "Montenegro",
          "Montserrat",
          "Morocco",
          "Mozambique",
          "Namibia",
          "Nepal",
          "Netherlands (Europe)",
          "Netherlands",
          "New Caledonia",
          "New Zealand",
          "Nicaragua",
          "Niger",
          "Nigeria",
          "Niue",
          "North America",
          "North Korea",
          "Northern Mariana Islands",
          "Norway",
          "Oceania",
          "Oman",
          "Pakistan",
          "Palau",
          "Palestina",
          "Palmyra Atoll",
          "Panama",
          "Papua New Guinea",
          "Paraguay",
          "Peru",
          "Philippines",
          "Poland",
          "Portugal",
          "Puerto Rico",
          "Qatar",
          "Reunion",
          "Romania",
          "Russia",
          "Rwanda",
          "Saint Barthélemy",
          "Saint Kitts And Nevis",
          "Saint Lucia",
          "Saint Martin",
          "Saint Pierre And Miquelon",
          "Saint Vincent And The Grenadines",
          "Samoa",
          "San Marino",
          "Sao Tome And Principe",
          "Saudi Arabia",
          "Senegal",
          "Serbia",
          "Seychelles",
          "Sierra Leone",
          "Singapore",
          "Sint Maarten",
          "Slovakia",
          "Slovenia",
          "Solomon Islands",
          "Somalia",
          "South Africa",
          "South America",
          "South Georgia And The South Sandwich Isla",
          "South Korea",
          "Spain",
          "Sri Lanka",
          "Sudan",
          "Suriname",
          "Svalbard And Jan Mayen",
          "Swaziland",
          "Sweden",
          "Switzerland",
          "Syria",
          "Taiwan",
          "Tajikistan",
          "Tanzania",
          "Thailand",
          "Timor Leste",
          "Togo",
          "Tonga",
          "Trinidad And Tobago",
          "Tunisia",
          "Turkey",
          "Turkmenistan",
          "Turks And Caicas Islands",
          "Uganda",
          "Ukraine",
          "United Arab Emirates",
          "United Kingdom (Europe)",
          "United Kingdom",
          "United States",
          "Uruguay",
          "Uzbekistan",
          "Venezuela",
          "Vietnam",
          "Virgin Islands",
          "Western Sahara",
          "Yemen",
          "Zambia",
          "Zimbabwe",
          0
         ],
         "text": [
          "Åland",
          "Afghanistan",
          "Africa",
          "Albania",
          "Algeria",
          "American Samoa",
          "Andorra",
          "Angola",
          "Anguilla",
          "Antarctica",
          "Antigua And Barbuda",
          "Argentina",
          "Armenia",
          "Aruba",
          "Asia",
          "Australia",
          "Austria",
          "Azerbaijan",
          "Bahamas",
          "Bahrain",
          "Baker Island",
          "Bangladesh",
          "Barbados",
          "Belarus",
          "Belgium",
          "Belize",
          "Benin",
          "Bhutan",
          "Bolivia",
          "Bonaire, Saint Eustatius And Saba",
          "Bosnia And Herzegovina",
          "Botswana",
          "Brazil",
          "British Virgin Islands",
          "Bulgaria",
          "Burkina Faso",
          "Burma",
          "Burundi",
          "Côte D'Ivoire",
          "Cambodia",
          "Cameroon",
          "Canada",
          "Cape Verde",
          "Cayman Islands",
          "Central African Republic",
          "Chad",
          "Chile",
          "China",
          "Christmas Island",
          "Colombia",
          "Comoros",
          "Congo (Democratic Republic Of The)",
          "Congo",
          "Costa Rica",
          "Croatia",
          "Cuba",
          "Curaçao",
          "Cyprus",
          "Czech Republic",
          "Denmark (Europe)",
          "Denmark",
          "Djibouti",
          "Dominica",
          "Dominican Republic",
          "Ecuador",
          "Egypt",
          "El Salvador",
          "Equatorial Guinea",
          "Eritrea",
          "Estonia",
          "Ethiopia",
          "Europe",
          "Falkland Islands (Islas Malvinas)",
          "Faroe Islands",
          "Federated States Of Micronesia",
          "Fiji",
          "Finland",
          "France (Europe)",
          "France",
          "French Guiana",
          "French Polynesia",
          "French Southern And Antarctic Lands",
          "Gabon",
          "Gambia",
          "Gaza Strip",
          "Georgia",
          "Germany",
          "Ghana",
          "Greece",
          "Greenland",
          "Grenada",
          "Guadeloupe",
          "Guam",
          "Guatemala",
          "Guernsey",
          "Guinea Bissau",
          "Guinea",
          "Guyana",
          "Haiti",
          "Heard Island And Mcdonald Islands",
          "Honduras",
          "Hong Kong",
          "Hungary",
          "Iceland",
          "India",
          "Indonesia",
          "Iran",
          "Iraq",
          "Ireland",
          "Isle Of Man",
          "Israel",
          "Italy",
          "Jamaica",
          "Japan",
          "Jersey",
          "Jordan",
          "Kazakhstan",
          "Kenya",
          "Kingman Reef",
          "Kiribati",
          "Kuwait",
          "Kyrgyzstan",
          "Laos",
          "Latvia",
          "Lebanon",
          "Lesotho",
          "Liberia",
          "Libya",
          "Liechtenstein",
          "Lithuania",
          "Luxembourg",
          "Macau",
          "Macedonia",
          "Madagascar",
          "Malawi",
          "Malaysia",
          "Mali",
          "Malta",
          "Martinique",
          "Mauritania",
          "Mauritius",
          "Mayotte",
          "Mexico",
          "Moldova",
          "Monaco",
          "Mongolia",
          "Montenegro",
          "Montserrat",
          "Morocco",
          "Mozambique",
          "Namibia",
          "Nepal",
          "Netherlands (Europe)",
          "Netherlands",
          "New Caledonia",
          "New Zealand",
          "Nicaragua",
          "Niger",
          "Nigeria",
          "Niue",
          "North America",
          "North Korea",
          "Northern Mariana Islands",
          "Norway",
          "Oceania",
          "Oman",
          "Pakistan",
          "Palau",
          "Palestina",
          "Palmyra Atoll",
          "Panama",
          "Papua New Guinea",
          "Paraguay",
          "Peru",
          "Philippines",
          "Poland",
          "Portugal",
          "Puerto Rico",
          "Qatar",
          "Reunion",
          "Romania",
          "Russia",
          "Rwanda",
          "Saint Barthélemy",
          "Saint Kitts And Nevis",
          "Saint Lucia",
          "Saint Martin",
          "Saint Pierre And Miquelon",
          "Saint Vincent And The Grenadines",
          "Samoa",
          "San Marino",
          "Sao Tome And Principe",
          "Saudi Arabia",
          "Senegal",
          "Serbia",
          "Seychelles",
          "Sierra Leone",
          "Singapore",
          "Sint Maarten",
          "Slovakia",
          "Slovenia",
          "Solomon Islands",
          "Somalia",
          "South Africa",
          "South America",
          "South Georgia And The South Sandwich Isla",
          "South Korea",
          "Spain",
          "Sri Lanka",
          "Sudan",
          "Suriname",
          "Svalbard And Jan Mayen",
          "Swaziland",
          "Sweden",
          "Switzerland",
          "Syria",
          "Taiwan",
          "Tajikistan",
          "Tanzania",
          "Thailand",
          "Timor Leste",
          "Togo",
          "Tonga",
          "Trinidad And Tobago",
          "Tunisia",
          "Turkey",
          "Turkmenistan",
          "Turks And Caicas Islands",
          "Uganda",
          "Ukraine",
          "United Arab Emirates",
          "United Kingdom (Europe)",
          "United Kingdom",
          "United States",
          "Uruguay",
          "Uzbekistan",
          "Venezuela",
          "Vietnam",
          "Virgin Islands",
          "Western Sahara",
          "Yemen",
          "Zambia",
          "Zimbabwe",
          0
         ],
         "type": "choropleth",
         "z": [
          5.172125339508057,
          13.966120719909668,
          23.204360961914062,
          12.32643985748291,
          22.824613571166992,
          24.6171932220459,
          10.94909954071045,
          20.901674270629883,
          24.378358840942383,
          0,
          24.2202205657959,
          14.613497734069824,
          7.654364585876465,
          25.578357696533203,
          7.335494041442871,
          17.379974365234375,
          6.070756912231445,
          11.157770156860352,
          20.44178009033203,
          25.48788070678711,
          21.653308868408203,
          24.36138343811035,
          24.239151000976562,
          5.688130855560303,
          9.269630432128906,
          24.720308303833008,
          24.189546585083008,
          11.607630729675293,
          20.86627197265625,
          24.893932342529297,
          10.18641471862793,
          21.79788589477539,
          22.29352569580078,
          24.138900756835938,
          10.246716499328613,
          26.265254974365234,
          24.26517105102539,
          17.588945388793945,
          23.951786041259766,
          24.35013198852539,
          22.31999397277832,
          -0.523310661315918,
          22.901037216186523,
          26.722492218017578,
          23.170394897460938,
          24.856830596923828,
          7.533910274505615,
          11.158201217651367,
          21.390472412109375,
          19.79300880432129,
          16.653064727783203,
          21.436811447143555,
          22.421119689941406,
          25.615764617919922,
          11.086776733398438,
          25.407424926757812,
          25.058969497680664,
          18.76662826538086,
          7.454141616821289,
          7.656311988830566,
          -18.045146942138672,
          26.587615966796875,
          23.919960021972656,
          25.099164962768555,
          19.57307243347168,
          21.02450942993164,
          24.66152000427246,
          22.84158706665039,
          24.938241958618164,
          4.711174488067627,
          17.31866455078125,
          7.653590679168701,
          6.063597202301025,
          6.469823360443115,
          25.754804611206055,
          23.176055908203125,
          1.216688632965088,
          10.181282997131348,
          11.326370239257812,
          23.47048568725586,
          25.742273330688477,
          4.9514946937561035,
          22.230266571044922,
          26.075937271118164,
          18.997577667236328,
          7.4339599609375,
          8.342024803161621,
          23.92776870727539,
          14.440072059631348,
          -18.57933807373047,
          24.498777389526367,
          24.120969772338867,
          26.976512908935547,
          22.713714599609375,
          10.68212890625,
          25.32651710510254,
          24.10057258605957,
          23.6646671295166,
          25.764623641967773,
          2.54585862159729,
          24.19403076171875,
          22.64902687072754,
          9.503290176391602,
          1.3733984231948853,
          22.19025230407715,
          21.84635353088379,
          14.973719596862793,
          22.03351402282715,
          9.20726203918457,
          9.1547269821167,
          19.40318489074707,
          12.072969436645508,
          25.752498626708984,
          12.983182907104492,
          10.68212890625,
          19.055543899536133,
          5.165616512298584,
          17.16349983215332,
          27.115734100341797,
          26.70281219482422,
          24.88158416748047,
          3.2190239429473877,
          22.331830978393555,
          5.200634479522705,
          17.62444496154785,
          13.668304443359375,
          24.196739196777344,
          22.243247985839844,
          4.538302421569824,
          5.774838447570801,
          8.958626747131348,
          22.407608032226562,
          10.14171314239502,
          14.739652633666992,
          18.10462760925293,
          23.37873077392578,
          27.017717361450195,
          18.488956451416016,
          23.919960021972656,
          27.28493309020996,
          14.540644645690918,
          17.066926956176758,
          18.142507553100586,
          8.730424880981445,
          8.821303367614746,
          -0.8199635744094849,
          9.984403610229492,
          24.170055389404297,
          17.05130386352539,
          20.16182518005371,
          20.40826988220215,
          13.883700370788574,
          8.907415390014648,
          9.29039478302002,
          22.66368865966797,
          10.365863800048828,
          24.800024032592773,
          20.573637008666992,
          23.91669273376465,
          23.21384048461914,
          1.7118096351623535,
          6.745123386383057,
          26.976512908935547,
          0.09364467114210129,
          21.397541046142578,
          22.765735626220703,
          20.93738555908203,
          26.820430755615234,
          21.85032844543457,
          27.14614486694336,
          23.285213470458984,
          24.435325622558594,
          22.33230972290039,
          16.38717269897461,
          26.156982421875,
          7.292069435119629,
          14.683493614196777,
          23.328187942504883,
          26.2490177154541,
          14.403888702392578,
          8.563444137573242,
          1.746140480041504,
          16.86456871032715,
          24.378358840942383,
          23.683645248413086,
          24.411649703979492,
          24.378358840942383,
          4.0665974617004395,
          24.542278289794922,
          24.35808753967285,
          13.519691467285156,
          23.641437530517578,
          24.852222442626953,
          24.900798797607422,
          9.761493682861328,
          17.324460983276367,
          24.837936401367188,
          24.028873443603516,
          24.378358840942383,
          7.357569694519043,
          9.44199275970459,
          23.707046508789062,
          23.082639694213867,
          17.824275970458984,
          21.8127498626709,
          1.2395625114440918,
          11.256714820861816,
          12.248371124267578,
          25.864831924438477,
          26.354398727416992,
          23.884387969970703,
          -7.386641025543213,
          18.75969696044922,
          2.332552433013916,
          6.834455490112305,
          16.985965728759766,
          22.048343658447266,
          3.9956700801849365,
          19.45952796936035,
          25.174671173095703,
          25.950349807739258,
          23.963048934936523,
          21.507699966430664,
          23.927865982055664,
          19.96420669555664,
          13.028950691223145,
          13.915426254272461,
          26.66274070739746,
          20.23148536682129,
          7.181659698486328,
          25.504432678222656,
          8.460700988769531,
          8.77194595336914,
          10.133611679077148,
          16.48094940185547,
          11.5372314453125,
          22.926485061645508,
          23.365158081054688,
          24.138900756835938,
          20.802326202392578,
          26.190082550048828,
          18.304445266723633,
          17.959033966064453,
          0
         ]
        }
       ],
       "layout": {
        "template": {
         "data": {
          "bar": [
           {
            "error_x": {
             "color": "#2a3f5f"
            },
            "error_y": {
             "color": "#2a3f5f"
            },
            "marker": {
             "line": {
              "color": "#E5ECF6",
              "width": 0.5
             },
             "pattern": {
              "fillmode": "overlay",
              "size": 10,
              "solidity": 0.2
             }
            },
            "type": "bar"
           }
          ],
          "barpolar": [
           {
            "marker": {
             "line": {
              "color": "#E5ECF6",
              "width": 0.5
             },
             "pattern": {
              "fillmode": "overlay",
              "size": 10,
              "solidity": 0.2
             }
            },
            "type": "barpolar"
           }
          ],
          "carpet": [
           {
            "aaxis": {
             "endlinecolor": "#2a3f5f",
             "gridcolor": "white",
             "linecolor": "white",
             "minorgridcolor": "white",
             "startlinecolor": "#2a3f5f"
            },
            "baxis": {
             "endlinecolor": "#2a3f5f",
             "gridcolor": "white",
             "linecolor": "white",
             "minorgridcolor": "white",
             "startlinecolor": "#2a3f5f"
            },
            "type": "carpet"
           }
          ],
          "choropleth": [
           {
            "colorbar": {
             "outlinewidth": 0,
             "ticks": ""
            },
            "type": "choropleth"
           }
          ],
          "contour": [
           {
            "colorbar": {
             "outlinewidth": 0,
             "ticks": ""
            },
            "colorscale": [
             [
              0,
              "#0d0887"
             ],
             [
              0.1111111111111111,
              "#46039f"
             ],
             [
              0.2222222222222222,
              "#7201a8"
             ],
             [
              0.3333333333333333,
              "#9c179e"
             ],
             [
              0.4444444444444444,
              "#bd3786"
             ],
             [
              0.5555555555555556,
              "#d8576b"
             ],
             [
              0.6666666666666666,
              "#ed7953"
             ],
             [
              0.7777777777777778,
              "#fb9f3a"
             ],
             [
              0.8888888888888888,
              "#fdca26"
             ],
             [
              1,
              "#f0f921"
             ]
            ],
            "type": "contour"
           }
          ],
          "contourcarpet": [
           {
            "colorbar": {
             "outlinewidth": 0,
             "ticks": ""
            },
            "type": "contourcarpet"
           }
          ],
          "heatmap": [
           {
            "colorbar": {
             "outlinewidth": 0,
             "ticks": ""
            },
            "colorscale": [
             [
              0,
              "#0d0887"
             ],
             [
              0.1111111111111111,
              "#46039f"
             ],
             [
              0.2222222222222222,
              "#7201a8"
             ],
             [
              0.3333333333333333,
              "#9c179e"
             ],
             [
              0.4444444444444444,
              "#bd3786"
             ],
             [
              0.5555555555555556,
              "#d8576b"
             ],
             [
              0.6666666666666666,
              "#ed7953"
             ],
             [
              0.7777777777777778,
              "#fb9f3a"
             ],
             [
              0.8888888888888888,
              "#fdca26"
             ],
             [
              1,
              "#f0f921"
             ]
            ],
            "type": "heatmap"
           }
          ],
          "heatmapgl": [
           {
            "colorbar": {
             "outlinewidth": 0,
             "ticks": ""
            },
            "colorscale": [
             [
              0,
              "#0d0887"
             ],
             [
              0.1111111111111111,
              "#46039f"
             ],
             [
              0.2222222222222222,
              "#7201a8"
             ],
             [
              0.3333333333333333,
              "#9c179e"
             ],
             [
              0.4444444444444444,
              "#bd3786"
             ],
             [
              0.5555555555555556,
              "#d8576b"
             ],
             [
              0.6666666666666666,
              "#ed7953"
             ],
             [
              0.7777777777777778,
              "#fb9f3a"
             ],
             [
              0.8888888888888888,
              "#fdca26"
             ],
             [
              1,
              "#f0f921"
             ]
            ],
            "type": "heatmapgl"
           }
          ],
          "histogram": [
           {
            "marker": {
             "pattern": {
              "fillmode": "overlay",
              "size": 10,
              "solidity": 0.2
             }
            },
            "type": "histogram"
           }
          ],
          "histogram2d": [
           {
            "colorbar": {
             "outlinewidth": 0,
             "ticks": ""
            },
            "colorscale": [
             [
              0,
              "#0d0887"
             ],
             [
              0.1111111111111111,
              "#46039f"
             ],
             [
              0.2222222222222222,
              "#7201a8"
             ],
             [
              0.3333333333333333,
              "#9c179e"
             ],
             [
              0.4444444444444444,
              "#bd3786"
             ],
             [
              0.5555555555555556,
              "#d8576b"
             ],
             [
              0.6666666666666666,
              "#ed7953"
             ],
             [
              0.7777777777777778,
              "#fb9f3a"
             ],
             [
              0.8888888888888888,
              "#fdca26"
             ],
             [
              1,
              "#f0f921"
             ]
            ],
            "type": "histogram2d"
           }
          ],
          "histogram2dcontour": [
           {
            "colorbar": {
             "outlinewidth": 0,
             "ticks": ""
            },
            "colorscale": [
             [
              0,
              "#0d0887"
             ],
             [
              0.1111111111111111,
              "#46039f"
             ],
             [
              0.2222222222222222,
              "#7201a8"
             ],
             [
              0.3333333333333333,
              "#9c179e"
             ],
             [
              0.4444444444444444,
              "#bd3786"
             ],
             [
              0.5555555555555556,
              "#d8576b"
             ],
             [
              0.6666666666666666,
              "#ed7953"
             ],
             [
              0.7777777777777778,
              "#fb9f3a"
             ],
             [
              0.8888888888888888,
              "#fdca26"
             ],
             [
              1,
              "#f0f921"
             ]
            ],
            "type": "histogram2dcontour"
           }
          ],
          "mesh3d": [
           {
            "colorbar": {
             "outlinewidth": 0,
             "ticks": ""
            },
            "type": "mesh3d"
           }
          ],
          "parcoords": [
           {
            "line": {
             "colorbar": {
              "outlinewidth": 0,
              "ticks": ""
             }
            },
            "type": "parcoords"
           }
          ],
          "pie": [
           {
            "automargin": true,
            "type": "pie"
           }
          ],
          "scatter": [
           {
            "marker": {
             "colorbar": {
              "outlinewidth": 0,
              "ticks": ""
             }
            },
            "type": "scatter"
           }
          ],
          "scatter3d": [
           {
            "line": {
             "colorbar": {
              "outlinewidth": 0,
              "ticks": ""
             }
            },
            "marker": {
             "colorbar": {
              "outlinewidth": 0,
              "ticks": ""
             }
            },
            "type": "scatter3d"
           }
          ],
          "scattercarpet": [
           {
            "marker": {
             "colorbar": {
              "outlinewidth": 0,
              "ticks": ""
             }
            },
            "type": "scattercarpet"
           }
          ],
          "scattergeo": [
           {
            "marker": {
             "colorbar": {
              "outlinewidth": 0,
              "ticks": ""
             }
            },
            "type": "scattergeo"
           }
          ],
          "scattergl": [
           {
            "marker": {
             "colorbar": {
              "outlinewidth": 0,
              "ticks": ""
             }
            },
            "type": "scattergl"
           }
          ],
          "scattermapbox": [
           {
            "marker": {
             "colorbar": {
              "outlinewidth": 0,
              "ticks": ""
             }
            },
            "type": "scattermapbox"
           }
          ],
          "scatterpolar": [
           {
            "marker": {
             "colorbar": {
              "outlinewidth": 0,
              "ticks": ""
             }
            },
            "type": "scatterpolar"
           }
          ],
          "scatterpolargl": [
           {
            "marker": {
             "colorbar": {
              "outlinewidth": 0,
              "ticks": ""
             }
            },
            "type": "scatterpolargl"
           }
          ],
          "scatterternary": [
           {
            "marker": {
             "colorbar": {
              "outlinewidth": 0,
              "ticks": ""
             }
            },
            "type": "scatterternary"
           }
          ],
          "surface": [
           {
            "colorbar": {
             "outlinewidth": 0,
             "ticks": ""
            },
            "colorscale": [
             [
              0,
              "#0d0887"
             ],
             [
              0.1111111111111111,
              "#46039f"
             ],
             [
              0.2222222222222222,
              "#7201a8"
             ],
             [
              0.3333333333333333,
              "#9c179e"
             ],
             [
              0.4444444444444444,
              "#bd3786"
             ],
             [
              0.5555555555555556,
              "#d8576b"
             ],
             [
              0.6666666666666666,
              "#ed7953"
             ],
             [
              0.7777777777777778,
              "#fb9f3a"
             ],
             [
              0.8888888888888888,
              "#fdca26"
             ],
             [
              1,
              "#f0f921"
             ]
            ],
            "type": "surface"
           }
          ],
          "table": [
           {
            "cells": {
             "fill": {
              "color": "#EBF0F8"
             },
             "line": {
              "color": "white"
             }
            },
            "header": {
             "fill": {
              "color": "#C8D4E3"
             },
             "line": {
              "color": "white"
             }
            },
            "type": "table"
           }
          ]
         },
         "layout": {
          "annotationdefaults": {
           "arrowcolor": "#2a3f5f",
           "arrowhead": 0,
           "arrowwidth": 1
          },
          "autotypenumbers": "strict",
          "coloraxis": {
           "colorbar": {
            "outlinewidth": 0,
            "ticks": ""
           }
          },
          "colorscale": {
           "diverging": [
            [
             0,
             "#8e0152"
            ],
            [
             0.1,
             "#c51b7d"
            ],
            [
             0.2,
             "#de77ae"
            ],
            [
             0.3,
             "#f1b6da"
            ],
            [
             0.4,
             "#fde0ef"
            ],
            [
             0.5,
             "#f7f7f7"
            ],
            [
             0.6,
             "#e6f5d0"
            ],
            [
             0.7,
             "#b8e186"
            ],
            [
             0.8,
             "#7fbc41"
            ],
            [
             0.9,
             "#4d9221"
            ],
            [
             1,
             "#276419"
            ]
           ],
           "sequential": [
            [
             0,
             "#0d0887"
            ],
            [
             0.1111111111111111,
             "#46039f"
            ],
            [
             0.2222222222222222,
             "#7201a8"
            ],
            [
             0.3333333333333333,
             "#9c179e"
            ],
            [
             0.4444444444444444,
             "#bd3786"
            ],
            [
             0.5555555555555556,
             "#d8576b"
            ],
            [
             0.6666666666666666,
             "#ed7953"
            ],
            [
             0.7777777777777778,
             "#fb9f3a"
            ],
            [
             0.8888888888888888,
             "#fdca26"
            ],
            [
             1,
             "#f0f921"
            ]
           ],
           "sequentialminus": [
            [
             0,
             "#0d0887"
            ],
            [
             0.1111111111111111,
             "#46039f"
            ],
            [
             0.2222222222222222,
             "#7201a8"
            ],
            [
             0.3333333333333333,
             "#9c179e"
            ],
            [
             0.4444444444444444,
             "#bd3786"
            ],
            [
             0.5555555555555556,
             "#d8576b"
            ],
            [
             0.6666666666666666,
             "#ed7953"
            ],
            [
             0.7777777777777778,
             "#fb9f3a"
            ],
            [
             0.8888888888888888,
             "#fdca26"
            ],
            [
             1,
             "#f0f921"
            ]
           ]
          },
          "colorway": [
           "#636efa",
           "#EF553B",
           "#00cc96",
           "#ab63fa",
           "#FFA15A",
           "#19d3f3",
           "#FF6692",
           "#B6E880",
           "#FF97FF",
           "#FECB52"
          ],
          "font": {
           "color": "#2a3f5f"
          },
          "geo": {
           "bgcolor": "white",
           "lakecolor": "white",
           "landcolor": "#E5ECF6",
           "showlakes": true,
           "showland": true,
           "subunitcolor": "white"
          },
          "hoverlabel": {
           "align": "left"
          },
          "hovermode": "closest",
          "mapbox": {
           "style": "light"
          },
          "paper_bgcolor": "white",
          "plot_bgcolor": "#E5ECF6",
          "polar": {
           "angularaxis": {
            "gridcolor": "white",
            "linecolor": "white",
            "ticks": ""
           },
           "bgcolor": "#E5ECF6",
           "radialaxis": {
            "gridcolor": "white",
            "linecolor": "white",
            "ticks": ""
           }
          },
          "scene": {
           "xaxis": {
            "backgroundcolor": "#E5ECF6",
            "gridcolor": "white",
            "gridwidth": 2,
            "linecolor": "white",
            "showbackground": true,
            "ticks": "",
            "zerolinecolor": "white"
           },
           "yaxis": {
            "backgroundcolor": "#E5ECF6",
            "gridcolor": "white",
            "gridwidth": 2,
            "linecolor": "white",
            "showbackground": true,
            "ticks": "",
            "zerolinecolor": "white"
           },
           "zaxis": {
            "backgroundcolor": "#E5ECF6",
            "gridcolor": "white",
            "gridwidth": 2,
            "linecolor": "white",
            "showbackground": true,
            "ticks": "",
            "zerolinecolor": "white"
           }
          },
          "shapedefaults": {
           "line": {
            "color": "#2a3f5f"
           }
          },
          "ternary": {
           "aaxis": {
            "gridcolor": "white",
            "linecolor": "white",
            "ticks": ""
           },
           "baxis": {
            "gridcolor": "white",
            "linecolor": "white",
            "ticks": ""
           },
           "bgcolor": "#E5ECF6",
           "caxis": {
            "gridcolor": "white",
            "linecolor": "white",
            "ticks": ""
           }
          },
          "title": {
           "x": 0.05
          },
          "xaxis": {
           "automargin": true,
           "gridcolor": "white",
           "linecolor": "white",
           "ticks": "",
           "title": {
            "standoff": 15
           },
           "zerolinecolor": "white",
           "zerolinewidth": 2
          },
          "yaxis": {
           "automargin": true,
           "gridcolor": "white",
           "linecolor": "white",
           "ticks": "",
           "title": {
            "standoff": 15
           },
           "zerolinecolor": "white",
           "zerolinewidth": 2
          }
         }
        },
        "title": {
         "text": "Average land temperature in countries"
        }
       }
      },
      "text/html": [
       "<div>                            <div id=\"62ab30bf-69ea-4b3d-a10b-f9a3ec42767f\" class=\"plotly-graph-div\" style=\"height:525px; width:100%;\"></div>            <script type=\"text/javascript\">                require([\"plotly\"], function(Plotly) {                    window.PLOTLYENV=window.PLOTLYENV || {};                                    if (document.getElementById(\"62ab30bf-69ea-4b3d-a10b-f9a3ec42767f\")) {                    Plotly.newPlot(                        \"62ab30bf-69ea-4b3d-a10b-f9a3ec42767f\",                        [{\"colorbar\":{\"title\":{\"text\":\"Average Temp\"}},\"colorscale\":[[0.0,\"rgb(5,48,97)\"],[0.1,\"rgb(33,102,172)\"],[0.2,\"rgb(67,147,195)\"],[0.3,\"rgb(146,197,222)\"],[0.4,\"rgb(209,229,240)\"],[0.5,\"rgb(247,247,247)\"],[0.6,\"rgb(253,219,199)\"],[0.7,\"rgb(244,165,130)\"],[0.8,\"rgb(214,96,77)\"],[0.9,\"rgb(178,24,43)\"],[1.0,\"rgb(103,0,31)\"]],\"locationmode\":\"country names\",\"locations\":[\"\\u00c5land\",\"Afghanistan\",\"Africa\",\"Albania\",\"Algeria\",\"American Samoa\",\"Andorra\",\"Angola\",\"Anguilla\",\"Antarctica\",\"Antigua And Barbuda\",\"Argentina\",\"Armenia\",\"Aruba\",\"Asia\",\"Australia\",\"Austria\",\"Azerbaijan\",\"Bahamas\",\"Bahrain\",\"Baker Island\",\"Bangladesh\",\"Barbados\",\"Belarus\",\"Belgium\",\"Belize\",\"Benin\",\"Bhutan\",\"Bolivia\",\"Bonaire, Saint Eustatius And Saba\",\"Bosnia And Herzegovina\",\"Botswana\",\"Brazil\",\"British Virgin Islands\",\"Bulgaria\",\"Burkina Faso\",\"Burma\",\"Burundi\",\"C\\u00f4te D'Ivoire\",\"Cambodia\",\"Cameroon\",\"Canada\",\"Cape Verde\",\"Cayman Islands\",\"Central African Republic\",\"Chad\",\"Chile\",\"China\",\"Christmas Island\",\"Colombia\",\"Comoros\",\"Congo (Democratic Republic Of The)\",\"Congo\",\"Costa Rica\",\"Croatia\",\"Cuba\",\"Cura\\u00e7ao\",\"Cyprus\",\"Czech Republic\",\"Denmark (Europe)\",\"Denmark\",\"Djibouti\",\"Dominica\",\"Dominican Republic\",\"Ecuador\",\"Egypt\",\"El Salvador\",\"Equatorial Guinea\",\"Eritrea\",\"Estonia\",\"Ethiopia\",\"Europe\",\"Falkland Islands (Islas Malvinas)\",\"Faroe Islands\",\"Federated States Of Micronesia\",\"Fiji\",\"Finland\",\"France (Europe)\",\"France\",\"French Guiana\",\"French Polynesia\",\"French Southern And Antarctic Lands\",\"Gabon\",\"Gambia\",\"Gaza Strip\",\"Georgia\",\"Germany\",\"Ghana\",\"Greece\",\"Greenland\",\"Grenada\",\"Guadeloupe\",\"Guam\",\"Guatemala\",\"Guernsey\",\"Guinea Bissau\",\"Guinea\",\"Guyana\",\"Haiti\",\"Heard Island And Mcdonald Islands\",\"Honduras\",\"Hong Kong\",\"Hungary\",\"Iceland\",\"India\",\"Indonesia\",\"Iran\",\"Iraq\",\"Ireland\",\"Isle Of Man\",\"Israel\",\"Italy\",\"Jamaica\",\"Japan\",\"Jersey\",\"Jordan\",\"Kazakhstan\",\"Kenya\",\"Kingman Reef\",\"Kiribati\",\"Kuwait\",\"Kyrgyzstan\",\"Laos\",\"Latvia\",\"Lebanon\",\"Lesotho\",\"Liberia\",\"Libya\",\"Liechtenstein\",\"Lithuania\",\"Luxembourg\",\"Macau\",\"Macedonia\",\"Madagascar\",\"Malawi\",\"Malaysia\",\"Mali\",\"Malta\",\"Martinique\",\"Mauritania\",\"Mauritius\",\"Mayotte\",\"Mexico\",\"Moldova\",\"Monaco\",\"Mongolia\",\"Montenegro\",\"Montserrat\",\"Morocco\",\"Mozambique\",\"Namibia\",\"Nepal\",\"Netherlands (Europe)\",\"Netherlands\",\"New Caledonia\",\"New Zealand\",\"Nicaragua\",\"Niger\",\"Nigeria\",\"Niue\",\"North America\",\"North Korea\",\"Northern Mariana Islands\",\"Norway\",\"Oceania\",\"Oman\",\"Pakistan\",\"Palau\",\"Palestina\",\"Palmyra Atoll\",\"Panama\",\"Papua New Guinea\",\"Paraguay\",\"Peru\",\"Philippines\",\"Poland\",\"Portugal\",\"Puerto Rico\",\"Qatar\",\"Reunion\",\"Romania\",\"Russia\",\"Rwanda\",\"Saint Barth\\u00e9lemy\",\"Saint Kitts And Nevis\",\"Saint Lucia\",\"Saint Martin\",\"Saint Pierre And Miquelon\",\"Saint Vincent And The Grenadines\",\"Samoa\",\"San Marino\",\"Sao Tome And Principe\",\"Saudi Arabia\",\"Senegal\",\"Serbia\",\"Seychelles\",\"Sierra Leone\",\"Singapore\",\"Sint Maarten\",\"Slovakia\",\"Slovenia\",\"Solomon Islands\",\"Somalia\",\"South Africa\",\"South America\",\"South Georgia And The South Sandwich Isla\",\"South Korea\",\"Spain\",\"Sri Lanka\",\"Sudan\",\"Suriname\",\"Svalbard And Jan Mayen\",\"Swaziland\",\"Sweden\",\"Switzerland\",\"Syria\",\"Taiwan\",\"Tajikistan\",\"Tanzania\",\"Thailand\",\"Timor Leste\",\"Togo\",\"Tonga\",\"Trinidad And Tobago\",\"Tunisia\",\"Turkey\",\"Turkmenistan\",\"Turks And Caicas Islands\",\"Uganda\",\"Ukraine\",\"United Arab Emirates\",\"United Kingdom (Europe)\",\"United Kingdom\",\"United States\",\"Uruguay\",\"Uzbekistan\",\"Venezuela\",\"Vietnam\",\"Virgin Islands\",\"Western Sahara\",\"Yemen\",\"Zambia\",\"Zimbabwe\",0],\"text\":[\"\\u00c5land\",\"Afghanistan\",\"Africa\",\"Albania\",\"Algeria\",\"American Samoa\",\"Andorra\",\"Angola\",\"Anguilla\",\"Antarctica\",\"Antigua And Barbuda\",\"Argentina\",\"Armenia\",\"Aruba\",\"Asia\",\"Australia\",\"Austria\",\"Azerbaijan\",\"Bahamas\",\"Bahrain\",\"Baker Island\",\"Bangladesh\",\"Barbados\",\"Belarus\",\"Belgium\",\"Belize\",\"Benin\",\"Bhutan\",\"Bolivia\",\"Bonaire, Saint Eustatius And Saba\",\"Bosnia And Herzegovina\",\"Botswana\",\"Brazil\",\"British Virgin Islands\",\"Bulgaria\",\"Burkina Faso\",\"Burma\",\"Burundi\",\"C\\u00f4te D'Ivoire\",\"Cambodia\",\"Cameroon\",\"Canada\",\"Cape Verde\",\"Cayman Islands\",\"Central African Republic\",\"Chad\",\"Chile\",\"China\",\"Christmas Island\",\"Colombia\",\"Comoros\",\"Congo (Democratic Republic Of The)\",\"Congo\",\"Costa Rica\",\"Croatia\",\"Cuba\",\"Cura\\u00e7ao\",\"Cyprus\",\"Czech Republic\",\"Denmark (Europe)\",\"Denmark\",\"Djibouti\",\"Dominica\",\"Dominican Republic\",\"Ecuador\",\"Egypt\",\"El Salvador\",\"Equatorial Guinea\",\"Eritrea\",\"Estonia\",\"Ethiopia\",\"Europe\",\"Falkland Islands (Islas Malvinas)\",\"Faroe Islands\",\"Federated States Of Micronesia\",\"Fiji\",\"Finland\",\"France (Europe)\",\"France\",\"French Guiana\",\"French Polynesia\",\"French Southern And Antarctic Lands\",\"Gabon\",\"Gambia\",\"Gaza Strip\",\"Georgia\",\"Germany\",\"Ghana\",\"Greece\",\"Greenland\",\"Grenada\",\"Guadeloupe\",\"Guam\",\"Guatemala\",\"Guernsey\",\"Guinea Bissau\",\"Guinea\",\"Guyana\",\"Haiti\",\"Heard Island And Mcdonald Islands\",\"Honduras\",\"Hong Kong\",\"Hungary\",\"Iceland\",\"India\",\"Indonesia\",\"Iran\",\"Iraq\",\"Ireland\",\"Isle Of Man\",\"Israel\",\"Italy\",\"Jamaica\",\"Japan\",\"Jersey\",\"Jordan\",\"Kazakhstan\",\"Kenya\",\"Kingman Reef\",\"Kiribati\",\"Kuwait\",\"Kyrgyzstan\",\"Laos\",\"Latvia\",\"Lebanon\",\"Lesotho\",\"Liberia\",\"Libya\",\"Liechtenstein\",\"Lithuania\",\"Luxembourg\",\"Macau\",\"Macedonia\",\"Madagascar\",\"Malawi\",\"Malaysia\",\"Mali\",\"Malta\",\"Martinique\",\"Mauritania\",\"Mauritius\",\"Mayotte\",\"Mexico\",\"Moldova\",\"Monaco\",\"Mongolia\",\"Montenegro\",\"Montserrat\",\"Morocco\",\"Mozambique\",\"Namibia\",\"Nepal\",\"Netherlands (Europe)\",\"Netherlands\",\"New Caledonia\",\"New Zealand\",\"Nicaragua\",\"Niger\",\"Nigeria\",\"Niue\",\"North America\",\"North Korea\",\"Northern Mariana Islands\",\"Norway\",\"Oceania\",\"Oman\",\"Pakistan\",\"Palau\",\"Palestina\",\"Palmyra Atoll\",\"Panama\",\"Papua New Guinea\",\"Paraguay\",\"Peru\",\"Philippines\",\"Poland\",\"Portugal\",\"Puerto Rico\",\"Qatar\",\"Reunion\",\"Romania\",\"Russia\",\"Rwanda\",\"Saint Barth\\u00e9lemy\",\"Saint Kitts And Nevis\",\"Saint Lucia\",\"Saint Martin\",\"Saint Pierre And Miquelon\",\"Saint Vincent And The Grenadines\",\"Samoa\",\"San Marino\",\"Sao Tome And Principe\",\"Saudi Arabia\",\"Senegal\",\"Serbia\",\"Seychelles\",\"Sierra Leone\",\"Singapore\",\"Sint Maarten\",\"Slovakia\",\"Slovenia\",\"Solomon Islands\",\"Somalia\",\"South Africa\",\"South America\",\"South Georgia And The South Sandwich Isla\",\"South Korea\",\"Spain\",\"Sri Lanka\",\"Sudan\",\"Suriname\",\"Svalbard And Jan Mayen\",\"Swaziland\",\"Sweden\",\"Switzerland\",\"Syria\",\"Taiwan\",\"Tajikistan\",\"Tanzania\",\"Thailand\",\"Timor Leste\",\"Togo\",\"Tonga\",\"Trinidad And Tobago\",\"Tunisia\",\"Turkey\",\"Turkmenistan\",\"Turks And Caicas Islands\",\"Uganda\",\"Ukraine\",\"United Arab Emirates\",\"United Kingdom (Europe)\",\"United Kingdom\",\"United States\",\"Uruguay\",\"Uzbekistan\",\"Venezuela\",\"Vietnam\",\"Virgin Islands\",\"Western Sahara\",\"Yemen\",\"Zambia\",\"Zimbabwe\",0],\"type\":\"choropleth\",\"z\":[5.172125339508057,13.966120719909668,23.204360961914062,12.32643985748291,22.824613571166992,24.6171932220459,10.94909954071045,20.901674270629883,24.378358840942383,0.0,24.2202205657959,14.613497734069824,7.654364585876465,25.578357696533203,7.335494041442871,17.379974365234375,6.070756912231445,11.157770156860352,20.44178009033203,25.48788070678711,21.653308868408203,24.36138343811035,24.239151000976562,5.688130855560303,9.269630432128906,24.720308303833008,24.189546585083008,11.607630729675293,20.86627197265625,24.893932342529297,10.18641471862793,21.79788589477539,22.29352569580078,24.138900756835938,10.246716499328613,26.265254974365234,24.26517105102539,17.588945388793945,23.951786041259766,24.35013198852539,22.31999397277832,-0.523310661315918,22.901037216186523,26.722492218017578,23.170394897460938,24.856830596923828,7.533910274505615,11.158201217651367,21.390472412109375,19.79300880432129,16.653064727783203,21.436811447143555,22.421119689941406,25.615764617919922,11.086776733398438,25.407424926757812,25.058969497680664,18.76662826538086,7.454141616821289,7.656311988830566,-18.045146942138672,26.587615966796875,23.919960021972656,25.099164962768555,19.57307243347168,21.02450942993164,24.66152000427246,22.84158706665039,24.938241958618164,4.711174488067627,17.31866455078125,7.653590679168701,6.063597202301025,6.469823360443115,25.754804611206055,23.176055908203125,1.216688632965088,10.181282997131348,11.326370239257812,23.47048568725586,25.742273330688477,4.9514946937561035,22.230266571044922,26.075937271118164,18.997577667236328,7.4339599609375,8.342024803161621,23.92776870727539,14.440072059631348,-18.57933807373047,24.498777389526367,24.120969772338867,26.976512908935547,22.713714599609375,10.68212890625,25.32651710510254,24.10057258605957,23.6646671295166,25.764623641967773,2.54585862159729,24.19403076171875,22.64902687072754,9.503290176391602,1.3733984231948853,22.19025230407715,21.84635353088379,14.973719596862793,22.03351402282715,9.20726203918457,9.1547269821167,19.40318489074707,12.072969436645508,25.752498626708984,12.983182907104492,10.68212890625,19.055543899536133,5.165616512298584,17.16349983215332,27.115734100341797,26.70281219482422,24.88158416748047,3.2190239429473877,22.331830978393555,5.200634479522705,17.62444496154785,13.668304443359375,24.196739196777344,22.243247985839844,4.538302421569824,5.774838447570801,8.958626747131348,22.407608032226562,10.14171314239502,14.739652633666992,18.10462760925293,23.37873077392578,27.017717361450195,18.488956451416016,23.919960021972656,27.28493309020996,14.540644645690918,17.066926956176758,18.142507553100586,8.730424880981445,8.821303367614746,-0.8199635744094849,9.984403610229492,24.170055389404297,17.05130386352539,20.16182518005371,20.40826988220215,13.883700370788574,8.907415390014648,9.29039478302002,22.66368865966797,10.365863800048828,24.800024032592773,20.573637008666992,23.91669273376465,23.21384048461914,1.7118096351623535,6.745123386383057,26.976512908935547,0.09364467114210129,21.397541046142578,22.765735626220703,20.93738555908203,26.820430755615234,21.85032844543457,27.14614486694336,23.285213470458984,24.435325622558594,22.33230972290039,16.38717269897461,26.156982421875,7.292069435119629,14.683493614196777,23.328187942504883,26.2490177154541,14.403888702392578,8.563444137573242,1.746140480041504,16.86456871032715,24.378358840942383,23.683645248413086,24.411649703979492,24.378358840942383,4.0665974617004395,24.542278289794922,24.35808753967285,13.519691467285156,23.641437530517578,24.852222442626953,24.900798797607422,9.761493682861328,17.324460983276367,24.837936401367188,24.028873443603516,24.378358840942383,7.357569694519043,9.44199275970459,23.707046508789062,23.082639694213867,17.824275970458984,21.8127498626709,1.2395625114440918,11.256714820861816,12.248371124267578,25.864831924438477,26.354398727416992,23.884387969970703,-7.386641025543213,18.75969696044922,2.332552433013916,6.834455490112305,16.985965728759766,22.048343658447266,3.9956700801849365,19.45952796936035,25.174671173095703,25.950349807739258,23.963048934936523,21.507699966430664,23.927865982055664,19.96420669555664,13.028950691223145,13.915426254272461,26.66274070739746,20.23148536682129,7.181659698486328,25.504432678222656,8.460700988769531,8.77194595336914,10.133611679077148,16.48094940185547,11.5372314453125,22.926485061645508,23.365158081054688,24.138900756835938,20.802326202392578,26.190082550048828,18.304445266723633,17.959033966064453,0.0]}],                        {\"template\":{\"data\":{\"bar\":[{\"error_x\":{\"color\":\"#2a3f5f\"},\"error_y\":{\"color\":\"#2a3f5f\"},\"marker\":{\"line\":{\"color\":\"#E5ECF6\",\"width\":0.5},\"pattern\":{\"fillmode\":\"overlay\",\"size\":10,\"solidity\":0.2}},\"type\":\"bar\"}],\"barpolar\":[{\"marker\":{\"line\":{\"color\":\"#E5ECF6\",\"width\":0.5},\"pattern\":{\"fillmode\":\"overlay\",\"size\":10,\"solidity\":0.2}},\"type\":\"barpolar\"}],\"carpet\":[{\"aaxis\":{\"endlinecolor\":\"#2a3f5f\",\"gridcolor\":\"white\",\"linecolor\":\"white\",\"minorgridcolor\":\"white\",\"startlinecolor\":\"#2a3f5f\"},\"baxis\":{\"endlinecolor\":\"#2a3f5f\",\"gridcolor\":\"white\",\"linecolor\":\"white\",\"minorgridcolor\":\"white\",\"startlinecolor\":\"#2a3f5f\"},\"type\":\"carpet\"}],\"choropleth\":[{\"colorbar\":{\"outlinewidth\":0,\"ticks\":\"\"},\"type\":\"choropleth\"}],\"contour\":[{\"colorbar\":{\"outlinewidth\":0,\"ticks\":\"\"},\"colorscale\":[[0.0,\"#0d0887\"],[0.1111111111111111,\"#46039f\"],[0.2222222222222222,\"#7201a8\"],[0.3333333333333333,\"#9c179e\"],[0.4444444444444444,\"#bd3786\"],[0.5555555555555556,\"#d8576b\"],[0.6666666666666666,\"#ed7953\"],[0.7777777777777778,\"#fb9f3a\"],[0.8888888888888888,\"#fdca26\"],[1.0,\"#f0f921\"]],\"type\":\"contour\"}],\"contourcarpet\":[{\"colorbar\":{\"outlinewidth\":0,\"ticks\":\"\"},\"type\":\"contourcarpet\"}],\"heatmap\":[{\"colorbar\":{\"outlinewidth\":0,\"ticks\":\"\"},\"colorscale\":[[0.0,\"#0d0887\"],[0.1111111111111111,\"#46039f\"],[0.2222222222222222,\"#7201a8\"],[0.3333333333333333,\"#9c179e\"],[0.4444444444444444,\"#bd3786\"],[0.5555555555555556,\"#d8576b\"],[0.6666666666666666,\"#ed7953\"],[0.7777777777777778,\"#fb9f3a\"],[0.8888888888888888,\"#fdca26\"],[1.0,\"#f0f921\"]],\"type\":\"heatmap\"}],\"heatmapgl\":[{\"colorbar\":{\"outlinewidth\":0,\"ticks\":\"\"},\"colorscale\":[[0.0,\"#0d0887\"],[0.1111111111111111,\"#46039f\"],[0.2222222222222222,\"#7201a8\"],[0.3333333333333333,\"#9c179e\"],[0.4444444444444444,\"#bd3786\"],[0.5555555555555556,\"#d8576b\"],[0.6666666666666666,\"#ed7953\"],[0.7777777777777778,\"#fb9f3a\"],[0.8888888888888888,\"#fdca26\"],[1.0,\"#f0f921\"]],\"type\":\"heatmapgl\"}],\"histogram\":[{\"marker\":{\"pattern\":{\"fillmode\":\"overlay\",\"size\":10,\"solidity\":0.2}},\"type\":\"histogram\"}],\"histogram2d\":[{\"colorbar\":{\"outlinewidth\":0,\"ticks\":\"\"},\"colorscale\":[[0.0,\"#0d0887\"],[0.1111111111111111,\"#46039f\"],[0.2222222222222222,\"#7201a8\"],[0.3333333333333333,\"#9c179e\"],[0.4444444444444444,\"#bd3786\"],[0.5555555555555556,\"#d8576b\"],[0.6666666666666666,\"#ed7953\"],[0.7777777777777778,\"#fb9f3a\"],[0.8888888888888888,\"#fdca26\"],[1.0,\"#f0f921\"]],\"type\":\"histogram2d\"}],\"histogram2dcontour\":[{\"colorbar\":{\"outlinewidth\":0,\"ticks\":\"\"},\"colorscale\":[[0.0,\"#0d0887\"],[0.1111111111111111,\"#46039f\"],[0.2222222222222222,\"#7201a8\"],[0.3333333333333333,\"#9c179e\"],[0.4444444444444444,\"#bd3786\"],[0.5555555555555556,\"#d8576b\"],[0.6666666666666666,\"#ed7953\"],[0.7777777777777778,\"#fb9f3a\"],[0.8888888888888888,\"#fdca26\"],[1.0,\"#f0f921\"]],\"type\":\"histogram2dcontour\"}],\"mesh3d\":[{\"colorbar\":{\"outlinewidth\":0,\"ticks\":\"\"},\"type\":\"mesh3d\"}],\"parcoords\":[{\"line\":{\"colorbar\":{\"outlinewidth\":0,\"ticks\":\"\"}},\"type\":\"parcoords\"}],\"pie\":[{\"automargin\":true,\"type\":\"pie\"}],\"scatter\":[{\"marker\":{\"colorbar\":{\"outlinewidth\":0,\"ticks\":\"\"}},\"type\":\"scatter\"}],\"scatter3d\":[{\"line\":{\"colorbar\":{\"outlinewidth\":0,\"ticks\":\"\"}},\"marker\":{\"colorbar\":{\"outlinewidth\":0,\"ticks\":\"\"}},\"type\":\"scatter3d\"}],\"scattercarpet\":[{\"marker\":{\"colorbar\":{\"outlinewidth\":0,\"ticks\":\"\"}},\"type\":\"scattercarpet\"}],\"scattergeo\":[{\"marker\":{\"colorbar\":{\"outlinewidth\":0,\"ticks\":\"\"}},\"type\":\"scattergeo\"}],\"scattergl\":[{\"marker\":{\"colorbar\":{\"outlinewidth\":0,\"ticks\":\"\"}},\"type\":\"scattergl\"}],\"scattermapbox\":[{\"marker\":{\"colorbar\":{\"outlinewidth\":0,\"ticks\":\"\"}},\"type\":\"scattermapbox\"}],\"scatterpolar\":[{\"marker\":{\"colorbar\":{\"outlinewidth\":0,\"ticks\":\"\"}},\"type\":\"scatterpolar\"}],\"scatterpolargl\":[{\"marker\":{\"colorbar\":{\"outlinewidth\":0,\"ticks\":\"\"}},\"type\":\"scatterpolargl\"}],\"scatterternary\":[{\"marker\":{\"colorbar\":{\"outlinewidth\":0,\"ticks\":\"\"}},\"type\":\"scatterternary\"}],\"surface\":[{\"colorbar\":{\"outlinewidth\":0,\"ticks\":\"\"},\"colorscale\":[[0.0,\"#0d0887\"],[0.1111111111111111,\"#46039f\"],[0.2222222222222222,\"#7201a8\"],[0.3333333333333333,\"#9c179e\"],[0.4444444444444444,\"#bd3786\"],[0.5555555555555556,\"#d8576b\"],[0.6666666666666666,\"#ed7953\"],[0.7777777777777778,\"#fb9f3a\"],[0.8888888888888888,\"#fdca26\"],[1.0,\"#f0f921\"]],\"type\":\"surface\"}],\"table\":[{\"cells\":{\"fill\":{\"color\":\"#EBF0F8\"},\"line\":{\"color\":\"white\"}},\"header\":{\"fill\":{\"color\":\"#C8D4E3\"},\"line\":{\"color\":\"white\"}},\"type\":\"table\"}]},\"layout\":{\"annotationdefaults\":{\"arrowcolor\":\"#2a3f5f\",\"arrowhead\":0,\"arrowwidth\":1},\"autotypenumbers\":\"strict\",\"coloraxis\":{\"colorbar\":{\"outlinewidth\":0,\"ticks\":\"\"}},\"colorscale\":{\"diverging\":[[0,\"#8e0152\"],[0.1,\"#c51b7d\"],[0.2,\"#de77ae\"],[0.3,\"#f1b6da\"],[0.4,\"#fde0ef\"],[0.5,\"#f7f7f7\"],[0.6,\"#e6f5d0\"],[0.7,\"#b8e186\"],[0.8,\"#7fbc41\"],[0.9,\"#4d9221\"],[1,\"#276419\"]],\"sequential\":[[0.0,\"#0d0887\"],[0.1111111111111111,\"#46039f\"],[0.2222222222222222,\"#7201a8\"],[0.3333333333333333,\"#9c179e\"],[0.4444444444444444,\"#bd3786\"],[0.5555555555555556,\"#d8576b\"],[0.6666666666666666,\"#ed7953\"],[0.7777777777777778,\"#fb9f3a\"],[0.8888888888888888,\"#fdca26\"],[1.0,\"#f0f921\"]],\"sequentialminus\":[[0.0,\"#0d0887\"],[0.1111111111111111,\"#46039f\"],[0.2222222222222222,\"#7201a8\"],[0.3333333333333333,\"#9c179e\"],[0.4444444444444444,\"#bd3786\"],[0.5555555555555556,\"#d8576b\"],[0.6666666666666666,\"#ed7953\"],[0.7777777777777778,\"#fb9f3a\"],[0.8888888888888888,\"#fdca26\"],[1.0,\"#f0f921\"]]},\"colorway\":[\"#636efa\",\"#EF553B\",\"#00cc96\",\"#ab63fa\",\"#FFA15A\",\"#19d3f3\",\"#FF6692\",\"#B6E880\",\"#FF97FF\",\"#FECB52\"],\"font\":{\"color\":\"#2a3f5f\"},\"geo\":{\"bgcolor\":\"white\",\"lakecolor\":\"white\",\"landcolor\":\"#E5ECF6\",\"showlakes\":true,\"showland\":true,\"subunitcolor\":\"white\"},\"hoverlabel\":{\"align\":\"left\"},\"hovermode\":\"closest\",\"mapbox\":{\"style\":\"light\"},\"paper_bgcolor\":\"white\",\"plot_bgcolor\":\"#E5ECF6\",\"polar\":{\"angularaxis\":{\"gridcolor\":\"white\",\"linecolor\":\"white\",\"ticks\":\"\"},\"bgcolor\":\"#E5ECF6\",\"radialaxis\":{\"gridcolor\":\"white\",\"linecolor\":\"white\",\"ticks\":\"\"}},\"scene\":{\"xaxis\":{\"backgroundcolor\":\"#E5ECF6\",\"gridcolor\":\"white\",\"gridwidth\":2,\"linecolor\":\"white\",\"showbackground\":true,\"ticks\":\"\",\"zerolinecolor\":\"white\"},\"yaxis\":{\"backgroundcolor\":\"#E5ECF6\",\"gridcolor\":\"white\",\"gridwidth\":2,\"linecolor\":\"white\",\"showbackground\":true,\"ticks\":\"\",\"zerolinecolor\":\"white\"},\"zaxis\":{\"backgroundcolor\":\"#E5ECF6\",\"gridcolor\":\"white\",\"gridwidth\":2,\"linecolor\":\"white\",\"showbackground\":true,\"ticks\":\"\",\"zerolinecolor\":\"white\"}},\"shapedefaults\":{\"line\":{\"color\":\"#2a3f5f\"}},\"ternary\":{\"aaxis\":{\"gridcolor\":\"white\",\"linecolor\":\"white\",\"ticks\":\"\"},\"baxis\":{\"gridcolor\":\"white\",\"linecolor\":\"white\",\"ticks\":\"\"},\"bgcolor\":\"#E5ECF6\",\"caxis\":{\"gridcolor\":\"white\",\"linecolor\":\"white\",\"ticks\":\"\"}},\"title\":{\"x\":0.05},\"xaxis\":{\"automargin\":true,\"gridcolor\":\"white\",\"linecolor\":\"white\",\"ticks\":\"\",\"title\":{\"standoff\":15},\"zerolinecolor\":\"white\",\"zerolinewidth\":2},\"yaxis\":{\"automargin\":true,\"gridcolor\":\"white\",\"linecolor\":\"white\",\"ticks\":\"\",\"title\":{\"standoff\":15},\"zerolinecolor\":\"white\",\"zerolinewidth\":2}}},\"title\":{\"text\":\"Average land temperature in countries\"}},                        {\"responsive\": true}                    ).then(function(){\n",
       "                            \n",
       "var gd = document.getElementById('62ab30bf-69ea-4b3d-a10b-f9a3ec42767f');\n",
       "var x = new MutationObserver(function (mutations, observer) {{\n",
       "        var display = window.getComputedStyle(gd).display;\n",
       "        if (!display || display === 'none') {{\n",
       "            console.log([gd, 'removed!']);\n",
       "            Plotly.purge(gd);\n",
       "            observer.disconnect();\n",
       "        }}\n",
       "}});\n",
       "\n",
       "// Listen for the removal of the full notebook cells\n",
       "var notebookContainer = gd.closest('#notebook-container');\n",
       "if (notebookContainer) {{\n",
       "    x.observe(notebookContainer, {childList: true});\n",
       "}}\n",
       "\n",
       "// Listen for the clearing of the current output cell\n",
       "var outputEl = gd.closest('.output');\n",
       "if (outputEl) {{\n",
       "    x.observe(outputEl, {childList: true});\n",
       "}}\n",
       "\n",
       "                        })                };                });            </script>        </div>"
      ]
     },
     "metadata": {},
     "output_type": "display_data"
    }
   ],
   "source": [
    "import plotly.offline as py\n",
    "py.init_notebook_mode(connected=True)\n",
    "import plotly.graph_objs as go\n",
    "import plotly.tools as tls\n",
    "#mapping of average temperatures in countries\n",
    "fig = go.Figure(data=go.Choropleth(\n",
    "    locations=countries, # Spatial coordinates\n",
    "    z = mean_temp, # Data to be color-coded\n",
    "    locationmode = 'country names', # set of locations match entries in `locations`\n",
    "    text = countries,\n",
    "    colorscale = 'RdBu_r',\n",
    "    colorbar_title = \"Average Temp\",\n",
    "))\n",
    "\n",
    "fig.update_layout(\n",
    "    title_text = 'Average land temperature in countries',\n",
    "    \n",
    ")\n",
    "\n",
    "fig.show()"
   ]
  },
  {
   "cell_type": "code",
   "execution_count": 46,
   "id": "26f18c50",
   "metadata": {},
   "outputs": [
    {
     "data": {
      "text/plain": [
       "244"
      ]
     },
     "execution_count": 46,
     "metadata": {},
     "output_type": "execute_result"
    }
   ],
   "source": [
    "len(countries)"
   ]
  },
  {
   "cell_type": "code",
   "execution_count": 47,
   "id": "c6bf707f",
   "metadata": {},
   "outputs": [],
   "source": [
    "#Average temperature for each city\n",
    "\n",
    "\n",
    "cities = df['City'].unique()\n",
    "mean_temp = []\n",
    "for city in cities:\n",
    "    mean_temp.append(df[df['City'] == city]['AverageTemperature'].mean())"
   ]
  },
  {
   "cell_type": "code",
   "execution_count": 48,
   "id": "60623590",
   "metadata": {},
   "outputs": [
    {
     "data": {
      "text/plain": [
       "101"
      ]
     },
     "execution_count": 48,
     "metadata": {},
     "output_type": "execute_result"
    }
   ],
   "source": [
    "num_cities= df['City'].nunique()\n",
    "num_cities"
   ]
  },
  {
   "cell_type": "code",
   "execution_count": 49,
   "id": "812693a4",
   "metadata": {},
   "outputs": [
    {
     "data": {
      "text/html": [
       "        <script type=\"text/javascript\">\n",
       "        window.PlotlyConfig = {MathJaxConfig: 'local'};\n",
       "        if (window.MathJax) {MathJax.Hub.Config({SVG: {font: \"STIX-Web\"}});}\n",
       "        if (typeof require !== 'undefined') {\n",
       "        require.undef(\"plotly\");\n",
       "        requirejs.config({\n",
       "            paths: {\n",
       "                'plotly': ['https://cdn.plot.ly/plotly-2.4.2.min']\n",
       "            }\n",
       "        });\n",
       "        require(['plotly'], function(Plotly) {\n",
       "            window._Plotly = Plotly;\n",
       "        });\n",
       "        }\n",
       "        </script>\n",
       "        "
      ]
     },
     "metadata": {},
     "output_type": "display_data"
    },
    {
     "data": {
      "application/vnd.plotly.v1+json": {
       "config": {
        "plotlyServerURL": "https://plot.ly"
       },
       "data": [
        {
         "colorbar": {
          "title": {
           "text": "Average Temp"
          }
         },
         "colorscale": [
          [
           0,
           "rgb(5,48,97)"
          ],
          [
           0.1,
           "rgb(33,102,172)"
          ],
          [
           0.2,
           "rgb(67,147,195)"
          ],
          [
           0.3,
           "rgb(146,197,222)"
          ],
          [
           0.4,
           "rgb(209,229,240)"
          ],
          [
           0.5,
           "rgb(247,247,247)"
          ],
          [
           0.6,
           "rgb(253,219,199)"
          ],
          [
           0.7,
           "rgb(244,165,130)"
          ],
          [
           0.8,
           "rgb(214,96,77)"
          ],
          [
           0.9,
           "rgb(178,24,43)"
          ],
          [
           1,
           "rgb(103,0,31)"
          ]
         ],
         "locationmode": "country names",
         "locations": [
          0,
          "Abidjan",
          "Addis Abeba",
          "Ahmadabad",
          "Aleppo",
          "Alexandria",
          "Ankara",
          "Baghdad",
          "Bangalore",
          "Bangkok",
          "Belo Horizonte",
          "Berlin",
          "Bogotá",
          "Bombay",
          "Brasília",
          "Cairo",
          "Calcutta",
          "Cali",
          "Cape Town",
          "Casablanca",
          "Changchun",
          "Chengdu",
          "Chicago",
          "Chongqing",
          "Dakar",
          "Dalian",
          "Dar Es Salaam",
          "Delhi",
          "Dhaka",
          "Durban",
          "Faisalabad",
          "Fortaleza",
          "Gizeh",
          "Guangzhou",
          "Harare",
          "Harbin",
          "Ho Chi Minh City",
          "Hyderabad",
          "Ibadan",
          "Istanbul",
          "Izmir",
          "Jaipur",
          "Jakarta",
          "Jiddah",
          "Jinan",
          "Kabul",
          "Kano",
          "Kanpur",
          "Karachi",
          "Kiev",
          "Kinshasa",
          "Lagos",
          "Lahore",
          "Lakhnau",
          "Lima",
          "London",
          "Los Angeles",
          "Luanda",
          "Madras",
          "Madrid",
          "Manila",
          "Mashhad",
          "Melbourne",
          "Mexico",
          "Mogadishu",
          "Montreal",
          "Moscow",
          "Nagoya",
          "Nagpur",
          "Nairobi",
          "Nanjing",
          "New Delhi",
          "New York",
          "Paris",
          "Peking",
          "Pune",
          "Rangoon",
          "Rio De Janeiro",
          "Riyadh",
          "Rome",
          "São Paulo",
          "Saint Petersburg",
          "Salvador",
          "Santiago",
          "Santo Domingo",
          "Seoul",
          "Shanghai",
          "Shenyang",
          "Singapore",
          "Surabaya",
          "Surat",
          "Sydney",
          "Taipei",
          "Taiyuan",
          "Tangshan",
          "Tianjin",
          "Tokyo",
          "Toronto",
          "Umm Durman",
          "Wuhan",
          "Xian"
         ],
         "text": [
          0,
          "Abidjan",
          "Addis Abeba",
          "Ahmadabad",
          "Aleppo",
          "Alexandria",
          "Ankara",
          "Baghdad",
          "Bangalore",
          "Bangkok",
          "Belo Horizonte",
          "Berlin",
          "Bogotá",
          "Bombay",
          "Brasília",
          "Cairo",
          "Calcutta",
          "Cali",
          "Cape Town",
          "Casablanca",
          "Changchun",
          "Chengdu",
          "Chicago",
          "Chongqing",
          "Dakar",
          "Dalian",
          "Dar Es Salaam",
          "Delhi",
          "Dhaka",
          "Durban",
          "Faisalabad",
          "Fortaleza",
          "Gizeh",
          "Guangzhou",
          "Harare",
          "Harbin",
          "Ho Chi Minh City",
          "Hyderabad",
          "Ibadan",
          "Istanbul",
          "Izmir",
          "Jaipur",
          "Jakarta",
          "Jiddah",
          "Jinan",
          "Kabul",
          "Kano",
          "Kanpur",
          "Karachi",
          "Kiev",
          "Kinshasa",
          "Lagos",
          "Lahore",
          "Lakhnau",
          "Lima",
          "London",
          "Los Angeles",
          "Luanda",
          "Madras",
          "Madrid",
          "Manila",
          "Mashhad",
          "Melbourne",
          "Mexico",
          "Mogadishu",
          "Montreal",
          "Moscow",
          "Nagoya",
          "Nagpur",
          "Nairobi",
          "Nanjing",
          "New Delhi",
          "New York",
          "Paris",
          "Peking",
          "Pune",
          "Rangoon",
          "Rio De Janeiro",
          "Riyadh",
          "Rome",
          "São Paulo",
          "Saint Petersburg",
          "Salvador",
          "Santiago",
          "Santo Domingo",
          "Seoul",
          "Shanghai",
          "Shenyang",
          "Singapore",
          "Surabaya",
          "Surat",
          "Sydney",
          "Taipei",
          "Taiyuan",
          "Tangshan",
          "Tianjin",
          "Tokyo",
          "Toronto",
          "Umm Durman",
          "Wuhan",
          "Xian"
         ],
         "type": "choropleth",
         "z": [
          12.18491268157959,
          23.516916275024414,
          14.974360466003418,
          24.854629516601562,
          16.134004592895508,
          20.289751052856445,
          9.856614112854004,
          22.449848175048828,
          23.85709571838379,
          25.732587814331055,
          20.25019073486328,
          8.715283393859863,
          17.72709846496582,
          25.56129264831543,
          20.880826950073242,
          21.06598472595215,
          25.234853744506836,
          19.10247039794922,
          16.010705947875977,
          16.641643524169922,
          4.919552803039551,
          10.018489837646484,
          9.765934944152832,
          16.828800201416016,
          23.31955337524414,
          9.8685302734375,
          20.77918815612793,
          23.05666732788086,
          24.700407028198242,
          20.264732360839844,
          21.20635986328125,
          22.1270751953125,
          21.06598472595215,
          21.59833335876465,
          17.3797607421875,
          3.6241798400878906,
          24.840776443481445,
          25.789642333984375,
          23.976831436157227,
          13.202984809875488,
          17.272539138793945,
          23.31339454650879,
          21.990690231323242,
          24.975584030151367,
          13.083538055419922,
          14.025506019592285,
          23.765377044677734,
          23.234460830688477,
          23.139734268188477,
          6.882352828979492,
          21.8743896484375,
          23.623090744018555,
          21.20635986328125,
          23.234460830688477,
          16.031333923339844,
          9.245845794677734,
          15.878046035766602,
          21.71551513671875,
          27.27589225769043,
          11.19067668914795,
          26.396093368530273,
          12.42213249206543,
          13.335588455200195,
          15.717418670654297,
          23.200056076049805,
          4.310526371002197,
          3.90956449508667,
          14.46994400024414,
          24.624061584472656,
          13.732601165771484,
          15.594526290893555,
          23.05666732788086,
          9.170475006103516,
          10.168190956115723,
          11.738059997558594,
          23.654287338256836,
          25.906455993652344,
          22.86178207397461,
          24.7578125,
          11.695830345153809,
          18.931623458862305,
          3.829737663269043,
          23.69602394104004,
          5.68928337097168,
          25.178186416625977,
          10.67679214477539,
          15.961806297302246,
          7.169337749481201,
          24.028852462768555,
          22.240982055664062,
          25.27280616760254,
          16.985881805419922,
          22.190998077392578,
          7.952714443206787,
          11.439498901367188,
          11.738059997558594,
          12.52499771118164,
          5.59921932220459,
          27.68753433227539,
          16.822816848754883,
          10.535661697387695
         ]
        }
       ],
       "layout": {
        "template": {
         "data": {
          "bar": [
           {
            "error_x": {
             "color": "#2a3f5f"
            },
            "error_y": {
             "color": "#2a3f5f"
            },
            "marker": {
             "line": {
              "color": "#E5ECF6",
              "width": 0.5
             },
             "pattern": {
              "fillmode": "overlay",
              "size": 10,
              "solidity": 0.2
             }
            },
            "type": "bar"
           }
          ],
          "barpolar": [
           {
            "marker": {
             "line": {
              "color": "#E5ECF6",
              "width": 0.5
             },
             "pattern": {
              "fillmode": "overlay",
              "size": 10,
              "solidity": 0.2
             }
            },
            "type": "barpolar"
           }
          ],
          "carpet": [
           {
            "aaxis": {
             "endlinecolor": "#2a3f5f",
             "gridcolor": "white",
             "linecolor": "white",
             "minorgridcolor": "white",
             "startlinecolor": "#2a3f5f"
            },
            "baxis": {
             "endlinecolor": "#2a3f5f",
             "gridcolor": "white",
             "linecolor": "white",
             "minorgridcolor": "white",
             "startlinecolor": "#2a3f5f"
            },
            "type": "carpet"
           }
          ],
          "choropleth": [
           {
            "colorbar": {
             "outlinewidth": 0,
             "ticks": ""
            },
            "type": "choropleth"
           }
          ],
          "contour": [
           {
            "colorbar": {
             "outlinewidth": 0,
             "ticks": ""
            },
            "colorscale": [
             [
              0,
              "#0d0887"
             ],
             [
              0.1111111111111111,
              "#46039f"
             ],
             [
              0.2222222222222222,
              "#7201a8"
             ],
             [
              0.3333333333333333,
              "#9c179e"
             ],
             [
              0.4444444444444444,
              "#bd3786"
             ],
             [
              0.5555555555555556,
              "#d8576b"
             ],
             [
              0.6666666666666666,
              "#ed7953"
             ],
             [
              0.7777777777777778,
              "#fb9f3a"
             ],
             [
              0.8888888888888888,
              "#fdca26"
             ],
             [
              1,
              "#f0f921"
             ]
            ],
            "type": "contour"
           }
          ],
          "contourcarpet": [
           {
            "colorbar": {
             "outlinewidth": 0,
             "ticks": ""
            },
            "type": "contourcarpet"
           }
          ],
          "heatmap": [
           {
            "colorbar": {
             "outlinewidth": 0,
             "ticks": ""
            },
            "colorscale": [
             [
              0,
              "#0d0887"
             ],
             [
              0.1111111111111111,
              "#46039f"
             ],
             [
              0.2222222222222222,
              "#7201a8"
             ],
             [
              0.3333333333333333,
              "#9c179e"
             ],
             [
              0.4444444444444444,
              "#bd3786"
             ],
             [
              0.5555555555555556,
              "#d8576b"
             ],
             [
              0.6666666666666666,
              "#ed7953"
             ],
             [
              0.7777777777777778,
              "#fb9f3a"
             ],
             [
              0.8888888888888888,
              "#fdca26"
             ],
             [
              1,
              "#f0f921"
             ]
            ],
            "type": "heatmap"
           }
          ],
          "heatmapgl": [
           {
            "colorbar": {
             "outlinewidth": 0,
             "ticks": ""
            },
            "colorscale": [
             [
              0,
              "#0d0887"
             ],
             [
              0.1111111111111111,
              "#46039f"
             ],
             [
              0.2222222222222222,
              "#7201a8"
             ],
             [
              0.3333333333333333,
              "#9c179e"
             ],
             [
              0.4444444444444444,
              "#bd3786"
             ],
             [
              0.5555555555555556,
              "#d8576b"
             ],
             [
              0.6666666666666666,
              "#ed7953"
             ],
             [
              0.7777777777777778,
              "#fb9f3a"
             ],
             [
              0.8888888888888888,
              "#fdca26"
             ],
             [
              1,
              "#f0f921"
             ]
            ],
            "type": "heatmapgl"
           }
          ],
          "histogram": [
           {
            "marker": {
             "pattern": {
              "fillmode": "overlay",
              "size": 10,
              "solidity": 0.2
             }
            },
            "type": "histogram"
           }
          ],
          "histogram2d": [
           {
            "colorbar": {
             "outlinewidth": 0,
             "ticks": ""
            },
            "colorscale": [
             [
              0,
              "#0d0887"
             ],
             [
              0.1111111111111111,
              "#46039f"
             ],
             [
              0.2222222222222222,
              "#7201a8"
             ],
             [
              0.3333333333333333,
              "#9c179e"
             ],
             [
              0.4444444444444444,
              "#bd3786"
             ],
             [
              0.5555555555555556,
              "#d8576b"
             ],
             [
              0.6666666666666666,
              "#ed7953"
             ],
             [
              0.7777777777777778,
              "#fb9f3a"
             ],
             [
              0.8888888888888888,
              "#fdca26"
             ],
             [
              1,
              "#f0f921"
             ]
            ],
            "type": "histogram2d"
           }
          ],
          "histogram2dcontour": [
           {
            "colorbar": {
             "outlinewidth": 0,
             "ticks": ""
            },
            "colorscale": [
             [
              0,
              "#0d0887"
             ],
             [
              0.1111111111111111,
              "#46039f"
             ],
             [
              0.2222222222222222,
              "#7201a8"
             ],
             [
              0.3333333333333333,
              "#9c179e"
             ],
             [
              0.4444444444444444,
              "#bd3786"
             ],
             [
              0.5555555555555556,
              "#d8576b"
             ],
             [
              0.6666666666666666,
              "#ed7953"
             ],
             [
              0.7777777777777778,
              "#fb9f3a"
             ],
             [
              0.8888888888888888,
              "#fdca26"
             ],
             [
              1,
              "#f0f921"
             ]
            ],
            "type": "histogram2dcontour"
           }
          ],
          "mesh3d": [
           {
            "colorbar": {
             "outlinewidth": 0,
             "ticks": ""
            },
            "type": "mesh3d"
           }
          ],
          "parcoords": [
           {
            "line": {
             "colorbar": {
              "outlinewidth": 0,
              "ticks": ""
             }
            },
            "type": "parcoords"
           }
          ],
          "pie": [
           {
            "automargin": true,
            "type": "pie"
           }
          ],
          "scatter": [
           {
            "marker": {
             "colorbar": {
              "outlinewidth": 0,
              "ticks": ""
             }
            },
            "type": "scatter"
           }
          ],
          "scatter3d": [
           {
            "line": {
             "colorbar": {
              "outlinewidth": 0,
              "ticks": ""
             }
            },
            "marker": {
             "colorbar": {
              "outlinewidth": 0,
              "ticks": ""
             }
            },
            "type": "scatter3d"
           }
          ],
          "scattercarpet": [
           {
            "marker": {
             "colorbar": {
              "outlinewidth": 0,
              "ticks": ""
             }
            },
            "type": "scattercarpet"
           }
          ],
          "scattergeo": [
           {
            "marker": {
             "colorbar": {
              "outlinewidth": 0,
              "ticks": ""
             }
            },
            "type": "scattergeo"
           }
          ],
          "scattergl": [
           {
            "marker": {
             "colorbar": {
              "outlinewidth": 0,
              "ticks": ""
             }
            },
            "type": "scattergl"
           }
          ],
          "scattermapbox": [
           {
            "marker": {
             "colorbar": {
              "outlinewidth": 0,
              "ticks": ""
             }
            },
            "type": "scattermapbox"
           }
          ],
          "scatterpolar": [
           {
            "marker": {
             "colorbar": {
              "outlinewidth": 0,
              "ticks": ""
             }
            },
            "type": "scatterpolar"
           }
          ],
          "scatterpolargl": [
           {
            "marker": {
             "colorbar": {
              "outlinewidth": 0,
              "ticks": ""
             }
            },
            "type": "scatterpolargl"
           }
          ],
          "scatterternary": [
           {
            "marker": {
             "colorbar": {
              "outlinewidth": 0,
              "ticks": ""
             }
            },
            "type": "scatterternary"
           }
          ],
          "surface": [
           {
            "colorbar": {
             "outlinewidth": 0,
             "ticks": ""
            },
            "colorscale": [
             [
              0,
              "#0d0887"
             ],
             [
              0.1111111111111111,
              "#46039f"
             ],
             [
              0.2222222222222222,
              "#7201a8"
             ],
             [
              0.3333333333333333,
              "#9c179e"
             ],
             [
              0.4444444444444444,
              "#bd3786"
             ],
             [
              0.5555555555555556,
              "#d8576b"
             ],
             [
              0.6666666666666666,
              "#ed7953"
             ],
             [
              0.7777777777777778,
              "#fb9f3a"
             ],
             [
              0.8888888888888888,
              "#fdca26"
             ],
             [
              1,
              "#f0f921"
             ]
            ],
            "type": "surface"
           }
          ],
          "table": [
           {
            "cells": {
             "fill": {
              "color": "#EBF0F8"
             },
             "line": {
              "color": "white"
             }
            },
            "header": {
             "fill": {
              "color": "#C8D4E3"
             },
             "line": {
              "color": "white"
             }
            },
            "type": "table"
           }
          ]
         },
         "layout": {
          "annotationdefaults": {
           "arrowcolor": "#2a3f5f",
           "arrowhead": 0,
           "arrowwidth": 1
          },
          "autotypenumbers": "strict",
          "coloraxis": {
           "colorbar": {
            "outlinewidth": 0,
            "ticks": ""
           }
          },
          "colorscale": {
           "diverging": [
            [
             0,
             "#8e0152"
            ],
            [
             0.1,
             "#c51b7d"
            ],
            [
             0.2,
             "#de77ae"
            ],
            [
             0.3,
             "#f1b6da"
            ],
            [
             0.4,
             "#fde0ef"
            ],
            [
             0.5,
             "#f7f7f7"
            ],
            [
             0.6,
             "#e6f5d0"
            ],
            [
             0.7,
             "#b8e186"
            ],
            [
             0.8,
             "#7fbc41"
            ],
            [
             0.9,
             "#4d9221"
            ],
            [
             1,
             "#276419"
            ]
           ],
           "sequential": [
            [
             0,
             "#0d0887"
            ],
            [
             0.1111111111111111,
             "#46039f"
            ],
            [
             0.2222222222222222,
             "#7201a8"
            ],
            [
             0.3333333333333333,
             "#9c179e"
            ],
            [
             0.4444444444444444,
             "#bd3786"
            ],
            [
             0.5555555555555556,
             "#d8576b"
            ],
            [
             0.6666666666666666,
             "#ed7953"
            ],
            [
             0.7777777777777778,
             "#fb9f3a"
            ],
            [
             0.8888888888888888,
             "#fdca26"
            ],
            [
             1,
             "#f0f921"
            ]
           ],
           "sequentialminus": [
            [
             0,
             "#0d0887"
            ],
            [
             0.1111111111111111,
             "#46039f"
            ],
            [
             0.2222222222222222,
             "#7201a8"
            ],
            [
             0.3333333333333333,
             "#9c179e"
            ],
            [
             0.4444444444444444,
             "#bd3786"
            ],
            [
             0.5555555555555556,
             "#d8576b"
            ],
            [
             0.6666666666666666,
             "#ed7953"
            ],
            [
             0.7777777777777778,
             "#fb9f3a"
            ],
            [
             0.8888888888888888,
             "#fdca26"
            ],
            [
             1,
             "#f0f921"
            ]
           ]
          },
          "colorway": [
           "#636efa",
           "#EF553B",
           "#00cc96",
           "#ab63fa",
           "#FFA15A",
           "#19d3f3",
           "#FF6692",
           "#B6E880",
           "#FF97FF",
           "#FECB52"
          ],
          "font": {
           "color": "#2a3f5f"
          },
          "geo": {
           "bgcolor": "white",
           "lakecolor": "white",
           "landcolor": "#E5ECF6",
           "showlakes": true,
           "showland": true,
           "subunitcolor": "white"
          },
          "hoverlabel": {
           "align": "left"
          },
          "hovermode": "closest",
          "mapbox": {
           "style": "light"
          },
          "paper_bgcolor": "white",
          "plot_bgcolor": "#E5ECF6",
          "polar": {
           "angularaxis": {
            "gridcolor": "white",
            "linecolor": "white",
            "ticks": ""
           },
           "bgcolor": "#E5ECF6",
           "radialaxis": {
            "gridcolor": "white",
            "linecolor": "white",
            "ticks": ""
           }
          },
          "scene": {
           "xaxis": {
            "backgroundcolor": "#E5ECF6",
            "gridcolor": "white",
            "gridwidth": 2,
            "linecolor": "white",
            "showbackground": true,
            "ticks": "",
            "zerolinecolor": "white"
           },
           "yaxis": {
            "backgroundcolor": "#E5ECF6",
            "gridcolor": "white",
            "gridwidth": 2,
            "linecolor": "white",
            "showbackground": true,
            "ticks": "",
            "zerolinecolor": "white"
           },
           "zaxis": {
            "backgroundcolor": "#E5ECF6",
            "gridcolor": "white",
            "gridwidth": 2,
            "linecolor": "white",
            "showbackground": true,
            "ticks": "",
            "zerolinecolor": "white"
           }
          },
          "shapedefaults": {
           "line": {
            "color": "#2a3f5f"
           }
          },
          "ternary": {
           "aaxis": {
            "gridcolor": "white",
            "linecolor": "white",
            "ticks": ""
           },
           "baxis": {
            "gridcolor": "white",
            "linecolor": "white",
            "ticks": ""
           },
           "bgcolor": "#E5ECF6",
           "caxis": {
            "gridcolor": "white",
            "linecolor": "white",
            "ticks": ""
           }
          },
          "title": {
           "x": 0.05
          },
          "xaxis": {
           "automargin": true,
           "gridcolor": "white",
           "linecolor": "white",
           "ticks": "",
           "title": {
            "standoff": 15
           },
           "zerolinecolor": "white",
           "zerolinewidth": 2
          },
          "yaxis": {
           "automargin": true,
           "gridcolor": "white",
           "linecolor": "white",
           "ticks": "",
           "title": {
            "standoff": 15
           },
           "zerolinecolor": "white",
           "zerolinewidth": 2
          }
         }
        },
        "title": {
         "text": "Average land temperature in cities"
        }
       }
      },
      "text/html": [
       "<div>                            <div id=\"f776e845-fdf6-498c-87bf-3f091a4df37d\" class=\"plotly-graph-div\" style=\"height:525px; width:100%;\"></div>            <script type=\"text/javascript\">                require([\"plotly\"], function(Plotly) {                    window.PLOTLYENV=window.PLOTLYENV || {};                                    if (document.getElementById(\"f776e845-fdf6-498c-87bf-3f091a4df37d\")) {                    Plotly.newPlot(                        \"f776e845-fdf6-498c-87bf-3f091a4df37d\",                        [{\"colorbar\":{\"title\":{\"text\":\"Average Temp\"}},\"colorscale\":[[0.0,\"rgb(5,48,97)\"],[0.1,\"rgb(33,102,172)\"],[0.2,\"rgb(67,147,195)\"],[0.3,\"rgb(146,197,222)\"],[0.4,\"rgb(209,229,240)\"],[0.5,\"rgb(247,247,247)\"],[0.6,\"rgb(253,219,199)\"],[0.7,\"rgb(244,165,130)\"],[0.8,\"rgb(214,96,77)\"],[0.9,\"rgb(178,24,43)\"],[1.0,\"rgb(103,0,31)\"]],\"locationmode\":\"country names\",\"locations\":[0,\"Abidjan\",\"Addis Abeba\",\"Ahmadabad\",\"Aleppo\",\"Alexandria\",\"Ankara\",\"Baghdad\",\"Bangalore\",\"Bangkok\",\"Belo Horizonte\",\"Berlin\",\"Bogot\\u00e1\",\"Bombay\",\"Bras\\u00edlia\",\"Cairo\",\"Calcutta\",\"Cali\",\"Cape Town\",\"Casablanca\",\"Changchun\",\"Chengdu\",\"Chicago\",\"Chongqing\",\"Dakar\",\"Dalian\",\"Dar Es Salaam\",\"Delhi\",\"Dhaka\",\"Durban\",\"Faisalabad\",\"Fortaleza\",\"Gizeh\",\"Guangzhou\",\"Harare\",\"Harbin\",\"Ho Chi Minh City\",\"Hyderabad\",\"Ibadan\",\"Istanbul\",\"Izmir\",\"Jaipur\",\"Jakarta\",\"Jiddah\",\"Jinan\",\"Kabul\",\"Kano\",\"Kanpur\",\"Karachi\",\"Kiev\",\"Kinshasa\",\"Lagos\",\"Lahore\",\"Lakhnau\",\"Lima\",\"London\",\"Los Angeles\",\"Luanda\",\"Madras\",\"Madrid\",\"Manila\",\"Mashhad\",\"Melbourne\",\"Mexico\",\"Mogadishu\",\"Montreal\",\"Moscow\",\"Nagoya\",\"Nagpur\",\"Nairobi\",\"Nanjing\",\"New Delhi\",\"New York\",\"Paris\",\"Peking\",\"Pune\",\"Rangoon\",\"Rio De Janeiro\",\"Riyadh\",\"Rome\",\"S\\u00e3o Paulo\",\"Saint Petersburg\",\"Salvador\",\"Santiago\",\"Santo Domingo\",\"Seoul\",\"Shanghai\",\"Shenyang\",\"Singapore\",\"Surabaya\",\"Surat\",\"Sydney\",\"Taipei\",\"Taiyuan\",\"Tangshan\",\"Tianjin\",\"Tokyo\",\"Toronto\",\"Umm Durman\",\"Wuhan\",\"Xian\"],\"text\":[0,\"Abidjan\",\"Addis Abeba\",\"Ahmadabad\",\"Aleppo\",\"Alexandria\",\"Ankara\",\"Baghdad\",\"Bangalore\",\"Bangkok\",\"Belo Horizonte\",\"Berlin\",\"Bogot\\u00e1\",\"Bombay\",\"Bras\\u00edlia\",\"Cairo\",\"Calcutta\",\"Cali\",\"Cape Town\",\"Casablanca\",\"Changchun\",\"Chengdu\",\"Chicago\",\"Chongqing\",\"Dakar\",\"Dalian\",\"Dar Es Salaam\",\"Delhi\",\"Dhaka\",\"Durban\",\"Faisalabad\",\"Fortaleza\",\"Gizeh\",\"Guangzhou\",\"Harare\",\"Harbin\",\"Ho Chi Minh City\",\"Hyderabad\",\"Ibadan\",\"Istanbul\",\"Izmir\",\"Jaipur\",\"Jakarta\",\"Jiddah\",\"Jinan\",\"Kabul\",\"Kano\",\"Kanpur\",\"Karachi\",\"Kiev\",\"Kinshasa\",\"Lagos\",\"Lahore\",\"Lakhnau\",\"Lima\",\"London\",\"Los Angeles\",\"Luanda\",\"Madras\",\"Madrid\",\"Manila\",\"Mashhad\",\"Melbourne\",\"Mexico\",\"Mogadishu\",\"Montreal\",\"Moscow\",\"Nagoya\",\"Nagpur\",\"Nairobi\",\"Nanjing\",\"New Delhi\",\"New York\",\"Paris\",\"Peking\",\"Pune\",\"Rangoon\",\"Rio De Janeiro\",\"Riyadh\",\"Rome\",\"S\\u00e3o Paulo\",\"Saint Petersburg\",\"Salvador\",\"Santiago\",\"Santo Domingo\",\"Seoul\",\"Shanghai\",\"Shenyang\",\"Singapore\",\"Surabaya\",\"Surat\",\"Sydney\",\"Taipei\",\"Taiyuan\",\"Tangshan\",\"Tianjin\",\"Tokyo\",\"Toronto\",\"Umm Durman\",\"Wuhan\",\"Xian\"],\"type\":\"choropleth\",\"z\":[12.18491268157959,23.516916275024414,14.974360466003418,24.854629516601562,16.134004592895508,20.289751052856445,9.856614112854004,22.449848175048828,23.85709571838379,25.732587814331055,20.25019073486328,8.715283393859863,17.72709846496582,25.56129264831543,20.880826950073242,21.06598472595215,25.234853744506836,19.10247039794922,16.010705947875977,16.641643524169922,4.919552803039551,10.018489837646484,9.765934944152832,16.828800201416016,23.31955337524414,9.8685302734375,20.77918815612793,23.05666732788086,24.700407028198242,20.264732360839844,21.20635986328125,22.1270751953125,21.06598472595215,21.59833335876465,17.3797607421875,3.6241798400878906,24.840776443481445,25.789642333984375,23.976831436157227,13.202984809875488,17.272539138793945,23.31339454650879,21.990690231323242,24.975584030151367,13.083538055419922,14.025506019592285,23.765377044677734,23.234460830688477,23.139734268188477,6.882352828979492,21.8743896484375,23.623090744018555,21.20635986328125,23.234460830688477,16.031333923339844,9.245845794677734,15.878046035766602,21.71551513671875,27.27589225769043,11.19067668914795,26.396093368530273,12.42213249206543,13.335588455200195,15.717418670654297,23.200056076049805,4.310526371002197,3.90956449508667,14.46994400024414,24.624061584472656,13.732601165771484,15.594526290893555,23.05666732788086,9.170475006103516,10.168190956115723,11.738059997558594,23.654287338256836,25.906455993652344,22.86178207397461,24.7578125,11.695830345153809,18.931623458862305,3.829737663269043,23.69602394104004,5.68928337097168,25.178186416625977,10.67679214477539,15.961806297302246,7.169337749481201,24.028852462768555,22.240982055664062,25.27280616760254,16.985881805419922,22.190998077392578,7.952714443206787,11.439498901367188,11.738059997558594,12.52499771118164,5.59921932220459,27.68753433227539,16.822816848754883,10.535661697387695]}],                        {\"template\":{\"data\":{\"bar\":[{\"error_x\":{\"color\":\"#2a3f5f\"},\"error_y\":{\"color\":\"#2a3f5f\"},\"marker\":{\"line\":{\"color\":\"#E5ECF6\",\"width\":0.5},\"pattern\":{\"fillmode\":\"overlay\",\"size\":10,\"solidity\":0.2}},\"type\":\"bar\"}],\"barpolar\":[{\"marker\":{\"line\":{\"color\":\"#E5ECF6\",\"width\":0.5},\"pattern\":{\"fillmode\":\"overlay\",\"size\":10,\"solidity\":0.2}},\"type\":\"barpolar\"}],\"carpet\":[{\"aaxis\":{\"endlinecolor\":\"#2a3f5f\",\"gridcolor\":\"white\",\"linecolor\":\"white\",\"minorgridcolor\":\"white\",\"startlinecolor\":\"#2a3f5f\"},\"baxis\":{\"endlinecolor\":\"#2a3f5f\",\"gridcolor\":\"white\",\"linecolor\":\"white\",\"minorgridcolor\":\"white\",\"startlinecolor\":\"#2a3f5f\"},\"type\":\"carpet\"}],\"choropleth\":[{\"colorbar\":{\"outlinewidth\":0,\"ticks\":\"\"},\"type\":\"choropleth\"}],\"contour\":[{\"colorbar\":{\"outlinewidth\":0,\"ticks\":\"\"},\"colorscale\":[[0.0,\"#0d0887\"],[0.1111111111111111,\"#46039f\"],[0.2222222222222222,\"#7201a8\"],[0.3333333333333333,\"#9c179e\"],[0.4444444444444444,\"#bd3786\"],[0.5555555555555556,\"#d8576b\"],[0.6666666666666666,\"#ed7953\"],[0.7777777777777778,\"#fb9f3a\"],[0.8888888888888888,\"#fdca26\"],[1.0,\"#f0f921\"]],\"type\":\"contour\"}],\"contourcarpet\":[{\"colorbar\":{\"outlinewidth\":0,\"ticks\":\"\"},\"type\":\"contourcarpet\"}],\"heatmap\":[{\"colorbar\":{\"outlinewidth\":0,\"ticks\":\"\"},\"colorscale\":[[0.0,\"#0d0887\"],[0.1111111111111111,\"#46039f\"],[0.2222222222222222,\"#7201a8\"],[0.3333333333333333,\"#9c179e\"],[0.4444444444444444,\"#bd3786\"],[0.5555555555555556,\"#d8576b\"],[0.6666666666666666,\"#ed7953\"],[0.7777777777777778,\"#fb9f3a\"],[0.8888888888888888,\"#fdca26\"],[1.0,\"#f0f921\"]],\"type\":\"heatmap\"}],\"heatmapgl\":[{\"colorbar\":{\"outlinewidth\":0,\"ticks\":\"\"},\"colorscale\":[[0.0,\"#0d0887\"],[0.1111111111111111,\"#46039f\"],[0.2222222222222222,\"#7201a8\"],[0.3333333333333333,\"#9c179e\"],[0.4444444444444444,\"#bd3786\"],[0.5555555555555556,\"#d8576b\"],[0.6666666666666666,\"#ed7953\"],[0.7777777777777778,\"#fb9f3a\"],[0.8888888888888888,\"#fdca26\"],[1.0,\"#f0f921\"]],\"type\":\"heatmapgl\"}],\"histogram\":[{\"marker\":{\"pattern\":{\"fillmode\":\"overlay\",\"size\":10,\"solidity\":0.2}},\"type\":\"histogram\"}],\"histogram2d\":[{\"colorbar\":{\"outlinewidth\":0,\"ticks\":\"\"},\"colorscale\":[[0.0,\"#0d0887\"],[0.1111111111111111,\"#46039f\"],[0.2222222222222222,\"#7201a8\"],[0.3333333333333333,\"#9c179e\"],[0.4444444444444444,\"#bd3786\"],[0.5555555555555556,\"#d8576b\"],[0.6666666666666666,\"#ed7953\"],[0.7777777777777778,\"#fb9f3a\"],[0.8888888888888888,\"#fdca26\"],[1.0,\"#f0f921\"]],\"type\":\"histogram2d\"}],\"histogram2dcontour\":[{\"colorbar\":{\"outlinewidth\":0,\"ticks\":\"\"},\"colorscale\":[[0.0,\"#0d0887\"],[0.1111111111111111,\"#46039f\"],[0.2222222222222222,\"#7201a8\"],[0.3333333333333333,\"#9c179e\"],[0.4444444444444444,\"#bd3786\"],[0.5555555555555556,\"#d8576b\"],[0.6666666666666666,\"#ed7953\"],[0.7777777777777778,\"#fb9f3a\"],[0.8888888888888888,\"#fdca26\"],[1.0,\"#f0f921\"]],\"type\":\"histogram2dcontour\"}],\"mesh3d\":[{\"colorbar\":{\"outlinewidth\":0,\"ticks\":\"\"},\"type\":\"mesh3d\"}],\"parcoords\":[{\"line\":{\"colorbar\":{\"outlinewidth\":0,\"ticks\":\"\"}},\"type\":\"parcoords\"}],\"pie\":[{\"automargin\":true,\"type\":\"pie\"}],\"scatter\":[{\"marker\":{\"colorbar\":{\"outlinewidth\":0,\"ticks\":\"\"}},\"type\":\"scatter\"}],\"scatter3d\":[{\"line\":{\"colorbar\":{\"outlinewidth\":0,\"ticks\":\"\"}},\"marker\":{\"colorbar\":{\"outlinewidth\":0,\"ticks\":\"\"}},\"type\":\"scatter3d\"}],\"scattercarpet\":[{\"marker\":{\"colorbar\":{\"outlinewidth\":0,\"ticks\":\"\"}},\"type\":\"scattercarpet\"}],\"scattergeo\":[{\"marker\":{\"colorbar\":{\"outlinewidth\":0,\"ticks\":\"\"}},\"type\":\"scattergeo\"}],\"scattergl\":[{\"marker\":{\"colorbar\":{\"outlinewidth\":0,\"ticks\":\"\"}},\"type\":\"scattergl\"}],\"scattermapbox\":[{\"marker\":{\"colorbar\":{\"outlinewidth\":0,\"ticks\":\"\"}},\"type\":\"scattermapbox\"}],\"scatterpolar\":[{\"marker\":{\"colorbar\":{\"outlinewidth\":0,\"ticks\":\"\"}},\"type\":\"scatterpolar\"}],\"scatterpolargl\":[{\"marker\":{\"colorbar\":{\"outlinewidth\":0,\"ticks\":\"\"}},\"type\":\"scatterpolargl\"}],\"scatterternary\":[{\"marker\":{\"colorbar\":{\"outlinewidth\":0,\"ticks\":\"\"}},\"type\":\"scatterternary\"}],\"surface\":[{\"colorbar\":{\"outlinewidth\":0,\"ticks\":\"\"},\"colorscale\":[[0.0,\"#0d0887\"],[0.1111111111111111,\"#46039f\"],[0.2222222222222222,\"#7201a8\"],[0.3333333333333333,\"#9c179e\"],[0.4444444444444444,\"#bd3786\"],[0.5555555555555556,\"#d8576b\"],[0.6666666666666666,\"#ed7953\"],[0.7777777777777778,\"#fb9f3a\"],[0.8888888888888888,\"#fdca26\"],[1.0,\"#f0f921\"]],\"type\":\"surface\"}],\"table\":[{\"cells\":{\"fill\":{\"color\":\"#EBF0F8\"},\"line\":{\"color\":\"white\"}},\"header\":{\"fill\":{\"color\":\"#C8D4E3\"},\"line\":{\"color\":\"white\"}},\"type\":\"table\"}]},\"layout\":{\"annotationdefaults\":{\"arrowcolor\":\"#2a3f5f\",\"arrowhead\":0,\"arrowwidth\":1},\"autotypenumbers\":\"strict\",\"coloraxis\":{\"colorbar\":{\"outlinewidth\":0,\"ticks\":\"\"}},\"colorscale\":{\"diverging\":[[0,\"#8e0152\"],[0.1,\"#c51b7d\"],[0.2,\"#de77ae\"],[0.3,\"#f1b6da\"],[0.4,\"#fde0ef\"],[0.5,\"#f7f7f7\"],[0.6,\"#e6f5d0\"],[0.7,\"#b8e186\"],[0.8,\"#7fbc41\"],[0.9,\"#4d9221\"],[1,\"#276419\"]],\"sequential\":[[0.0,\"#0d0887\"],[0.1111111111111111,\"#46039f\"],[0.2222222222222222,\"#7201a8\"],[0.3333333333333333,\"#9c179e\"],[0.4444444444444444,\"#bd3786\"],[0.5555555555555556,\"#d8576b\"],[0.6666666666666666,\"#ed7953\"],[0.7777777777777778,\"#fb9f3a\"],[0.8888888888888888,\"#fdca26\"],[1.0,\"#f0f921\"]],\"sequentialminus\":[[0.0,\"#0d0887\"],[0.1111111111111111,\"#46039f\"],[0.2222222222222222,\"#7201a8\"],[0.3333333333333333,\"#9c179e\"],[0.4444444444444444,\"#bd3786\"],[0.5555555555555556,\"#d8576b\"],[0.6666666666666666,\"#ed7953\"],[0.7777777777777778,\"#fb9f3a\"],[0.8888888888888888,\"#fdca26\"],[1.0,\"#f0f921\"]]},\"colorway\":[\"#636efa\",\"#EF553B\",\"#00cc96\",\"#ab63fa\",\"#FFA15A\",\"#19d3f3\",\"#FF6692\",\"#B6E880\",\"#FF97FF\",\"#FECB52\"],\"font\":{\"color\":\"#2a3f5f\"},\"geo\":{\"bgcolor\":\"white\",\"lakecolor\":\"white\",\"landcolor\":\"#E5ECF6\",\"showlakes\":true,\"showland\":true,\"subunitcolor\":\"white\"},\"hoverlabel\":{\"align\":\"left\"},\"hovermode\":\"closest\",\"mapbox\":{\"style\":\"light\"},\"paper_bgcolor\":\"white\",\"plot_bgcolor\":\"#E5ECF6\",\"polar\":{\"angularaxis\":{\"gridcolor\":\"white\",\"linecolor\":\"white\",\"ticks\":\"\"},\"bgcolor\":\"#E5ECF6\",\"radialaxis\":{\"gridcolor\":\"white\",\"linecolor\":\"white\",\"ticks\":\"\"}},\"scene\":{\"xaxis\":{\"backgroundcolor\":\"#E5ECF6\",\"gridcolor\":\"white\",\"gridwidth\":2,\"linecolor\":\"white\",\"showbackground\":true,\"ticks\":\"\",\"zerolinecolor\":\"white\"},\"yaxis\":{\"backgroundcolor\":\"#E5ECF6\",\"gridcolor\":\"white\",\"gridwidth\":2,\"linecolor\":\"white\",\"showbackground\":true,\"ticks\":\"\",\"zerolinecolor\":\"white\"},\"zaxis\":{\"backgroundcolor\":\"#E5ECF6\",\"gridcolor\":\"white\",\"gridwidth\":2,\"linecolor\":\"white\",\"showbackground\":true,\"ticks\":\"\",\"zerolinecolor\":\"white\"}},\"shapedefaults\":{\"line\":{\"color\":\"#2a3f5f\"}},\"ternary\":{\"aaxis\":{\"gridcolor\":\"white\",\"linecolor\":\"white\",\"ticks\":\"\"},\"baxis\":{\"gridcolor\":\"white\",\"linecolor\":\"white\",\"ticks\":\"\"},\"bgcolor\":\"#E5ECF6\",\"caxis\":{\"gridcolor\":\"white\",\"linecolor\":\"white\",\"ticks\":\"\"}},\"title\":{\"x\":0.05},\"xaxis\":{\"automargin\":true,\"gridcolor\":\"white\",\"linecolor\":\"white\",\"ticks\":\"\",\"title\":{\"standoff\":15},\"zerolinecolor\":\"white\",\"zerolinewidth\":2},\"yaxis\":{\"automargin\":true,\"gridcolor\":\"white\",\"linecolor\":\"white\",\"ticks\":\"\",\"title\":{\"standoff\":15},\"zerolinecolor\":\"white\",\"zerolinewidth\":2}}},\"title\":{\"text\":\"Average land temperature in cities\"}},                        {\"responsive\": true}                    ).then(function(){\n",
       "                            \n",
       "var gd = document.getElementById('f776e845-fdf6-498c-87bf-3f091a4df37d');\n",
       "var x = new MutationObserver(function (mutations, observer) {{\n",
       "        var display = window.getComputedStyle(gd).display;\n",
       "        if (!display || display === 'none') {{\n",
       "            console.log([gd, 'removed!']);\n",
       "            Plotly.purge(gd);\n",
       "            observer.disconnect();\n",
       "        }}\n",
       "}});\n",
       "\n",
       "// Listen for the removal of the full notebook cells\n",
       "var notebookContainer = gd.closest('#notebook-container');\n",
       "if (notebookContainer) {{\n",
       "    x.observe(notebookContainer, {childList: true});\n",
       "}}\n",
       "\n",
       "// Listen for the clearing of the current output cell\n",
       "var outputEl = gd.closest('.output');\n",
       "if (outputEl) {{\n",
       "    x.observe(outputEl, {childList: true});\n",
       "}}\n",
       "\n",
       "                        })                };                });            </script>        </div>"
      ]
     },
     "metadata": {},
     "output_type": "display_data"
    }
   ],
   "source": [
    "import plotly.offline as py\n",
    "py.init_notebook_mode(connected=True)\n",
    "import plotly.graph_objs as go\n",
    "import plotly.tools as tls\n",
    "#mapping of average temperatures in cities\n",
    "fig = go.Figure(data=go.Choropleth(\n",
    "    locations=cities, # Spatial coordinates\n",
    "    z = mean_temp, # Data to be color-coded\n",
    "    locationmode = 'country names', # set of locations match entries in `locations`\n",
    "    text = cities,\n",
    "    colorscale = 'RdBu_r',\n",
    "    colorbar_title = \"Average Temp\",\n",
    "))\n",
    "\n",
    "fig.update_layout(\n",
    "    title_text = 'Average land temperature in cities',\n",
    "    \n",
    ")\n",
    "\n",
    "fig.show()"
   ]
  },
  {
   "cell_type": "code",
   "execution_count": 50,
   "id": "d4dfc3b9",
   "metadata": {},
   "outputs": [],
   "source": [
    "#Average temperature for each state\n",
    "\n",
    "\n",
    "states = df['State'].unique()\n",
    "mean_temp = []\n",
    "for state in states:\n",
    "    mean_temp.append(df[df['State'] == state]['AverageTemperature'].mean())"
   ]
  },
  {
   "cell_type": "code",
   "execution_count": 51,
   "id": "816167f5",
   "metadata": {},
   "outputs": [
    {
     "data": {
      "text/plain": [
       "242"
      ]
     },
     "execution_count": 51,
     "metadata": {},
     "output_type": "execute_result"
    }
   ],
   "source": [
    "num_states=df['State'].nunique()\n",
    "num_states"
   ]
  },
  {
   "cell_type": "code",
   "execution_count": 52,
   "id": "2c0f2816",
   "metadata": {},
   "outputs": [
    {
     "data": {
      "text/html": [
       "        <script type=\"text/javascript\">\n",
       "        window.PlotlyConfig = {MathJaxConfig: 'local'};\n",
       "        if (window.MathJax) {MathJax.Hub.Config({SVG: {font: \"STIX-Web\"}});}\n",
       "        if (typeof require !== 'undefined') {\n",
       "        require.undef(\"plotly\");\n",
       "        requirejs.config({\n",
       "            paths: {\n",
       "                'plotly': ['https://cdn.plot.ly/plotly-2.4.2.min']\n",
       "            }\n",
       "        });\n",
       "        require(['plotly'], function(Plotly) {\n",
       "            window._Plotly = Plotly;\n",
       "        });\n",
       "        }\n",
       "        </script>\n",
       "        "
      ]
     },
     "metadata": {},
     "output_type": "display_data"
    },
    {
     "data": {
      "application/vnd.plotly.v1+json": {
       "config": {
        "plotlyServerURL": "https://plot.ly"
       },
       "data": [
        {
         "colorbar": {
          "title": {
           "text": "Average Temp"
          }
         },
         "colorscale": [
          [
           0,
           "rgb(5,48,97)"
          ],
          [
           0.1,
           "rgb(33,102,172)"
          ],
          [
           0.2,
           "rgb(67,147,195)"
          ],
          [
           0.3,
           "rgb(146,197,222)"
          ],
          [
           0.4,
           "rgb(209,229,240)"
          ],
          [
           0.5,
           "rgb(247,247,247)"
          ],
          [
           0.6,
           "rgb(253,219,199)"
          ],
          [
           0.7,
           "rgb(244,165,130)"
          ],
          [
           0.8,
           "rgb(214,96,77)"
          ],
          [
           0.9,
           "rgb(178,24,43)"
          ],
          [
           1,
           "rgb(103,0,31)"
          ]
         ],
         "locationmode": "country names",
         "locations": [
          0,
          "Acre",
          "Adygey",
          "Aga Buryat",
          "Alabama",
          "Alagoas",
          "Alaska",
          "Alberta",
          "Altay",
          "Amazonas",
          "Amur",
          "Andaman And Nicobar",
          "Andhra Pradesh",
          "Anhui",
          "Arizona",
          "Arkansas",
          "Arkhangel'Sk",
          "Arunachal Pradesh",
          "Assam",
          "Astrakhan'",
          "Australian Capital Territory",
          "Bahia",
          "Bashkortostan",
          "Beijing",
          "Belgorod",
          "Bihar",
          "British Columbia",
          "Bryansk",
          "Buryat",
          "California",
          "Chandigarh",
          "Chechnya",
          "Chelyabinsk",
          "Chhattisgarh",
          "Chita",
          "Chongqing",
          "Chukot",
          "Chuvash",
          "City Of St. Petersburg",
          "Colorado",
          "Connecticut",
          "Dadra And Nagar Haveli",
          "Dagestan",
          "Daman And Diu",
          "Delaware",
          "Delhi",
          "District Of Columbia",
          "Distrito Federal",
          "Evenk",
          "Florida",
          "Fujian",
          "Gansu",
          "Georgia (State)",
          "Goa",
          "Gorno Altay",
          "Guangdong",
          "Guangxi",
          "Guizhou",
          "Gujarat",
          "Hainan",
          "Haryana",
          "Hawaii",
          "Hebei",
          "Heilongjiang",
          "Henan",
          "Himachal Pradesh",
          "Hubei",
          "Hunan",
          "Idaho",
          "Illinois",
          "Indiana",
          "Ingush",
          "Iowa",
          "Irkutsk",
          "Ivanovo",
          "Jammu And Kashmir",
          "Jharkhand",
          "Jiangsu",
          "Jiangxi",
          "Jilin",
          "Kabardin Balkar",
          "Kaliningrad",
          "Kalmyk",
          "Kaluga",
          "Kamchatka",
          "Kansas",
          "Karachay Cherkess",
          "Karelia",
          "Karnataka",
          "Kemerovo",
          "Kentucky",
          "Kerala",
          "Khabarovsk",
          "Khakass",
          "Khanty Mansiy",
          "Kirov",
          "Komi",
          "Komi Permyak",
          "Koryak",
          "Kostroma",
          "Krasnodar",
          "Krasnoyarsk",
          "Kurgan",
          "Kursk",
          "Leningrad",
          "Liaoning",
          "Lipetsk",
          "Louisiana",
          "Madhya Pradesh",
          "Maga Buryatdan",
          "Maharashtra",
          "Maine",
          "Manipur",
          "Manitoba",
          "Mariy El",
          "Maryland",
          "Massachusetts",
          "Mato Grosso",
          "Mato Grosso Do Sul",
          "Meghalaya",
          "Michigan",
          "Minas Gerais",
          "Minnesota",
          "Mississippi",
          "Missouri",
          "Mizoram",
          "Montana",
          "Mordovia",
          "Moscow City",
          "Moskva",
          "Murmansk",
          "Nagaland",
          "Nebraska",
          "Nei Mongol",
          "Nenets",
          "Nevada",
          "New Brunswick",
          "New Hampshire",
          "New Jersey",
          "New Mexico",
          "New South Wales",
          "New York",
          "Newfoundland And Labrador",
          "Ningxia Hui",
          "Nizhegorod",
          "North Carolina",
          "North Dakota",
          "North Ossetia",
          "Northern Territory",
          "Northwest Territories",
          "Nova Scotia",
          "Novgorod",
          "Novosibirsk",
          "Nunavut",
          "Ohio",
          "Oklahoma",
          "Omsk",
          "Ontario",
          "Oregon",
          "Orel",
          "Orenburg",
          "Orissa",
          "Pennsylvania",
          "Penza",
          "Perm'",
          "Pernambuco",
          "Primor'Ye",
          "Prince Edward Island",
          "Pskov",
          "Puducherry",
          "Punjab",
          "Qinghai",
          "Queensland",
          "Rajasthan",
          "Rhode Island",
          "Rio De Janeiro",
          "Rio Grande Do Norte",
          "Rio Grande Do Sul",
          "Roraima",
          "Rostov",
          "Ryazan'",
          "Sakha",
          "Sakhalin",
          "Samara",
          "Santa Catarina",
          "Saratov",
          "Saskatchewan",
          "Sergipe",
          "Shaanxi",
          "Shandong",
          "Shanghai",
          "Shanxi",
          "Sichuan",
          "Sikkim",
          "Smolensk",
          "South Australia",
          "South Carolina",
          "South Dakota",
          "Stavropol'",
          "Sverdlovsk",
          "Tambov",
          "Tamil Nadu",
          "Tasmania",
          "Tatarstan",
          "Taymyr",
          "Tennessee",
          "Texas",
          "Tianjin",
          "Tocantins",
          "Tomsk",
          "Tripura",
          "Tula",
          "Tuva",
          "Tver'",
          "Tyumen'",
          "Udmurt",
          "Ul'Yanovsk",
          "Ust Orda Buryat",
          "Utah",
          "Uttar Pradesh",
          "Uttaranchal",
          "Vermont",
          "Victoria",
          "Virginia",
          "Vladimir",
          "Volgograd",
          "Vologda",
          "Voronezh",
          "Washington",
          "West Bengal",
          "West Virginia",
          "Western Australia",
          "Wisconsin",
          "Wyoming",
          "Xinjiang Uygur",
          "Xizang",
          "Yamal Nenets",
          "Yaroslavl'",
          "Yevrey",
          "Yukon",
          "Yunnan",
          "Zhejiang"
         ],
         "text": [
          0,
          "Acre",
          "Adygey",
          "Aga Buryat",
          "Alabama",
          "Alagoas",
          "Alaska",
          "Alberta",
          "Altay",
          "Amazonas",
          "Amur",
          "Andaman And Nicobar",
          "Andhra Pradesh",
          "Anhui",
          "Arizona",
          "Arkansas",
          "Arkhangel'Sk",
          "Arunachal Pradesh",
          "Assam",
          "Astrakhan'",
          "Australian Capital Territory",
          "Bahia",
          "Bashkortostan",
          "Beijing",
          "Belgorod",
          "Bihar",
          "British Columbia",
          "Bryansk",
          "Buryat",
          "California",
          "Chandigarh",
          "Chechnya",
          "Chelyabinsk",
          "Chhattisgarh",
          "Chita",
          "Chongqing",
          "Chukot",
          "Chuvash",
          "City Of St. Petersburg",
          "Colorado",
          "Connecticut",
          "Dadra And Nagar Haveli",
          "Dagestan",
          "Daman And Diu",
          "Delaware",
          "Delhi",
          "District Of Columbia",
          "Distrito Federal",
          "Evenk",
          "Florida",
          "Fujian",
          "Gansu",
          "Georgia (State)",
          "Goa",
          "Gorno Altay",
          "Guangdong",
          "Guangxi",
          "Guizhou",
          "Gujarat",
          "Hainan",
          "Haryana",
          "Hawaii",
          "Hebei",
          "Heilongjiang",
          "Henan",
          "Himachal Pradesh",
          "Hubei",
          "Hunan",
          "Idaho",
          "Illinois",
          "Indiana",
          "Ingush",
          "Iowa",
          "Irkutsk",
          "Ivanovo",
          "Jammu And Kashmir",
          "Jharkhand",
          "Jiangsu",
          "Jiangxi",
          "Jilin",
          "Kabardin Balkar",
          "Kaliningrad",
          "Kalmyk",
          "Kaluga",
          "Kamchatka",
          "Kansas",
          "Karachay Cherkess",
          "Karelia",
          "Karnataka",
          "Kemerovo",
          "Kentucky",
          "Kerala",
          "Khabarovsk",
          "Khakass",
          "Khanty Mansiy",
          "Kirov",
          "Komi",
          "Komi Permyak",
          "Koryak",
          "Kostroma",
          "Krasnodar",
          "Krasnoyarsk",
          "Kurgan",
          "Kursk",
          "Leningrad",
          "Liaoning",
          "Lipetsk",
          "Louisiana",
          "Madhya Pradesh",
          "Maga Buryatdan",
          "Maharashtra",
          "Maine",
          "Manipur",
          "Manitoba",
          "Mariy El",
          "Maryland",
          "Massachusetts",
          "Mato Grosso",
          "Mato Grosso Do Sul",
          "Meghalaya",
          "Michigan",
          "Minas Gerais",
          "Minnesota",
          "Mississippi",
          "Missouri",
          "Mizoram",
          "Montana",
          "Mordovia",
          "Moscow City",
          "Moskva",
          "Murmansk",
          "Nagaland",
          "Nebraska",
          "Nei Mongol",
          "Nenets",
          "Nevada",
          "New Brunswick",
          "New Hampshire",
          "New Jersey",
          "New Mexico",
          "New South Wales",
          "New York",
          "Newfoundland And Labrador",
          "Ningxia Hui",
          "Nizhegorod",
          "North Carolina",
          "North Dakota",
          "North Ossetia",
          "Northern Territory",
          "Northwest Territories",
          "Nova Scotia",
          "Novgorod",
          "Novosibirsk",
          "Nunavut",
          "Ohio",
          "Oklahoma",
          "Omsk",
          "Ontario",
          "Oregon",
          "Orel",
          "Orenburg",
          "Orissa",
          "Pennsylvania",
          "Penza",
          "Perm'",
          "Pernambuco",
          "Primor'Ye",
          "Prince Edward Island",
          "Pskov",
          "Puducherry",
          "Punjab",
          "Qinghai",
          "Queensland",
          "Rajasthan",
          "Rhode Island",
          "Rio De Janeiro",
          "Rio Grande Do Norte",
          "Rio Grande Do Sul",
          "Roraima",
          "Rostov",
          "Ryazan'",
          "Sakha",
          "Sakhalin",
          "Samara",
          "Santa Catarina",
          "Saratov",
          "Saskatchewan",
          "Sergipe",
          "Shaanxi",
          "Shandong",
          "Shanghai",
          "Shanxi",
          "Sichuan",
          "Sikkim",
          "Smolensk",
          "South Australia",
          "South Carolina",
          "South Dakota",
          "Stavropol'",
          "Sverdlovsk",
          "Tambov",
          "Tamil Nadu",
          "Tasmania",
          "Tatarstan",
          "Taymyr",
          "Tennessee",
          "Texas",
          "Tianjin",
          "Tocantins",
          "Tomsk",
          "Tripura",
          "Tula",
          "Tuva",
          "Tver'",
          "Tyumen'",
          "Udmurt",
          "Ul'Yanovsk",
          "Ust Orda Buryat",
          "Utah",
          "Uttar Pradesh",
          "Uttaranchal",
          "Vermont",
          "Victoria",
          "Virginia",
          "Vladimir",
          "Volgograd",
          "Vologda",
          "Voronezh",
          "Washington",
          "West Bengal",
          "West Virginia",
          "Western Australia",
          "Wisconsin",
          "Wyoming",
          "Xinjiang Uygur",
          "Xizang",
          "Yamal Nenets",
          "Yaroslavl'",
          "Yevrey",
          "Yukon",
          "Yunnan",
          "Zhejiang"
         ],
         "type": "choropleth",
         "z": [
          16.470375061035156,
          21.866878509521484,
          9.54825496673584,
          -2.4211556911468506,
          16.433881759643555,
          23.718481063842773,
          -4.7239789962768555,
          -0.1909976452589035,
          1.1382609605789185,
          25.925756454467773,
          -5.303345203399658,
          26.387483596801758,
          26.001447677612305,
          15.281292915344238,
          15.374353408813477,
          14.77164077758789,
          -2.0431790351867676,
          12.92287540435791,
          20.46393585205078,
          8.759231567382812,
          11.548455238342285,
          23.09310531616211,
          1.7285454273223877,
          9.011510848999023,
          6.046865940093994,
          23.45608901977539,
          0.12699207663536072,
          5.3358845710754395,
          -6.320683002471924,
          14.327669143676758,
          11.65462875366211,
          7.721401691436768,
          1.3933463096618652,
          24.560760498046875,
          -5.957724094390869,
          15.796045303344727,
          -9.491321563720703,
          3.2583706378936768,
          3.8207952976226807,
          6.928355693817139,
          8.685895919799805,
          23.966562271118164,
          9.090038299560547,
          24.976890563964844,
          11.454536437988281,
          23.05666732788086,
          11.476907730102539,
          20.931718826293945,
          -10.601269721984863,
          20.532390594482422,
          18.62613868713379,
          5.3032002449035645,
          16.87771224975586,
          24.720966339111328,
          -4.365878582000732,
          21.06975555419922,
          20.06519317626953,
          15.320091247558594,
          24.39417839050293,
          24.33152961730957,
          22.205520629882812,
          22.41067123413086,
          9.083561897277832,
          0.8173486590385437,
          13.90327262878418,
          7.924017429351807,
          15.532089233398438,
          16.684162139892578,
          5.2763519287109375,
          10.537348747253418,
          10.472050666809082,
          6.911346912384033,
          8.386154174804688,
          -5.616384983062744,
          3.218278169631958,
          2.8256802558898926,
          23.879884719848633,
          14.784439086914062,
          17.48194694519043,
          3.9826343059539795,
          7.145712852478027,
          6.410004138946533,
          9.262542724609375,
          4.2927045822143555,
          -2.102283239364624,
          10.266965866088867,
          8.365118980407715,
          0.9790146946907043,
          24.592655181884766,
          -0.514313817024231,
          12.470992088317871,
          25.020244598388672,
          -6.250838279724121,
          -2.45395565032959,
          -3.0775444507598877,
          1.403755784034729,
          -2.3720993995666504,
          0.4711569547653198,
          -5.466052532196045,
          2.082425117492676,
          9.978498458862305,
          -4.1964111328125,
          1.2763078212738037,
          5.412142753601074,
          3.145940065383911,
          7.380736351013184,
          4.788506984710693,
          15.636138916015625,
          24.227502822875977,
          -11.1674222946167,
          24.891273498535156,
          4.1887898445129395,
          19.971416473388672,
          -2.4962213039398193,
          2.576988697052002,
          11.688161849975586,
          7.342731952667236,
          24.53664207458496,
          22.65968894958496,
          22.567962646484375,
          6.357154369354248,
          21.023508071899414,
          4.337477684020996,
          16.633968353271484,
          11.84533977508545,
          22.574787139892578,
          4.245545387268066,
          3.6539833545684814,
          3.90956449508667,
          3.8817689418792725,
          -1.1997567415237427,
          20.063045501708984,
          7.676812648773193,
          3.1925604343414307,
          -4.587487697601318,
          9.554084777832031,
          3.55182147026062,
          5.404387950897217,
          10.232220649719238,
          11.806081771850586,
          17.18144416809082,
          6.917479515075684,
          -1.8011947870254517,
          7.607205390930176,
          3.1661133766174316,
          14.232657432556152,
          3.55014705657959,
          6.146478176116943,
          24.46236228942871,
          -8.027894020080566,
          5.420184135437012,
          3.5127997398376465,
          0.03691590204834938,
          -10.841459274291992,
          9.937812805175781,
          12.59514331817627,
          -0.014505858533084393,
          -0.06752211600542068,
          7.993642807006836,
          4.816109657287598,
          2.9282569885253906,
          25.123868942260742,
          8.772542953491211,
          3.971856117248535,
          0.08333521336317062,
          24.30185317993164,
          1.641576886177063,
          4.732821464538574,
          4.363493919372559,
          26.17119598388672,
          20.50321388244629,
          -1.9760934114456177,
          23.00498390197754,
          23.618404388427734,
          8.640671730041504,
          21.08106803894043,
          21.244022369384766,
          18.0064754486084,
          23.52724266052246,
          8.07606315612793,
          4.074089527130127,
          -12.854007720947266,
          -0.21243728697299957,
          3.4896562099456787,
          17.633224487304688,
          4.779493808746338,
          -0.5889912247657776,
          24.381175994873047,
          9.975052833557129,
          12.84607982635498,
          15.826462745666504,
          8.692878723144531,
          7.5585246086120605,
          2.992431163787842,
          4.308579921722412,
          19.115434646606445,
          16.40362548828125,
          5.915061950683594,
          9.238513946533203,
          0.10932043194770813,
          4.6096391677856445,
          25.596195220947266,
          10.830121994018555,
          2.696880578994751,
          -13.66263198852539,
          13.53553581237793,
          18.107254028320312,
          11.281293869018555,
          25.597787857055664,
          -1.6416338682174683,
          23.982772827148438,
          4.233706474304199,
          -6.683128356933594,
          3.5109152793884277,
          -0.15313686430454254,
          1.6288396120071411,
          3.407327890396118,
          -3.1730990409851074,
          8.128329277038574,
          23.12689208984375,
          13.389228820800781,
          5.198159694671631,
          13.972928047180176,
          12.330387115478516,
          3.697343349456787,
          6.566132545471191,
          1.7099100351333618,
          5.839251518249512,
          7.4819416999816895,
          24.095741271972656,
          10.54457950592041,
          20.730737686157227,
          5.766754627227783,
          4.290998935699463,
          5.049368858337402,
          -2.531752347946167,
          -7.629141807556152,
          2.8149452209472656,
          -0.07505204528570175,
          -7.159067153930664,
          14.694915771484375,
          16.384851455688477
         ]
        }
       ],
       "layout": {
        "template": {
         "data": {
          "bar": [
           {
            "error_x": {
             "color": "#2a3f5f"
            },
            "error_y": {
             "color": "#2a3f5f"
            },
            "marker": {
             "line": {
              "color": "#E5ECF6",
              "width": 0.5
             },
             "pattern": {
              "fillmode": "overlay",
              "size": 10,
              "solidity": 0.2
             }
            },
            "type": "bar"
           }
          ],
          "barpolar": [
           {
            "marker": {
             "line": {
              "color": "#E5ECF6",
              "width": 0.5
             },
             "pattern": {
              "fillmode": "overlay",
              "size": 10,
              "solidity": 0.2
             }
            },
            "type": "barpolar"
           }
          ],
          "carpet": [
           {
            "aaxis": {
             "endlinecolor": "#2a3f5f",
             "gridcolor": "white",
             "linecolor": "white",
             "minorgridcolor": "white",
             "startlinecolor": "#2a3f5f"
            },
            "baxis": {
             "endlinecolor": "#2a3f5f",
             "gridcolor": "white",
             "linecolor": "white",
             "minorgridcolor": "white",
             "startlinecolor": "#2a3f5f"
            },
            "type": "carpet"
           }
          ],
          "choropleth": [
           {
            "colorbar": {
             "outlinewidth": 0,
             "ticks": ""
            },
            "type": "choropleth"
           }
          ],
          "contour": [
           {
            "colorbar": {
             "outlinewidth": 0,
             "ticks": ""
            },
            "colorscale": [
             [
              0,
              "#0d0887"
             ],
             [
              0.1111111111111111,
              "#46039f"
             ],
             [
              0.2222222222222222,
              "#7201a8"
             ],
             [
              0.3333333333333333,
              "#9c179e"
             ],
             [
              0.4444444444444444,
              "#bd3786"
             ],
             [
              0.5555555555555556,
              "#d8576b"
             ],
             [
              0.6666666666666666,
              "#ed7953"
             ],
             [
              0.7777777777777778,
              "#fb9f3a"
             ],
             [
              0.8888888888888888,
              "#fdca26"
             ],
             [
              1,
              "#f0f921"
             ]
            ],
            "type": "contour"
           }
          ],
          "contourcarpet": [
           {
            "colorbar": {
             "outlinewidth": 0,
             "ticks": ""
            },
            "type": "contourcarpet"
           }
          ],
          "heatmap": [
           {
            "colorbar": {
             "outlinewidth": 0,
             "ticks": ""
            },
            "colorscale": [
             [
              0,
              "#0d0887"
             ],
             [
              0.1111111111111111,
              "#46039f"
             ],
             [
              0.2222222222222222,
              "#7201a8"
             ],
             [
              0.3333333333333333,
              "#9c179e"
             ],
             [
              0.4444444444444444,
              "#bd3786"
             ],
             [
              0.5555555555555556,
              "#d8576b"
             ],
             [
              0.6666666666666666,
              "#ed7953"
             ],
             [
              0.7777777777777778,
              "#fb9f3a"
             ],
             [
              0.8888888888888888,
              "#fdca26"
             ],
             [
              1,
              "#f0f921"
             ]
            ],
            "type": "heatmap"
           }
          ],
          "heatmapgl": [
           {
            "colorbar": {
             "outlinewidth": 0,
             "ticks": ""
            },
            "colorscale": [
             [
              0,
              "#0d0887"
             ],
             [
              0.1111111111111111,
              "#46039f"
             ],
             [
              0.2222222222222222,
              "#7201a8"
             ],
             [
              0.3333333333333333,
              "#9c179e"
             ],
             [
              0.4444444444444444,
              "#bd3786"
             ],
             [
              0.5555555555555556,
              "#d8576b"
             ],
             [
              0.6666666666666666,
              "#ed7953"
             ],
             [
              0.7777777777777778,
              "#fb9f3a"
             ],
             [
              0.8888888888888888,
              "#fdca26"
             ],
             [
              1,
              "#f0f921"
             ]
            ],
            "type": "heatmapgl"
           }
          ],
          "histogram": [
           {
            "marker": {
             "pattern": {
              "fillmode": "overlay",
              "size": 10,
              "solidity": 0.2
             }
            },
            "type": "histogram"
           }
          ],
          "histogram2d": [
           {
            "colorbar": {
             "outlinewidth": 0,
             "ticks": ""
            },
            "colorscale": [
             [
              0,
              "#0d0887"
             ],
             [
              0.1111111111111111,
              "#46039f"
             ],
             [
              0.2222222222222222,
              "#7201a8"
             ],
             [
              0.3333333333333333,
              "#9c179e"
             ],
             [
              0.4444444444444444,
              "#bd3786"
             ],
             [
              0.5555555555555556,
              "#d8576b"
             ],
             [
              0.6666666666666666,
              "#ed7953"
             ],
             [
              0.7777777777777778,
              "#fb9f3a"
             ],
             [
              0.8888888888888888,
              "#fdca26"
             ],
             [
              1,
              "#f0f921"
             ]
            ],
            "type": "histogram2d"
           }
          ],
          "histogram2dcontour": [
           {
            "colorbar": {
             "outlinewidth": 0,
             "ticks": ""
            },
            "colorscale": [
             [
              0,
              "#0d0887"
             ],
             [
              0.1111111111111111,
              "#46039f"
             ],
             [
              0.2222222222222222,
              "#7201a8"
             ],
             [
              0.3333333333333333,
              "#9c179e"
             ],
             [
              0.4444444444444444,
              "#bd3786"
             ],
             [
              0.5555555555555556,
              "#d8576b"
             ],
             [
              0.6666666666666666,
              "#ed7953"
             ],
             [
              0.7777777777777778,
              "#fb9f3a"
             ],
             [
              0.8888888888888888,
              "#fdca26"
             ],
             [
              1,
              "#f0f921"
             ]
            ],
            "type": "histogram2dcontour"
           }
          ],
          "mesh3d": [
           {
            "colorbar": {
             "outlinewidth": 0,
             "ticks": ""
            },
            "type": "mesh3d"
           }
          ],
          "parcoords": [
           {
            "line": {
             "colorbar": {
              "outlinewidth": 0,
              "ticks": ""
             }
            },
            "type": "parcoords"
           }
          ],
          "pie": [
           {
            "automargin": true,
            "type": "pie"
           }
          ],
          "scatter": [
           {
            "marker": {
             "colorbar": {
              "outlinewidth": 0,
              "ticks": ""
             }
            },
            "type": "scatter"
           }
          ],
          "scatter3d": [
           {
            "line": {
             "colorbar": {
              "outlinewidth": 0,
              "ticks": ""
             }
            },
            "marker": {
             "colorbar": {
              "outlinewidth": 0,
              "ticks": ""
             }
            },
            "type": "scatter3d"
           }
          ],
          "scattercarpet": [
           {
            "marker": {
             "colorbar": {
              "outlinewidth": 0,
              "ticks": ""
             }
            },
            "type": "scattercarpet"
           }
          ],
          "scattergeo": [
           {
            "marker": {
             "colorbar": {
              "outlinewidth": 0,
              "ticks": ""
             }
            },
            "type": "scattergeo"
           }
          ],
          "scattergl": [
           {
            "marker": {
             "colorbar": {
              "outlinewidth": 0,
              "ticks": ""
             }
            },
            "type": "scattergl"
           }
          ],
          "scattermapbox": [
           {
            "marker": {
             "colorbar": {
              "outlinewidth": 0,
              "ticks": ""
             }
            },
            "type": "scattermapbox"
           }
          ],
          "scatterpolar": [
           {
            "marker": {
             "colorbar": {
              "outlinewidth": 0,
              "ticks": ""
             }
            },
            "type": "scatterpolar"
           }
          ],
          "scatterpolargl": [
           {
            "marker": {
             "colorbar": {
              "outlinewidth": 0,
              "ticks": ""
             }
            },
            "type": "scatterpolargl"
           }
          ],
          "scatterternary": [
           {
            "marker": {
             "colorbar": {
              "outlinewidth": 0,
              "ticks": ""
             }
            },
            "type": "scatterternary"
           }
          ],
          "surface": [
           {
            "colorbar": {
             "outlinewidth": 0,
             "ticks": ""
            },
            "colorscale": [
             [
              0,
              "#0d0887"
             ],
             [
              0.1111111111111111,
              "#46039f"
             ],
             [
              0.2222222222222222,
              "#7201a8"
             ],
             [
              0.3333333333333333,
              "#9c179e"
             ],
             [
              0.4444444444444444,
              "#bd3786"
             ],
             [
              0.5555555555555556,
              "#d8576b"
             ],
             [
              0.6666666666666666,
              "#ed7953"
             ],
             [
              0.7777777777777778,
              "#fb9f3a"
             ],
             [
              0.8888888888888888,
              "#fdca26"
             ],
             [
              1,
              "#f0f921"
             ]
            ],
            "type": "surface"
           }
          ],
          "table": [
           {
            "cells": {
             "fill": {
              "color": "#EBF0F8"
             },
             "line": {
              "color": "white"
             }
            },
            "header": {
             "fill": {
              "color": "#C8D4E3"
             },
             "line": {
              "color": "white"
             }
            },
            "type": "table"
           }
          ]
         },
         "layout": {
          "annotationdefaults": {
           "arrowcolor": "#2a3f5f",
           "arrowhead": 0,
           "arrowwidth": 1
          },
          "autotypenumbers": "strict",
          "coloraxis": {
           "colorbar": {
            "outlinewidth": 0,
            "ticks": ""
           }
          },
          "colorscale": {
           "diverging": [
            [
             0,
             "#8e0152"
            ],
            [
             0.1,
             "#c51b7d"
            ],
            [
             0.2,
             "#de77ae"
            ],
            [
             0.3,
             "#f1b6da"
            ],
            [
             0.4,
             "#fde0ef"
            ],
            [
             0.5,
             "#f7f7f7"
            ],
            [
             0.6,
             "#e6f5d0"
            ],
            [
             0.7,
             "#b8e186"
            ],
            [
             0.8,
             "#7fbc41"
            ],
            [
             0.9,
             "#4d9221"
            ],
            [
             1,
             "#276419"
            ]
           ],
           "sequential": [
            [
             0,
             "#0d0887"
            ],
            [
             0.1111111111111111,
             "#46039f"
            ],
            [
             0.2222222222222222,
             "#7201a8"
            ],
            [
             0.3333333333333333,
             "#9c179e"
            ],
            [
             0.4444444444444444,
             "#bd3786"
            ],
            [
             0.5555555555555556,
             "#d8576b"
            ],
            [
             0.6666666666666666,
             "#ed7953"
            ],
            [
             0.7777777777777778,
             "#fb9f3a"
            ],
            [
             0.8888888888888888,
             "#fdca26"
            ],
            [
             1,
             "#f0f921"
            ]
           ],
           "sequentialminus": [
            [
             0,
             "#0d0887"
            ],
            [
             0.1111111111111111,
             "#46039f"
            ],
            [
             0.2222222222222222,
             "#7201a8"
            ],
            [
             0.3333333333333333,
             "#9c179e"
            ],
            [
             0.4444444444444444,
             "#bd3786"
            ],
            [
             0.5555555555555556,
             "#d8576b"
            ],
            [
             0.6666666666666666,
             "#ed7953"
            ],
            [
             0.7777777777777778,
             "#fb9f3a"
            ],
            [
             0.8888888888888888,
             "#fdca26"
            ],
            [
             1,
             "#f0f921"
            ]
           ]
          },
          "colorway": [
           "#636efa",
           "#EF553B",
           "#00cc96",
           "#ab63fa",
           "#FFA15A",
           "#19d3f3",
           "#FF6692",
           "#B6E880",
           "#FF97FF",
           "#FECB52"
          ],
          "font": {
           "color": "#2a3f5f"
          },
          "geo": {
           "bgcolor": "white",
           "lakecolor": "white",
           "landcolor": "#E5ECF6",
           "showlakes": true,
           "showland": true,
           "subunitcolor": "white"
          },
          "hoverlabel": {
           "align": "left"
          },
          "hovermode": "closest",
          "mapbox": {
           "style": "light"
          },
          "paper_bgcolor": "white",
          "plot_bgcolor": "#E5ECF6",
          "polar": {
           "angularaxis": {
            "gridcolor": "white",
            "linecolor": "white",
            "ticks": ""
           },
           "bgcolor": "#E5ECF6",
           "radialaxis": {
            "gridcolor": "white",
            "linecolor": "white",
            "ticks": ""
           }
          },
          "scene": {
           "xaxis": {
            "backgroundcolor": "#E5ECF6",
            "gridcolor": "white",
            "gridwidth": 2,
            "linecolor": "white",
            "showbackground": true,
            "ticks": "",
            "zerolinecolor": "white"
           },
           "yaxis": {
            "backgroundcolor": "#E5ECF6",
            "gridcolor": "white",
            "gridwidth": 2,
            "linecolor": "white",
            "showbackground": true,
            "ticks": "",
            "zerolinecolor": "white"
           },
           "zaxis": {
            "backgroundcolor": "#E5ECF6",
            "gridcolor": "white",
            "gridwidth": 2,
            "linecolor": "white",
            "showbackground": true,
            "ticks": "",
            "zerolinecolor": "white"
           }
          },
          "shapedefaults": {
           "line": {
            "color": "#2a3f5f"
           }
          },
          "ternary": {
           "aaxis": {
            "gridcolor": "white",
            "linecolor": "white",
            "ticks": ""
           },
           "baxis": {
            "gridcolor": "white",
            "linecolor": "white",
            "ticks": ""
           },
           "bgcolor": "#E5ECF6",
           "caxis": {
            "gridcolor": "white",
            "linecolor": "white",
            "ticks": ""
           }
          },
          "title": {
           "x": 0.05
          },
          "xaxis": {
           "automargin": true,
           "gridcolor": "white",
           "linecolor": "white",
           "ticks": "",
           "title": {
            "standoff": 15
           },
           "zerolinecolor": "white",
           "zerolinewidth": 2
          },
          "yaxis": {
           "automargin": true,
           "gridcolor": "white",
           "linecolor": "white",
           "ticks": "",
           "title": {
            "standoff": 15
           },
           "zerolinecolor": "white",
           "zerolinewidth": 2
          }
         }
        },
        "title": {
         "text": "Average land temperature in states"
        }
       }
      },
      "text/html": [
       "<div>                            <div id=\"a46b1f3b-0387-4fea-b6a4-5019b34e5616\" class=\"plotly-graph-div\" style=\"height:525px; width:100%;\"></div>            <script type=\"text/javascript\">                require([\"plotly\"], function(Plotly) {                    window.PLOTLYENV=window.PLOTLYENV || {};                                    if (document.getElementById(\"a46b1f3b-0387-4fea-b6a4-5019b34e5616\")) {                    Plotly.newPlot(                        \"a46b1f3b-0387-4fea-b6a4-5019b34e5616\",                        [{\"colorbar\":{\"title\":{\"text\":\"Average Temp\"}},\"colorscale\":[[0.0,\"rgb(5,48,97)\"],[0.1,\"rgb(33,102,172)\"],[0.2,\"rgb(67,147,195)\"],[0.3,\"rgb(146,197,222)\"],[0.4,\"rgb(209,229,240)\"],[0.5,\"rgb(247,247,247)\"],[0.6,\"rgb(253,219,199)\"],[0.7,\"rgb(244,165,130)\"],[0.8,\"rgb(214,96,77)\"],[0.9,\"rgb(178,24,43)\"],[1.0,\"rgb(103,0,31)\"]],\"locationmode\":\"country names\",\"locations\":[0,\"Acre\",\"Adygey\",\"Aga Buryat\",\"Alabama\",\"Alagoas\",\"Alaska\",\"Alberta\",\"Altay\",\"Amazonas\",\"Amur\",\"Andaman And Nicobar\",\"Andhra Pradesh\",\"Anhui\",\"Arizona\",\"Arkansas\",\"Arkhangel'Sk\",\"Arunachal Pradesh\",\"Assam\",\"Astrakhan'\",\"Australian Capital Territory\",\"Bahia\",\"Bashkortostan\",\"Beijing\",\"Belgorod\",\"Bihar\",\"British Columbia\",\"Bryansk\",\"Buryat\",\"California\",\"Chandigarh\",\"Chechnya\",\"Chelyabinsk\",\"Chhattisgarh\",\"Chita\",\"Chongqing\",\"Chukot\",\"Chuvash\",\"City Of St. Petersburg\",\"Colorado\",\"Connecticut\",\"Dadra And Nagar Haveli\",\"Dagestan\",\"Daman And Diu\",\"Delaware\",\"Delhi\",\"District Of Columbia\",\"Distrito Federal\",\"Evenk\",\"Florida\",\"Fujian\",\"Gansu\",\"Georgia (State)\",\"Goa\",\"Gorno Altay\",\"Guangdong\",\"Guangxi\",\"Guizhou\",\"Gujarat\",\"Hainan\",\"Haryana\",\"Hawaii\",\"Hebei\",\"Heilongjiang\",\"Henan\",\"Himachal Pradesh\",\"Hubei\",\"Hunan\",\"Idaho\",\"Illinois\",\"Indiana\",\"Ingush\",\"Iowa\",\"Irkutsk\",\"Ivanovo\",\"Jammu And Kashmir\",\"Jharkhand\",\"Jiangsu\",\"Jiangxi\",\"Jilin\",\"Kabardin Balkar\",\"Kaliningrad\",\"Kalmyk\",\"Kaluga\",\"Kamchatka\",\"Kansas\",\"Karachay Cherkess\",\"Karelia\",\"Karnataka\",\"Kemerovo\",\"Kentucky\",\"Kerala\",\"Khabarovsk\",\"Khakass\",\"Khanty Mansiy\",\"Kirov\",\"Komi\",\"Komi Permyak\",\"Koryak\",\"Kostroma\",\"Krasnodar\",\"Krasnoyarsk\",\"Kurgan\",\"Kursk\",\"Leningrad\",\"Liaoning\",\"Lipetsk\",\"Louisiana\",\"Madhya Pradesh\",\"Maga Buryatdan\",\"Maharashtra\",\"Maine\",\"Manipur\",\"Manitoba\",\"Mariy El\",\"Maryland\",\"Massachusetts\",\"Mato Grosso\",\"Mato Grosso Do Sul\",\"Meghalaya\",\"Michigan\",\"Minas Gerais\",\"Minnesota\",\"Mississippi\",\"Missouri\",\"Mizoram\",\"Montana\",\"Mordovia\",\"Moscow City\",\"Moskva\",\"Murmansk\",\"Nagaland\",\"Nebraska\",\"Nei Mongol\",\"Nenets\",\"Nevada\",\"New Brunswick\",\"New Hampshire\",\"New Jersey\",\"New Mexico\",\"New South Wales\",\"New York\",\"Newfoundland And Labrador\",\"Ningxia Hui\",\"Nizhegorod\",\"North Carolina\",\"North Dakota\",\"North Ossetia\",\"Northern Territory\",\"Northwest Territories\",\"Nova Scotia\",\"Novgorod\",\"Novosibirsk\",\"Nunavut\",\"Ohio\",\"Oklahoma\",\"Omsk\",\"Ontario\",\"Oregon\",\"Orel\",\"Orenburg\",\"Orissa\",\"Pennsylvania\",\"Penza\",\"Perm'\",\"Pernambuco\",\"Primor'Ye\",\"Prince Edward Island\",\"Pskov\",\"Puducherry\",\"Punjab\",\"Qinghai\",\"Queensland\",\"Rajasthan\",\"Rhode Island\",\"Rio De Janeiro\",\"Rio Grande Do Norte\",\"Rio Grande Do Sul\",\"Roraima\",\"Rostov\",\"Ryazan'\",\"Sakha\",\"Sakhalin\",\"Samara\",\"Santa Catarina\",\"Saratov\",\"Saskatchewan\",\"Sergipe\",\"Shaanxi\",\"Shandong\",\"Shanghai\",\"Shanxi\",\"Sichuan\",\"Sikkim\",\"Smolensk\",\"South Australia\",\"South Carolina\",\"South Dakota\",\"Stavropol'\",\"Sverdlovsk\",\"Tambov\",\"Tamil Nadu\",\"Tasmania\",\"Tatarstan\",\"Taymyr\",\"Tennessee\",\"Texas\",\"Tianjin\",\"Tocantins\",\"Tomsk\",\"Tripura\",\"Tula\",\"Tuva\",\"Tver'\",\"Tyumen'\",\"Udmurt\",\"Ul'Yanovsk\",\"Ust Orda Buryat\",\"Utah\",\"Uttar Pradesh\",\"Uttaranchal\",\"Vermont\",\"Victoria\",\"Virginia\",\"Vladimir\",\"Volgograd\",\"Vologda\",\"Voronezh\",\"Washington\",\"West Bengal\",\"West Virginia\",\"Western Australia\",\"Wisconsin\",\"Wyoming\",\"Xinjiang Uygur\",\"Xizang\",\"Yamal Nenets\",\"Yaroslavl'\",\"Yevrey\",\"Yukon\",\"Yunnan\",\"Zhejiang\"],\"text\":[0,\"Acre\",\"Adygey\",\"Aga Buryat\",\"Alabama\",\"Alagoas\",\"Alaska\",\"Alberta\",\"Altay\",\"Amazonas\",\"Amur\",\"Andaman And Nicobar\",\"Andhra Pradesh\",\"Anhui\",\"Arizona\",\"Arkansas\",\"Arkhangel'Sk\",\"Arunachal Pradesh\",\"Assam\",\"Astrakhan'\",\"Australian Capital Territory\",\"Bahia\",\"Bashkortostan\",\"Beijing\",\"Belgorod\",\"Bihar\",\"British Columbia\",\"Bryansk\",\"Buryat\",\"California\",\"Chandigarh\",\"Chechnya\",\"Chelyabinsk\",\"Chhattisgarh\",\"Chita\",\"Chongqing\",\"Chukot\",\"Chuvash\",\"City Of St. Petersburg\",\"Colorado\",\"Connecticut\",\"Dadra And Nagar Haveli\",\"Dagestan\",\"Daman And Diu\",\"Delaware\",\"Delhi\",\"District Of Columbia\",\"Distrito Federal\",\"Evenk\",\"Florida\",\"Fujian\",\"Gansu\",\"Georgia (State)\",\"Goa\",\"Gorno Altay\",\"Guangdong\",\"Guangxi\",\"Guizhou\",\"Gujarat\",\"Hainan\",\"Haryana\",\"Hawaii\",\"Hebei\",\"Heilongjiang\",\"Henan\",\"Himachal Pradesh\",\"Hubei\",\"Hunan\",\"Idaho\",\"Illinois\",\"Indiana\",\"Ingush\",\"Iowa\",\"Irkutsk\",\"Ivanovo\",\"Jammu And Kashmir\",\"Jharkhand\",\"Jiangsu\",\"Jiangxi\",\"Jilin\",\"Kabardin Balkar\",\"Kaliningrad\",\"Kalmyk\",\"Kaluga\",\"Kamchatka\",\"Kansas\",\"Karachay Cherkess\",\"Karelia\",\"Karnataka\",\"Kemerovo\",\"Kentucky\",\"Kerala\",\"Khabarovsk\",\"Khakass\",\"Khanty Mansiy\",\"Kirov\",\"Komi\",\"Komi Permyak\",\"Koryak\",\"Kostroma\",\"Krasnodar\",\"Krasnoyarsk\",\"Kurgan\",\"Kursk\",\"Leningrad\",\"Liaoning\",\"Lipetsk\",\"Louisiana\",\"Madhya Pradesh\",\"Maga Buryatdan\",\"Maharashtra\",\"Maine\",\"Manipur\",\"Manitoba\",\"Mariy El\",\"Maryland\",\"Massachusetts\",\"Mato Grosso\",\"Mato Grosso Do Sul\",\"Meghalaya\",\"Michigan\",\"Minas Gerais\",\"Minnesota\",\"Mississippi\",\"Missouri\",\"Mizoram\",\"Montana\",\"Mordovia\",\"Moscow City\",\"Moskva\",\"Murmansk\",\"Nagaland\",\"Nebraska\",\"Nei Mongol\",\"Nenets\",\"Nevada\",\"New Brunswick\",\"New Hampshire\",\"New Jersey\",\"New Mexico\",\"New South Wales\",\"New York\",\"Newfoundland And Labrador\",\"Ningxia Hui\",\"Nizhegorod\",\"North Carolina\",\"North Dakota\",\"North Ossetia\",\"Northern Territory\",\"Northwest Territories\",\"Nova Scotia\",\"Novgorod\",\"Novosibirsk\",\"Nunavut\",\"Ohio\",\"Oklahoma\",\"Omsk\",\"Ontario\",\"Oregon\",\"Orel\",\"Orenburg\",\"Orissa\",\"Pennsylvania\",\"Penza\",\"Perm'\",\"Pernambuco\",\"Primor'Ye\",\"Prince Edward Island\",\"Pskov\",\"Puducherry\",\"Punjab\",\"Qinghai\",\"Queensland\",\"Rajasthan\",\"Rhode Island\",\"Rio De Janeiro\",\"Rio Grande Do Norte\",\"Rio Grande Do Sul\",\"Roraima\",\"Rostov\",\"Ryazan'\",\"Sakha\",\"Sakhalin\",\"Samara\",\"Santa Catarina\",\"Saratov\",\"Saskatchewan\",\"Sergipe\",\"Shaanxi\",\"Shandong\",\"Shanghai\",\"Shanxi\",\"Sichuan\",\"Sikkim\",\"Smolensk\",\"South Australia\",\"South Carolina\",\"South Dakota\",\"Stavropol'\",\"Sverdlovsk\",\"Tambov\",\"Tamil Nadu\",\"Tasmania\",\"Tatarstan\",\"Taymyr\",\"Tennessee\",\"Texas\",\"Tianjin\",\"Tocantins\",\"Tomsk\",\"Tripura\",\"Tula\",\"Tuva\",\"Tver'\",\"Tyumen'\",\"Udmurt\",\"Ul'Yanovsk\",\"Ust Orda Buryat\",\"Utah\",\"Uttar Pradesh\",\"Uttaranchal\",\"Vermont\",\"Victoria\",\"Virginia\",\"Vladimir\",\"Volgograd\",\"Vologda\",\"Voronezh\",\"Washington\",\"West Bengal\",\"West Virginia\",\"Western Australia\",\"Wisconsin\",\"Wyoming\",\"Xinjiang Uygur\",\"Xizang\",\"Yamal Nenets\",\"Yaroslavl'\",\"Yevrey\",\"Yukon\",\"Yunnan\",\"Zhejiang\"],\"type\":\"choropleth\",\"z\":[16.470375061035156,21.866878509521484,9.54825496673584,-2.4211556911468506,16.433881759643555,23.718481063842773,-4.7239789962768555,-0.1909976452589035,1.1382609605789185,25.925756454467773,-5.303345203399658,26.387483596801758,26.001447677612305,15.281292915344238,15.374353408813477,14.77164077758789,-2.0431790351867676,12.92287540435791,20.46393585205078,8.759231567382812,11.548455238342285,23.09310531616211,1.7285454273223877,9.011510848999023,6.046865940093994,23.45608901977539,0.12699207663536072,5.3358845710754395,-6.320683002471924,14.327669143676758,11.65462875366211,7.721401691436768,1.3933463096618652,24.560760498046875,-5.957724094390869,15.796045303344727,-9.491321563720703,3.2583706378936768,3.8207952976226807,6.928355693817139,8.685895919799805,23.966562271118164,9.090038299560547,24.976890563964844,11.454536437988281,23.05666732788086,11.476907730102539,20.931718826293945,-10.601269721984863,20.532390594482422,18.62613868713379,5.3032002449035645,16.87771224975586,24.720966339111328,-4.365878582000732,21.06975555419922,20.06519317626953,15.320091247558594,24.39417839050293,24.33152961730957,22.205520629882812,22.41067123413086,9.083561897277832,0.8173486590385437,13.90327262878418,7.924017429351807,15.532089233398438,16.684162139892578,5.2763519287109375,10.537348747253418,10.472050666809082,6.911346912384033,8.386154174804688,-5.616384983062744,3.218278169631958,2.8256802558898926,23.879884719848633,14.784439086914062,17.48194694519043,3.9826343059539795,7.145712852478027,6.410004138946533,9.262542724609375,4.2927045822143555,-2.102283239364624,10.266965866088867,8.365118980407715,0.9790146946907043,24.592655181884766,-0.514313817024231,12.470992088317871,25.020244598388672,-6.250838279724121,-2.45395565032959,-3.0775444507598877,1.403755784034729,-2.3720993995666504,0.4711569547653198,-5.466052532196045,2.082425117492676,9.978498458862305,-4.1964111328125,1.2763078212738037,5.412142753601074,3.145940065383911,7.380736351013184,4.788506984710693,15.636138916015625,24.227502822875977,-11.1674222946167,24.891273498535156,4.1887898445129395,19.971416473388672,-2.4962213039398193,2.576988697052002,11.688161849975586,7.342731952667236,24.53664207458496,22.65968894958496,22.567962646484375,6.357154369354248,21.023508071899414,4.337477684020996,16.633968353271484,11.84533977508545,22.574787139892578,4.245545387268066,3.6539833545684814,3.90956449508667,3.8817689418792725,-1.1997567415237427,20.063045501708984,7.676812648773193,3.1925604343414307,-4.587487697601318,9.554084777832031,3.55182147026062,5.404387950897217,10.232220649719238,11.806081771850586,17.18144416809082,6.917479515075684,-1.8011947870254517,7.607205390930176,3.1661133766174316,14.232657432556152,3.55014705657959,6.146478176116943,24.46236228942871,-8.027894020080566,5.420184135437012,3.5127997398376465,0.03691590204834938,-10.841459274291992,9.937812805175781,12.59514331817627,-0.014505858533084393,-0.06752211600542068,7.993642807006836,4.816109657287598,2.9282569885253906,25.123868942260742,8.772542953491211,3.971856117248535,0.08333521336317062,24.30185317993164,1.641576886177063,4.732821464538574,4.363493919372559,26.17119598388672,20.50321388244629,-1.9760934114456177,23.00498390197754,23.618404388427734,8.640671730041504,21.08106803894043,21.244022369384766,18.0064754486084,23.52724266052246,8.07606315612793,4.074089527130127,-12.854007720947266,-0.21243728697299957,3.4896562099456787,17.633224487304688,4.779493808746338,-0.5889912247657776,24.381175994873047,9.975052833557129,12.84607982635498,15.826462745666504,8.692878723144531,7.5585246086120605,2.992431163787842,4.308579921722412,19.115434646606445,16.40362548828125,5.915061950683594,9.238513946533203,0.10932043194770813,4.6096391677856445,25.596195220947266,10.830121994018555,2.696880578994751,-13.66263198852539,13.53553581237793,18.107254028320312,11.281293869018555,25.597787857055664,-1.6416338682174683,23.982772827148438,4.233706474304199,-6.683128356933594,3.5109152793884277,-0.15313686430454254,1.6288396120071411,3.407327890396118,-3.1730990409851074,8.128329277038574,23.12689208984375,13.389228820800781,5.198159694671631,13.972928047180176,12.330387115478516,3.697343349456787,6.566132545471191,1.7099100351333618,5.839251518249512,7.4819416999816895,24.095741271972656,10.54457950592041,20.730737686157227,5.766754627227783,4.290998935699463,5.049368858337402,-2.531752347946167,-7.629141807556152,2.8149452209472656,-0.07505204528570175,-7.159067153930664,14.694915771484375,16.384851455688477]}],                        {\"template\":{\"data\":{\"bar\":[{\"error_x\":{\"color\":\"#2a3f5f\"},\"error_y\":{\"color\":\"#2a3f5f\"},\"marker\":{\"line\":{\"color\":\"#E5ECF6\",\"width\":0.5},\"pattern\":{\"fillmode\":\"overlay\",\"size\":10,\"solidity\":0.2}},\"type\":\"bar\"}],\"barpolar\":[{\"marker\":{\"line\":{\"color\":\"#E5ECF6\",\"width\":0.5},\"pattern\":{\"fillmode\":\"overlay\",\"size\":10,\"solidity\":0.2}},\"type\":\"barpolar\"}],\"carpet\":[{\"aaxis\":{\"endlinecolor\":\"#2a3f5f\",\"gridcolor\":\"white\",\"linecolor\":\"white\",\"minorgridcolor\":\"white\",\"startlinecolor\":\"#2a3f5f\"},\"baxis\":{\"endlinecolor\":\"#2a3f5f\",\"gridcolor\":\"white\",\"linecolor\":\"white\",\"minorgridcolor\":\"white\",\"startlinecolor\":\"#2a3f5f\"},\"type\":\"carpet\"}],\"choropleth\":[{\"colorbar\":{\"outlinewidth\":0,\"ticks\":\"\"},\"type\":\"choropleth\"}],\"contour\":[{\"colorbar\":{\"outlinewidth\":0,\"ticks\":\"\"},\"colorscale\":[[0.0,\"#0d0887\"],[0.1111111111111111,\"#46039f\"],[0.2222222222222222,\"#7201a8\"],[0.3333333333333333,\"#9c179e\"],[0.4444444444444444,\"#bd3786\"],[0.5555555555555556,\"#d8576b\"],[0.6666666666666666,\"#ed7953\"],[0.7777777777777778,\"#fb9f3a\"],[0.8888888888888888,\"#fdca26\"],[1.0,\"#f0f921\"]],\"type\":\"contour\"}],\"contourcarpet\":[{\"colorbar\":{\"outlinewidth\":0,\"ticks\":\"\"},\"type\":\"contourcarpet\"}],\"heatmap\":[{\"colorbar\":{\"outlinewidth\":0,\"ticks\":\"\"},\"colorscale\":[[0.0,\"#0d0887\"],[0.1111111111111111,\"#46039f\"],[0.2222222222222222,\"#7201a8\"],[0.3333333333333333,\"#9c179e\"],[0.4444444444444444,\"#bd3786\"],[0.5555555555555556,\"#d8576b\"],[0.6666666666666666,\"#ed7953\"],[0.7777777777777778,\"#fb9f3a\"],[0.8888888888888888,\"#fdca26\"],[1.0,\"#f0f921\"]],\"type\":\"heatmap\"}],\"heatmapgl\":[{\"colorbar\":{\"outlinewidth\":0,\"ticks\":\"\"},\"colorscale\":[[0.0,\"#0d0887\"],[0.1111111111111111,\"#46039f\"],[0.2222222222222222,\"#7201a8\"],[0.3333333333333333,\"#9c179e\"],[0.4444444444444444,\"#bd3786\"],[0.5555555555555556,\"#d8576b\"],[0.6666666666666666,\"#ed7953\"],[0.7777777777777778,\"#fb9f3a\"],[0.8888888888888888,\"#fdca26\"],[1.0,\"#f0f921\"]],\"type\":\"heatmapgl\"}],\"histogram\":[{\"marker\":{\"pattern\":{\"fillmode\":\"overlay\",\"size\":10,\"solidity\":0.2}},\"type\":\"histogram\"}],\"histogram2d\":[{\"colorbar\":{\"outlinewidth\":0,\"ticks\":\"\"},\"colorscale\":[[0.0,\"#0d0887\"],[0.1111111111111111,\"#46039f\"],[0.2222222222222222,\"#7201a8\"],[0.3333333333333333,\"#9c179e\"],[0.4444444444444444,\"#bd3786\"],[0.5555555555555556,\"#d8576b\"],[0.6666666666666666,\"#ed7953\"],[0.7777777777777778,\"#fb9f3a\"],[0.8888888888888888,\"#fdca26\"],[1.0,\"#f0f921\"]],\"type\":\"histogram2d\"}],\"histogram2dcontour\":[{\"colorbar\":{\"outlinewidth\":0,\"ticks\":\"\"},\"colorscale\":[[0.0,\"#0d0887\"],[0.1111111111111111,\"#46039f\"],[0.2222222222222222,\"#7201a8\"],[0.3333333333333333,\"#9c179e\"],[0.4444444444444444,\"#bd3786\"],[0.5555555555555556,\"#d8576b\"],[0.6666666666666666,\"#ed7953\"],[0.7777777777777778,\"#fb9f3a\"],[0.8888888888888888,\"#fdca26\"],[1.0,\"#f0f921\"]],\"type\":\"histogram2dcontour\"}],\"mesh3d\":[{\"colorbar\":{\"outlinewidth\":0,\"ticks\":\"\"},\"type\":\"mesh3d\"}],\"parcoords\":[{\"line\":{\"colorbar\":{\"outlinewidth\":0,\"ticks\":\"\"}},\"type\":\"parcoords\"}],\"pie\":[{\"automargin\":true,\"type\":\"pie\"}],\"scatter\":[{\"marker\":{\"colorbar\":{\"outlinewidth\":0,\"ticks\":\"\"}},\"type\":\"scatter\"}],\"scatter3d\":[{\"line\":{\"colorbar\":{\"outlinewidth\":0,\"ticks\":\"\"}},\"marker\":{\"colorbar\":{\"outlinewidth\":0,\"ticks\":\"\"}},\"type\":\"scatter3d\"}],\"scattercarpet\":[{\"marker\":{\"colorbar\":{\"outlinewidth\":0,\"ticks\":\"\"}},\"type\":\"scattercarpet\"}],\"scattergeo\":[{\"marker\":{\"colorbar\":{\"outlinewidth\":0,\"ticks\":\"\"}},\"type\":\"scattergeo\"}],\"scattergl\":[{\"marker\":{\"colorbar\":{\"outlinewidth\":0,\"ticks\":\"\"}},\"type\":\"scattergl\"}],\"scattermapbox\":[{\"marker\":{\"colorbar\":{\"outlinewidth\":0,\"ticks\":\"\"}},\"type\":\"scattermapbox\"}],\"scatterpolar\":[{\"marker\":{\"colorbar\":{\"outlinewidth\":0,\"ticks\":\"\"}},\"type\":\"scatterpolar\"}],\"scatterpolargl\":[{\"marker\":{\"colorbar\":{\"outlinewidth\":0,\"ticks\":\"\"}},\"type\":\"scatterpolargl\"}],\"scatterternary\":[{\"marker\":{\"colorbar\":{\"outlinewidth\":0,\"ticks\":\"\"}},\"type\":\"scatterternary\"}],\"surface\":[{\"colorbar\":{\"outlinewidth\":0,\"ticks\":\"\"},\"colorscale\":[[0.0,\"#0d0887\"],[0.1111111111111111,\"#46039f\"],[0.2222222222222222,\"#7201a8\"],[0.3333333333333333,\"#9c179e\"],[0.4444444444444444,\"#bd3786\"],[0.5555555555555556,\"#d8576b\"],[0.6666666666666666,\"#ed7953\"],[0.7777777777777778,\"#fb9f3a\"],[0.8888888888888888,\"#fdca26\"],[1.0,\"#f0f921\"]],\"type\":\"surface\"}],\"table\":[{\"cells\":{\"fill\":{\"color\":\"#EBF0F8\"},\"line\":{\"color\":\"white\"}},\"header\":{\"fill\":{\"color\":\"#C8D4E3\"},\"line\":{\"color\":\"white\"}},\"type\":\"table\"}]},\"layout\":{\"annotationdefaults\":{\"arrowcolor\":\"#2a3f5f\",\"arrowhead\":0,\"arrowwidth\":1},\"autotypenumbers\":\"strict\",\"coloraxis\":{\"colorbar\":{\"outlinewidth\":0,\"ticks\":\"\"}},\"colorscale\":{\"diverging\":[[0,\"#8e0152\"],[0.1,\"#c51b7d\"],[0.2,\"#de77ae\"],[0.3,\"#f1b6da\"],[0.4,\"#fde0ef\"],[0.5,\"#f7f7f7\"],[0.6,\"#e6f5d0\"],[0.7,\"#b8e186\"],[0.8,\"#7fbc41\"],[0.9,\"#4d9221\"],[1,\"#276419\"]],\"sequential\":[[0.0,\"#0d0887\"],[0.1111111111111111,\"#46039f\"],[0.2222222222222222,\"#7201a8\"],[0.3333333333333333,\"#9c179e\"],[0.4444444444444444,\"#bd3786\"],[0.5555555555555556,\"#d8576b\"],[0.6666666666666666,\"#ed7953\"],[0.7777777777777778,\"#fb9f3a\"],[0.8888888888888888,\"#fdca26\"],[1.0,\"#f0f921\"]],\"sequentialminus\":[[0.0,\"#0d0887\"],[0.1111111111111111,\"#46039f\"],[0.2222222222222222,\"#7201a8\"],[0.3333333333333333,\"#9c179e\"],[0.4444444444444444,\"#bd3786\"],[0.5555555555555556,\"#d8576b\"],[0.6666666666666666,\"#ed7953\"],[0.7777777777777778,\"#fb9f3a\"],[0.8888888888888888,\"#fdca26\"],[1.0,\"#f0f921\"]]},\"colorway\":[\"#636efa\",\"#EF553B\",\"#00cc96\",\"#ab63fa\",\"#FFA15A\",\"#19d3f3\",\"#FF6692\",\"#B6E880\",\"#FF97FF\",\"#FECB52\"],\"font\":{\"color\":\"#2a3f5f\"},\"geo\":{\"bgcolor\":\"white\",\"lakecolor\":\"white\",\"landcolor\":\"#E5ECF6\",\"showlakes\":true,\"showland\":true,\"subunitcolor\":\"white\"},\"hoverlabel\":{\"align\":\"left\"},\"hovermode\":\"closest\",\"mapbox\":{\"style\":\"light\"},\"paper_bgcolor\":\"white\",\"plot_bgcolor\":\"#E5ECF6\",\"polar\":{\"angularaxis\":{\"gridcolor\":\"white\",\"linecolor\":\"white\",\"ticks\":\"\"},\"bgcolor\":\"#E5ECF6\",\"radialaxis\":{\"gridcolor\":\"white\",\"linecolor\":\"white\",\"ticks\":\"\"}},\"scene\":{\"xaxis\":{\"backgroundcolor\":\"#E5ECF6\",\"gridcolor\":\"white\",\"gridwidth\":2,\"linecolor\":\"white\",\"showbackground\":true,\"ticks\":\"\",\"zerolinecolor\":\"white\"},\"yaxis\":{\"backgroundcolor\":\"#E5ECF6\",\"gridcolor\":\"white\",\"gridwidth\":2,\"linecolor\":\"white\",\"showbackground\":true,\"ticks\":\"\",\"zerolinecolor\":\"white\"},\"zaxis\":{\"backgroundcolor\":\"#E5ECF6\",\"gridcolor\":\"white\",\"gridwidth\":2,\"linecolor\":\"white\",\"showbackground\":true,\"ticks\":\"\",\"zerolinecolor\":\"white\"}},\"shapedefaults\":{\"line\":{\"color\":\"#2a3f5f\"}},\"ternary\":{\"aaxis\":{\"gridcolor\":\"white\",\"linecolor\":\"white\",\"ticks\":\"\"},\"baxis\":{\"gridcolor\":\"white\",\"linecolor\":\"white\",\"ticks\":\"\"},\"bgcolor\":\"#E5ECF6\",\"caxis\":{\"gridcolor\":\"white\",\"linecolor\":\"white\",\"ticks\":\"\"}},\"title\":{\"x\":0.05},\"xaxis\":{\"automargin\":true,\"gridcolor\":\"white\",\"linecolor\":\"white\",\"ticks\":\"\",\"title\":{\"standoff\":15},\"zerolinecolor\":\"white\",\"zerolinewidth\":2},\"yaxis\":{\"automargin\":true,\"gridcolor\":\"white\",\"linecolor\":\"white\",\"ticks\":\"\",\"title\":{\"standoff\":15},\"zerolinecolor\":\"white\",\"zerolinewidth\":2}}},\"title\":{\"text\":\"Average land temperature in states\"}},                        {\"responsive\": true}                    ).then(function(){\n",
       "                            \n",
       "var gd = document.getElementById('a46b1f3b-0387-4fea-b6a4-5019b34e5616');\n",
       "var x = new MutationObserver(function (mutations, observer) {{\n",
       "        var display = window.getComputedStyle(gd).display;\n",
       "        if (!display || display === 'none') {{\n",
       "            console.log([gd, 'removed!']);\n",
       "            Plotly.purge(gd);\n",
       "            observer.disconnect();\n",
       "        }}\n",
       "}});\n",
       "\n",
       "// Listen for the removal of the full notebook cells\n",
       "var notebookContainer = gd.closest('#notebook-container');\n",
       "if (notebookContainer) {{\n",
       "    x.observe(notebookContainer, {childList: true});\n",
       "}}\n",
       "\n",
       "// Listen for the clearing of the current output cell\n",
       "var outputEl = gd.closest('.output');\n",
       "if (outputEl) {{\n",
       "    x.observe(outputEl, {childList: true});\n",
       "}}\n",
       "\n",
       "                        })                };                });            </script>        </div>"
      ]
     },
     "metadata": {},
     "output_type": "display_data"
    }
   ],
   "source": [
    "import plotly.offline as py\n",
    "py.init_notebook_mode(connected=True)\n",
    "import plotly.graph_objs as go\n",
    "import plotly.tools as tls\n",
    "#mapping of average temperatures in states\n",
    "fig = go.Figure(data=go.Choropleth(\n",
    "    locations=states, # Spatial coordinates\n",
    "    z = mean_temp, # Data to be color-coded\n",
    "    locationmode ='country names', # set of locations match entries in `locations`\n",
    "    text = states,\n",
    "    colorscale = 'RdBu_r',\n",
    "    colorbar_title = \"Average Temp\",\n",
    "))\n",
    "\n",
    "fig.update_layout(\n",
    "    title_text = 'Average land temperature in states',\n",
    "    \n",
    ")\n",
    "\n",
    "fig.show()"
   ]
  },
  {
   "cell_type": "code",
   "execution_count": 53,
   "id": "2253ba74",
   "metadata": {},
   "outputs": [
    {
     "data": {
      "text/plain": [
       "Index(['dt', 'AverageTemperature', 'AverageTemperatureUncertainty', 'Country',\n",
       "       'City', 'Latitude', 'Longitude', 'State', 'LandAverageTemperature',\n",
       "       'LandAverageTemperatureUncertainty', 'LandMaxTemperature',\n",
       "       'LandMaxTemperatureUncertainty', 'LandMinTemperature',\n",
       "       'LandMinTemperatureUncertainty', 'LandAndOceanAverageTemperature',\n",
       "       'LandAndOceanAverageTemperatureUncertainty'],\n",
       "      dtype='object')"
      ]
     },
     "execution_count": 53,
     "metadata": {},
     "output_type": "execute_result"
    }
   ],
   "source": [
    "df.columns"
   ]
  },
  {
   "cell_type": "code",
   "execution_count": 54,
   "id": "8a21674b",
   "metadata": {},
   "outputs": [],
   "source": [
    "from sklearn.preprocessing import Normalizer\n",
    "\n",
    "normalizer = Normalizer()\n",
    "normalized_values = normalizer.fit_transform(df_num)\n"
   ]
  },
  {
   "cell_type": "code",
   "execution_count": 55,
   "id": "c5ae32dc",
   "metadata": {},
   "outputs": [
    {
     "data": {
      "text/plain": [
       "array([[0.8860292 , 0.46362934, 0.        , ..., 0.        , 0.        ,\n",
       "        0.        ],\n",
       "       [0.        , 0.        , 0.        , ..., 0.        , 0.        ,\n",
       "        0.        ],\n",
       "       [0.        , 0.        , 0.        , ..., 0.        , 0.        ,\n",
       "        0.        ],\n",
       "       ...,\n",
       "       [0.        , 0.        , 0.41418937, ..., 0.00440994, 0.62467784,\n",
       "        0.00237753],\n",
       "       [0.        , 0.        , 0.3470307 , ..., 0.00494891, 0.7120829 ,\n",
       "        0.00294133],\n",
       "       [0.        , 0.        , 0.28927156, ..., 0.0051899 , 0.77450126,\n",
       "        0.00325024]], dtype=float32)"
      ]
     },
     "execution_count": 55,
     "metadata": {},
     "output_type": "execute_result"
    }
   ],
   "source": [
    "normalized_values"
   ]
  },
  {
   "cell_type": "code",
   "execution_count": 95,
   "id": "76bf9773",
   "metadata": {},
   "outputs": [
    {
     "data": {
      "text/plain": [
       "<AxesSubplot:ylabel='Count'>"
      ]
     },
     "execution_count": 95,
     "metadata": {},
     "output_type": "execute_result"
    },
    {
     "data": {
      "image/png": "[encoded data removed]",
      "text/plain": [
       "<Figure size 432x288 with 1 Axes>"
      ]
     },
     "metadata": {},
     "output_type": "display_data"
    }
   ],
   "source": [
    "sns.histplot(normalized_values)"
   ]
  },
  {
   "cell_type": "code",
   "execution_count": 57,
   "id": "959a73f7",
   "metadata": {},
   "outputs": [
    {
     "data": {
      "text/plain": [
       "StandardScaler()"
      ]
     },
     "execution_count": 57,
     "metadata": {},
     "output_type": "execute_result"
    }
   ],
   "source": [
    "from sklearn.preprocessing import StandardScaler\n",
    "scaler = StandardScaler()\n",
    "scaler.fit(df_num)"
   ]
  },
  {
   "cell_type": "code",
   "execution_count": 58,
   "id": "245e0fb8",
   "metadata": {},
   "outputs": [
    {
     "data": {
      "text/plain": [
       "<AxesSubplot:ylabel='Count'>"
      ]
     },
     "execution_count": 58,
     "metadata": {},
     "output_type": "execute_result"
    },
    {
     "data": {
      "image/png": "[encoded data removed]",
      "text/plain": [
       "<Figure size 1440x720 with 1 Axes>"
      ]
     },
     "metadata": {},
     "output_type": "display_data"
    }
   ],
   "source": [
    "x=df_num\n",
    "fig=plt.figure(figsize=(20,10))\n",
    "sns.histplot(x,bins=20)"
   ]
  },
  {
   "cell_type": "code",
   "execution_count": 59,
   "id": "bcfd6b45",
   "metadata": {},
   "outputs": [
    {
     "data": {
      "text/plain": [
       "['AverageTemperature',\n",
       " 'AverageTemperatureUncertainty',\n",
       " 'LandAverageTemperature',\n",
       " 'LandAverageTemperatureUncertainty',\n",
       " 'LandMaxTemperature',\n",
       " 'LandMaxTemperatureUncertainty',\n",
       " 'LandMinTemperature',\n",
       " 'LandMinTemperatureUncertainty',\n",
       " 'LandAndOceanAverageTemperature',\n",
       " 'LandAndOceanAverageTemperatureUncertainty']"
      ]
     },
     "execution_count": 59,
     "metadata": {},
     "output_type": "execute_result"
    }
   ],
   "source": [
    "list(df_num)"
   ]
  },
  {
   "cell_type": "code",
   "execution_count": 96,
   "id": "a6825c8c",
   "metadata": {},
   "outputs": [],
   "source": [
    "\n",
    "from sklearn.preprocessing import StandardScaler\n",
    "features = list(df_num)\n",
    "x = StandardScaler().fit_transform(x)"
   ]
  },
  {
   "cell_type": "code",
   "execution_count": 61,
   "id": "be4536c7",
   "metadata": {},
   "outputs": [
    {
     "data": {
      "text/plain": [
       "-29.48219"
      ]
     },
     "execution_count": 61,
     "metadata": {},
     "output_type": "execute_result"
    }
   ],
   "source": [
    "x.min()"
   ]
  },
  {
   "cell_type": "code",
   "execution_count": 62,
   "id": "f257e1f6",
   "metadata": {},
   "outputs": [
    {
     "data": {
      "text/plain": [
       "157.10509"
      ]
     },
     "execution_count": 62,
     "metadata": {},
     "output_type": "execute_result"
    }
   ],
   "source": [
    "x.max()"
   ]
  },
  {
   "cell_type": "code",
   "execution_count": 63,
   "id": "79e86983",
   "metadata": {},
   "outputs": [
    {
     "data": {
      "text/plain": [
       "-7.1967463e-09"
      ]
     },
     "execution_count": 63,
     "metadata": {},
     "output_type": "execute_result"
    }
   ],
   "source": [
    "np.mean(x) #approx to 0 - hence mean=0,standardized!"
   ]
  },
  {
   "cell_type": "code",
   "execution_count": 64,
   "id": "7ef4cbda",
   "metadata": {},
   "outputs": [
    {
     "data": {
      "text/plain": [
       "0.9999821"
      ]
     },
     "execution_count": 64,
     "metadata": {},
     "output_type": "execute_result"
    }
   ],
   "source": [
    "np.var(x)  #approx to 1   -hence var=1,standardized!"
   ]
  },
  {
   "cell_type": "code",
   "execution_count": 93,
   "id": "c13cbd75",
   "metadata": {},
   "outputs": [],
   "source": [
    "from sklearn.decomposition import PCA\n",
    "pca = PCA(n_components=2)\n",
    "principalComponents = pca.fit_transform(x)\n",
    "principaldf = pd.DataFrame(data = principalComponents , columns = ['principal component 1', 'principal component 2'])"
   ]
  },
  {
   "cell_type": "code",
   "execution_count": 94,
   "id": "275c81f2",
   "metadata": {},
   "outputs": [
    {
     "data": {
      "text/html": [
       "<div>\n",
       "<style scoped>\n",
       "    .dataframe tbody tr th:only-of-type {\n",
       "        vertical-align: middle;\n",
       "    }\n",
       "\n",
       "    .dataframe tbody tr th {\n",
       "        vertical-align: top;\n",
       "    }\n",
       "\n",
       "    .dataframe thead th {\n",
       "        text-align: right;\n",
       "    }\n",
       "</style>\n",
       "<table border=\"1\" class=\"dataframe\">\n",
       "  <thead>\n",
       "    <tr style=\"text-align: right;\">\n",
       "      <th></th>\n",
       "      <th>principal component 1</th>\n",
       "      <th>principal component 2</th>\n",
       "    </tr>\n",
       "  </thead>\n",
       "  <tbody>\n",
       "    <tr>\n",
       "      <th>0</th>\n",
       "      <td>-0.088175</td>\n",
       "      <td>-0.000420</td>\n",
       "    </tr>\n",
       "    <tr>\n",
       "      <th>1</th>\n",
       "      <td>-0.050413</td>\n",
       "      <td>-0.037116</td>\n",
       "    </tr>\n",
       "    <tr>\n",
       "      <th>2</th>\n",
       "      <td>-0.050412</td>\n",
       "      <td>-0.035771</td>\n",
       "    </tr>\n",
       "    <tr>\n",
       "      <th>3</th>\n",
       "      <td>-0.050418</td>\n",
       "      <td>-0.037618</td>\n",
       "    </tr>\n",
       "    <tr>\n",
       "      <th>4</th>\n",
       "      <td>-0.050411</td>\n",
       "      <td>-0.035481</td>\n",
       "    </tr>\n",
       "    <tr>\n",
       "      <th>...</th>\n",
       "      <td>...</td>\n",
       "      <td>...</td>\n",
       "    </tr>\n",
       "    <tr>\n",
       "      <th>1465501</th>\n",
       "      <td>63.105793</td>\n",
       "      <td>-40.518436</td>\n",
       "    </tr>\n",
       "    <tr>\n",
       "      <th>1465502</th>\n",
       "      <td>57.801964</td>\n",
       "      <td>-32.419098</td>\n",
       "    </tr>\n",
       "    <tr>\n",
       "      <th>1465503</th>\n",
       "      <td>48.705204</td>\n",
       "      <td>-26.598061</td>\n",
       "    </tr>\n",
       "    <tr>\n",
       "      <th>1465504</th>\n",
       "      <td>38.085312</td>\n",
       "      <td>-13.285774</td>\n",
       "    </tr>\n",
       "    <tr>\n",
       "      <th>1465505</th>\n",
       "      <td>32.155251</td>\n",
       "      <td>-4.683114</td>\n",
       "    </tr>\n",
       "  </tbody>\n",
       "</table>\n",
       "<p>1465506 rows × 2 columns</p>\n",
       "</div>"
      ],
      "text/plain": [
       "         principal component 1  principal component 2\n",
       "0                    -0.088175              -0.000420\n",
       "1                    -0.050413              -0.037116\n",
       "2                    -0.050412              -0.035771\n",
       "3                    -0.050418              -0.037618\n",
       "4                    -0.050411              -0.035481\n",
       "...                        ...                    ...\n",
       "1465501              63.105793             -40.518436\n",
       "1465502              57.801964             -32.419098\n",
       "1465503              48.705204             -26.598061\n",
       "1465504              38.085312             -13.285774\n",
       "1465505              32.155251              -4.683114\n",
       "\n",
       "[1465506 rows x 2 columns]"
      ]
     },
     "execution_count": 94,
     "metadata": {},
     "output_type": "execute_result"
    }
   ],
   "source": [
    "principaldf"
   ]
  },
  {
   "cell_type": "code",
   "execution_count": 67,
   "id": "15a396a8",
   "metadata": {},
   "outputs": [
    {
     "data": {
      "text/plain": [
       "pandas._libs.tslibs.timestamps.Timestamp"
      ]
     },
     "execution_count": 67,
     "metadata": {},
     "output_type": "execute_result"
    }
   ],
   "source": [
    "#since these are strings,we covert it into DateTime Object using pd_todatetime\n",
    "df['dt'] = pd.to_datetime(df['dt'])\n",
    "type(df['dt'].iloc[0])"
   ]
  },
  {
   "cell_type": "code",
   "execution_count": 68,
   "id": "fd76b079",
   "metadata": {},
   "outputs": [],
   "source": [
    "df['Date'] = df['dt'] .apply(lambda t: t.date())\n",
    "df['Month'] = df['dt'] .apply(lambda t: t.month)\n",
    "df['Year'] = df['dt'] .apply(lambda x: x.year)\n",
    "df['Day'] = df['dt'] .apply(lambda t: t.dayofweek)"
   ]
  },
  {
   "cell_type": "code",
   "execution_count": 69,
   "id": "936b9b1b",
   "metadata": {},
   "outputs": [
    {
     "data": {
      "text/plain": [
       " 0.000000     72517\n",
       " 26.864000      118\n",
       " 25.566999      118\n",
       " 25.973000      116\n",
       " 26.014000      114\n",
       "              ...  \n",
       "-28.917999        1\n",
       "-21.848000        1\n",
       "-28.097000        1\n",
       "-29.322001        1\n",
       "-21.195999        1\n",
       "Name: AverageTemperature, Length: 66944, dtype: int64"
      ]
     },
     "execution_count": 69,
     "metadata": {},
     "output_type": "execute_result"
    }
   ],
   "source": [
    "df['AverageTemperature'].value_counts()"
   ]
  },
  {
   "cell_type": "code",
   "execution_count": 70,
   "id": "23bf6986",
   "metadata": {},
   "outputs": [
    {
     "data": {
      "text/html": [
       "<div>\n",
       "<style scoped>\n",
       "    .dataframe tbody tr th:only-of-type {\n",
       "        vertical-align: middle;\n",
       "    }\n",
       "\n",
       "    .dataframe tbody tr th {\n",
       "        vertical-align: top;\n",
       "    }\n",
       "\n",
       "    .dataframe thead th {\n",
       "        text-align: right;\n",
       "    }\n",
       "</style>\n",
       "<table border=\"1\" class=\"dataframe\">\n",
       "  <thead>\n",
       "    <tr style=\"text-align: right;\">\n",
       "      <th></th>\n",
       "      <th>dt</th>\n",
       "      <th>AverageTemperature</th>\n",
       "      <th>AverageTemperatureUncertainty</th>\n",
       "      <th>Country</th>\n",
       "      <th>City</th>\n",
       "      <th>Latitude</th>\n",
       "      <th>Longitude</th>\n",
       "      <th>State</th>\n",
       "      <th>LandAverageTemperature</th>\n",
       "      <th>LandAverageTemperatureUncertainty</th>\n",
       "      <th>LandMaxTemperature</th>\n",
       "      <th>LandMaxTemperatureUncertainty</th>\n",
       "      <th>LandMinTemperature</th>\n",
       "      <th>LandMinTemperatureUncertainty</th>\n",
       "      <th>LandAndOceanAverageTemperature</th>\n",
       "      <th>LandAndOceanAverageTemperatureUncertainty</th>\n",
       "      <th>Date</th>\n",
       "      <th>Month</th>\n",
       "      <th>Year</th>\n",
       "      <th>Day</th>\n",
       "    </tr>\n",
       "  </thead>\n",
       "  <tbody>\n",
       "    <tr>\n",
       "      <th>0</th>\n",
       "      <td>1743-11-01</td>\n",
       "      <td>4.384</td>\n",
       "      <td>2.294</td>\n",
       "      <td>Åland</td>\n",
       "      <td>0</td>\n",
       "      <td>0</td>\n",
       "      <td>0</td>\n",
       "      <td>0</td>\n",
       "      <td>0.000</td>\n",
       "      <td>0.000</td>\n",
       "      <td>0.000000</td>\n",
       "      <td>0.000</td>\n",
       "      <td>0.000</td>\n",
       "      <td>0.000</td>\n",
       "      <td>0.000000</td>\n",
       "      <td>0.000</td>\n",
       "      <td>1743-11-01</td>\n",
       "      <td>11</td>\n",
       "      <td>1743</td>\n",
       "      <td>4</td>\n",
       "    </tr>\n",
       "    <tr>\n",
       "      <th>1</th>\n",
       "      <td>1743-12-01</td>\n",
       "      <td>0.000</td>\n",
       "      <td>0.000</td>\n",
       "      <td>Åland</td>\n",
       "      <td>0</td>\n",
       "      <td>0</td>\n",
       "      <td>0</td>\n",
       "      <td>0</td>\n",
       "      <td>0.000</td>\n",
       "      <td>0.000</td>\n",
       "      <td>0.000000</td>\n",
       "      <td>0.000</td>\n",
       "      <td>0.000</td>\n",
       "      <td>0.000</td>\n",
       "      <td>0.000000</td>\n",
       "      <td>0.000</td>\n",
       "      <td>1743-12-01</td>\n",
       "      <td>12</td>\n",
       "      <td>1743</td>\n",
       "      <td>6</td>\n",
       "    </tr>\n",
       "    <tr>\n",
       "      <th>2</th>\n",
       "      <td>1744-01-01</td>\n",
       "      <td>0.000</td>\n",
       "      <td>0.000</td>\n",
       "      <td>Åland</td>\n",
       "      <td>0</td>\n",
       "      <td>0</td>\n",
       "      <td>0</td>\n",
       "      <td>0</td>\n",
       "      <td>0.000</td>\n",
       "      <td>0.000</td>\n",
       "      <td>0.000000</td>\n",
       "      <td>0.000</td>\n",
       "      <td>0.000</td>\n",
       "      <td>0.000</td>\n",
       "      <td>0.000000</td>\n",
       "      <td>0.000</td>\n",
       "      <td>1744-01-01</td>\n",
       "      <td>1</td>\n",
       "      <td>1744</td>\n",
       "      <td>2</td>\n",
       "    </tr>\n",
       "    <tr>\n",
       "      <th>3</th>\n",
       "      <td>1744-02-01</td>\n",
       "      <td>0.000</td>\n",
       "      <td>0.000</td>\n",
       "      <td>Åland</td>\n",
       "      <td>0</td>\n",
       "      <td>0</td>\n",
       "      <td>0</td>\n",
       "      <td>0</td>\n",
       "      <td>0.000</td>\n",
       "      <td>0.000</td>\n",
       "      <td>0.000000</td>\n",
       "      <td>0.000</td>\n",
       "      <td>0.000</td>\n",
       "      <td>0.000</td>\n",
       "      <td>0.000000</td>\n",
       "      <td>0.000</td>\n",
       "      <td>1744-02-01</td>\n",
       "      <td>2</td>\n",
       "      <td>1744</td>\n",
       "      <td>5</td>\n",
       "    </tr>\n",
       "    <tr>\n",
       "      <th>4</th>\n",
       "      <td>1744-03-01</td>\n",
       "      <td>0.000</td>\n",
       "      <td>0.000</td>\n",
       "      <td>Åland</td>\n",
       "      <td>0</td>\n",
       "      <td>0</td>\n",
       "      <td>0</td>\n",
       "      <td>0</td>\n",
       "      <td>0.000</td>\n",
       "      <td>0.000</td>\n",
       "      <td>0.000000</td>\n",
       "      <td>0.000</td>\n",
       "      <td>0.000</td>\n",
       "      <td>0.000</td>\n",
       "      <td>0.000000</td>\n",
       "      <td>0.000</td>\n",
       "      <td>1744-03-01</td>\n",
       "      <td>3</td>\n",
       "      <td>1744</td>\n",
       "      <td>6</td>\n",
       "    </tr>\n",
       "    <tr>\n",
       "      <th>...</th>\n",
       "      <td>...</td>\n",
       "      <td>...</td>\n",
       "      <td>...</td>\n",
       "      <td>...</td>\n",
       "      <td>...</td>\n",
       "      <td>...</td>\n",
       "      <td>...</td>\n",
       "      <td>...</td>\n",
       "      <td>...</td>\n",
       "      <td>...</td>\n",
       "      <td>...</td>\n",
       "      <td>...</td>\n",
       "      <td>...</td>\n",
       "      <td>...</td>\n",
       "      <td>...</td>\n",
       "      <td>...</td>\n",
       "      <td>...</td>\n",
       "      <td>...</td>\n",
       "      <td>...</td>\n",
       "      <td>...</td>\n",
       "    </tr>\n",
       "    <tr>\n",
       "      <th>1465501</th>\n",
       "      <td>2015-08-01</td>\n",
       "      <td>0.000</td>\n",
       "      <td>0.000</td>\n",
       "      <td>0</td>\n",
       "      <td>0</td>\n",
       "      <td>0</td>\n",
       "      <td>0</td>\n",
       "      <td>0</td>\n",
       "      <td>14.755</td>\n",
       "      <td>0.072</td>\n",
       "      <td>20.698999</td>\n",
       "      <td>0.110</td>\n",
       "      <td>9.005</td>\n",
       "      <td>0.170</td>\n",
       "      <td>17.589001</td>\n",
       "      <td>0.057</td>\n",
       "      <td>2015-08-01</td>\n",
       "      <td>8</td>\n",
       "      <td>2015</td>\n",
       "      <td>5</td>\n",
       "    </tr>\n",
       "    <tr>\n",
       "      <th>1465502</th>\n",
       "      <td>2015-09-01</td>\n",
       "      <td>0.000</td>\n",
       "      <td>0.000</td>\n",
       "      <td>0</td>\n",
       "      <td>0</td>\n",
       "      <td>0</td>\n",
       "      <td>0</td>\n",
       "      <td>0</td>\n",
       "      <td>12.999</td>\n",
       "      <td>0.079</td>\n",
       "      <td>18.844999</td>\n",
       "      <td>0.088</td>\n",
       "      <td>7.199</td>\n",
       "      <td>0.229</td>\n",
       "      <td>17.049000</td>\n",
       "      <td>0.058</td>\n",
       "      <td>2015-09-01</td>\n",
       "      <td>9</td>\n",
       "      <td>2015</td>\n",
       "      <td>1</td>\n",
       "    </tr>\n",
       "    <tr>\n",
       "      <th>1465503</th>\n",
       "      <td>2015-10-01</td>\n",
       "      <td>0.000</td>\n",
       "      <td>0.000</td>\n",
       "      <td>0</td>\n",
       "      <td>0</td>\n",
       "      <td>0</td>\n",
       "      <td>0</td>\n",
       "      <td>0</td>\n",
       "      <td>10.801</td>\n",
       "      <td>0.102</td>\n",
       "      <td>16.450001</td>\n",
       "      <td>0.059</td>\n",
       "      <td>5.232</td>\n",
       "      <td>0.115</td>\n",
       "      <td>16.290001</td>\n",
       "      <td>0.062</td>\n",
       "      <td>2015-10-01</td>\n",
       "      <td>10</td>\n",
       "      <td>2015</td>\n",
       "      <td>3</td>\n",
       "    </tr>\n",
       "    <tr>\n",
       "      <th>1465504</th>\n",
       "      <td>2015-11-01</td>\n",
       "      <td>0.000</td>\n",
       "      <td>0.000</td>\n",
       "      <td>0</td>\n",
       "      <td>0</td>\n",
       "      <td>0</td>\n",
       "      <td>0</td>\n",
       "      <td>0</td>\n",
       "      <td>7.433</td>\n",
       "      <td>0.119</td>\n",
       "      <td>12.892000</td>\n",
       "      <td>0.093</td>\n",
       "      <td>2.157</td>\n",
       "      <td>0.106</td>\n",
       "      <td>15.252000</td>\n",
       "      <td>0.063</td>\n",
       "      <td>2015-11-01</td>\n",
       "      <td>11</td>\n",
       "      <td>2015</td>\n",
       "      <td>6</td>\n",
       "    </tr>\n",
       "    <tr>\n",
       "      <th>1465505</th>\n",
       "      <td>2015-12-01</td>\n",
       "      <td>0.000</td>\n",
       "      <td>0.000</td>\n",
       "      <td>0</td>\n",
       "      <td>0</td>\n",
       "      <td>0</td>\n",
       "      <td>0</td>\n",
       "      <td>0</td>\n",
       "      <td>5.518</td>\n",
       "      <td>0.100</td>\n",
       "      <td>10.725000</td>\n",
       "      <td>0.154</td>\n",
       "      <td>0.287</td>\n",
       "      <td>0.099</td>\n",
       "      <td>14.774000</td>\n",
       "      <td>0.062</td>\n",
       "      <td>2015-12-01</td>\n",
       "      <td>12</td>\n",
       "      <td>2015</td>\n",
       "      <td>1</td>\n",
       "    </tr>\n",
       "  </tbody>\n",
       "</table>\n",
       "<p>1465506 rows × 20 columns</p>\n",
       "</div>"
      ],
      "text/plain": [
       "                dt  AverageTemperature  AverageTemperatureUncertainty Country  \\\n",
       "0       1743-11-01               4.384                          2.294   Åland   \n",
       "1       1743-12-01               0.000                          0.000   Åland   \n",
       "2       1744-01-01               0.000                          0.000   Åland   \n",
       "3       1744-02-01               0.000                          0.000   Åland   \n",
       "4       1744-03-01               0.000                          0.000   Åland   \n",
       "...            ...                 ...                            ...     ...   \n",
       "1465501 2015-08-01               0.000                          0.000       0   \n",
       "1465502 2015-09-01               0.000                          0.000       0   \n",
       "1465503 2015-10-01               0.000                          0.000       0   \n",
       "1465504 2015-11-01               0.000                          0.000       0   \n",
       "1465505 2015-12-01               0.000                          0.000       0   \n",
       "\n",
       "        City Latitude Longitude State  LandAverageTemperature  \\\n",
       "0          0        0         0     0                   0.000   \n",
       "1          0        0         0     0                   0.000   \n",
       "2          0        0         0     0                   0.000   \n",
       "3          0        0         0     0                   0.000   \n",
       "4          0        0         0     0                   0.000   \n",
       "...      ...      ...       ...   ...                     ...   \n",
       "1465501    0        0         0     0                  14.755   \n",
       "1465502    0        0         0     0                  12.999   \n",
       "1465503    0        0         0     0                  10.801   \n",
       "1465504    0        0         0     0                   7.433   \n",
       "1465505    0        0         0     0                   5.518   \n",
       "\n",
       "         LandAverageTemperatureUncertainty  LandMaxTemperature  \\\n",
       "0                                    0.000            0.000000   \n",
       "1                                    0.000            0.000000   \n",
       "2                                    0.000            0.000000   \n",
       "3                                    0.000            0.000000   \n",
       "4                                    0.000            0.000000   \n",
       "...                                    ...                 ...   \n",
       "1465501                              0.072           20.698999   \n",
       "1465502                              0.079           18.844999   \n",
       "1465503                              0.102           16.450001   \n",
       "1465504                              0.119           12.892000   \n",
       "1465505                              0.100           10.725000   \n",
       "\n",
       "         LandMaxTemperatureUncertainty  LandMinTemperature  \\\n",
       "0                                0.000               0.000   \n",
       "1                                0.000               0.000   \n",
       "2                                0.000               0.000   \n",
       "3                                0.000               0.000   \n",
       "4                                0.000               0.000   \n",
       "...                                ...                 ...   \n",
       "1465501                          0.110               9.005   \n",
       "1465502                          0.088               7.199   \n",
       "1465503                          0.059               5.232   \n",
       "1465504                          0.093               2.157   \n",
       "1465505                          0.154               0.287   \n",
       "\n",
       "         LandMinTemperatureUncertainty  LandAndOceanAverageTemperature  \\\n",
       "0                                0.000                        0.000000   \n",
       "1                                0.000                        0.000000   \n",
       "2                                0.000                        0.000000   \n",
       "3                                0.000                        0.000000   \n",
       "4                                0.000                        0.000000   \n",
       "...                                ...                             ...   \n",
       "1465501                          0.170                       17.589001   \n",
       "1465502                          0.229                       17.049000   \n",
       "1465503                          0.115                       16.290001   \n",
       "1465504                          0.106                       15.252000   \n",
       "1465505                          0.099                       14.774000   \n",
       "\n",
       "         LandAndOceanAverageTemperatureUncertainty        Date  Month  Year  \\\n",
       "0                                            0.000  1743-11-01     11  1743   \n",
       "1                                            0.000  1743-12-01     12  1743   \n",
       "2                                            0.000  1744-01-01      1  1744   \n",
       "3                                            0.000  1744-02-01      2  1744   \n",
       "4                                            0.000  1744-03-01      3  1744   \n",
       "...                                            ...         ...    ...   ...   \n",
       "1465501                                      0.057  2015-08-01      8  2015   \n",
       "1465502                                      0.058  2015-09-01      9  2015   \n",
       "1465503                                      0.062  2015-10-01     10  2015   \n",
       "1465504                                      0.063  2015-11-01     11  2015   \n",
       "1465505                                      0.062  2015-12-01     12  2015   \n",
       "\n",
       "         Day  \n",
       "0          4  \n",
       "1          6  \n",
       "2          2  \n",
       "3          5  \n",
       "4          6  \n",
       "...      ...  \n",
       "1465501    5  \n",
       "1465502    1  \n",
       "1465503    3  \n",
       "1465504    6  \n",
       "1465505    1  \n",
       "\n",
       "[1465506 rows x 20 columns]"
      ]
     },
     "execution_count": 70,
     "metadata": {},
     "output_type": "execute_result"
    }
   ],
   "source": [
    "df_with_timestamps = pd.DataFrame(df)\n",
    "df_with_timestamps"
   ]
  },
  {
   "cell_type": "code",
   "execution_count": 71,
   "id": "b908800a",
   "metadata": {},
   "outputs": [
    {
     "data": {
      "text/plain": [
       "<AxesSubplot:xlabel='Month', ylabel='LandAndOceanAverageTemperature'>"
      ]
     },
     "execution_count": 71,
     "metadata": {},
     "output_type": "execute_result"
    },
    {
     "data": {
      "image/png": "[encoded data removed]",
      "text/plain": [
       "<Figure size 432x288 with 1 Axes>"
      ]
     },
     "metadata": {},
     "output_type": "display_data"
    }
   ],
   "source": [
    " sns.barplot(x=\"Month\", y=\"LandAndOceanAverageTemperature\", data=df)"
   ]
  },
  {
   "cell_type": "code",
   "execution_count": 72,
   "id": "a1da3202",
   "metadata": {},
   "outputs": [
    {
     "data": {
      "text/plain": [
       "<AxesSubplot:xlabel='Year'>"
      ]
     },
     "execution_count": 72,
     "metadata": {},
     "output_type": "execute_result"
    },
    {
     "data": {
      "image/png": "[encoded data removed]",
      "text/plain": [
       "<Figure size 432x288 with 1 Axes>"
      ]
     },
     "metadata": {},
     "output_type": "display_data"
    }
   ],
   "source": [
    " sns.boxplot(x=\"Year\", data=df)"
   ]
  },
  {
   "cell_type": "code",
   "execution_count": 73,
   "id": "0823c5a6",
   "metadata": {},
   "outputs": [
    {
     "data": {
      "text/plain": [
       "<AxesSubplot:xlabel='Month'>"
      ]
     },
     "execution_count": 73,
     "metadata": {},
     "output_type": "execute_result"
    },
    {
     "data": {
      "image/png": "[encoded data removed]",
      "text/plain": [
       "<Figure size 432x288 with 1 Axes>"
      ]
     },
     "metadata": {},
     "output_type": "display_data"
    }
   ],
   "source": [
    " sns.boxplot(x=\"Month\", data=df)"
   ]
  },
  {
   "cell_type": "code",
   "execution_count": 74,
   "id": "e3a86c18",
   "metadata": {},
   "outputs": [
    {
     "data": {
      "text/plain": [
       "<AxesSubplot:xlabel='Month', ylabel='LandAverageTemperature'>"
      ]
     },
     "execution_count": 74,
     "metadata": {},
     "output_type": "execute_result"
    },
    {
     "data": {
      "image/png": "[encoded data removed]",
      "text/plain": [
       "<Figure size 432x288 with 1 Axes>"
      ]
     },
     "metadata": {},
     "output_type": "display_data"
    }
   ],
   "source": [
    " sns.barplot(x=\"Month\", y=\"LandAverageTemperature\", data=df)"
   ]
  },
  {
   "cell_type": "code",
   "execution_count": 75,
   "id": "88849dde",
   "metadata": {},
   "outputs": [
    {
     "data": {
      "text/plain": [
       "<AxesSubplot:xlabel='Month', ylabel='LandAverageTemperatureUncertainty'>"
      ]
     },
     "execution_count": 75,
     "metadata": {},
     "output_type": "execute_result"
    },
    {
     "data": {
      "image/png": "[encoded data removed]",
      "text/plain": [
       "<Figure size 432x288 with 1 Axes>"
      ]
     },
     "metadata": {},
     "output_type": "display_data"
    }
   ],
   "source": [
    " sns.barplot(x=\"Month\", y=\"LandAverageTemperatureUncertainty\", data=df)"
   ]
  },
  {
   "cell_type": "code",
   "execution_count": 76,
   "id": "5ae8c7c6",
   "metadata": {},
   "outputs": [
    {
     "data": {
      "text/plain": [
       "<AxesSubplot:xlabel='Month', ylabel='LandMaxTemperature'>"
      ]
     },
     "execution_count": 76,
     "metadata": {},
     "output_type": "execute_result"
    },
    {
     "data": {
      "image/png": "[encoded data removed]",
      "text/plain": [
       "<Figure size 432x288 with 1 Axes>"
      ]
     },
     "metadata": {},
     "output_type": "display_data"
    }
   ],
   "source": [
    " sns.barplot(x=\"Month\", y=\"LandMaxTemperature\", data=df)"
   ]
  },
  {
   "cell_type": "code",
   "execution_count": 77,
   "id": "95ebb46c",
   "metadata": {},
   "outputs": [
    {
     "data": {
      "text/plain": [
       "<AxesSubplot:xlabel='Month', ylabel='LandMinTemperature'>"
      ]
     },
     "execution_count": 77,
     "metadata": {},
     "output_type": "execute_result"
    },
    {
     "data": {
      "image/png": "[encoded data removed]",
      "text/plain": [
       "<Figure size 432x288 with 1 Axes>"
      ]
     },
     "metadata": {},
     "output_type": "display_data"
    }
   ],
   "source": [
    " sns.barplot(x=\"Month\", y=\"LandMinTemperature\", data=df)"
   ]
  },
  {
   "cell_type": "code",
   "execution_count": 78,
   "id": "274ed911",
   "metadata": {},
   "outputs": [],
   "source": [
    "x_array=np.array(df[\"LandAndOceanAverageTemperature\"])"
   ]
  },
  {
   "cell_type": "code",
   "execution_count": 80,
   "id": "1685ff33",
   "metadata": {},
   "outputs": [],
   "source": [
    "df_year=df.groupby('Year').agg({'LandAverageTemperature':'mean','LandAverageTemperatureUncertainty':'mean'}).reset_index()"
   ]
  },
  {
   "cell_type": "code",
   "execution_count": 81,
   "id": "ddd2a0e1",
   "metadata": {},
   "outputs": [
    {
     "data": {
      "text/html": [
       "<div>\n",
       "<style scoped>\n",
       "    .dataframe tbody tr th:only-of-type {\n",
       "        vertical-align: middle;\n",
       "    }\n",
       "\n",
       "    .dataframe tbody tr th {\n",
       "        vertical-align: top;\n",
       "    }\n",
       "\n",
       "    .dataframe thead th {\n",
       "        text-align: right;\n",
       "    }\n",
       "</style>\n",
       "<table border=\"1\" class=\"dataframe\">\n",
       "  <thead>\n",
       "    <tr style=\"text-align: right;\">\n",
       "      <th></th>\n",
       "      <th>Year</th>\n",
       "      <th>LandAverageTemperature</th>\n",
       "      <th>LandAverageTemperatureUncertainty</th>\n",
       "    </tr>\n",
       "  </thead>\n",
       "  <tbody>\n",
       "    <tr>\n",
       "      <th>0</th>\n",
       "      <td>1743</td>\n",
       "      <td>0.000000</td>\n",
       "      <td>0.000000</td>\n",
       "    </tr>\n",
       "    <tr>\n",
       "      <th>1</th>\n",
       "      <td>1744</td>\n",
       "      <td>0.000000</td>\n",
       "      <td>0.000000</td>\n",
       "    </tr>\n",
       "    <tr>\n",
       "      <th>2</th>\n",
       "      <td>1745</td>\n",
       "      <td>0.000000</td>\n",
       "      <td>0.000000</td>\n",
       "    </tr>\n",
       "    <tr>\n",
       "      <th>3</th>\n",
       "      <td>1746</td>\n",
       "      <td>0.000000</td>\n",
       "      <td>0.000000</td>\n",
       "    </tr>\n",
       "    <tr>\n",
       "      <th>4</th>\n",
       "      <td>1747</td>\n",
       "      <td>0.000000</td>\n",
       "      <td>0.000000</td>\n",
       "    </tr>\n",
       "    <tr>\n",
       "      <th>...</th>\n",
       "      <td>...</td>\n",
       "      <td>...</td>\n",
       "      <td>...</td>\n",
       "    </tr>\n",
       "    <tr>\n",
       "      <th>268</th>\n",
       "      <td>2011</td>\n",
       "      <td>0.016267</td>\n",
       "      <td>0.000140</td>\n",
       "    </tr>\n",
       "    <tr>\n",
       "      <th>269</th>\n",
       "      <td>2012</td>\n",
       "      <td>0.016252</td>\n",
       "      <td>0.000143</td>\n",
       "    </tr>\n",
       "    <tr>\n",
       "      <th>270</th>\n",
       "      <td>2013</td>\n",
       "      <td>0.021883</td>\n",
       "      <td>0.000222</td>\n",
       "    </tr>\n",
       "    <tr>\n",
       "      <th>271</th>\n",
       "      <td>2014</td>\n",
       "      <td>9.570666</td>\n",
       "      <td>0.090167</td>\n",
       "    </tr>\n",
       "    <tr>\n",
       "      <th>272</th>\n",
       "      <td>2015</td>\n",
       "      <td>9.831000</td>\n",
       "      <td>0.092167</td>\n",
       "    </tr>\n",
       "  </tbody>\n",
       "</table>\n",
       "<p>273 rows × 3 columns</p>\n",
       "</div>"
      ],
      "text/plain": [
       "     Year  LandAverageTemperature  LandAverageTemperatureUncertainty\n",
       "0    1743                0.000000                           0.000000\n",
       "1    1744                0.000000                           0.000000\n",
       "2    1745                0.000000                           0.000000\n",
       "3    1746                0.000000                           0.000000\n",
       "4    1747                0.000000                           0.000000\n",
       "..    ...                     ...                                ...\n",
       "268  2011                0.016267                           0.000140\n",
       "269  2012                0.016252                           0.000143\n",
       "270  2013                0.021883                           0.000222\n",
       "271  2014                9.570666                           0.090167\n",
       "272  2015                9.831000                           0.092167\n",
       "\n",
       "[273 rows x 3 columns]"
      ]
     },
     "execution_count": 81,
     "metadata": {},
     "output_type": "execute_result"
    }
   ],
   "source": [
    "df_year"
   ]
  },
  {
   "cell_type": "code",
   "execution_count": 82,
   "id": "386576a7",
   "metadata": {},
   "outputs": [],
   "source": [
    "df_year['Uncertainity_top']= df_year['LandAverageTemperature'] + df_year['LandAverageTemperatureUncertainty']\n",
    "df_year['Uncertainity_bottom']= df_year['LandAverageTemperature'] - df_year['LandAverageTemperatureUncertainty']"
   ]
  },
  {
   "cell_type": "code",
   "execution_count": 83,
   "id": "0742be10",
   "metadata": {},
   "outputs": [
    {
     "data": {
      "text/html": [
       "<div>\n",
       "<style scoped>\n",
       "    .dataframe tbody tr th:only-of-type {\n",
       "        vertical-align: middle;\n",
       "    }\n",
       "\n",
       "    .dataframe tbody tr th {\n",
       "        vertical-align: top;\n",
       "    }\n",
       "\n",
       "    .dataframe thead th {\n",
       "        text-align: right;\n",
       "    }\n",
       "</style>\n",
       "<table border=\"1\" class=\"dataframe\">\n",
       "  <thead>\n",
       "    <tr style=\"text-align: right;\">\n",
       "      <th></th>\n",
       "      <th>Year</th>\n",
       "      <th>LandAverageTemperature</th>\n",
       "      <th>LandAverageTemperatureUncertainty</th>\n",
       "      <th>Uncertainity_top</th>\n",
       "      <th>Uncertainity_bottom</th>\n",
       "    </tr>\n",
       "  </thead>\n",
       "  <tbody>\n",
       "    <tr>\n",
       "      <th>268</th>\n",
       "      <td>2011</td>\n",
       "      <td>0.016267</td>\n",
       "      <td>0.000140</td>\n",
       "      <td>0.016407</td>\n",
       "      <td>0.016126</td>\n",
       "    </tr>\n",
       "    <tr>\n",
       "      <th>269</th>\n",
       "      <td>2012</td>\n",
       "      <td>0.016252</td>\n",
       "      <td>0.000143</td>\n",
       "      <td>0.016394</td>\n",
       "      <td>0.016109</td>\n",
       "    </tr>\n",
       "    <tr>\n",
       "      <th>270</th>\n",
       "      <td>2013</td>\n",
       "      <td>0.021883</td>\n",
       "      <td>0.000222</td>\n",
       "      <td>0.022105</td>\n",
       "      <td>0.021660</td>\n",
       "    </tr>\n",
       "    <tr>\n",
       "      <th>271</th>\n",
       "      <td>2014</td>\n",
       "      <td>9.570666</td>\n",
       "      <td>0.090167</td>\n",
       "      <td>9.660833</td>\n",
       "      <td>9.480499</td>\n",
       "    </tr>\n",
       "    <tr>\n",
       "      <th>272</th>\n",
       "      <td>2015</td>\n",
       "      <td>9.831000</td>\n",
       "      <td>0.092167</td>\n",
       "      <td>9.923167</td>\n",
       "      <td>9.738833</td>\n",
       "    </tr>\n",
       "  </tbody>\n",
       "</table>\n",
       "</div>"
      ],
      "text/plain": [
       "     Year  LandAverageTemperature  LandAverageTemperatureUncertainty  \\\n",
       "268  2011                0.016267                           0.000140   \n",
       "269  2012                0.016252                           0.000143   \n",
       "270  2013                0.021883                           0.000222   \n",
       "271  2014                9.570666                           0.090167   \n",
       "272  2015                9.831000                           0.092167   \n",
       "\n",
       "     Uncertainity_top  Uncertainity_bottom  \n",
       "268          0.016407             0.016126  \n",
       "269          0.016394             0.016109  \n",
       "270          0.022105             0.021660  \n",
       "271          9.660833             9.480499  \n",
       "272          9.923167             9.738833  "
      ]
     },
     "execution_count": 83,
     "metadata": {},
     "output_type": "execute_result"
    }
   ],
   "source": [
    "df_year.tail()"
   ]
  },
  {
   "cell_type": "code",
   "execution_count": 84,
   "id": "f1d439fe",
   "metadata": {},
   "outputs": [
    {
     "data": {
      "application/vnd.plotly.v1+json": {
       "config": {
        "plotlyServerURL": "https://plot.ly"
       },
       "data": [
        {
         "hovertemplate": "variable=LandAverageTemperature<br>Year=%{x}<br>value=%{y}<extra></extra>",
         "legendgroup": "LandAverageTemperature",
         "line": {
          "color": "#636efa",
          "dash": "solid"
         },
         "marker": {
          "symbol": "circle"
         },
         "mode": "lines",
         "name": "LandAverageTemperature",
         "orientation": "v",
         "showlegend": true,
         "type": "scatter",
         "x": [
          1743,
          1744,
          1745,
          1746,
          1747,
          1748,
          1749,
          1750,
          1751,
          1752,
          1753,
          1754,
          1755,
          1756,
          1757,
          1758,
          1759,
          1760,
          1761,
          1762,
          1763,
          1764,
          1765,
          1766,
          1767,
          1768,
          1769,
          1770,
          1771,
          1772,
          1773,
          1774,
          1775,
          1776,
          1777,
          1778,
          1779,
          1780,
          1781,
          1782,
          1783,
          1784,
          1785,
          1786,
          1787,
          1788,
          1789,
          1790,
          1791,
          1792,
          1793,
          1794,
          1795,
          1796,
          1797,
          1798,
          1799,
          1800,
          1801,
          1802,
          1803,
          1804,
          1805,
          1806,
          1807,
          1808,
          1809,
          1810,
          1811,
          1812,
          1813,
          1814,
          1815,
          1816,
          1817,
          1818,
          1819,
          1820,
          1821,
          1822,
          1823,
          1824,
          1825,
          1826,
          1827,
          1828,
          1829,
          1830,
          1831,
          1832,
          1833,
          1834,
          1835,
          1836,
          1837,
          1838,
          1839,
          1840,
          1841,
          1842,
          1843,
          1844,
          1845,
          1846,
          1847,
          1848,
          1849,
          1850,
          1851,
          1852,
          1853,
          1854,
          1855,
          1856,
          1857,
          1858,
          1859,
          1860,
          1861,
          1862,
          1863,
          1864,
          1865,
          1866,
          1867,
          1868,
          1869,
          1870,
          1871,
          1872,
          1873,
          1874,
          1875,
          1876,
          1877,
          1878,
          1879,
          1880,
          1881,
          1882,
          1883,
          1884,
          1885,
          1886,
          1887,
          1888,
          1889,
          1890,
          1891,
          1892,
          1893,
          1894,
          1895,
          1896,
          1897,
          1898,
          1899,
          1900,
          1901,
          1902,
          1903,
          1904,
          1905,
          1906,
          1907,
          1908,
          1909,
          1910,
          1911,
          1912,
          1913,
          1914,
          1915,
          1916,
          1917,
          1918,
          1919,
          1920,
          1921,
          1922,
          1923,
          1924,
          1925,
          1926,
          1927,
          1928,
          1929,
          1930,
          1931,
          1932,
          1933,
          1934,
          1935,
          1936,
          1937,
          1938,
          1939,
          1940,
          1941,
          1942,
          1943,
          1944,
          1945,
          1946,
          1947,
          1948,
          1949,
          1950,
          1951,
          1952,
          1953,
          1954,
          1955,
          1956,
          1957,
          1958,
          1959,
          1960,
          1961,
          1962,
          1963,
          1964,
          1965,
          1966,
          1967,
          1968,
          1969,
          1970,
          1971,
          1972,
          1973,
          1974,
          1975,
          1976,
          1977,
          1978,
          1979,
          1980,
          1981,
          1982,
          1983,
          1984,
          1985,
          1986,
          1987,
          1988,
          1989,
          1990,
          1991,
          1992,
          1993,
          1994,
          1995,
          1996,
          1997,
          1998,
          1999,
          2000,
          2001,
          2002,
          2003,
          2004,
          2005,
          2006,
          2007,
          2008,
          2009,
          2010,
          2011,
          2012,
          2013,
          2014,
          2015
         ],
         "xaxis": "x",
         "y": [
          0,
          0,
          0,
          0,
          0,
          0,
          0,
          0.05550520867109299,
          0.032310765236616135,
          0.02006886526942253,
          0.056676238775253296,
          0.05722522363066673,
          0.056077741086483,
          0.059393174946308136,
          0.06055033579468727,
          0.04426860064268112,
          0.052190087735652924,
          0.04696187376976013,
          0.05696428567171097,
          0.05588636174798012,
          0.04836612939834595,
          0.054195698350667953,
          0.053238172084093094,
          0.054230108857154846,
          0.053041934967041016,
          0.04256067052483559,
          0.04580109193921089,
          0.045785218477249146,
          0.04674503952264786,
          0.048770833760499954,
          0.04893749952316284,
          0.05221527814865112,
          0.054018136113882065,
          0.04884706065058708,
          0.047291167080402374,
          0.0488128587603569,
          0.05080065876245499,
          0.05051093176007271,
          0.04332932084798813,
          0.04225267469882965,
          0.04107397422194481,
          0.04204278066754341,
          0.03937433287501335,
          0.044161319732666016,
          0.04097874090075493,
          0.04309779033064842,
          0.04252125695347786,
          0.0407261922955513,
          0.04144756868481636,
          0.0404449999332428,
          0.04114583134651184,
          0.04262999817728996,
          0.041751667857170105,
          0.033621951937675476,
          0.03459586575627327,
          0.03524491935968399,
          0.03457621857523918,
          0.03448881953954697,
          0.03491734340786934,
          0.03487059473991394,
          0.034565042704343796,
          0.03595460578799248,
          0.034807927906513214,
          0.03428489342331886,
          0.033664293587207794,
          0.0307533610612154,
          0.02785990759730339,
          0.02725459262728691,
          0.026900000870227814,
          0.026997126638889313,
          0.0296548530459404,
          0.029087163507938385,
          0.027736909687519073,
          0.024843329563736916,
          0.024612760171294212,
          0.027494000270962715,
          0.025440162047743797,
          0.024728083983063698,
          0.024577468633651733,
          0.024756865575909615,
          0.022972222417593002,
          0.023225996643304825,
          0.021790476515889168,
          0.02170541137456894,
          0.022879870608448982,
          0.02090548351407051,
          0.020038267597556114,
          0.021345237269997597,
          0.0191457811743021,
          0.01767536625266075,
          0.018854117020964622,
          0.019168823957443237,
          0.01727219671010971,
          0.0179390050470829,
          0.01715603843331337,
          0.01744612120091915,
          0.017565593123435974,
          0.017392639070749283,
          0.01636650785803795,
          0.017069680616259575,
          0.017099721357226372,
          0.01599651388823986,
          0.016288727521896362,
          0.017744295299053192,
          0.016775934025645256,
          0.016554979607462883,
          0.0159369595348835,
          0.015222864225506783,
          0.015667784959077835,
          0.015473097562789917,
          0.015259645879268646,
          0.015579696744680405,
          0.015236224047839642,
          0.014591088518500328,
          0.013957721181213856,
          0.014542639255523682,
          0.014788530766963959,
          0.014241204597055912,
          0.014036673121154308,
          0.013521616347134113,
          0.014511330053210258,
          0.014230986125767231,
          0.01457724254578352,
          0.014759121462702751,
          0.01485269982367754,
          0.01452097948640585,
          0.014845216646790504,
          0.01443896722048521,
          0.014287118799984455,
          0.014425762929022312,
          0.014702611602842808,
          0.014845533296465874,
          0.013812975957989693,
          0.014165230095386505,
          0.014955487102270126,
          0.015441125258803368,
          0.014275932684540749,
          0.014193618670105934,
          0.014438609592616558,
          0.014137246645987034,
          0.013777058571577072,
          0.013426021672785282,
          0.013678180985152721,
          0.013738341629505157,
          0.013669976964592934,
          0.013973229564726353,
          0.014367875643074512,
          0.013767991214990616,
          0.013850316405296326,
          0.013930627144873142,
          0.013914939947426319,
          0.014090935699641705,
          0.014046551659703255,
          0.014163649640977383,
          0.014298850670456886,
          0.014100000262260437,
          0.014476437121629715,
          0.014657902531325817,
          0.014727442525327206,
          0.014317959547042847,
          0.014123997651040554,
          0.01390191912651062,
          0.014132589101791382,
          0.014397050254046917,
          0.013654925860464573,
          0.014065435156226158,
          0.014051975682377815,
          0.01412886567413807,
          0.014049828052520752,
          0.01402992568910122,
          0.01425730250775814,
          0.014760308898985386,
          0.014764891006052494,
          0.014132732525467873,
          0.013785796239972115,
          0.013970503583550453,
          0.01440249104052782,
          0.014362113550305367,
          0.01472680363804102,
          0.014446735382080078,
          0.014471076428890228,
          0.01461655180901289,
          0.014663945883512497,
          0.0149979954585433,
          0.014642754569649696,
          0.014831901527941227,
          0.01416222844272852,
          0.014834336005151272,
          0.014981529675424099,
          0.014957474544644356,
          0.014326889999210835,
          0.014825315214693546,
          0.014631872996687889,
          0.014697594568133354,
          0.014945589937269688,
          0.015229668468236923,
          0.01505211926996708,
          0.015059564262628555,
          0.015066437423229218,
          0.014997279271483421,
          0.015043098479509354,
          0.01519759465008974,
          0.014750572852790356,
          0.01490879151970148,
          0.015115262940526009,
          0.01498158648610115,
          0.014703338965773582,
          0.014301610179245472,
          0.014744729734957218,
          0.014766239561140537,
          0.015168803744018078,
          0.014633618295192719,
          0.014745726250112057,
          0.0141531340777874,
          0.014927349984645844,
          0.014997863210737705,
          0.014927634969353676,
          0.014673076570034027,
          0.015038746409118176,
          0.014950284734368324,
          0.015138461254537106,
          0.01437549851834774,
          0.01457678060978651,
          0.014699715189635754,
          0.014871937222778797,
          0.014557834714651108,
          0.014692449942231178,
          0.014873362146317959,
          0.014699572697281837,
          0.01452920213341713,
          0.015296153724193573,
          0.014474359340965748,
          0.014948433265089989,
          0.014268803410232067,
          0.015128633007407188,
          0.014859401620924473,
          0.014928917400538921,
          0.01535099744796753,
          0.01566809043288231,
          0.01476780604571104,
          0.015432762913405895,
          0.01485783513635397,
          0.014800000004470348,
          0.015100142918527126,
          0.015375071205198765,
          0.015729201957583427,
          0.015251281671226025,
          0.01578490063548088,
          0.015691310167312622,
          0.01510527078062296,
          0.015156553126871586,
          0.015450854785740376,
          0.015977920964360237,
          0.015451139770448208,
          0.01573091186583042,
          0.016278062015771866,
          0.015871936455368996,
          0.01572849042713642,
          0.016093304380774498,
          0.016359686851501465,
          0.016283048316836357,
          0.015939459204673767,
          0.016582762822508812,
          0.016294872388243675,
          0.016636181622743607,
          0.01612265035510063,
          0.016248291358351707,
          0.016586467623710632,
          0.01626666635274887,
          0.016251852735877037,
          0.021882688626646996,
          9.570666313171387,
          9.831000328063965
         ],
         "yaxis": "y"
        },
        {
         "hovertemplate": "variable=Uncertainity_top<br>Year=%{x}<br>value=%{y}<extra></extra>",
         "legendgroup": "Uncertainity_top",
         "line": {
          "color": "#EF553B",
          "dash": "solid"
         },
         "marker": {
          "symbol": "circle"
         },
         "mode": "lines",
         "name": "Uncertainity_top",
         "orientation": "v",
         "showlegend": true,
         "type": "scatter",
         "x": [
          1743,
          1744,
          1745,
          1746,
          1747,
          1748,
          1749,
          1750,
          1751,
          1752,
          1753,
          1754,
          1755,
          1756,
          1757,
          1758,
          1759,
          1760,
          1761,
          1762,
          1763,
          1764,
          1765,
          1766,
          1767,
          1768,
          1769,
          1770,
          1771,
          1772,
          1773,
          1774,
          1775,
          1776,
          1777,
          1778,
          1779,
          1780,
          1781,
          1782,
          1783,
          1784,
          1785,
          1786,
          1787,
          1788,
          1789,
          1790,
          1791,
          1792,
          1793,
          1794,
          1795,
          1796,
          1797,
          1798,
          1799,
          1800,
          1801,
          1802,
          1803,
          1804,
          1805,
          1806,
          1807,
          1808,
          1809,
          1810,
          1811,
          1812,
          1813,
          1814,
          1815,
          1816,
          1817,
          1818,
          1819,
          1820,
          1821,
          1822,
          1823,
          1824,
          1825,
          1826,
          1827,
          1828,
          1829,
          1830,
          1831,
          1832,
          1833,
          1834,
          1835,
          1836,
          1837,
          1838,
          1839,
          1840,
          1841,
          1842,
          1843,
          1844,
          1845,
          1846,
          1847,
          1848,
          1849,
          1850,
          1851,
          1852,
          1853,
          1854,
          1855,
          1856,
          1857,
          1858,
          1859,
          1860,
          1861,
          1862,
          1863,
          1864,
          1865,
          1866,
          1867,
          1868,
          1869,
          1870,
          1871,
          1872,
          1873,
          1874,
          1875,
          1876,
          1877,
          1878,
          1879,
          1880,
          1881,
          1882,
          1883,
          1884,
          1885,
          1886,
          1887,
          1888,
          1889,
          1890,
          1891,
          1892,
          1893,
          1894,
          1895,
          1896,
          1897,
          1898,
          1899,
          1900,
          1901,
          1902,
          1903,
          1904,
          1905,
          1906,
          1907,
          1908,
          1909,
          1910,
          1911,
          1912,
          1913,
          1914,
          1915,
          1916,
          1917,
          1918,
          1919,
          1920,
          1921,
          1922,
          1923,
          1924,
          1925,
          1926,
          1927,
          1928,
          1929,
          1930,
          1931,
          1932,
          1933,
          1934,
          1935,
          1936,
          1937,
          1938,
          1939,
          1940,
          1941,
          1942,
          1943,
          1944,
          1945,
          1946,
          1947,
          1948,
          1949,
          1950,
          1951,
          1952,
          1953,
          1954,
          1955,
          1956,
          1957,
          1958,
          1959,
          1960,
          1961,
          1962,
          1963,
          1964,
          1965,
          1966,
          1967,
          1968,
          1969,
          1970,
          1971,
          1972,
          1973,
          1974,
          1975,
          1976,
          1977,
          1978,
          1979,
          1980,
          1981,
          1982,
          1983,
          1984,
          1985,
          1986,
          1987,
          1988,
          1989,
          1990,
          1991,
          1992,
          1993,
          1994,
          1995,
          1996,
          1997,
          1998,
          1999,
          2000,
          2001,
          2002,
          2003,
          2004,
          2005,
          2006,
          2007,
          2008,
          2009,
          2010,
          2011,
          2012,
          2013,
          2014,
          2015
         ],
         "xaxis": "x",
         "y": [
          0,
          0,
          0,
          0,
          0,
          0,
          0,
          0.0722968727350235,
          0.04357697069644928,
          0.030405670404434204,
          0.07813569903373718,
          0.0808350220322609,
          0.08191890269517899,
          0.08128802478313446,
          0.08757047355175018,
          0.06634464114904404,
          0.07623529434204102,
          0.06715087592601776,
          0.07738527655601501,
          0.07877109944820404,
          0.0686989277601242,
          0.07210053503513336,
          0.06890107691287994,
          0.07252580672502518,
          0.0721559152007103,
          0.05678242817521095,
          0.06014682725071907,
          0.06233680620789528,
          0.06224851310253143,
          0.06343650817871094,
          0.06298958510160446,
          0.07254365086555481,
          0.0676686242222786,
          0.06569509953260422,
          0.06128352880477905,
          0.06522714346647263,
          0.06497125327587128,
          0.06435207277536392,
          0.05671880394220352,
          0.055892158299684525,
          0.05441310256719589,
          0.05410517007112503,
          0.051350269466638565,
          0.057666219770908356,
          0.05302848666906357,
          0.05614795908331871,
          0.05205526947975159,
          0.04976530745625496,
          0.0504261776804924,
          0.048947080969810486,
          0.05251791328191757,
          0.05252499878406525,
          0.05196833610534668,
          0.0414295420050621,
          0.0429115816950798,
          0.04298204556107521,
          0.04164295271039009,
          0.04147526994347572,
          0.04134688153862953,
          0.04238685593008995,
          0.04120393097400665,
          0.043441735208034515,
          0.041673444211483,
          0.040667347609996796,
          0.040136855095624924,
          0.03880510851740837,
          0.03626706078648567,
          0.03635301813483238,
          0.03511862829327583,
          0.03517943620681763,
          0.03620210662484169,
          0.03739559277892113,
          0.03527139127254486,
          0.032696209847927094,
          0.03064039908349514,
          0.03391747176647186,
          0.03090132400393486,
          0.0299837663769722,
          0.028757214546203613,
          0.028914839029312134,
          0.02702653780579567,
          0.02716032601892948,
          0.025706926360726357,
          0.02575627714395523,
          0.026629436761140823,
          0.025125879794359207,
          0.023368166759610176,
          0.024932747706770897,
          0.022984126582741737,
          0.02132997289299965,
          0.021756470203399658,
          0.021880000829696655,
          0.02025194838643074,
          0.020664917305111885,
          0.02015875279903412,
          0.020144514739513397,
          0.0202800165861845,
          0.019603829830884933,
          0.01839311793446541,
          0.018979255110025406,
          0.018668409436941147,
          0.01793375238776207,
          0.018117565661668777,
          0.019926348701119423,
          0.018644537776708603,
          0.018362725153565407,
          0.01776047982275486,
          0.016911529004573822,
          0.01735728047788143,
          0.017227156087756157,
          0.016844086349010468,
          0.017146427184343338,
          0.016902785748243332,
          0.01597931794822216,
          0.015308995731174946,
          0.01579892262816429,
          0.015997610986232758,
          0.015361061319708824,
          0.015205576084554195,
          0.014754025265574455,
          0.015849433839321136,
          0.015436720103025436,
          0.015757575631141663,
          0.015837732702493668,
          0.015970364212989807,
          0.015482833608984947,
          0.015893924981355667,
          0.015407570637762547,
          0.015291079878807068,
          0.015462880954146385,
          0.015671800822019577,
          0.015757225453853607,
          0.014606473036110401,
          0.014925200492143631,
          0.015753939747810364,
          0.016184203326702118,
          0.015086101368069649,
          0.014918997883796692,
          0.015170643106102943,
          0.014797971583902836,
          0.01441724319010973,
          0.014110391028225422,
          0.01441220473498106,
          0.014405008405447006,
          0.01434714999049902,
          0.014633707702159882,
          0.015006620436906815,
          0.014360391534864902,
          0.014429476112127304,
          0.014515831135213375,
          0.014511226676404476,
          0.014638705179095268,
          0.014562499709427357,
          0.014696121215820312,
          0.014839942567050457,
          0.014661494642496109,
          0.015036351047456264,
          0.01520057488232851,
          0.01525545958429575,
          0.0148227009922266,
          0.014622279442846775,
          0.014394043944776058,
          0.014611541293561459,
          0.014869416132569313,
          0.014096792787313461,
          0.014537514187395573,
          0.014503436163067818,
          0.014575744047760963,
          0.014475658535957336,
          0.014473940245807171,
          0.014707904309034348,
          0.015193155035376549,
          0.015187857672572136,
          0.014580183662474155,
          0.014233676716685295,
          0.014431414194405079,
          0.014860824681818485,
          0.014813430607318878,
          0.01516809780150652,
          0.014891036786139011,
          0.014905927702784538,
          0.01505784597247839,
          0.015077605843544006,
          0.01541494857519865,
          0.015070446766912937,
          0.01525902096182108,
          0.014594788663089275,
          0.015246134251356125,
          0.015390034765005112,
          0.015385166741907597,
          0.014743843115866184,
          0.015237829647958279,
          0.015037228353321552,
          0.015115263871848583,
          0.01535810437053442,
          0.01564289815723896,
          0.015459908172488213,
          0.015456615015864372,
          0.01545790396630764,
          0.015391608700156212,
          0.015432417392730713,
          0.015584479086101055,
          0.015129152685403824,
          0.015290950424969196,
          0.015488258562982082,
          0.015340564772486687,
          0.015059931203722954,
          0.01462017372250557,
          0.015059544704854488,
          0.015123076736927032,
          0.015531339682638645,
          0.014953561127185822,
          0.015008261427283287,
          0.014359686523675919,
          0.015197435393929482,
          0.015176210552453995,
          0.01511082611978054,
          0.014832905493676662,
          0.01520455814898014,
          0.01517749298363924,
          0.01529629621654749,
          0.014533618465065956,
          0.014762820675969124,
          0.014857407659292221,
          0.015014957636594772,
          0.014748717658221722,
          0.01483803428709507,
          0.015002564527094364,
          0.01486695185303688,
          0.014692164957523346,
          0.015468375757336617,
          0.01465299166738987,
          0.01511438749730587,
          0.014440740458667278,
          0.015273362398147583,
          0.01503689493983984,
          0.01507663819938898,
          0.015533333644270897,
          0.01581723615527153,
          0.014909116551280022,
          0.015593446791172028,
          0.015033191069960594,
          0.014959401451051235,
          0.015245442278683186,
          0.015520655550062656,
          0.015866097062826157,
          0.015401708893477917,
          0.0159324798732996,
          0.015797436237335205,
          0.01524772122502327,
          0.015295584686100483,
          0.015572079457342625,
          0.016108548268675804,
          0.015596011653542519,
          0.015882335603237152,
          0.016404414549469948,
          0.016007406637072563,
          0.01587122492492199,
          0.01624273508787155,
          0.016483476385474205,
          0.016438033431768417,
          0.016082052141427994,
          0.01671125367283821,
          0.016448719426989555,
          0.01678917370736599,
          0.016257550567388535,
          0.01639515720307827,
          0.01672906056046486,
          0.016406837850809097,
          0.016394445672631264,
          0.02210516482591629,
          9.660833358764648,
          9.92316722869873
         ],
         "yaxis": "y"
        },
        {
         "hovertemplate": "variable=Uncertainity_bottom<br>Year=%{x}<br>value=%{y}<extra></extra>",
         "legendgroup": "Uncertainity_bottom",
         "line": {
          "color": "#00cc96",
          "dash": "solid"
         },
         "marker": {
          "symbol": "circle"
         },
         "mode": "lines",
         "name": "Uncertainity_bottom",
         "orientation": "v",
         "showlegend": true,
         "type": "scatter",
         "x": [
          1743,
          1744,
          1745,
          1746,
          1747,
          1748,
          1749,
          1750,
          1751,
          1752,
          1753,
          1754,
          1755,
          1756,
          1757,
          1758,
          1759,
          1760,
          1761,
          1762,
          1763,
          1764,
          1765,
          1766,
          1767,
          1768,
          1769,
          1770,
          1771,
          1772,
          1773,
          1774,
          1775,
          1776,
          1777,
          1778,
          1779,
          1780,
          1781,
          1782,
          1783,
          1784,
          1785,
          1786,
          1787,
          1788,
          1789,
          1790,
          1791,
          1792,
          1793,
          1794,
          1795,
          1796,
          1797,
          1798,
          1799,
          1800,
          1801,
          1802,
          1803,
          1804,
          1805,
          1806,
          1807,
          1808,
          1809,
          1810,
          1811,
          1812,
          1813,
          1814,
          1815,
          1816,
          1817,
          1818,
          1819,
          1820,
          1821,
          1822,
          1823,
          1824,
          1825,
          1826,
          1827,
          1828,
          1829,
          1830,
          1831,
          1832,
          1833,
          1834,
          1835,
          1836,
          1837,
          1838,
          1839,
          1840,
          1841,
          1842,
          1843,
          1844,
          1845,
          1846,
          1847,
          1848,
          1849,
          1850,
          1851,
          1852,
          1853,
          1854,
          1855,
          1856,
          1857,
          1858,
          1859,
          1860,
          1861,
          1862,
          1863,
          1864,
          1865,
          1866,
          1867,
          1868,
          1869,
          1870,
          1871,
          1872,
          1873,
          1874,
          1875,
          1876,
          1877,
          1878,
          1879,
          1880,
          1881,
          1882,
          1883,
          1884,
          1885,
          1886,
          1887,
          1888,
          1889,
          1890,
          1891,
          1892,
          1893,
          1894,
          1895,
          1896,
          1897,
          1898,
          1899,
          1900,
          1901,
          1902,
          1903,
          1904,
          1905,
          1906,
          1907,
          1908,
          1909,
          1910,
          1911,
          1912,
          1913,
          1914,
          1915,
          1916,
          1917,
          1918,
          1919,
          1920,
          1921,
          1922,
          1923,
          1924,
          1925,
          1926,
          1927,
          1928,
          1929,
          1930,
          1931,
          1932,
          1933,
          1934,
          1935,
          1936,
          1937,
          1938,
          1939,
          1940,
          1941,
          1942,
          1943,
          1944,
          1945,
          1946,
          1947,
          1948,
          1949,
          1950,
          1951,
          1952,
          1953,
          1954,
          1955,
          1956,
          1957,
          1958,
          1959,
          1960,
          1961,
          1962,
          1963,
          1964,
          1965,
          1966,
          1967,
          1968,
          1969,
          1970,
          1971,
          1972,
          1973,
          1974,
          1975,
          1976,
          1977,
          1978,
          1979,
          1980,
          1981,
          1982,
          1983,
          1984,
          1985,
          1986,
          1987,
          1988,
          1989,
          1990,
          1991,
          1992,
          1993,
          1994,
          1995,
          1996,
          1997,
          1998,
          1999,
          2000,
          2001,
          2002,
          2003,
          2004,
          2005,
          2006,
          2007,
          2008,
          2009,
          2010,
          2011,
          2012,
          2013,
          2014,
          2015
         ],
         "xaxis": "x",
         "y": [
          0,
          0,
          0,
          0,
          0,
          0,
          0,
          0.038713544607162476,
          0.02104456163942814,
          0.009732060134410858,
          0.03521677851676941,
          0.03361542522907257,
          0.03023657761514187,
          0.03749832138419151,
          0.03353020176291466,
          0.022192561998963356,
          0.02814488112926483,
          0.0267728753387928,
          0.03654329106211662,
          0.033001624047756195,
          0.028033332899212837,
          0.036290861666202545,
          0.037575267255306244,
          0.035934410989284515,
          0.033927954733371735,
          0.02833891287446022,
          0.03145535662770271,
          0.029233630746603012,
          0.031241565942764282,
          0.03410515934228897,
          0.03488541767001152,
          0.031886905431747437,
          0.040367648005485535,
          0.031999021768569946,
          0.033298805356025696,
          0.03239857405424118,
          0.036630064249038696,
          0.036669790744781494,
          0.029939837753772736,
          0.028613191097974777,
          0.027734847739338875,
          0.029980391263961792,
          0.027398396283388138,
          0.030656417831778526,
          0.02892899513244629,
          0.030047621577978134,
          0.03298724442720413,
          0.03168707713484764,
          0.03246895968914032,
          0.03194291889667511,
          0.02977374754846096,
          0.03273499757051468,
          0.03153499960899353,
          0.025814363732933998,
          0.026280147954821587,
          0.02750779315829277,
          0.027509484440088272,
          0.02750236913561821,
          0.028487803414463997,
          0.02735433354973793,
          0.02792615443468094,
          0.02846747823059559,
          0.027942413464188576,
          0.02790244109928608,
          0.027191732078790665,
          0.02270161360502243,
          0.01945275440812111,
          0.01815616711974144,
          0.018681373447179794,
          0.01881481520831585,
          0.02310759946703911,
          0.020778734236955643,
          0.020202426239848137,
          0.016990449279546738,
          0.018585121259093285,
          0.021070528775453568,
          0.019979000091552734,
          0.019472401589155197,
          0.020397722721099854,
          0.020598892122507095,
          0.018917907029390335,
          0.019291667267680168,
          0.01787402667105198,
          0.017654545605182648,
          0.01913030445575714,
          0.016685087233781815,
          0.016708368435502052,
          0.017757726833224297,
          0.015307435765862465,
          0.014020759612321854,
          0.015951763838529587,
          0.01645764708518982,
          0.014292445965111256,
          0.015213091857731342,
          0.014153324998915195,
          0.01474772673100233,
          0.014851170592010021,
          0.015181447379291058,
          0.014339897781610489,
          0.015160106122493744,
          0.015531032346189022,
          0.014059275388717651,
          0.014459889382123947,
          0.015562241896986961,
          0.014907331205904484,
          0.01474723406136036,
          0.014113440178334713,
          0.013534200377762318,
          0.013978289440274239,
          0.013719038106501102,
          0.013675205409526825,
          0.014012966305017471,
          0.013569661416113377,
          0.013202859088778496,
          0.012606446631252766,
          0.013286355882883072,
          0.01357945054769516,
          0.013121347874403,
          0.012867770157754421,
          0.012289207428693771,
          0.01317322626709938,
          0.013025252148509026,
          0.013396909460425377,
          0.013680510222911835,
          0.013735035434365273,
          0.013559125363826752,
          0.013796507380902767,
          0.013470363803207874,
          0.013283157721161842,
          0.01338864490389824,
          0.013733421452343464,
          0.013933842070400715,
          0.013019478879868984,
          0.01340525969862938,
          0.014157034456729889,
          0.014698047190904617,
          0.013465764001011848,
          0.013468239456415176,
          0.013706576079130173,
          0.013476521708071232,
          0.013136873953044415,
          0.012741652317345142,
          0.012944157235324383,
          0.013071674853563309,
          0.012992803938686848,
          0.013312751427292824,
          0.01372913084924221,
          0.01317559089511633,
          0.013271156698465347,
          0.01334542315453291,
          0.013318653218448162,
          0.013543166220188141,
          0.013530603609979153,
          0.013631178066134453,
          0.013757758773863316,
          0.013538505882024765,
          0.013916523195803165,
          0.014115230180323124,
          0.014199425466358662,
          0.013813218101859093,
          0.013625715859234333,
          0.013409794308245182,
          0.013653636910021305,
          0.013924684375524521,
          0.013213058933615685,
          0.013593356125056744,
          0.013600515201687813,
          0.013681987300515175,
          0.013623997569084167,
          0.013585911132395267,
          0.013806700706481934,
          0.014327462762594223,
          0.014341924339532852,
          0.01368528138846159,
          0.013337915763258934,
          0.013509592972695827,
          0.013944157399237156,
          0.013910796493291855,
          0.01428550947457552,
          0.014002433978021145,
          0.014036225154995918,
          0.01417525764554739,
          0.014250285923480988,
          0.014581042341887951,
          0.014215062372386456,
          0.014404782094061375,
          0.013729668222367764,
          0.014422537758946419,
          0.014573024585843086,
          0.014529782347381115,
          0.013909936882555485,
          0.014412800781428814,
          0.014226517640054226,
          0.014279925264418125,
          0.014533075504004955,
          0.014816437847912312,
          0.014644330367445946,
          0.014662513509392738,
          0.014674970880150795,
          0.01460294984281063,
          0.014653779566287994,
          0.014810710214078426,
          0.014371993020176888,
          0.014526632614433765,
          0.014742267318069935,
          0.014622608199715614,
          0.014346746727824211,
          0.013983046635985374,
          0.014429914765059948,
          0.014409402385354042,
          0.01480626780539751,
          0.014313675463199615,
          0.014483191072940826,
          0.01394658163189888,
          0.014657264575362206,
          0.014819515869021416,
          0.014744443818926811,
          0.014513247646391392,
          0.01487293466925621,
          0.014723076485097408,
          0.014980626292526722,
          0.014217378571629524,
          0.014390740543603897,
          0.014542022719979286,
          0.014728916808962822,
          0.014366951771080494,
          0.014546865597367287,
          0.014744159765541553,
          0.014532193541526794,
          0.014366239309310913,
          0.01512393169105053,
          0.014295727014541626,
          0.014782479032874107,
          0.014096866361796856,
          0.014983903616666794,
          0.014681908302009106,
          0.014781196601688862,
          0.015168661251664162,
          0.015518944710493088,
          0.01462649554014206,
          0.015272079035639763,
          0.014682479202747345,
          0.014640598557889462,
          0.014954843558371067,
          0.015229486860334873,
          0.015592307783663273,
          0.015100854448974133,
          0.015637321397662163,
          0.015585185028612614,
          0.014962820336222649,
          0.015017521567642689,
          0.015329630114138126,
          0.01584729366004467,
          0.015306267887353897,
          0.015579487197101116,
          0.016151709482073784,
          0.015736466273665428,
          0.015585754998028278,
          0.015943873673677444,
          0.016235897317528725,
          0.016128063201904297,
          0.01579686626791954,
          0.016454271972179413,
          0.016141025349497795,
          0.016483189538121223,
          0.01598775014281273,
          0.016101425513625145,
          0.016443874686956406,
          0.016126494854688644,
          0.01610925979912281,
          0.0216602124273777,
          9.480499267578125,
          9.7388334274292
         ],
         "yaxis": "y"
        }
       ],
       "layout": {
        "legend": {
         "title": {
          "text": "variable"
         },
         "tracegroupgap": 0
        },
        "template": {
         "data": {
          "bar": [
           {
            "error_x": {
             "color": "#2a3f5f"
            },
            "error_y": {
             "color": "#2a3f5f"
            },
            "marker": {
             "line": {
              "color": "#E5ECF6",
              "width": 0.5
             },
             "pattern": {
              "fillmode": "overlay",
              "size": 10,
              "solidity": 0.2
             }
            },
            "type": "bar"
           }
          ],
          "barpolar": [
           {
            "marker": {
             "line": {
              "color": "#E5ECF6",
              "width": 0.5
             },
             "pattern": {
              "fillmode": "overlay",
              "size": 10,
              "solidity": 0.2
             }
            },
            "type": "barpolar"
           }
          ],
          "carpet": [
           {
            "aaxis": {
             "endlinecolor": "#2a3f5f",
             "gridcolor": "white",
             "linecolor": "white",
             "minorgridcolor": "white",
             "startlinecolor": "#2a3f5f"
            },
            "baxis": {
             "endlinecolor": "#2a3f5f",
             "gridcolor": "white",
             "linecolor": "white",
             "minorgridcolor": "white",
             "startlinecolor": "#2a3f5f"
            },
            "type": "carpet"
           }
          ],
          "choropleth": [
           {
            "colorbar": {
             "outlinewidth": 0,
             "ticks": ""
            },
            "type": "choropleth"
           }
          ],
          "contour": [
           {
            "colorbar": {
             "outlinewidth": 0,
             "ticks": ""
            },
            "colorscale": [
             [
              0,
              "#0d0887"
             ],
             [
              0.1111111111111111,
              "#46039f"
             ],
             [
              0.2222222222222222,
              "#7201a8"
             ],
             [
              0.3333333333333333,
              "#9c179e"
             ],
             [
              0.4444444444444444,
              "#bd3786"
             ],
             [
              0.5555555555555556,
              "#d8576b"
             ],
             [
              0.6666666666666666,
              "#ed7953"
             ],
             [
              0.7777777777777778,
              "#fb9f3a"
             ],
             [
              0.8888888888888888,
              "#fdca26"
             ],
             [
              1,
              "#f0f921"
             ]
            ],
            "type": "contour"
           }
          ],
          "contourcarpet": [
           {
            "colorbar": {
             "outlinewidth": 0,
             "ticks": ""
            },
            "type": "contourcarpet"
           }
          ],
          "heatmap": [
           {
            "colorbar": {
             "outlinewidth": 0,
             "ticks": ""
            },
            "colorscale": [
             [
              0,
              "#0d0887"
             ],
             [
              0.1111111111111111,
              "#46039f"
             ],
             [
              0.2222222222222222,
              "#7201a8"
             ],
             [
              0.3333333333333333,
              "#9c179e"
             ],
             [
              0.4444444444444444,
              "#bd3786"
             ],
             [
              0.5555555555555556,
              "#d8576b"
             ],
             [
              0.6666666666666666,
              "#ed7953"
             ],
             [
              0.7777777777777778,
              "#fb9f3a"
             ],
             [
              0.8888888888888888,
              "#fdca26"
             ],
             [
              1,
              "#f0f921"
             ]
            ],
            "type": "heatmap"
           }
          ],
          "heatmapgl": [
           {
            "colorbar": {
             "outlinewidth": 0,
             "ticks": ""
            },
            "colorscale": [
             [
              0,
              "#0d0887"
             ],
             [
              0.1111111111111111,
              "#46039f"
             ],
             [
              0.2222222222222222,
              "#7201a8"
             ],
             [
              0.3333333333333333,
              "#9c179e"
             ],
             [
              0.4444444444444444,
              "#bd3786"
             ],
             [
              0.5555555555555556,
              "#d8576b"
             ],
             [
              0.6666666666666666,
              "#ed7953"
             ],
             [
              0.7777777777777778,
              "#fb9f3a"
             ],
             [
              0.8888888888888888,
              "#fdca26"
             ],
             [
              1,
              "#f0f921"
             ]
            ],
            "type": "heatmapgl"
           }
          ],
          "histogram": [
           {
            "marker": {
             "pattern": {
              "fillmode": "overlay",
              "size": 10,
              "solidity": 0.2
             }
            },
            "type": "histogram"
           }
          ],
          "histogram2d": [
           {
            "colorbar": {
             "outlinewidth": 0,
             "ticks": ""
            },
            "colorscale": [
             [
              0,
              "#0d0887"
             ],
             [
              0.1111111111111111,
              "#46039f"
             ],
             [
              0.2222222222222222,
              "#7201a8"
             ],
             [
              0.3333333333333333,
              "#9c179e"
             ],
             [
              0.4444444444444444,
              "#bd3786"
             ],
             [
              0.5555555555555556,
              "#d8576b"
             ],
             [
              0.6666666666666666,
              "#ed7953"
             ],
             [
              0.7777777777777778,
              "#fb9f3a"
             ],
             [
              0.8888888888888888,
              "#fdca26"
             ],
             [
              1,
              "#f0f921"
             ]
            ],
            "type": "histogram2d"
           }
          ],
          "histogram2dcontour": [
           {
            "colorbar": {
             "outlinewidth": 0,
             "ticks": ""
            },
            "colorscale": [
             [
              0,
              "#0d0887"
             ],
             [
              0.1111111111111111,
              "#46039f"
             ],
             [
              0.2222222222222222,
              "#7201a8"
             ],
             [
              0.3333333333333333,
              "#9c179e"
             ],
             [
              0.4444444444444444,
              "#bd3786"
             ],
             [
              0.5555555555555556,
              "#d8576b"
             ],
             [
              0.6666666666666666,
              "#ed7953"
             ],
             [
              0.7777777777777778,
              "#fb9f3a"
             ],
             [
              0.8888888888888888,
              "#fdca26"
             ],
             [
              1,
              "#f0f921"
             ]
            ],
            "type": "histogram2dcontour"
           }
          ],
          "mesh3d": [
           {
            "colorbar": {
             "outlinewidth": 0,
             "ticks": ""
            },
            "type": "mesh3d"
           }
          ],
          "parcoords": [
           {
            "line": {
             "colorbar": {
              "outlinewidth": 0,
              "ticks": ""
             }
            },
            "type": "parcoords"
           }
          ],
          "pie": [
           {
            "automargin": true,
            "type": "pie"
           }
          ],
          "scatter": [
           {
            "marker": {
             "colorbar": {
              "outlinewidth": 0,
              "ticks": ""
             }
            },
            "type": "scatter"
           }
          ],
          "scatter3d": [
           {
            "line": {
             "colorbar": {
              "outlinewidth": 0,
              "ticks": ""
             }
            },
            "marker": {
             "colorbar": {
              "outlinewidth": 0,
              "ticks": ""
             }
            },
            "type": "scatter3d"
           }
          ],
          "scattercarpet": [
           {
            "marker": {
             "colorbar": {
              "outlinewidth": 0,
              "ticks": ""
             }
            },
            "type": "scattercarpet"
           }
          ],
          "scattergeo": [
           {
            "marker": {
             "colorbar": {
              "outlinewidth": 0,
              "ticks": ""
             }
            },
            "type": "scattergeo"
           }
          ],
          "scattergl": [
           {
            "marker": {
             "colorbar": {
              "outlinewidth": 0,
              "ticks": ""
             }
            },
            "type": "scattergl"
           }
          ],
          "scattermapbox": [
           {
            "marker": {
             "colorbar": {
              "outlinewidth": 0,
              "ticks": ""
             }
            },
            "type": "scattermapbox"
           }
          ],
          "scatterpolar": [
           {
            "marker": {
             "colorbar": {
              "outlinewidth": 0,
              "ticks": ""
             }
            },
            "type": "scatterpolar"
           }
          ],
          "scatterpolargl": [
           {
            "marker": {
             "colorbar": {
              "outlinewidth": 0,
              "ticks": ""
             }
            },
            "type": "scatterpolargl"
           }
          ],
          "scatterternary": [
           {
            "marker": {
             "colorbar": {
              "outlinewidth": 0,
              "ticks": ""
             }
            },
            "type": "scatterternary"
           }
          ],
          "surface": [
           {
            "colorbar": {
             "outlinewidth": 0,
             "ticks": ""
            },
            "colorscale": [
             [
              0,
              "#0d0887"
             ],
             [
              0.1111111111111111,
              "#46039f"
             ],
             [
              0.2222222222222222,
              "#7201a8"
             ],
             [
              0.3333333333333333,
              "#9c179e"
             ],
             [
              0.4444444444444444,
              "#bd3786"
             ],
             [
              0.5555555555555556,
              "#d8576b"
             ],
             [
              0.6666666666666666,
              "#ed7953"
             ],
             [
              0.7777777777777778,
              "#fb9f3a"
             ],
             [
              0.8888888888888888,
              "#fdca26"
             ],
             [
              1,
              "#f0f921"
             ]
            ],
            "type": "surface"
           }
          ],
          "table": [
           {
            "cells": {
             "fill": {
              "color": "#EBF0F8"
             },
             "line": {
              "color": "white"
             }
            },
            "header": {
             "fill": {
              "color": "#C8D4E3"
             },
             "line": {
              "color": "white"
             }
            },
            "type": "table"
           }
          ]
         },
         "layout": {
          "annotationdefaults": {
           "arrowcolor": "#2a3f5f",
           "arrowhead": 0,
           "arrowwidth": 1
          },
          "autotypenumbers": "strict",
          "coloraxis": {
           "colorbar": {
            "outlinewidth": 0,
            "ticks": ""
           }
          },
          "colorscale": {
           "diverging": [
            [
             0,
             "#8e0152"
            ],
            [
             0.1,
             "#c51b7d"
            ],
            [
             0.2,
             "#de77ae"
            ],
            [
             0.3,
             "#f1b6da"
            ],
            [
             0.4,
             "#fde0ef"
            ],
            [
             0.5,
             "#f7f7f7"
            ],
            [
             0.6,
             "#e6f5d0"
            ],
            [
             0.7,
             "#b8e186"
            ],
            [
             0.8,
             "#7fbc41"
            ],
            [
             0.9,
             "#4d9221"
            ],
            [
             1,
             "#276419"
            ]
           ],
           "sequential": [
            [
             0,
             "#0d0887"
            ],
            [
             0.1111111111111111,
             "#46039f"
            ],
            [
             0.2222222222222222,
             "#7201a8"
            ],
            [
             0.3333333333333333,
             "#9c179e"
            ],
            [
             0.4444444444444444,
             "#bd3786"
            ],
            [
             0.5555555555555556,
             "#d8576b"
            ],
            [
             0.6666666666666666,
             "#ed7953"
            ],
            [
             0.7777777777777778,
             "#fb9f3a"
            ],
            [
             0.8888888888888888,
             "#fdca26"
            ],
            [
             1,
             "#f0f921"
            ]
           ],
           "sequentialminus": [
            [
             0,
             "#0d0887"
            ],
            [
             0.1111111111111111,
             "#46039f"
            ],
            [
             0.2222222222222222,
             "#7201a8"
            ],
            [
             0.3333333333333333,
             "#9c179e"
            ],
            [
             0.4444444444444444,
             "#bd3786"
            ],
            [
             0.5555555555555556,
             "#d8576b"
            ],
            [
             0.6666666666666666,
             "#ed7953"
            ],
            [
             0.7777777777777778,
             "#fb9f3a"
            ],
            [
             0.8888888888888888,
             "#fdca26"
            ],
            [
             1,
             "#f0f921"
            ]
           ]
          },
          "colorway": [
           "#636efa",
           "#EF553B",
           "#00cc96",
           "#ab63fa",
           "#FFA15A",
           "#19d3f3",
           "#FF6692",
           "#B6E880",
           "#FF97FF",
           "#FECB52"
          ],
          "font": {
           "color": "#2a3f5f"
          },
          "geo": {
           "bgcolor": "white",
           "lakecolor": "white",
           "landcolor": "#E5ECF6",
           "showlakes": true,
           "showland": true,
           "subunitcolor": "white"
          },
          "hoverlabel": {
           "align": "left"
          },
          "hovermode": "closest",
          "mapbox": {
           "style": "light"
          },
          "paper_bgcolor": "white",
          "plot_bgcolor": "#E5ECF6",
          "polar": {
           "angularaxis": {
            "gridcolor": "white",
            "linecolor": "white",
            "ticks": ""
           },
           "bgcolor": "#E5ECF6",
           "radialaxis": {
            "gridcolor": "white",
            "linecolor": "white",
            "ticks": ""
           }
          },
          "scene": {
           "xaxis": {
            "backgroundcolor": "#E5ECF6",
            "gridcolor": "white",
            "gridwidth": 2,
            "linecolor": "white",
            "showbackground": true,
            "ticks": "",
            "zerolinecolor": "white"
           },
           "yaxis": {
            "backgroundcolor": "#E5ECF6",
            "gridcolor": "white",
            "gridwidth": 2,
            "linecolor": "white",
            "showbackground": true,
            "ticks": "",
            "zerolinecolor": "white"
           },
           "zaxis": {
            "backgroundcolor": "#E5ECF6",
            "gridcolor": "white",
            "gridwidth": 2,
            "linecolor": "white",
            "showbackground": true,
            "ticks": "",
            "zerolinecolor": "white"
           }
          },
          "shapedefaults": {
           "line": {
            "color": "#2a3f5f"
           }
          },
          "ternary": {
           "aaxis": {
            "gridcolor": "white",
            "linecolor": "white",
            "ticks": ""
           },
           "baxis": {
            "gridcolor": "white",
            "linecolor": "white",
            "ticks": ""
           },
           "bgcolor": "#E5ECF6",
           "caxis": {
            "gridcolor": "white",
            "linecolor": "white",
            "ticks": ""
           }
          },
          "title": {
           "x": 0.05
          },
          "xaxis": {
           "automargin": true,
           "gridcolor": "white",
           "linecolor": "white",
           "ticks": "",
           "title": {
            "standoff": 15
           },
           "zerolinecolor": "white",
           "zerolinewidth": 2
          },
          "yaxis": {
           "automargin": true,
           "gridcolor": "white",
           "linecolor": "white",
           "ticks": "",
           "title": {
            "standoff": 15
           },
           "zerolinecolor": "white",
           "zerolinewidth": 2
          }
         }
        },
        "title": {
         "text": "Average land temperature in World"
        },
        "xaxis": {
         "anchor": "y",
         "domain": [
          0,
          1
         ],
         "title": {
          "text": "Year"
         }
        },
        "yaxis": {
         "anchor": "x",
         "domain": [
          0,
          1
         ],
         "title": {
          "text": "value"
         }
        }
       }
      },
      "text/html": [
       "<div>                            <div id=\"5c1a836f-c07a-427d-94c3-8bcb3e6bb7fd\" class=\"plotly-graph-div\" style=\"height:525px; width:100%;\"></div>            <script type=\"text/javascript\">                require([\"plotly\"], function(Plotly) {                    window.PLOTLYENV=window.PLOTLYENV || {};                                    if (document.getElementById(\"5c1a836f-c07a-427d-94c3-8bcb3e6bb7fd\")) {                    Plotly.newPlot(                        \"5c1a836f-c07a-427d-94c3-8bcb3e6bb7fd\",                        [{\"hovertemplate\":\"variable=LandAverageTemperature<br>Year=%{x}<br>value=%{y}<extra></extra>\",\"legendgroup\":\"LandAverageTemperature\",\"line\":{\"color\":\"#636efa\",\"dash\":\"solid\"},\"marker\":{\"symbol\":\"circle\"},\"mode\":\"lines\",\"name\":\"LandAverageTemperature\",\"orientation\":\"v\",\"showlegend\":true,\"type\":\"scatter\",\"x\":[1743,1744,1745,1746,1747,1748,1749,1750,1751,1752,1753,1754,1755,1756,1757,1758,1759,1760,1761,1762,1763,1764,1765,1766,1767,1768,1769,1770,1771,1772,1773,1774,1775,1776,1777,1778,1779,1780,1781,1782,1783,1784,1785,1786,1787,1788,1789,1790,1791,1792,1793,1794,1795,1796,1797,1798,1799,1800,1801,1802,1803,1804,1805,1806,1807,1808,1809,1810,1811,1812,1813,1814,1815,1816,1817,1818,1819,1820,1821,1822,1823,1824,1825,1826,1827,1828,1829,1830,1831,1832,1833,1834,1835,1836,1837,1838,1839,1840,1841,1842,1843,1844,1845,1846,1847,1848,1849,1850,1851,1852,1853,1854,1855,1856,1857,1858,1859,1860,1861,1862,1863,1864,1865,1866,1867,1868,1869,1870,1871,1872,1873,1874,1875,1876,1877,1878,1879,1880,1881,1882,1883,1884,1885,1886,1887,1888,1889,1890,1891,1892,1893,1894,1895,1896,1897,1898,1899,1900,1901,1902,1903,1904,1905,1906,1907,1908,1909,1910,1911,1912,1913,1914,1915,1916,1917,1918,1919,1920,1921,1922,1923,1924,1925,1926,1927,1928,1929,1930,1931,1932,1933,1934,1935,1936,1937,1938,1939,1940,1941,1942,1943,1944,1945,1946,1947,1948,1949,1950,1951,1952,1953,1954,1955,1956,1957,1958,1959,1960,1961,1962,1963,1964,1965,1966,1967,1968,1969,1970,1971,1972,1973,1974,1975,1976,1977,1978,1979,1980,1981,1982,1983,1984,1985,1986,1987,1988,1989,1990,1991,1992,1993,1994,1995,1996,1997,1998,1999,2000,2001,2002,2003,2004,2005,2006,2007,2008,2009,2010,2011,2012,2013,2014,2015],\"xaxis\":\"x\",\"y\":[0.0,0.0,0.0,0.0,0.0,0.0,0.0,0.05550520867109299,0.032310765236616135,0.02006886526942253,0.056676238775253296,0.05722522363066673,0.056077741086483,0.059393174946308136,0.06055033579468727,0.04426860064268112,0.052190087735652924,0.04696187376976013,0.05696428567171097,0.05588636174798012,0.04836612939834595,0.054195698350667953,0.053238172084093094,0.054230108857154846,0.053041934967041016,0.04256067052483559,0.04580109193921089,0.045785218477249146,0.04674503952264786,0.048770833760499954,0.04893749952316284,0.05221527814865112,0.054018136113882065,0.04884706065058708,0.047291167080402374,0.0488128587603569,0.05080065876245499,0.05051093176007271,0.04332932084798813,0.04225267469882965,0.04107397422194481,0.04204278066754341,0.03937433287501335,0.044161319732666016,0.04097874090075493,0.04309779033064842,0.04252125695347786,0.0407261922955513,0.04144756868481636,0.0404449999332428,0.04114583134651184,0.04262999817728996,0.041751667857170105,0.033621951937675476,0.03459586575627327,0.03524491935968399,0.03457621857523918,0.03448881953954697,0.03491734340786934,0.03487059473991394,0.034565042704343796,0.03595460578799248,0.034807927906513214,0.03428489342331886,0.033664293587207794,0.0307533610612154,0.02785990759730339,0.02725459262728691,0.026900000870227814,0.026997126638889313,0.0296548530459404,0.029087163507938385,0.027736909687519073,0.024843329563736916,0.024612760171294212,0.027494000270962715,0.025440162047743797,0.024728083983063698,0.024577468633651733,0.024756865575909615,0.022972222417593002,0.023225996643304825,0.021790476515889168,0.02170541137456894,0.022879870608448982,0.02090548351407051,0.020038267597556114,0.021345237269997597,0.0191457811743021,0.01767536625266075,0.018854117020964622,0.019168823957443237,0.01727219671010971,0.0179390050470829,0.01715603843331337,0.01744612120091915,0.017565593123435974,0.017392639070749283,0.01636650785803795,0.017069680616259575,0.017099721357226372,0.01599651388823986,0.016288727521896362,0.017744295299053192,0.016775934025645256,0.016554979607462883,0.0159369595348835,0.015222864225506783,0.015667784959077835,0.015473097562789917,0.015259645879268646,0.015579696744680405,0.015236224047839642,0.014591088518500328,0.013957721181213856,0.014542639255523682,0.014788530766963959,0.014241204597055912,0.014036673121154308,0.013521616347134113,0.014511330053210258,0.014230986125767231,0.01457724254578352,0.014759121462702751,0.01485269982367754,0.01452097948640585,0.014845216646790504,0.01443896722048521,0.014287118799984455,0.014425762929022312,0.014702611602842808,0.014845533296465874,0.013812975957989693,0.014165230095386505,0.014955487102270126,0.015441125258803368,0.014275932684540749,0.014193618670105934,0.014438609592616558,0.014137246645987034,0.013777058571577072,0.013426021672785282,0.013678180985152721,0.013738341629505157,0.013669976964592934,0.013973229564726353,0.014367875643074512,0.013767991214990616,0.013850316405296326,0.013930627144873142,0.013914939947426319,0.014090935699641705,0.014046551659703255,0.014163649640977383,0.014298850670456886,0.014100000262260437,0.014476437121629715,0.014657902531325817,0.014727442525327206,0.014317959547042847,0.014123997651040554,0.01390191912651062,0.014132589101791382,0.014397050254046917,0.013654925860464573,0.014065435156226158,0.014051975682377815,0.01412886567413807,0.014049828052520752,0.01402992568910122,0.01425730250775814,0.014760308898985386,0.014764891006052494,0.014132732525467873,0.013785796239972115,0.013970503583550453,0.01440249104052782,0.014362113550305367,0.01472680363804102,0.014446735382080078,0.014471076428890228,0.01461655180901289,0.014663945883512497,0.0149979954585433,0.014642754569649696,0.014831901527941227,0.01416222844272852,0.014834336005151272,0.014981529675424099,0.014957474544644356,0.014326889999210835,0.014825315214693546,0.014631872996687889,0.014697594568133354,0.014945589937269688,0.015229668468236923,0.01505211926996708,0.015059564262628555,0.015066437423229218,0.014997279271483421,0.015043098479509354,0.01519759465008974,0.014750572852790356,0.01490879151970148,0.015115262940526009,0.01498158648610115,0.014703338965773582,0.014301610179245472,0.014744729734957218,0.014766239561140537,0.015168803744018078,0.014633618295192719,0.014745726250112057,0.0141531340777874,0.014927349984645844,0.014997863210737705,0.014927634969353676,0.014673076570034027,0.015038746409118176,0.014950284734368324,0.015138461254537106,0.01437549851834774,0.01457678060978651,0.014699715189635754,0.014871937222778797,0.014557834714651108,0.014692449942231178,0.014873362146317959,0.014699572697281837,0.01452920213341713,0.015296153724193573,0.014474359340965748,0.014948433265089989,0.014268803410232067,0.015128633007407188,0.014859401620924473,0.014928917400538921,0.01535099744796753,0.01566809043288231,0.01476780604571104,0.015432762913405895,0.01485783513635397,0.014800000004470348,0.015100142918527126,0.015375071205198765,0.015729201957583427,0.015251281671226025,0.01578490063548088,0.015691310167312622,0.01510527078062296,0.015156553126871586,0.015450854785740376,0.015977920964360237,0.015451139770448208,0.01573091186583042,0.016278062015771866,0.015871936455368996,0.01572849042713642,0.016093304380774498,0.016359686851501465,0.016283048316836357,0.015939459204673767,0.016582762822508812,0.016294872388243675,0.016636181622743607,0.01612265035510063,0.016248291358351707,0.016586467623710632,0.01626666635274887,0.016251852735877037,0.021882688626646996,9.570666313171387,9.831000328063965],\"yaxis\":\"y\"},{\"hovertemplate\":\"variable=Uncertainity_top<br>Year=%{x}<br>value=%{y}<extra></extra>\",\"legendgroup\":\"Uncertainity_top\",\"line\":{\"color\":\"#EF553B\",\"dash\":\"solid\"},\"marker\":{\"symbol\":\"circle\"},\"mode\":\"lines\",\"name\":\"Uncertainity_top\",\"orientation\":\"v\",\"showlegend\":true,\"type\":\"scatter\",\"x\":[1743,1744,1745,1746,1747,1748,1749,1750,1751,1752,1753,1754,1755,1756,1757,1758,1759,1760,1761,1762,1763,1764,1765,1766,1767,1768,1769,1770,1771,1772,1773,1774,1775,1776,1777,1778,1779,1780,1781,1782,1783,1784,1785,1786,1787,1788,1789,1790,1791,1792,1793,1794,1795,1796,1797,1798,1799,1800,1801,1802,1803,1804,1805,1806,1807,1808,1809,1810,1811,1812,1813,1814,1815,1816,1817,1818,1819,1820,1821,1822,1823,1824,1825,1826,1827,1828,1829,1830,1831,1832,1833,1834,1835,1836,1837,1838,1839,1840,1841,1842,1843,1844,1845,1846,1847,1848,1849,1850,1851,1852,1853,1854,1855,1856,1857,1858,1859,1860,1861,1862,1863,1864,1865,1866,1867,1868,1869,1870,1871,1872,1873,1874,1875,1876,1877,1878,1879,1880,1881,1882,1883,1884,1885,1886,1887,1888,1889,1890,1891,1892,1893,1894,1895,1896,1897,1898,1899,1900,1901,1902,1903,1904,1905,1906,1907,1908,1909,1910,1911,1912,1913,1914,1915,1916,1917,1918,1919,1920,1921,1922,1923,1924,1925,1926,1927,1928,1929,1930,1931,1932,1933,1934,1935,1936,1937,1938,1939,1940,1941,1942,1943,1944,1945,1946,1947,1948,1949,1950,1951,1952,1953,1954,1955,1956,1957,1958,1959,1960,1961,1962,1963,1964,1965,1966,1967,1968,1969,1970,1971,1972,1973,1974,1975,1976,1977,1978,1979,1980,1981,1982,1983,1984,1985,1986,1987,1988,1989,1990,1991,1992,1993,1994,1995,1996,1997,1998,1999,2000,2001,2002,2003,2004,2005,2006,2007,2008,2009,2010,2011,2012,2013,2014,2015],\"xaxis\":\"x\",\"y\":[0.0,0.0,0.0,0.0,0.0,0.0,0.0,0.0722968727350235,0.04357697069644928,0.030405670404434204,0.07813569903373718,0.0808350220322609,0.08191890269517899,0.08128802478313446,0.08757047355175018,0.06634464114904404,0.07623529434204102,0.06715087592601776,0.07738527655601501,0.07877109944820404,0.0686989277601242,0.07210053503513336,0.06890107691287994,0.07252580672502518,0.0721559152007103,0.05678242817521095,0.06014682725071907,0.06233680620789528,0.06224851310253143,0.06343650817871094,0.06298958510160446,0.07254365086555481,0.0676686242222786,0.06569509953260422,0.06128352880477905,0.06522714346647263,0.06497125327587128,0.06435207277536392,0.05671880394220352,0.055892158299684525,0.05441310256719589,0.05410517007112503,0.051350269466638565,0.057666219770908356,0.05302848666906357,0.05614795908331871,0.05205526947975159,0.04976530745625496,0.0504261776804924,0.048947080969810486,0.05251791328191757,0.05252499878406525,0.05196833610534668,0.0414295420050621,0.0429115816950798,0.04298204556107521,0.04164295271039009,0.04147526994347572,0.04134688153862953,0.04238685593008995,0.04120393097400665,0.043441735208034515,0.041673444211483,0.040667347609996796,0.040136855095624924,0.03880510851740837,0.03626706078648567,0.03635301813483238,0.03511862829327583,0.03517943620681763,0.03620210662484169,0.03739559277892113,0.03527139127254486,0.032696209847927094,0.03064039908349514,0.03391747176647186,0.03090132400393486,0.0299837663769722,0.028757214546203613,0.028914839029312134,0.02702653780579567,0.02716032601892948,0.025706926360726357,0.02575627714395523,0.026629436761140823,0.025125879794359207,0.023368166759610176,0.024932747706770897,0.022984126582741737,0.02132997289299965,0.021756470203399658,0.021880000829696655,0.02025194838643074,0.020664917305111885,0.02015875279903412,0.020144514739513397,0.0202800165861845,0.019603829830884933,0.01839311793446541,0.018979255110025406,0.018668409436941147,0.01793375238776207,0.018117565661668777,0.019926348701119423,0.018644537776708603,0.018362725153565407,0.01776047982275486,0.016911529004573822,0.01735728047788143,0.017227156087756157,0.016844086349010468,0.017146427184343338,0.016902785748243332,0.01597931794822216,0.015308995731174946,0.01579892262816429,0.015997610986232758,0.015361061319708824,0.015205576084554195,0.014754025265574455,0.015849433839321136,0.015436720103025436,0.015757575631141663,0.015837732702493668,0.015970364212989807,0.015482833608984947,0.015893924981355667,0.015407570637762547,0.015291079878807068,0.015462880954146385,0.015671800822019577,0.015757225453853607,0.014606473036110401,0.014925200492143631,0.015753939747810364,0.016184203326702118,0.015086101368069649,0.014918997883796692,0.015170643106102943,0.014797971583902836,0.01441724319010973,0.014110391028225422,0.01441220473498106,0.014405008405447006,0.01434714999049902,0.014633707702159882,0.015006620436906815,0.014360391534864902,0.014429476112127304,0.014515831135213375,0.014511226676404476,0.014638705179095268,0.014562499709427357,0.014696121215820312,0.014839942567050457,0.014661494642496109,0.015036351047456264,0.01520057488232851,0.01525545958429575,0.0148227009922266,0.014622279442846775,0.014394043944776058,0.014611541293561459,0.014869416132569313,0.014096792787313461,0.014537514187395573,0.014503436163067818,0.014575744047760963,0.014475658535957336,0.014473940245807171,0.014707904309034348,0.015193155035376549,0.015187857672572136,0.014580183662474155,0.014233676716685295,0.014431414194405079,0.014860824681818485,0.014813430607318878,0.01516809780150652,0.014891036786139011,0.014905927702784538,0.01505784597247839,0.015077605843544006,0.01541494857519865,0.015070446766912937,0.01525902096182108,0.014594788663089275,0.015246134251356125,0.015390034765005112,0.015385166741907597,0.014743843115866184,0.015237829647958279,0.015037228353321552,0.015115263871848583,0.01535810437053442,0.01564289815723896,0.015459908172488213,0.015456615015864372,0.01545790396630764,0.015391608700156212,0.015432417392730713,0.015584479086101055,0.015129152685403824,0.015290950424969196,0.015488258562982082,0.015340564772486687,0.015059931203722954,0.01462017372250557,0.015059544704854488,0.015123076736927032,0.015531339682638645,0.014953561127185822,0.015008261427283287,0.014359686523675919,0.015197435393929482,0.015176210552453995,0.01511082611978054,0.014832905493676662,0.01520455814898014,0.01517749298363924,0.01529629621654749,0.014533618465065956,0.014762820675969124,0.014857407659292221,0.015014957636594772,0.014748717658221722,0.01483803428709507,0.015002564527094364,0.01486695185303688,0.014692164957523346,0.015468375757336617,0.01465299166738987,0.01511438749730587,0.014440740458667278,0.015273362398147583,0.01503689493983984,0.01507663819938898,0.015533333644270897,0.01581723615527153,0.014909116551280022,0.015593446791172028,0.015033191069960594,0.014959401451051235,0.015245442278683186,0.015520655550062656,0.015866097062826157,0.015401708893477917,0.0159324798732996,0.015797436237335205,0.01524772122502327,0.015295584686100483,0.015572079457342625,0.016108548268675804,0.015596011653542519,0.015882335603237152,0.016404414549469948,0.016007406637072563,0.01587122492492199,0.01624273508787155,0.016483476385474205,0.016438033431768417,0.016082052141427994,0.01671125367283821,0.016448719426989555,0.01678917370736599,0.016257550567388535,0.01639515720307827,0.01672906056046486,0.016406837850809097,0.016394445672631264,0.02210516482591629,9.660833358764648,9.92316722869873],\"yaxis\":\"y\"},{\"hovertemplate\":\"variable=Uncertainity_bottom<br>Year=%{x}<br>value=%{y}<extra></extra>\",\"legendgroup\":\"Uncertainity_bottom\",\"line\":{\"color\":\"#00cc96\",\"dash\":\"solid\"},\"marker\":{\"symbol\":\"circle\"},\"mode\":\"lines\",\"name\":\"Uncertainity_bottom\",\"orientation\":\"v\",\"showlegend\":true,\"type\":\"scatter\",\"x\":[1743,1744,1745,1746,1747,1748,1749,1750,1751,1752,1753,1754,1755,1756,1757,1758,1759,1760,1761,1762,1763,1764,1765,1766,1767,1768,1769,1770,1771,1772,1773,1774,1775,1776,1777,1778,1779,1780,1781,1782,1783,1784,1785,1786,1787,1788,1789,1790,1791,1792,1793,1794,1795,1796,1797,1798,1799,1800,1801,1802,1803,1804,1805,1806,1807,1808,1809,1810,1811,1812,1813,1814,1815,1816,1817,1818,1819,1820,1821,1822,1823,1824,1825,1826,1827,1828,1829,1830,1831,1832,1833,1834,1835,1836,1837,1838,1839,1840,1841,1842,1843,1844,1845,1846,1847,1848,1849,1850,1851,1852,1853,1854,1855,1856,1857,1858,1859,1860,1861,1862,1863,1864,1865,1866,1867,1868,1869,1870,1871,1872,1873,1874,1875,1876,1877,1878,1879,1880,1881,1882,1883,1884,1885,1886,1887,1888,1889,1890,1891,1892,1893,1894,1895,1896,1897,1898,1899,1900,1901,1902,1903,1904,1905,1906,1907,1908,1909,1910,1911,1912,1913,1914,1915,1916,1917,1918,1919,1920,1921,1922,1923,1924,1925,1926,1927,1928,1929,1930,1931,1932,1933,1934,1935,1936,1937,1938,1939,1940,1941,1942,1943,1944,1945,1946,1947,1948,1949,1950,1951,1952,1953,1954,1955,1956,1957,1958,1959,1960,1961,1962,1963,1964,1965,1966,1967,1968,1969,1970,1971,1972,1973,1974,1975,1976,1977,1978,1979,1980,1981,1982,1983,1984,1985,1986,1987,1988,1989,1990,1991,1992,1993,1994,1995,1996,1997,1998,1999,2000,2001,2002,2003,2004,2005,2006,2007,2008,2009,2010,2011,2012,2013,2014,2015],\"xaxis\":\"x\",\"y\":[0.0,0.0,0.0,0.0,0.0,0.0,0.0,0.038713544607162476,0.02104456163942814,0.009732060134410858,0.03521677851676941,0.03361542522907257,0.03023657761514187,0.03749832138419151,0.03353020176291466,0.022192561998963356,0.02814488112926483,0.0267728753387928,0.03654329106211662,0.033001624047756195,0.028033332899212837,0.036290861666202545,0.037575267255306244,0.035934410989284515,0.033927954733371735,0.02833891287446022,0.03145535662770271,0.029233630746603012,0.031241565942764282,0.03410515934228897,0.03488541767001152,0.031886905431747437,0.040367648005485535,0.031999021768569946,0.033298805356025696,0.03239857405424118,0.036630064249038696,0.036669790744781494,0.029939837753772736,0.028613191097974777,0.027734847739338875,0.029980391263961792,0.027398396283388138,0.030656417831778526,0.02892899513244629,0.030047621577978134,0.03298724442720413,0.03168707713484764,0.03246895968914032,0.03194291889667511,0.02977374754846096,0.03273499757051468,0.03153499960899353,0.025814363732933998,0.026280147954821587,0.02750779315829277,0.027509484440088272,0.02750236913561821,0.028487803414463997,0.02735433354973793,0.02792615443468094,0.02846747823059559,0.027942413464188576,0.02790244109928608,0.027191732078790665,0.02270161360502243,0.01945275440812111,0.01815616711974144,0.018681373447179794,0.01881481520831585,0.02310759946703911,0.020778734236955643,0.020202426239848137,0.016990449279546738,0.018585121259093285,0.021070528775453568,0.019979000091552734,0.019472401589155197,0.020397722721099854,0.020598892122507095,0.018917907029390335,0.019291667267680168,0.01787402667105198,0.017654545605182648,0.01913030445575714,0.016685087233781815,0.016708368435502052,0.017757726833224297,0.015307435765862465,0.014020759612321854,0.015951763838529587,0.01645764708518982,0.014292445965111256,0.015213091857731342,0.014153324998915195,0.01474772673100233,0.014851170592010021,0.015181447379291058,0.014339897781610489,0.015160106122493744,0.015531032346189022,0.014059275388717651,0.014459889382123947,0.015562241896986961,0.014907331205904484,0.01474723406136036,0.014113440178334713,0.013534200377762318,0.013978289440274239,0.013719038106501102,0.013675205409526825,0.014012966305017471,0.013569661416113377,0.013202859088778496,0.012606446631252766,0.013286355882883072,0.01357945054769516,0.013121347874403,0.012867770157754421,0.012289207428693771,0.01317322626709938,0.013025252148509026,0.013396909460425377,0.013680510222911835,0.013735035434365273,0.013559125363826752,0.013796507380902767,0.013470363803207874,0.013283157721161842,0.01338864490389824,0.013733421452343464,0.013933842070400715,0.013019478879868984,0.01340525969862938,0.014157034456729889,0.014698047190904617,0.013465764001011848,0.013468239456415176,0.013706576079130173,0.013476521708071232,0.013136873953044415,0.012741652317345142,0.012944157235324383,0.013071674853563309,0.012992803938686848,0.013312751427292824,0.01372913084924221,0.01317559089511633,0.013271156698465347,0.01334542315453291,0.013318653218448162,0.013543166220188141,0.013530603609979153,0.013631178066134453,0.013757758773863316,0.013538505882024765,0.013916523195803165,0.014115230180323124,0.014199425466358662,0.013813218101859093,0.013625715859234333,0.013409794308245182,0.013653636910021305,0.013924684375524521,0.013213058933615685,0.013593356125056744,0.013600515201687813,0.013681987300515175,0.013623997569084167,0.013585911132395267,0.013806700706481934,0.014327462762594223,0.014341924339532852,0.01368528138846159,0.013337915763258934,0.013509592972695827,0.013944157399237156,0.013910796493291855,0.01428550947457552,0.014002433978021145,0.014036225154995918,0.01417525764554739,0.014250285923480988,0.014581042341887951,0.014215062372386456,0.014404782094061375,0.013729668222367764,0.014422537758946419,0.014573024585843086,0.014529782347381115,0.013909936882555485,0.014412800781428814,0.014226517640054226,0.014279925264418125,0.014533075504004955,0.014816437847912312,0.014644330367445946,0.014662513509392738,0.014674970880150795,0.01460294984281063,0.014653779566287994,0.014810710214078426,0.014371993020176888,0.014526632614433765,0.014742267318069935,0.014622608199715614,0.014346746727824211,0.013983046635985374,0.014429914765059948,0.014409402385354042,0.01480626780539751,0.014313675463199615,0.014483191072940826,0.01394658163189888,0.014657264575362206,0.014819515869021416,0.014744443818926811,0.014513247646391392,0.01487293466925621,0.014723076485097408,0.014980626292526722,0.014217378571629524,0.014390740543603897,0.014542022719979286,0.014728916808962822,0.014366951771080494,0.014546865597367287,0.014744159765541553,0.014532193541526794,0.014366239309310913,0.01512393169105053,0.014295727014541626,0.014782479032874107,0.014096866361796856,0.014983903616666794,0.014681908302009106,0.014781196601688862,0.015168661251664162,0.015518944710493088,0.01462649554014206,0.015272079035639763,0.014682479202747345,0.014640598557889462,0.014954843558371067,0.015229486860334873,0.015592307783663273,0.015100854448974133,0.015637321397662163,0.015585185028612614,0.014962820336222649,0.015017521567642689,0.015329630114138126,0.01584729366004467,0.015306267887353897,0.015579487197101116,0.016151709482073784,0.015736466273665428,0.015585754998028278,0.015943873673677444,0.016235897317528725,0.016128063201904297,0.01579686626791954,0.016454271972179413,0.016141025349497795,0.016483189538121223,0.01598775014281273,0.016101425513625145,0.016443874686956406,0.016126494854688644,0.01610925979912281,0.0216602124273777,9.480499267578125,9.7388334274292],\"yaxis\":\"y\"}],                        {\"legend\":{\"title\":{\"text\":\"variable\"},\"tracegroupgap\":0},\"template\":{\"data\":{\"bar\":[{\"error_x\":{\"color\":\"#2a3f5f\"},\"error_y\":{\"color\":\"#2a3f5f\"},\"marker\":{\"line\":{\"color\":\"#E5ECF6\",\"width\":0.5},\"pattern\":{\"fillmode\":\"overlay\",\"size\":10,\"solidity\":0.2}},\"type\":\"bar\"}],\"barpolar\":[{\"marker\":{\"line\":{\"color\":\"#E5ECF6\",\"width\":0.5},\"pattern\":{\"fillmode\":\"overlay\",\"size\":10,\"solidity\":0.2}},\"type\":\"barpolar\"}],\"carpet\":[{\"aaxis\":{\"endlinecolor\":\"#2a3f5f\",\"gridcolor\":\"white\",\"linecolor\":\"white\",\"minorgridcolor\":\"white\",\"startlinecolor\":\"#2a3f5f\"},\"baxis\":{\"endlinecolor\":\"#2a3f5f\",\"gridcolor\":\"white\",\"linecolor\":\"white\",\"minorgridcolor\":\"white\",\"startlinecolor\":\"#2a3f5f\"},\"type\":\"carpet\"}],\"choropleth\":[{\"colorbar\":{\"outlinewidth\":0,\"ticks\":\"\"},\"type\":\"choropleth\"}],\"contour\":[{\"colorbar\":{\"outlinewidth\":0,\"ticks\":\"\"},\"colorscale\":[[0.0,\"#0d0887\"],[0.1111111111111111,\"#46039f\"],[0.2222222222222222,\"#7201a8\"],[0.3333333333333333,\"#9c179e\"],[0.4444444444444444,\"#bd3786\"],[0.5555555555555556,\"#d8576b\"],[0.6666666666666666,\"#ed7953\"],[0.7777777777777778,\"#fb9f3a\"],[0.8888888888888888,\"#fdca26\"],[1.0,\"#f0f921\"]],\"type\":\"contour\"}],\"contourcarpet\":[{\"colorbar\":{\"outlinewidth\":0,\"ticks\":\"\"},\"type\":\"contourcarpet\"}],\"heatmap\":[{\"colorbar\":{\"outlinewidth\":0,\"ticks\":\"\"},\"colorscale\":[[0.0,\"#0d0887\"],[0.1111111111111111,\"#46039f\"],[0.2222222222222222,\"#7201a8\"],[0.3333333333333333,\"#9c179e\"],[0.4444444444444444,\"#bd3786\"],[0.5555555555555556,\"#d8576b\"],[0.6666666666666666,\"#ed7953\"],[0.7777777777777778,\"#fb9f3a\"],[0.8888888888888888,\"#fdca26\"],[1.0,\"#f0f921\"]],\"type\":\"heatmap\"}],\"heatmapgl\":[{\"colorbar\":{\"outlinewidth\":0,\"ticks\":\"\"},\"colorscale\":[[0.0,\"#0d0887\"],[0.1111111111111111,\"#46039f\"],[0.2222222222222222,\"#7201a8\"],[0.3333333333333333,\"#9c179e\"],[0.4444444444444444,\"#bd3786\"],[0.5555555555555556,\"#d8576b\"],[0.6666666666666666,\"#ed7953\"],[0.7777777777777778,\"#fb9f3a\"],[0.8888888888888888,\"#fdca26\"],[1.0,\"#f0f921\"]],\"type\":\"heatmapgl\"}],\"histogram\":[{\"marker\":{\"pattern\":{\"fillmode\":\"overlay\",\"size\":10,\"solidity\":0.2}},\"type\":\"histogram\"}],\"histogram2d\":[{\"colorbar\":{\"outlinewidth\":0,\"ticks\":\"\"},\"colorscale\":[[0.0,\"#0d0887\"],[0.1111111111111111,\"#46039f\"],[0.2222222222222222,\"#7201a8\"],[0.3333333333333333,\"#9c179e\"],[0.4444444444444444,\"#bd3786\"],[0.5555555555555556,\"#d8576b\"],[0.6666666666666666,\"#ed7953\"],[0.7777777777777778,\"#fb9f3a\"],[0.8888888888888888,\"#fdca26\"],[1.0,\"#f0f921\"]],\"type\":\"histogram2d\"}],\"histogram2dcontour\":[{\"colorbar\":{\"outlinewidth\":0,\"ticks\":\"\"},\"colorscale\":[[0.0,\"#0d0887\"],[0.1111111111111111,\"#46039f\"],[0.2222222222222222,\"#7201a8\"],[0.3333333333333333,\"#9c179e\"],[0.4444444444444444,\"#bd3786\"],[0.5555555555555556,\"#d8576b\"],[0.6666666666666666,\"#ed7953\"],[0.7777777777777778,\"#fb9f3a\"],[0.8888888888888888,\"#fdca26\"],[1.0,\"#f0f921\"]],\"type\":\"histogram2dcontour\"}],\"mesh3d\":[{\"colorbar\":{\"outlinewidth\":0,\"ticks\":\"\"},\"type\":\"mesh3d\"}],\"parcoords\":[{\"line\":{\"colorbar\":{\"outlinewidth\":0,\"ticks\":\"\"}},\"type\":\"parcoords\"}],\"pie\":[{\"automargin\":true,\"type\":\"pie\"}],\"scatter\":[{\"marker\":{\"colorbar\":{\"outlinewidth\":0,\"ticks\":\"\"}},\"type\":\"scatter\"}],\"scatter3d\":[{\"line\":{\"colorbar\":{\"outlinewidth\":0,\"ticks\":\"\"}},\"marker\":{\"colorbar\":{\"outlinewidth\":0,\"ticks\":\"\"}},\"type\":\"scatter3d\"}],\"scattercarpet\":[{\"marker\":{\"colorbar\":{\"outlinewidth\":0,\"ticks\":\"\"}},\"type\":\"scattercarpet\"}],\"scattergeo\":[{\"marker\":{\"colorbar\":{\"outlinewidth\":0,\"ticks\":\"\"}},\"type\":\"scattergeo\"}],\"scattergl\":[{\"marker\":{\"colorbar\":{\"outlinewidth\":0,\"ticks\":\"\"}},\"type\":\"scattergl\"}],\"scattermapbox\":[{\"marker\":{\"colorbar\":{\"outlinewidth\":0,\"ticks\":\"\"}},\"type\":\"scattermapbox\"}],\"scatterpolar\":[{\"marker\":{\"colorbar\":{\"outlinewidth\":0,\"ticks\":\"\"}},\"type\":\"scatterpolar\"}],\"scatterpolargl\":[{\"marker\":{\"colorbar\":{\"outlinewidth\":0,\"ticks\":\"\"}},\"type\":\"scatterpolargl\"}],\"scatterternary\":[{\"marker\":{\"colorbar\":{\"outlinewidth\":0,\"ticks\":\"\"}},\"type\":\"scatterternary\"}],\"surface\":[{\"colorbar\":{\"outlinewidth\":0,\"ticks\":\"\"},\"colorscale\":[[0.0,\"#0d0887\"],[0.1111111111111111,\"#46039f\"],[0.2222222222222222,\"#7201a8\"],[0.3333333333333333,\"#9c179e\"],[0.4444444444444444,\"#bd3786\"],[0.5555555555555556,\"#d8576b\"],[0.6666666666666666,\"#ed7953\"],[0.7777777777777778,\"#fb9f3a\"],[0.8888888888888888,\"#fdca26\"],[1.0,\"#f0f921\"]],\"type\":\"surface\"}],\"table\":[{\"cells\":{\"fill\":{\"color\":\"#EBF0F8\"},\"line\":{\"color\":\"white\"}},\"header\":{\"fill\":{\"color\":\"#C8D4E3\"},\"line\":{\"color\":\"white\"}},\"type\":\"table\"}]},\"layout\":{\"annotationdefaults\":{\"arrowcolor\":\"#2a3f5f\",\"arrowhead\":0,\"arrowwidth\":1},\"autotypenumbers\":\"strict\",\"coloraxis\":{\"colorbar\":{\"outlinewidth\":0,\"ticks\":\"\"}},\"colorscale\":{\"diverging\":[[0,\"#8e0152\"],[0.1,\"#c51b7d\"],[0.2,\"#de77ae\"],[0.3,\"#f1b6da\"],[0.4,\"#fde0ef\"],[0.5,\"#f7f7f7\"],[0.6,\"#e6f5d0\"],[0.7,\"#b8e186\"],[0.8,\"#7fbc41\"],[0.9,\"#4d9221\"],[1,\"#276419\"]],\"sequential\":[[0.0,\"#0d0887\"],[0.1111111111111111,\"#46039f\"],[0.2222222222222222,\"#7201a8\"],[0.3333333333333333,\"#9c179e\"],[0.4444444444444444,\"#bd3786\"],[0.5555555555555556,\"#d8576b\"],[0.6666666666666666,\"#ed7953\"],[0.7777777777777778,\"#fb9f3a\"],[0.8888888888888888,\"#fdca26\"],[1.0,\"#f0f921\"]],\"sequentialminus\":[[0.0,\"#0d0887\"],[0.1111111111111111,\"#46039f\"],[0.2222222222222222,\"#7201a8\"],[0.3333333333333333,\"#9c179e\"],[0.4444444444444444,\"#bd3786\"],[0.5555555555555556,\"#d8576b\"],[0.6666666666666666,\"#ed7953\"],[0.7777777777777778,\"#fb9f3a\"],[0.8888888888888888,\"#fdca26\"],[1.0,\"#f0f921\"]]},\"colorway\":[\"#636efa\",\"#EF553B\",\"#00cc96\",\"#ab63fa\",\"#FFA15A\",\"#19d3f3\",\"#FF6692\",\"#B6E880\",\"#FF97FF\",\"#FECB52\"],\"font\":{\"color\":\"#2a3f5f\"},\"geo\":{\"bgcolor\":\"white\",\"lakecolor\":\"white\",\"landcolor\":\"#E5ECF6\",\"showlakes\":true,\"showland\":true,\"subunitcolor\":\"white\"},\"hoverlabel\":{\"align\":\"left\"},\"hovermode\":\"closest\",\"mapbox\":{\"style\":\"light\"},\"paper_bgcolor\":\"white\",\"plot_bgcolor\":\"#E5ECF6\",\"polar\":{\"angularaxis\":{\"gridcolor\":\"white\",\"linecolor\":\"white\",\"ticks\":\"\"},\"bgcolor\":\"#E5ECF6\",\"radialaxis\":{\"gridcolor\":\"white\",\"linecolor\":\"white\",\"ticks\":\"\"}},\"scene\":{\"xaxis\":{\"backgroundcolor\":\"#E5ECF6\",\"gridcolor\":\"white\",\"gridwidth\":2,\"linecolor\":\"white\",\"showbackground\":true,\"ticks\":\"\",\"zerolinecolor\":\"white\"},\"yaxis\":{\"backgroundcolor\":\"#E5ECF6\",\"gridcolor\":\"white\",\"gridwidth\":2,\"linecolor\":\"white\",\"showbackground\":true,\"ticks\":\"\",\"zerolinecolor\":\"white\"},\"zaxis\":{\"backgroundcolor\":\"#E5ECF6\",\"gridcolor\":\"white\",\"gridwidth\":2,\"linecolor\":\"white\",\"showbackground\":true,\"ticks\":\"\",\"zerolinecolor\":\"white\"}},\"shapedefaults\":{\"line\":{\"color\":\"#2a3f5f\"}},\"ternary\":{\"aaxis\":{\"gridcolor\":\"white\",\"linecolor\":\"white\",\"ticks\":\"\"},\"baxis\":{\"gridcolor\":\"white\",\"linecolor\":\"white\",\"ticks\":\"\"},\"bgcolor\":\"#E5ECF6\",\"caxis\":{\"gridcolor\":\"white\",\"linecolor\":\"white\",\"ticks\":\"\"}},\"title\":{\"x\":0.05},\"xaxis\":{\"automargin\":true,\"gridcolor\":\"white\",\"linecolor\":\"white\",\"ticks\":\"\",\"title\":{\"standoff\":15},\"zerolinecolor\":\"white\",\"zerolinewidth\":2},\"yaxis\":{\"automargin\":true,\"gridcolor\":\"white\",\"linecolor\":\"white\",\"ticks\":\"\",\"title\":{\"standoff\":15},\"zerolinecolor\":\"white\",\"zerolinewidth\":2}}},\"title\":{\"text\":\"Average land temperature in World\"},\"xaxis\":{\"anchor\":\"y\",\"domain\":[0.0,1.0],\"title\":{\"text\":\"Year\"}},\"yaxis\":{\"anchor\":\"x\",\"domain\":[0.0,1.0],\"title\":{\"text\":\"value\"}}},                        {\"responsive\": true}                    ).then(function(){\n",
       "                            \n",
       "var gd = document.getElementById('5c1a836f-c07a-427d-94c3-8bcb3e6bb7fd');\n",
       "var x = new MutationObserver(function (mutations, observer) {{\n",
       "        var display = window.getComputedStyle(gd).display;\n",
       "        if (!display || display === 'none') {{\n",
       "            console.log([gd, 'removed!']);\n",
       "            Plotly.purge(gd);\n",
       "            observer.disconnect();\n",
       "        }}\n",
       "}});\n",
       "\n",
       "// Listen for the removal of the full notebook cells\n",
       "var notebookContainer = gd.closest('#notebook-container');\n",
       "if (notebookContainer) {{\n",
       "    x.observe(notebookContainer, {childList: true});\n",
       "}}\n",
       "\n",
       "// Listen for the clearing of the current output cell\n",
       "var outputEl = gd.closest('.output');\n",
       "if (outputEl) {{\n",
       "    x.observe(outputEl, {childList: true});\n",
       "}}\n",
       "\n",
       "                        })                };                });            </script>        </div>"
      ]
     },
     "metadata": {},
     "output_type": "display_data"
    }
   ],
   "source": [
    "import plotly.express as px\n",
    "fig = px.line(df_year,x='Year',y=['LandAverageTemperature','Uncertainity_top', 'Uncertainity_bottom'],title='Average land temperature in World')\n",
    "fig.show()"
   ]
  },
  {
   "cell_type": "code",
   "execution_count": 85,
   "id": "916c5a3b",
   "metadata": {},
   "outputs": [],
   "source": [
    "def get_season(month):\n",
    "    if month>=3 and month<=5:\n",
    "        return 'spring'\n",
    "    elif month>=6 and month<=8:\n",
    "        return 'summer'\n",
    "    elif month>=9 and month<=11:\n",
    "        return 'autumn'\n",
    "    else:\n",
    "        return 'winter'"
   ]
  },
  {
   "cell_type": "code",
   "execution_count": 97,
   "id": "6cc0b325",
   "metadata": {},
   "outputs": [],
   "source": [
    "df['season']=df['Month'].apply(get_season)"
   ]
  },
  {
   "cell_type": "code",
   "execution_count": 99,
   "id": "19c6016c",
   "metadata": {},
   "outputs": [
    {
     "data": {
      "text/plain": [
       "summer    366753\n",
       "spring    366653\n",
       "winter    366219\n",
       "autumn    365881\n",
       "Name: season, dtype: int64"
      ]
     },
     "execution_count": 99,
     "metadata": {},
     "output_type": "execute_result"
    }
   ],
   "source": [
    "df[\"season\"].value_counts()"
   ]
  },
  {
   "cell_type": "code",
   "execution_count": 101,
   "id": "a8a170c0",
   "metadata": {},
   "outputs": [
    {
     "data": {
      "text/plain": [
       "array([1743, 1744, 1745, 1746, 1747, 1748, 1749, 1750, 1751, 1752, 1753,\n",
       "       1754, 1755, 1756, 1757, 1758, 1759, 1760, 1761, 1762, 1763, 1764,\n",
       "       1765, 1766, 1767, 1768, 1769, 1770, 1771, 1772, 1773, 1774, 1775,\n",
       "       1776, 1777, 1778, 1779, 1780, 1781, 1782, 1783, 1784, 1785, 1786,\n",
       "       1787, 1788, 1789, 1790, 1791, 1792, 1793, 1794, 1795, 1796, 1797,\n",
       "       1798, 1799, 1800, 1801, 1802, 1803, 1804, 1805, 1806, 1807, 1808,\n",
       "       1809, 1810, 1811, 1812, 1813, 1814, 1815, 1816, 1817, 1818, 1819,\n",
       "       1820, 1821, 1822, 1823, 1824, 1825, 1826, 1827, 1828, 1829, 1830,\n",
       "       1831, 1832, 1833, 1834, 1835, 1836, 1837, 1838, 1839, 1840, 1841,\n",
       "       1842, 1843, 1844, 1845, 1846, 1847, 1848, 1849, 1850, 1851, 1852,\n",
       "       1853, 1854, 1855, 1856, 1857, 1858, 1859, 1860, 1861, 1862, 1863,\n",
       "       1864, 1865, 1866, 1867, 1868, 1869, 1870, 1871, 1872, 1873, 1874,\n",
       "       1875, 1876, 1877, 1878, 1879, 1880, 1881, 1882, 1883, 1884, 1885,\n",
       "       1886, 1887, 1888, 1889, 1890, 1891, 1892, 1893, 1894, 1895, 1896,\n",
       "       1897, 1898, 1899, 1900, 1901, 1902, 1903, 1904, 1905, 1906, 1907,\n",
       "       1908, 1909, 1910, 1911, 1912, 1913, 1914, 1915, 1916, 1917, 1918,\n",
       "       1919, 1920, 1921, 1922, 1923, 1924, 1925, 1926, 1927, 1928, 1929,\n",
       "       1930, 1931, 1932, 1933, 1934, 1935, 1936, 1937, 1938, 1939, 1940,\n",
       "       1941, 1942, 1943, 1944, 1945, 1946, 1947, 1948, 1949, 1950, 1951,\n",
       "       1952, 1953, 1954, 1955, 1956, 1957, 1958, 1959, 1960, 1961, 1962,\n",
       "       1963, 1964, 1965, 1966, 1967, 1968, 1969, 1970, 1971, 1972, 1973,\n",
       "       1974, 1975, 1976, 1977, 1978, 1979, 1980, 1981, 1982, 1983, 1984,\n",
       "       1985, 1986, 1987, 1988, 1989, 1990, 1991, 1992, 1993, 1994, 1995,\n",
       "       1996, 1997, 1998, 1999, 2000, 2001, 2002, 2003, 2004, 2005, 2006,\n",
       "       2007, 2008, 2009, 2010, 2011, 2012, 2013, 2014, 2015], dtype=int64)"
      ]
     },
     "execution_count": 101,
     "metadata": {},
     "output_type": "execute_result"
    }
   ],
   "source": [
    "years=df['Year'].unique()\n",
    "years"
   ]
  },
  {
   "cell_type": "code",
   "execution_count": 102,
   "id": "a2a12c9d",
   "metadata": {},
   "outputs": [],
   "source": [
    "spring_temp = []\n",
    "summer_temp = []\n",
    "autumn_temp = []\n",
    "winter_temp = []\n",
    "for year in years:\n",
    "    current_df=df[df['Year'] == year]\n",
    "    spring_temp.append(current_df[current_df['season'] == 'spring']['LandAverageTemperature'].mean())\n",
    "    summer_temp.append(current_df[current_df['season'] == 'summer']['LandAverageTemperature'].mean())\n",
    "    autumn_temp.append(current_df[current_df['season'] == 'autumn']['LandAverageTemperature'].mean())\n",
    "    winter_temp.append(current_df[current_df['season'] == 'winter']['LandAverageTemperature'].mean())"
   ]
  },
  {
   "cell_type": "code",
   "execution_count": 108,
   "id": "52606847",
   "metadata": {},
   "outputs": [],
   "source": [
    "season['year'] = years\n",
    "season['spring_temp'] = spring_temp\n",
    "season['summer_temp'] = summer_temp\n",
    "season['autumn_temp'] = autumn_temp\n",
    "season['winter_temp'] = winter_temp"
   ]
  },
  {
   "cell_type": "code",
   "execution_count": 109,
   "id": "62c3ca4e",
   "metadata": {},
   "outputs": [
    {
     "data": {
      "text/html": [
       "<div>\n",
       "<style scoped>\n",
       "    .dataframe tbody tr th:only-of-type {\n",
       "        vertical-align: middle;\n",
       "    }\n",
       "\n",
       "    .dataframe tbody tr th {\n",
       "        vertical-align: top;\n",
       "    }\n",
       "\n",
       "    .dataframe thead th {\n",
       "        text-align: right;\n",
       "    }\n",
       "</style>\n",
       "<table border=\"1\" class=\"dataframe\">\n",
       "  <thead>\n",
       "    <tr style=\"text-align: right;\">\n",
       "      <th></th>\n",
       "      <th>year</th>\n",
       "      <th>spring_temp</th>\n",
       "      <th>summer_temp</th>\n",
       "      <th>autumn_temp</th>\n",
       "      <th>winter_temp</th>\n",
       "    </tr>\n",
       "  </thead>\n",
       "  <tbody>\n",
       "    <tr>\n",
       "      <th>0</th>\n",
       "      <td>1743</td>\n",
       "      <td>NaN</td>\n",
       "      <td>NaN</td>\n",
       "      <td>0.0</td>\n",
       "      <td>0.0</td>\n",
       "    </tr>\n",
       "    <tr>\n",
       "      <th>1</th>\n",
       "      <td>1744</td>\n",
       "      <td>0.0</td>\n",
       "      <td>0.0</td>\n",
       "      <td>0.0</td>\n",
       "      <td>0.0</td>\n",
       "    </tr>\n",
       "    <tr>\n",
       "      <th>2</th>\n",
       "      <td>1745</td>\n",
       "      <td>0.0</td>\n",
       "      <td>0.0</td>\n",
       "      <td>0.0</td>\n",
       "      <td>0.0</td>\n",
       "    </tr>\n",
       "    <tr>\n",
       "      <th>3</th>\n",
       "      <td>1746</td>\n",
       "      <td>0.0</td>\n",
       "      <td>0.0</td>\n",
       "      <td>0.0</td>\n",
       "      <td>0.0</td>\n",
       "    </tr>\n",
       "    <tr>\n",
       "      <th>4</th>\n",
       "      <td>1747</td>\n",
       "      <td>0.0</td>\n",
       "      <td>0.0</td>\n",
       "      <td>0.0</td>\n",
       "      <td>0.0</td>\n",
       "    </tr>\n",
       "  </tbody>\n",
       "</table>\n",
       "</div>"
      ],
      "text/plain": [
       "   year  spring_temp  summer_temp  autumn_temp  winter_temp\n",
       "0  1743          NaN          NaN          0.0          0.0\n",
       "1  1744          0.0          0.0          0.0          0.0\n",
       "2  1745          0.0          0.0          0.0          0.0\n",
       "3  1746          0.0          0.0          0.0          0.0\n",
       "4  1747          0.0          0.0          0.0          0.0"
      ]
     },
     "execution_count": 109,
     "metadata": {},
     "output_type": "execute_result"
    }
   ],
   "source": [
    "season.head()"
   ]
  },
  {
   "cell_type": "code",
   "execution_count": 110,
   "id": "f0d120b2",
   "metadata": {},
   "outputs": [
    {
     "data": {
      "application/vnd.plotly.v1+json": {
       "config": {
        "plotlyServerURL": "https://plot.ly"
       },
       "data": [
        {
         "hovertemplate": "variable=spring_temp<br>index=%{x}<br>value=%{y}<extra></extra>",
         "legendgroup": "spring_temp",
         "line": {
          "color": "#636efa",
          "dash": "solid"
         },
         "marker": {
          "symbol": "circle"
         },
         "mode": "lines",
         "name": "spring_temp",
         "showlegend": true,
         "type": "scattergl",
         "x": [
          0,
          1,
          2,
          3,
          4,
          5,
          6,
          7,
          8,
          9,
          10,
          11,
          12,
          13,
          14,
          15,
          16,
          17,
          18,
          19,
          20,
          21,
          22,
          23,
          24,
          25,
          26,
          27,
          28,
          29,
          30,
          31,
          32,
          33,
          34,
          35,
          36,
          37,
          38,
          39,
          40,
          41,
          42,
          43,
          44,
          45,
          46,
          47,
          48,
          49,
          50,
          51,
          52,
          53,
          54,
          55,
          56,
          57,
          58,
          59,
          60,
          61,
          62,
          63,
          64,
          65,
          66,
          67,
          68,
          69,
          70,
          71,
          72,
          73,
          74,
          75,
          76,
          77,
          78,
          79,
          80,
          81,
          82,
          83,
          84,
          85,
          86,
          87,
          88,
          89,
          90,
          91,
          92,
          93,
          94,
          95,
          96,
          97,
          98,
          99,
          100,
          101,
          102,
          103,
          104,
          105,
          106,
          107,
          108,
          109,
          110,
          111,
          112,
          113,
          114,
          115,
          116,
          117,
          118,
          119,
          120,
          121,
          122,
          123,
          124,
          125,
          126,
          127,
          128,
          129,
          130,
          131,
          132,
          133,
          134,
          135,
          136,
          137,
          138,
          139,
          140,
          141,
          142,
          143,
          144,
          145,
          146,
          147,
          148,
          149,
          150,
          151,
          152,
          153,
          154,
          155,
          156,
          157,
          158,
          159,
          160,
          161,
          162,
          163,
          164,
          165,
          166,
          167,
          168,
          169,
          170,
          171,
          172,
          173,
          174,
          175,
          176,
          177,
          178,
          179,
          180,
          181,
          182,
          183,
          184,
          185,
          186,
          187,
          188,
          189,
          190,
          191,
          192,
          193,
          194,
          195,
          196,
          197,
          198,
          199,
          200,
          201,
          202,
          203,
          204,
          205,
          206,
          207,
          208,
          209,
          210,
          211,
          212,
          213,
          214,
          215,
          216,
          217,
          218,
          219,
          220,
          221,
          222,
          223,
          224,
          225,
          226,
          227,
          228,
          229,
          230,
          231,
          232,
          233,
          234,
          235,
          236,
          237,
          238,
          239,
          240,
          241,
          242,
          243,
          244,
          245,
          246,
          247,
          248,
          249,
          250,
          251,
          252,
          253,
          254,
          255,
          256,
          257,
          258,
          259,
          260,
          261,
          262,
          263,
          264,
          265,
          266,
          267,
          268,
          269,
          270,
          271,
          272
         ],
         "xaxis": "x",
         "y": [
          null,
          0,
          0,
          0,
          0,
          0,
          0,
          0.05946527421474457,
          0.03118055686354637,
          0.032571762800216675,
          0.05829279124736786,
          0.06131306290626526,
          0.05760850012302399,
          0.06353019922971725,
          0.057749439030885696,
          0.04507625475525856,
          0.04508061334490776,
          0.043488018214702606,
          0.05789610743522644,
          0.050709955394268036,
          0.04332903027534485,
          0.052851613610982895,
          0.057217203080654144,
          0.05440215393900871,
          0.050522580742836,
          0.0396387092769146,
          0.05240079388022423,
          0.0424523800611496,
          0.036025796085596085,
          0.04255158454179764,
          0.05277976021170616,
          0.06313690543174744,
          0.053156863898038864,
          0.044249020516872406,
          0.04442476108670235,
          0.051188573241233826,
          0.05926095321774483,
          0.06288035959005356,
          0.04063636437058449,
          0.03952406346797943,
          0.04490552842617035,
          0.03934759274125099,
          0.03301426023244858,
          0.047324419021606445,
          0.04060033708810806,
          0.04162925109267235,
          0.0397091805934906,
          0.035700682550668716,
          0.040162164717912674,
          0.03957333415746689,
          0.04123999923467636,
          0.04573166370391846,
          0.04276000335812569,
          0.030518967658281326,
          0.028554201126098633,
          0.036395665258169174,
          0.03268970176577568,
          0.03343360498547554,
          0.035205960273742676,
          0.03154607117176056,
          0.035177506506443024,
          0.036028455942869186,
          0.03385772183537483,
          0.032826557755470276,
          0.028577236458659172,
          0.02872628904879093,
          0.02690419927239418,
          0.02705512009561062,
          0.025419605895876884,
          0.02372158318758011,
          0.027005109935998917,
          0.024615582078695297,
          0.025665391236543655,
          0.02606721594929695,
          0.025835100561380386,
          0.03127985820174217,
          0.02282373420894146,
          0.028370875865221024,
          0.024823708459734917,
          0.026765121147036552,
          0.02311111055314541,
          0.022521739825606346,
          0.021735064685344696,
          0.021727273240685463,
          0.02370302937924862,
          0.02200598455965519,
          0.0205012708902359,
          0.019629908725619316,
          0.01945112831890583,
          0.018367379903793335,
          0.018016470596194267,
          0.019650980830192566,
          0.017482087016105652,
          0.017903652042150497,
          0.015809303149580956,
          0.016324302181601524,
          0.016016896814107895,
          0.017229165881872177,
          0.014791341498494148,
          0.01744326390326023,
          0.015769872814416885,
          0.01550348661839962,
          0.016073305159807205,
          0.017069848254323006,
          0.01566251553595066,
          0.01624896377325058,
          0.014962741173803806,
          0.014242132194340229,
          0.014426563866436481,
          0.014393359422683716,
          0.014290954917669296,
          0.014810247346758842,
          0.015344870276749134,
          0.01377919688820839,
          0.012611878104507923,
          0.014323757961392403,
          0.014946834184229374,
          0.013307096436619759,
          0.013412045314908028,
          0.013444842770695686,
          0.01412880141288042,
          0.013738563284277916,
          0.013232323341071606,
          0.013779952190816402,
          0.013619132339954376,
          0.014101525768637657,
          0.013843896798789501,
          0.014010563492774963,
          0.013974765315651894,
          0.014064554125070572,
          0.013598592020571232,
          0.01394248753786087,
          0.01326186303049326,
          0.013822807930409908,
          0.014239344745874405,
          0.01545687671750784,
          0.01369172427803278,
          0.013569347560405731,
          0.01425130944699049,
          0.013692173175513744,
          0.013501439243555069,
          0.012248705141246319,
          0.012967761605978012,
          0.013215313665568829,
          0.01334542315453291,
          0.01310592982918024,
          0.014467472210526466,
          0.012903280556201935,
          0.013332182541489601,
          0.012979850172996521,
          0.013655727729201317,
          0.013658607378602028,
          0.013679884374141693,
          0.012932183220982552,
          0.013793103396892548,
          0.012927011586725712,
          0.01374827604740858,
          0.014425287954509258,
          0.014581035822629929,
          0.01363907940685749,
          0.01349140889942646,
          0.013190149329602718,
          0.01338602602481842,
          0.014164948835968971,
          0.01290320698171854,
          0.013235395774245262,
          0.013020618818700314,
          0.01358304638415575,
          0.013268041424453259,
          0.013653494417667389,
          0.013336196541786194,
          0.01393184345215559,
          0.014513745903968811,
          0.013668384402990341,
          0.013050400651991367,
          0.01317010261118412,
          0.01385967992246151,
          0.01411855686455965,
          0.014117985032498837,
          0.014108247123658657,
          0.01343871746212244,
          0.014037800952792168,
          0.01409335620701313,
          0.014292668551206589,
          0.013635165989398956,
          0.013958764262497425,
          0.013807560317218304,
          0.01418671291321516,
          0.01397651806473732,
          0.014288660138845444,
          0.013769187033176422,
          0.013924398459494114,
          0.013789232820272446,
          0.013979954645037651,
          0.01398224476724863,
          0.014902634546160698,
          0.014191294088959694,
          0.014615120366215706,
          0.014479381963610649,
          0.014353952370584011,
          0.014467925764620304,
          0.014489690773189068,
          0.014296677894890308,
          0.014563573524355888,
          0.014785796403884888,
          0.014243720099329948,
          0.014115296304225922,
          0.014055270701646805,
          0.014185754582285881,
          0.01411965861916542,
          0.014882051385939121,
          0.013842734508216381,
          0.013625641353428364,
          0.013408546335995197,
          0.014051851816475391,
          0.014525356702506542,
          0.014812535606324673,
          0.013280912302434444,
          0.014725924469530582,
          0.014357835054397583,
          0.013854701071977615,
          0.013499714434146881,
          0.01389971561729908,
          0.014181196689605713,
          0.014521937817335129,
          0.014609686098992825,
          0.014279772527515888,
          0.014291169121861458,
          0.01398917380720377,
          0.014119087718427181,
          0.015115099959075451,
          0.014116239733994007,
          0.014833047054708004,
          0.01353447325527668,
          0.015003989450633526,
          0.01470769289880991,
          0.014317949302494526,
          0.014855841174721718,
          0.015246153809130192,
          0.01406609732657671,
          0.014883761294186115,
          0.014859829097986221,
          0.014535612426698208,
          0.014932763762772083,
          0.01445299107581377,
          0.015256411395967007,
          0.014678631909191608,
          0.01580056920647621,
          0.015051851980388165,
          0.014848433434963226,
          0.014864956960082054,
          0.015061537735164165,
          0.015098575502634048,
          0.014695726335048676,
          0.015097436495125294,
          0.015767522156238556,
          0.014856981113553047,
          0.015752136707305908,
          0.015797151252627373,
          0.016096295788884163,
          0.015586894005537033,
          0.015464956872165203,
          0.01617549918591976,
          0.01548148225992918,
          0.01642507128417492,
          0.01609971560537815,
          0.01570655219256878,
          0.016418803483247757,
          0.015709402039647102,
          0.016119088977575302,
          0.01566951535642147,
          9.51633358001709,
          9.454999923706055
         ],
         "yaxis": "y"
        },
        {
         "hovertemplate": "variable=summer_temp<br>index=%{x}<br>value=%{y}<extra></extra>",
         "legendgroup": "summer_temp",
         "line": {
          "color": "#EF553B",
          "dash": "solid"
         },
         "marker": {
          "symbol": "circle"
         },
         "mode": "lines",
         "name": "summer_temp",
         "showlegend": true,
         "type": "scattergl",
         "x": [
          0,
          1,
          2,
          3,
          4,
          5,
          6,
          7,
          8,
          9,
          10,
          11,
          12,
          13,
          14,
          15,
          16,
          17,
          18,
          19,
          20,
          21,
          22,
          23,
          24,
          25,
          26,
          27,
          28,
          29,
          30,
          31,
          32,
          33,
          34,
          35,
          36,
          37,
          38,
          39,
          40,
          41,
          42,
          43,
          44,
          45,
          46,
          47,
          48,
          49,
          50,
          51,
          52,
          53,
          54,
          55,
          56,
          57,
          58,
          59,
          60,
          61,
          62,
          63,
          64,
          65,
          66,
          67,
          68,
          69,
          70,
          71,
          72,
          73,
          74,
          75,
          76,
          77,
          78,
          79,
          80,
          81,
          82,
          83,
          84,
          85,
          86,
          87,
          88,
          89,
          90,
          91,
          92,
          93,
          94,
          95,
          96,
          97,
          98,
          99,
          100,
          101,
          102,
          103,
          104,
          105,
          106,
          107,
          108,
          109,
          110,
          111,
          112,
          113,
          114,
          115,
          116,
          117,
          118,
          119,
          120,
          121,
          122,
          123,
          124,
          125,
          126,
          127,
          128,
          129,
          130,
          131,
          132,
          133,
          134,
          135,
          136,
          137,
          138,
          139,
          140,
          141,
          142,
          143,
          144,
          145,
          146,
          147,
          148,
          149,
          150,
          151,
          152,
          153,
          154,
          155,
          156,
          157,
          158,
          159,
          160,
          161,
          162,
          163,
          164,
          165,
          166,
          167,
          168,
          169,
          170,
          171,
          172,
          173,
          174,
          175,
          176,
          177,
          178,
          179,
          180,
          181,
          182,
          183,
          184,
          185,
          186,
          187,
          188,
          189,
          190,
          191,
          192,
          193,
          194,
          195,
          196,
          197,
          198,
          199,
          200,
          201,
          202,
          203,
          204,
          205,
          206,
          207,
          208,
          209,
          210,
          211,
          212,
          213,
          214,
          215,
          216,
          217,
          218,
          219,
          220,
          221,
          222,
          223,
          224,
          225,
          226,
          227,
          228,
          229,
          230,
          231,
          232,
          233,
          234,
          235,
          236,
          237,
          238,
          239,
          240,
          241,
          242,
          243,
          244,
          245,
          246,
          247,
          248,
          249,
          250,
          251,
          252,
          253,
          254,
          255,
          256,
          257,
          258,
          259,
          260,
          261,
          262,
          263,
          264,
          265,
          266,
          267,
          268,
          269,
          270,
          271,
          272
         ],
         "xaxis": "x",
         "y": [
          null,
          0,
          0,
          0,
          0,
          0,
          0,
          0.10082176327705383,
          0.06535185128450394,
          0,
          0.09870495647192001,
          0.0960022509098053,
          0.09685011208057404,
          0.09371364861726761,
          0.11775167286396027,
          0.08454030752182007,
          0.08850762248039246,
          0.08442047983407974,
          0.11076407134532928,
          0.09136579930782318,
          0.09201721101999283,
          0.07852043211460114,
          0.0815182775259018,
          0.0880989208817482,
          0.09047311544418335,
          0.0832623615860939,
          0.08550991863012314,
          0.06928174197673798,
          0.08360318094491959,
          0.08199603110551834,
          0.08118849247694016,
          0.09125198423862457,
          0.08130981028079987,
          0.08531177043914795,
          0.07215428352355957,
          0.0754990503191948,
          0.07620000094175339,
          0.07821211963891983,
          0.07148662954568863,
          0.07737790048122406,
          0.07376114279031754,
          0.0777379646897316,
          0.07607486844062805,
          0.07626380771398544,
          0.07036564499139786,
          0.0751037448644638,
          0.07280442118644714,
          0.07054932415485382,
          0.06764500588178635,
          0.06678999215364456,
          0.0677366629242897,
          0.06391999870538712,
          0.06788000464439392,
          0.05860704556107521,
          0.056909214705228806,
          0.058199185878038406,
          0.05777100473642349,
          0.055539295077323914,
          0.05474119633436203,
          0.05845257639884949,
          0.06001761555671692,
          0.05970054119825363,
          0.05961924046278,
          0.055466122925281525,
          0.05586720630526543,
          0.05551083758473396,
          0.05060236155986786,
          0.047934383153915405,
          0.04891372472047806,
          0.052845463156700134,
          0.052183907479047775,
          0.048554275184869766,
          0.04950829967856407,
          0.04314134269952774,
          0.04324941337108612,
          0.047369588166475296,
          0.04381724074482918,
          0.04219890758395195,
          0.03930293768644333,
          0.04077945649623871,
          0.04095734283328056,
          0.03776630386710167,
          0.03553333505988121,
          0.03516104072332382,
          0.03629956766963005,
          0.035927534103393555,
          0.0338212214410305,
          0.03438178822398186,
          0.03280952572822571,
          0.03052256442606449,
          0.03143059089779854,
          0.03169254586100578,
          0.029172897338867188,
          0.03032245673239231,
          0.02995581179857254,
          0.031459394842386246,
          0.03148810565471649,
          0.030594654381275177,
          0.029306381940841675,
          0.027981558814644814,
          0.02776569128036499,
          0.027759414166212082,
          0.028172889724373817,
          0.029442599043250084,
          0.02800276316702366,
          0.028340939432382584,
          0.02731936238706112,
          0.02677007019519806,
          0.02662835270166397,
          0.026068702340126038,
          0.026570525020360947,
          0.026192283257842064,
          0.025206854566931725,
          0.024656934663653374,
          0.023841125890612602,
          0.023849790915846825,
          0.02400597371160984,
          0.024591533467173576,
          0.024233750998973846,
          0.023837804794311523,
          0.023764461278915405,
          0.02433808520436287,
          0.024369578808546066,
          0.024310201406478882,
          0.024079812690615654,
          0.024307509884238243,
          0.024579813703894615,
          0.024492958560585976,
          0.024238262325525284,
          0.024155516177415848,
          0.02432335540652275,
          0.02420363761484623,
          0.023844171315431595,
          0.02392226830124855,
          0.024621717631816864,
          0.024843821302056313,
          0.023725522682070732,
          0.024053029716014862,
          0.023652123287320137,
          0.02333623170852661,
          0.023337362334132195,
          0.022686239331960678,
          0.023050662130117416,
          0.023222796618938446,
          0.023032814264297485,
          0.02341623231768608,
          0.0236137006431818,
          0.023127231746912003,
          0.02320898324251175,
          0.023358087986707687,
          0.023502014577388763,
          0.023229705169796944,
          0.02333333157002926,
          0.02365574613213539,
          0.02373390831053257,
          0.023627586662769318,
          0.02344367839396,
          0.023724136874079704,
          0.02387988567352295,
          0.023588504642248154,
          0.02307559922337532,
          0.023086482658982277,
          0.023348797112703323,
          0.023566437885165215,
          0.022829324007034302,
          0.023405499756336212,
          0.02335280552506447,
          0.023543529212474823,
          0.02324742265045643,
          0.0230303555727005,
          0.023405499756336212,
          0.023782361298799515,
          0.023776059970259666,
          0.023238256573677063,
          0.023278923705220222,
          0.02310481108725071,
          0.023647192865610123,
          0.023509735241532326,
          0.023732531815767288,
          0.023592783138155937,
          0.0234198160469532,
          0.023654066026210785,
          0.023438716307282448,
          0.02367124706506729,
          0.02365005761384964,
          0.023545246571302414,
          0.02323310635983944,
          0.023906072601675987,
          0.024209050461649895,
          0.023765752092003822,
          0.02354295738041401,
          0.02378178760409355,
          0.02372966706752777,
          0.023970218375325203,
          0.024046391248703003,
          0.02392096444964409,
          0.023973654955625534,
          0.024034937843680382,
          0.024256587028503418,
          0.023829324170947075,
          0.02370847761631012,
          0.024033790454268456,
          0.02397136390209198,
          0.023792097344994545,
          0.023845933377742767,
          0.02397545427083969,
          0.023543380200862885,
          0.02335156686604023,
          0.023700855672359467,
          0.023905983194708824,
          0.023967523127794266,
          0.02365185134112835,
          0.02398005686700344,
          0.02309344708919525,
          0.02392820455133915,
          0.023488318547606468,
          0.023862678557634354,
          0.02365071140229702,
          0.023839887231588364,
          0.02355840615928173,
          0.024060966446995735,
          0.023611396551132202,
          0.02347179502248764,
          0.023867236450314522,
          0.023558974266052246,
          0.02322165109217167,
          0.02364501543343067,
          0.02368433214724064,
          0.02342848852276802,
          0.023876354098320007,
          0.024004559963941574,
          0.02375270612537861,
          0.023602278903126717,
          0.02322051301598549,
          0.02427179552614689,
          0.02329401671886444,
          0.023609118536114693,
          0.0242239311337471,
          0.024504274129867554,
          0.023695725947618484,
          0.02403874695301056,
          0.02381766401231289,
          0.023704271763563156,
          0.023762963712215424,
          0.0243378933519125,
          0.024757836014032364,
          0.024042164906859398,
          0.02437151037156582,
          0.02482564188539982,
          0.023635897785425186,
          0.02390199340879917,
          0.024375498294830322,
          0.025023361667990685,
          0.024564672261476517,
          0.024474073201417923,
          0.02549002878367901,
          0.0246336180716753,
          0.024744730442762375,
          0.02489914372563362,
          0.025070086121559143,
          0.024895157665014267,
          0.024153275415301323,
          0.025171510875225067,
          0.02529800683259964,
          0.025237036868929863,
          0.02489800564944744,
          0.025120796635746956,
          0.02530028484761715,
          0.02556353434920311,
          0.025235328823328018,
          0.025249572470784187,
          14.69433307647705,
          14.770333290100098
         ],
         "yaxis": "y"
        },
        {
         "hovertemplate": "variable=autumn_temp<br>index=%{x}<br>value=%{y}<extra></extra>",
         "legendgroup": "autumn_temp",
         "line": {
          "color": "#00cc96",
          "dash": "solid"
         },
         "marker": {
          "symbol": "circle"
         },
         "mode": "lines",
         "name": "autumn_temp",
         "showlegend": true,
         "type": "scattergl",
         "x": [
          0,
          1,
          2,
          3,
          4,
          5,
          6,
          7,
          8,
          9,
          10,
          11,
          12,
          13,
          14,
          15,
          16,
          17,
          18,
          19,
          20,
          21,
          22,
          23,
          24,
          25,
          26,
          27,
          28,
          29,
          30,
          31,
          32,
          33,
          34,
          35,
          36,
          37,
          38,
          39,
          40,
          41,
          42,
          43,
          44,
          45,
          46,
          47,
          48,
          49,
          50,
          51,
          52,
          53,
          54,
          55,
          56,
          57,
          58,
          59,
          60,
          61,
          62,
          63,
          64,
          65,
          66,
          67,
          68,
          69,
          70,
          71,
          72,
          73,
          74,
          75,
          76,
          77,
          78,
          79,
          80,
          81,
          82,
          83,
          84,
          85,
          86,
          87,
          88,
          89,
          90,
          91,
          92,
          93,
          94,
          95,
          96,
          97,
          98,
          99,
          100,
          101,
          102,
          103,
          104,
          105,
          106,
          107,
          108,
          109,
          110,
          111,
          112,
          113,
          114,
          115,
          116,
          117,
          118,
          119,
          120,
          121,
          122,
          123,
          124,
          125,
          126,
          127,
          128,
          129,
          130,
          131,
          132,
          133,
          134,
          135,
          136,
          137,
          138,
          139,
          140,
          141,
          142,
          143,
          144,
          145,
          146,
          147,
          148,
          149,
          150,
          151,
          152,
          153,
          154,
          155,
          156,
          157,
          158,
          159,
          160,
          161,
          162,
          163,
          164,
          165,
          166,
          167,
          168,
          169,
          170,
          171,
          172,
          173,
          174,
          175,
          176,
          177,
          178,
          179,
          180,
          181,
          182,
          183,
          184,
          185,
          186,
          187,
          188,
          189,
          190,
          191,
          192,
          193,
          194,
          195,
          196,
          197,
          198,
          199,
          200,
          201,
          202,
          203,
          204,
          205,
          206,
          207,
          208,
          209,
          210,
          211,
          212,
          213,
          214,
          215,
          216,
          217,
          218,
          219,
          220,
          221,
          222,
          223,
          224,
          225,
          226,
          227,
          228,
          229,
          230,
          231,
          232,
          233,
          234,
          235,
          236,
          237,
          238,
          239,
          240,
          241,
          242,
          243,
          244,
          245,
          246,
          247,
          248,
          249,
          250,
          251,
          252,
          253,
          254,
          255,
          256,
          257,
          258,
          259,
          260,
          261,
          262,
          263,
          264,
          265,
          266,
          267,
          268,
          269,
          270,
          271,
          272
         ],
         "xaxis": "x",
         "y": [
          0,
          0,
          0,
          0,
          0,
          0,
          0,
          0.04115740954875946,
          0.024706019088625908,
          0.0351249985396862,
          0.06224549934267998,
          0.060522519052028656,
          0.061970919370651245,
          0.054114095866680145,
          0.0567472018301487,
          0.04112635925412178,
          0.054816994816064835,
          0.05083660036325455,
          0.05379004776477814,
          0.04945671185851097,
          0.04623870924115181,
          0.056984949856996536,
          0.05268817022442818,
          0.060578495264053345,
          0.06154193729162216,
          0.045900795608758926,
          0.03836706653237343,
          0.04995238035917282,
          0.052769843488931656,
          0.054180555045604706,
          0.04972817376255989,
          0.044751983135938644,
          0.058131370693445206,
          0.048101965337991714,
          0.04545523598790169,
          0.0481523796916008,
          0.051871269941329956,
          0.04443137347698212,
          0.04701247811317444,
          0.04693761095404625,
          0.03477896749973297,
          0.03860784322023392,
          0.041664883494377136,
          0.04565240815281868,
          0.04069728031754494,
          0.046188775449991226,
          0.043149661272764206,
          0.04275679960846901,
          0.043271664530038834,
          0.04315666854381561,
          0.043434999883174896,
          0.04381333291530609,
          0.040209997445344925,
          0.03609485179185867,
          0.03580894321203232,
          0.035654470324516296,
          0.03769782930612564,
          0.035008132457733154,
          0.0356111116707325,
          0.03668021783232689,
          0.037140924483537674,
          0.03913550078868866,
          0.03283197805285454,
          0.03550948202610016,
          0.0372452549636364,
          0.03341512009501457,
          0.02981102280318737,
          0.026234908029437065,
          0.026733333244919777,
          0.028284801170229912,
          0.03554278612136841,
          0.03165900334715843,
          0.028692208230495453,
          0.02373027242720127,
          0.023066900670528412,
          0.026043275371193886,
          0.029144829139113426,
          0.02349645271897316,
          0.024609312415122986,
          0.023131921887397766,
          0.02217063494026661,
          0.023190215229988098,
          0.02180519513785839,
          0.02274545468389988,
          0.022226840257644653,
          0.021051151677966118,
          0.020390141755342484,
          0.021742690354585648,
          0.018536342307925224,
          0.01840726099908352,
          0.020181961357593536,
          0.020818037912249565,
          0.01720327138900757,
          0.018167832866311073,
          0.017540311440825462,
          0.019174013286828995,
          0.017618389800190926,
          0.01678990200161934,
          0.017326241359114647,
          0.01707163080573082,
          0.017430266365408897,
          0.01668061502277851,
          0.01674273982644081,
          0.01729668118059635,
          0.017849929630756378,
          0.017248963937163353,
          0.017139721661806107,
          0.015625562518835068,
          0.016457214951515198,
          0.01586095243692398,
          0.01583048701286316,
          0.017091713845729828,
          0.015433644875884056,
          0.014838808216154575,
          0.014682253822684288,
          0.015528426505625248,
          0.015427717939019203,
          0.015283840708434582,
          0.01525998767465353,
          0.0143726896494627,
          0.014822302386164665,
          0.015090315602719784,
          0.01608853228390217,
          0.015378410927951336,
          0.016381453722715378,
          0.015439554117619991,
          0.01586032658815384,
          0.015470658428966999,
          0.015211266465485096,
          0.015592723153531551,
          0.015575118362903595,
          0.015868544578552246,
          0.014363209716975689,
          0.015018097124993801,
          0.016168124973773956,
          0.016149185597896576,
          0.015270397998392582,
          0.015123543329536915,
          0.015015707351267338,
          0.014635941945016384,
          0.014483017846941948,
          0.01438111625611782,
          0.014727692119777203,
          0.014640184119343758,
          0.014989636838436127,
          0.015358665026724339,
          0.014629245735704899,
          0.01482671219855547,
          0.014738054014742374,
          0.01491825096309185,
          0.015445596538484097,
          0.015023015439510345,
          0.015289654955267906,
          0.015290806069970131,
          0.015362069010734558,
          0.01496149506419897,
          0.01617356389760971,
          0.015761494636535645,
          0.01549597643315792,
          0.014870114624500275,
          0.01479324046522379,
          0.01514547597616911,
          0.01547995489090681,
          0.015200458467006683,
          0.014951889403164387,
          0.01495647057890892,
          0.01563974842429161,
          0.014923825860023499,
          0.01538659818470478,
          0.014381444081664085,
          0.015383733436465263,
          0.015498855151236057,
          0.015502290800213814,
          0.015105956234037876,
          0.014953607693314552,
          0.015462199226021767,
          0.015372280031442642,
          0.015109391883015633,
          0.015462199226021767,
          0.015393470413982868,
          0.015911225229501724,
          0.015784651041030884,
          0.015758877620100975,
          0.015993699431419373,
          0.016315577551722527,
          0.015951890498399734,
          0.015715349465608597,
          0.0158699881285429,
          0.01630183309316635,
          0.015979383140802383,
          0.015453607775270939,
          0.01577605865895748,
          0.015439862385392189,
          0.015871133655309677,
          0.016321878880262375,
          0.016461053863167763,
          0.015672966837882996,
          0.015922680497169495,
          0.01573825813829899,
          0.01613287441432476,
          0.016187284141778946,
          0.01623653993010521,
          0.01596391759812832,
          0.015796106308698654,
          0.01637113466858864,
          0.015938354656100273,
          0.015773970633745193,
          0.015086608938872814,
          0.01607920229434967,
          0.01528205070644617,
          0.01579088345170021,
          0.01608148030936718,
          0.01576182246208191,
          0.015070656314492226,
          0.016067806631326675,
          0.015658119693398476,
          0.015303702093660831,
          0.015623930841684341,
          0.01582906022667885,
          0.015822792425751686,
          0.016557835042476654,
          0.015053561888635159,
          0.01542905904352665,
          0.015529913827776909,
          0.015976637601852417,
          0.015364103019237518,
          0.015929915010929108,
          0.015767522156238556,
          0.015852991491556168,
          0.015409685671329498,
          0.015929345041513443,
          0.015246153809130192,
          0.01559145376086235,
          0.01485242135822773,
          0.015704844146966934,
          0.01579430140554905,
          0.016022222116589546,
          0.016270656138658524,
          0.01589914597570896,
          0.015516809187829494,
          0.016490597277879715,
          0.015500855632126331,
          0.015547579154372215,
          0.015404559671878815,
          0.016007406637072563,
          0.01649857498705387,
          0.016149288043379784,
          0.01652250625193119,
          0.016450142487883568,
          0.015335611999034882,
          0.015545300208032131,
          0.016698574647307396,
          0.016770370304584503,
          0.016162963584065437,
          0.016886040568351746,
          0.01653447188436985,
          0.016701994463801384,
          0.016150997951626778,
          0.01708832010626793,
          0.01699715107679367,
          0.01712934486567974,
          0.017141880467534065,
          0.017801139503717422,
          0.01716182380914688,
          0.017291167750954628,
          0.017336182296276093,
          0.017276352271437645,
          0.017545299604535103,
          0.017138460651040077,
          0.017449572682380676,
          0.05252810940146446,
          10.044666290283203,
          10.41100025177002
         ],
         "yaxis": "y"
        },
        {
         "hovertemplate": "variable=winter_temp<br>index=%{x}<br>value=%{y}<extra></extra>",
         "legendgroup": "winter_temp",
         "line": {
          "color": "#ab63fa",
          "dash": "solid"
         },
         "marker": {
          "symbol": "circle"
         },
         "mode": "lines",
         "name": "winter_temp",
         "showlegend": true,
         "type": "scattergl",
         "x": [
          0,
          1,
          2,
          3,
          4,
          5,
          6,
          7,
          8,
          9,
          10,
          11,
          12,
          13,
          14,
          15,
          16,
          17,
          18,
          19,
          20,
          21,
          22,
          23,
          24,
          25,
          26,
          27,
          28,
          29,
          30,
          31,
          32,
          33,
          34,
          35,
          36,
          37,
          38,
          39,
          40,
          41,
          42,
          43,
          44,
          45,
          46,
          47,
          48,
          49,
          50,
          51,
          52,
          53,
          54,
          55,
          56,
          57,
          58,
          59,
          60,
          61,
          62,
          63,
          64,
          65,
          66,
          67,
          68,
          69,
          70,
          71,
          72,
          73,
          74,
          75,
          76,
          77,
          78,
          79,
          80,
          81,
          82,
          83,
          84,
          85,
          86,
          87,
          88,
          89,
          90,
          91,
          92,
          93,
          94,
          95,
          96,
          97,
          98,
          99,
          100,
          101,
          102,
          103,
          104,
          105,
          106,
          107,
          108,
          109,
          110,
          111,
          112,
          113,
          114,
          115,
          116,
          117,
          118,
          119,
          120,
          121,
          122,
          123,
          124,
          125,
          126,
          127,
          128,
          129,
          130,
          131,
          132,
          133,
          134,
          135,
          136,
          137,
          138,
          139,
          140,
          141,
          142,
          143,
          144,
          145,
          146,
          147,
          148,
          149,
          150,
          151,
          152,
          153,
          154,
          155,
          156,
          157,
          158,
          159,
          160,
          161,
          162,
          163,
          164,
          165,
          166,
          167,
          168,
          169,
          170,
          171,
          172,
          173,
          174,
          175,
          176,
          177,
          178,
          179,
          180,
          181,
          182,
          183,
          184,
          185,
          186,
          187,
          188,
          189,
          190,
          191,
          192,
          193,
          194,
          195,
          196,
          197,
          198,
          199,
          200,
          201,
          202,
          203,
          204,
          205,
          206,
          207,
          208,
          209,
          210,
          211,
          212,
          213,
          214,
          215,
          216,
          217,
          218,
          219,
          220,
          221,
          222,
          223,
          224,
          225,
          226,
          227,
          228,
          229,
          230,
          231,
          232,
          233,
          234,
          235,
          236,
          237,
          238,
          239,
          240,
          241,
          242,
          243,
          244,
          245,
          246,
          247,
          248,
          249,
          250,
          251,
          252,
          253,
          254,
          255,
          256,
          257,
          258,
          259,
          260,
          261,
          262,
          263,
          264,
          265,
          266,
          267,
          268,
          269,
          270,
          271,
          272
         ],
         "xaxis": "x",
         "y": [
          0,
          0,
          0,
          0,
          0,
          0,
          0,
          0.020576389506459236,
          0.00800462905317545,
          0.012578703463077545,
          0.007461711764335632,
          0.011063062585890293,
          0.007881431840360165,
          0.026214763522148132,
          0.009953020140528679,
          0.005658536683768034,
          0.020355118438601494,
          0.009102396667003632,
          0.005406926851719618,
          0.03201298788189888,
          0.011879569850862026,
          0.028425807133316994,
          0.021529031917452812,
          0.01384085975587368,
          0.009630108252167702,
          0.002286611357703805,
          0.00692658731713891,
          0.02145436406135559,
          0.014581348747015,
          0.016355158761143684,
          0.012053570710122585,
          0.009720238856971264,
          0.02347451075911522,
          0.017725490033626556,
          0.026936538517475128,
          0.020411428064107895,
          0.016565298661589622,
          0.0164203941822052,
          0.014181818813085556,
          0.005171122960746288,
          0.010850267484784126,
          0.01247771829366684,
          0.006743315607309341,
          0.007404635194689035,
          0.012251700274646282,
          0.009469387121498585,
          0.014421767555177212,
          0.013897959142923355,
          0.014332771301269531,
          0.012260000221431255,
          0.012171666137874126,
          0.017054999247193336,
          0.016156667843461037,
          0.009266937151551247,
          0.01711111143231392,
          0.010730352252721786,
          0.010146341286599636,
          0.013974255882203579,
          0.0141111109405756,
          0.012803521938621998,
          0.005924118682742119,
          0.00895392894744873,
          0.01292276382446289,
          0.013337398879230022,
          0.012967479415237904,
          0.005576407071202993,
          0.0041220467537641525,
          0.007793963421136141,
          0.006533333566039801,
          0.003136653918772936,
          0.003887611674144864,
          0.011519796214997768,
          0.00708173681050539,
          0.005429814103990793,
          0.006304705981165171,
          0.005235638935118914,
          0.005923963151872158,
          0.005086339078843594,
          0.009589068591594696,
          0.008319878950715065,
          0.005649801343679428,
          0.009425724856555462,
          0.008088312111794949,
          0.007187878713011742,
          0.009290043264627457,
          0.004612297285348177,
          0.005248941946774721,
          0.009626566432416439,
          0.005786132533103228,
          0.003424505703151226,
          0.005787451285868883,
          0.004513725638389587,
          0.005230529699474573,
          0.005362082272768021,
          0.005309542175382376,
          0.0028032532427459955,
          0.005147239193320274,
          0.004900820087641478,
          0.004023437388241291,
          0.005782269407063723,
          0.007433054503053427,
          0.004042538348585367,
          0.004165975376963615,
          0.007168049458414316,
          0.00558852031826973,
          0.0043810512870550156,
          0.0043260143138468266,
          0.004253692924976349,
          0.005159004125744104,
          0.005545570515096188,
          0.0043466161005198956,
          0.00422454159706831,
          0.004857142921537161,
          0.0050894166342914104,
          0.004689262248575687,
          0.004468581639230251,
          0.004773596301674843,
          0.0037823491729795933,
          0.00324090663343668,
          0.0024311270099133253,
          0.005329755134880543,
          0.0037569815758615732,
          0.004618538077920675,
          0.005557007156312466,
          0.005330399144440889,
          0.0042353286407887936,
          0.005096831358969212,
          0.003781690262258053,
          0.003724178532138467,
          0.003890258027240634,
          0.005313380155712366,
          0.005373020190745592,
          0.003782659536227584,
          0.0038965516723692417,
          0.00479276105761528,
          0.005302800331264734,
          0.004416083917021751,
          0.004028555005788803,
          0.004824111703783274,
          0.004884637426584959,
          0.0037864132318645716,
          0.004388025030493736,
          0.0039666094817221165,
          0.003875071881338954,
          0.0033120322041213512,
          0.004012089688330889,
          0.004761082585901022,
          0.00421473802998662,
          0.004122049547731876,
          0.0044663213193416595,
          0.0030564190819859505,
          0.004457422532141209,
          0.0038833334110677242,
          0.004775862209498882,
          0.00430632196366787,
          0.004883908201009035,
          0.004540230147540569,
          0.004720689728856087,
          0.004952873568981886,
          0.005174138117581606,
          0.005135738756507635,
          0.004185567144304514,
          0.004315578378736973,
          0.004656357225030661,
          0.003935280721634626,
          0.0046643759123981,
          0.004194730892777443,
          0.004465063102543354,
          0.004297250881791115,
          0.005054410081356764,
          0.004903780296444893,
          0.005828178953379393,
          0.005267468746751547,
          0.00451832776889205,
          0.0038602519780397415,
          0.004144902806729078,
          0.004730813205242157,
          0.004710767883807421,
          0.0055945017375051975,
          0.004692439921200275,
          0.005114547908306122,
          0.004989690613001585,
          0.005364833865314722,
          0.006034364458173513,
          0.004970218054950237,
          0.0058717066422104836,
          0.003892898093909025,
          0.00537457037717104,
          0.00543871708214283,
          0.005796106066554785,
          0.0045418101362884045,
          0.005819014739245176,
          0.005568728782236576,
          0.00496907252818346,
          0.005431844387203455,
          0.005634020548313856,
          0.006370561197400093,
          0.005665521137416363,
          0.005791523028165102,
          0.005672966595739126,
          0.005808705929666758,
          0.006030355114489794,
          0.004770332481712103,
          0.005483390763401985,
          0.005458190105855465,
          0.0057582855224609375,
          0.005380707792937756,
          0.004707525484263897,
          0.00501310545951128,
          0.005757264792919159,
          0.006034757476300001,
          0.00495840422809124,
          0.005615384317934513,
          0.005039885640144348,
          0.00566153833642602,
          0.006319657899439335,
          0.005731624085456133,
          0.00613675219938159,
          0.005760114174336195,
          0.006062108092010021,
          0.006080341525375843,
          0.0053373221307992935,
          0.005506552290171385,
          0.005220512859523296,
          0.005430199205875397,
          0.005035897251218557,
          0.004915099591016769,
          0.005750427488237619,
          0.00552763557061553,
          0.004711681045591831,
          0.0061356122605502605,
          0.0047823358327150345,
          0.005766951944679022,
          0.00546780601143837,
          0.005533902905881405,
          0.005641595460474491,
          0.00576638150960207,
          0.006053560879081488,
          0.007022792007774115,
          0.005792592652142048,
          0.006317948456853628,
          0.005252991337329149,
          0.005412535276263952,
          0.006300284527242184,
          0.006701993755996227,
          0.006403988692909479,
          0.006135042756795883,
          0.006445014383643866,
          0.006437607109546661,
          0.006601139437407255,
          0.00631395960226655,
          0.005667806137353182,
          0.0070193735882639885,
          0.0063811964355409145,
          0.006466096732765436,
          0.007320228032767773,
          0.007295156363397837,
          0.006266096606850624,
          0.006588603835552931,
          0.007275213487446308,
          0.007520797196775675,
          0.006997720804065466,
          0.007182905916124582,
          0.0072381761856377125,
          0.007591452915221453,
          0.006156695540994406,
          0.006889458280056715,
          0.007081481162458658,
          0.006655270699411631,
          0.00620341906324029,
          0.010786507278680801,
          4.027333736419678,
          4.687666416168213
         ],
         "yaxis": "y"
        }
       ],
       "layout": {
        "legend": {
         "title": {
          "text": "variable"
         },
         "tracegroupgap": 0
        },
        "template": {
         "data": {
          "bar": [
           {
            "error_x": {
             "color": "#2a3f5f"
            },
            "error_y": {
             "color": "#2a3f5f"
            },
            "marker": {
             "line": {
              "color": "#E5ECF6",
              "width": 0.5
             },
             "pattern": {
              "fillmode": "overlay",
              "size": 10,
              "solidity": 0.2
             }
            },
            "type": "bar"
           }
          ],
          "barpolar": [
           {
            "marker": {
             "line": {
              "color": "#E5ECF6",
              "width": 0.5
             },
             "pattern": {
              "fillmode": "overlay",
              "size": 10,
              "solidity": 0.2
             }
            },
            "type": "barpolar"
           }
          ],
          "carpet": [
           {
            "aaxis": {
             "endlinecolor": "#2a3f5f",
             "gridcolor": "white",
             "linecolor": "white",
             "minorgridcolor": "white",
             "startlinecolor": "#2a3f5f"
            },
            "baxis": {
             "endlinecolor": "#2a3f5f",
             "gridcolor": "white",
             "linecolor": "white",
             "minorgridcolor": "white",
             "startlinecolor": "#2a3f5f"
            },
            "type": "carpet"
           }
          ],
          "choropleth": [
           {
            "colorbar": {
             "outlinewidth": 0,
             "ticks": ""
            },
            "type": "choropleth"
           }
          ],
          "contour": [
           {
            "colorbar": {
             "outlinewidth": 0,
             "ticks": ""
            },
            "colorscale": [
             [
              0,
              "#0d0887"
             ],
             [
              0.1111111111111111,
              "#46039f"
             ],
             [
              0.2222222222222222,
              "#7201a8"
             ],
             [
              0.3333333333333333,
              "#9c179e"
             ],
             [
              0.4444444444444444,
              "#bd3786"
             ],
             [
              0.5555555555555556,
              "#d8576b"
             ],
             [
              0.6666666666666666,
              "#ed7953"
             ],
             [
              0.7777777777777778,
              "#fb9f3a"
             ],
             [
              0.8888888888888888,
              "#fdca26"
             ],
             [
              1,
              "#f0f921"
             ]
            ],
            "type": "contour"
           }
          ],
          "contourcarpet": [
           {
            "colorbar": {
             "outlinewidth": 0,
             "ticks": ""
            },
            "type": "contourcarpet"
           }
          ],
          "heatmap": [
           {
            "colorbar": {
             "outlinewidth": 0,
             "ticks": ""
            },
            "colorscale": [
             [
              0,
              "#0d0887"
             ],
             [
              0.1111111111111111,
              "#46039f"
             ],
             [
              0.2222222222222222,
              "#7201a8"
             ],
             [
              0.3333333333333333,
              "#9c179e"
             ],
             [
              0.4444444444444444,
              "#bd3786"
             ],
             [
              0.5555555555555556,
              "#d8576b"
             ],
             [
              0.6666666666666666,
              "#ed7953"
             ],
             [
              0.7777777777777778,
              "#fb9f3a"
             ],
             [
              0.8888888888888888,
              "#fdca26"
             ],
             [
              1,
              "#f0f921"
             ]
            ],
            "type": "heatmap"
           }
          ],
          "heatmapgl": [
           {
            "colorbar": {
             "outlinewidth": 0,
             "ticks": ""
            },
            "colorscale": [
             [
              0,
              "#0d0887"
             ],
             [
              0.1111111111111111,
              "#46039f"
             ],
             [
              0.2222222222222222,
              "#7201a8"
             ],
             [
              0.3333333333333333,
              "#9c179e"
             ],
             [
              0.4444444444444444,
              "#bd3786"
             ],
             [
              0.5555555555555556,
              "#d8576b"
             ],
             [
              0.6666666666666666,
              "#ed7953"
             ],
             [
              0.7777777777777778,
              "#fb9f3a"
             ],
             [
              0.8888888888888888,
              "#fdca26"
             ],
             [
              1,
              "#f0f921"
             ]
            ],
            "type": "heatmapgl"
           }
          ],
          "histogram": [
           {
            "marker": {
             "pattern": {
              "fillmode": "overlay",
              "size": 10,
              "solidity": 0.2
             }
            },
            "type": "histogram"
           }
          ],
          "histogram2d": [
           {
            "colorbar": {
             "outlinewidth": 0,
             "ticks": ""
            },
            "colorscale": [
             [
              0,
              "#0d0887"
             ],
             [
              0.1111111111111111,
              "#46039f"
             ],
             [
              0.2222222222222222,
              "#7201a8"
             ],
             [
              0.3333333333333333,
              "#9c179e"
             ],
             [
              0.4444444444444444,
              "#bd3786"
             ],
             [
              0.5555555555555556,
              "#d8576b"
             ],
             [
              0.6666666666666666,
              "#ed7953"
             ],
             [
              0.7777777777777778,
              "#fb9f3a"
             ],
             [
              0.8888888888888888,
              "#fdca26"
             ],
             [
              1,
              "#f0f921"
             ]
            ],
            "type": "histogram2d"
           }
          ],
          "histogram2dcontour": [
           {
            "colorbar": {
             "outlinewidth": 0,
             "ticks": ""
            },
            "colorscale": [
             [
              0,
              "#0d0887"
             ],
             [
              0.1111111111111111,
              "#46039f"
             ],
             [
              0.2222222222222222,
              "#7201a8"
             ],
             [
              0.3333333333333333,
              "#9c179e"
             ],
             [
              0.4444444444444444,
              "#bd3786"
             ],
             [
              0.5555555555555556,
              "#d8576b"
             ],
             [
              0.6666666666666666,
              "#ed7953"
             ],
             [
              0.7777777777777778,
              "#fb9f3a"
             ],
             [
              0.8888888888888888,
              "#fdca26"
             ],
             [
              1,
              "#f0f921"
             ]
            ],
            "type": "histogram2dcontour"
           }
          ],
          "mesh3d": [
           {
            "colorbar": {
             "outlinewidth": 0,
             "ticks": ""
            },
            "type": "mesh3d"
           }
          ],
          "parcoords": [
           {
            "line": {
             "colorbar": {
              "outlinewidth": 0,
              "ticks": ""
             }
            },
            "type": "parcoords"
           }
          ],
          "pie": [
           {
            "automargin": true,
            "type": "pie"
           }
          ],
          "scatter": [
           {
            "marker": {
             "colorbar": {
              "outlinewidth": 0,
              "ticks": ""
             }
            },
            "type": "scatter"
           }
          ],
          "scatter3d": [
           {
            "line": {
             "colorbar": {
              "outlinewidth": 0,
              "ticks": ""
             }
            },
            "marker": {
             "colorbar": {
              "outlinewidth": 0,
              "ticks": ""
             }
            },
            "type": "scatter3d"
           }
          ],
          "scattercarpet": [
           {
            "marker": {
             "colorbar": {
              "outlinewidth": 0,
              "ticks": ""
             }
            },
            "type": "scattercarpet"
           }
          ],
          "scattergeo": [
           {
            "marker": {
             "colorbar": {
              "outlinewidth": 0,
              "ticks": ""
             }
            },
            "type": "scattergeo"
           }
          ],
          "scattergl": [
           {
            "marker": {
             "colorbar": {
              "outlinewidth": 0,
              "ticks": ""
             }
            },
            "type": "scattergl"
           }
          ],
          "scattermapbox": [
           {
            "marker": {
             "colorbar": {
              "outlinewidth": 0,
              "ticks": ""
             }
            },
            "type": "scattermapbox"
           }
          ],
          "scatterpolar": [
           {
            "marker": {
             "colorbar": {
              "outlinewidth": 0,
              "ticks": ""
             }
            },
            "type": "scatterpolar"
           }
          ],
          "scatterpolargl": [
           {
            "marker": {
             "colorbar": {
              "outlinewidth": 0,
              "ticks": ""
             }
            },
            "type": "scatterpolargl"
           }
          ],
          "scatterternary": [
           {
            "marker": {
             "colorbar": {
              "outlinewidth": 0,
              "ticks": ""
             }
            },
            "type": "scatterternary"
           }
          ],
          "surface": [
           {
            "colorbar": {
             "outlinewidth": 0,
             "ticks": ""
            },
            "colorscale": [
             [
              0,
              "#0d0887"
             ],
             [
              0.1111111111111111,
              "#46039f"
             ],
             [
              0.2222222222222222,
              "#7201a8"
             ],
             [
              0.3333333333333333,
              "#9c179e"
             ],
             [
              0.4444444444444444,
              "#bd3786"
             ],
             [
              0.5555555555555556,
              "#d8576b"
             ],
             [
              0.6666666666666666,
              "#ed7953"
             ],
             [
              0.7777777777777778,
              "#fb9f3a"
             ],
             [
              0.8888888888888888,
              "#fdca26"
             ],
             [
              1,
              "#f0f921"
             ]
            ],
            "type": "surface"
           }
          ],
          "table": [
           {
            "cells": {
             "fill": {
              "color": "#EBF0F8"
             },
             "line": {
              "color": "white"
             }
            },
            "header": {
             "fill": {
              "color": "#C8D4E3"
             },
             "line": {
              "color": "white"
             }
            },
            "type": "table"
           }
          ]
         },
         "layout": {
          "annotationdefaults": {
           "arrowcolor": "#2a3f5f",
           "arrowhead": 0,
           "arrowwidth": 1
          },
          "autotypenumbers": "strict",
          "coloraxis": {
           "colorbar": {
            "outlinewidth": 0,
            "ticks": ""
           }
          },
          "colorscale": {
           "diverging": [
            [
             0,
             "#8e0152"
            ],
            [
             0.1,
             "#c51b7d"
            ],
            [
             0.2,
             "#de77ae"
            ],
            [
             0.3,
             "#f1b6da"
            ],
            [
             0.4,
             "#fde0ef"
            ],
            [
             0.5,
             "#f7f7f7"
            ],
            [
             0.6,
             "#e6f5d0"
            ],
            [
             0.7,
             "#b8e186"
            ],
            [
             0.8,
             "#7fbc41"
            ],
            [
             0.9,
             "#4d9221"
            ],
            [
             1,
             "#276419"
            ]
           ],
           "sequential": [
            [
             0,
             "#0d0887"
            ],
            [
             0.1111111111111111,
             "#46039f"
            ],
            [
             0.2222222222222222,
             "#7201a8"
            ],
            [
             0.3333333333333333,
             "#9c179e"
            ],
            [
             0.4444444444444444,
             "#bd3786"
            ],
            [
             0.5555555555555556,
             "#d8576b"
            ],
            [
             0.6666666666666666,
             "#ed7953"
            ],
            [
             0.7777777777777778,
             "#fb9f3a"
            ],
            [
             0.8888888888888888,
             "#fdca26"
            ],
            [
             1,
             "#f0f921"
            ]
           ],
           "sequentialminus": [
            [
             0,
             "#0d0887"
            ],
            [
             0.1111111111111111,
             "#46039f"
            ],
            [
             0.2222222222222222,
             "#7201a8"
            ],
            [
             0.3333333333333333,
             "#9c179e"
            ],
            [
             0.4444444444444444,
             "#bd3786"
            ],
            [
             0.5555555555555556,
             "#d8576b"
            ],
            [
             0.6666666666666666,
             "#ed7953"
            ],
            [
             0.7777777777777778,
             "#fb9f3a"
            ],
            [
             0.8888888888888888,
             "#fdca26"
            ],
            [
             1,
             "#f0f921"
            ]
           ]
          },
          "colorway": [
           "#636efa",
           "#EF553B",
           "#00cc96",
           "#ab63fa",
           "#FFA15A",
           "#19d3f3",
           "#FF6692",
           "#B6E880",
           "#FF97FF",
           "#FECB52"
          ],
          "font": {
           "color": "#2a3f5f"
          },
          "geo": {
           "bgcolor": "white",
           "lakecolor": "white",
           "landcolor": "#E5ECF6",
           "showlakes": true,
           "showland": true,
           "subunitcolor": "white"
          },
          "hoverlabel": {
           "align": "left"
          },
          "hovermode": "closest",
          "mapbox": {
           "style": "light"
          },
          "paper_bgcolor": "white",
          "plot_bgcolor": "#E5ECF6",
          "polar": {
           "angularaxis": {
            "gridcolor": "white",
            "linecolor": "white",
            "ticks": ""
           },
           "bgcolor": "#E5ECF6",
           "radialaxis": {
            "gridcolor": "white",
            "linecolor": "white",
            "ticks": ""
           }
          },
          "scene": {
           "xaxis": {
            "backgroundcolor": "#E5ECF6",
            "gridcolor": "white",
            "gridwidth": 2,
            "linecolor": "white",
            "showbackground": true,
            "ticks": "",
            "zerolinecolor": "white"
           },
           "yaxis": {
            "backgroundcolor": "#E5ECF6",
            "gridcolor": "white",
            "gridwidth": 2,
            "linecolor": "white",
            "showbackground": true,
            "ticks": "",
            "zerolinecolor": "white"
           },
           "zaxis": {
            "backgroundcolor": "#E5ECF6",
            "gridcolor": "white",
            "gridwidth": 2,
            "linecolor": "white",
            "showbackground": true,
            "ticks": "",
            "zerolinecolor": "white"
           }
          },
          "shapedefaults": {
           "line": {
            "color": "#2a3f5f"
           }
          },
          "ternary": {
           "aaxis": {
            "gridcolor": "white",
            "linecolor": "white",
            "ticks": ""
           },
           "baxis": {
            "gridcolor": "white",
            "linecolor": "white",
            "ticks": ""
           },
           "bgcolor": "#E5ECF6",
           "caxis": {
            "gridcolor": "white",
            "linecolor": "white",
            "ticks": ""
           }
          },
          "title": {
           "x": 0.05
          },
          "xaxis": {
           "automargin": true,
           "gridcolor": "white",
           "linecolor": "white",
           "ticks": "",
           "title": {
            "standoff": 15
           },
           "zerolinecolor": "white",
           "zerolinewidth": 2
          },
          "yaxis": {
           "automargin": true,
           "gridcolor": "white",
           "linecolor": "white",
           "ticks": "",
           "title": {
            "standoff": 15
           },
           "zerolinecolor": "white",
           "zerolinewidth": 2
          }
         }
        },
        "title": {
         "text": "Avg.temperature in each season"
        },
        "xaxis": {
         "anchor": "y",
         "domain": [
          0,
          1
         ],
         "title": {
          "text": "index"
         }
        },
        "yaxis": {
         "anchor": "x",
         "domain": [
          0,
          1
         ],
         "title": {
          "text": "value"
         }
        }
       }
      },
      "text/html": [
       "<div>                            <div id=\"e5656a3e-116f-4e70-bb95-df42f2ddf833\" class=\"plotly-graph-div\" style=\"height:525px; width:100%;\"></div>            <script type=\"text/javascript\">                require([\"plotly\"], function(Plotly) {                    window.PLOTLYENV=window.PLOTLYENV || {};                                    if (document.getElementById(\"e5656a3e-116f-4e70-bb95-df42f2ddf833\")) {                    Plotly.newPlot(                        \"e5656a3e-116f-4e70-bb95-df42f2ddf833\",                        [{\"hovertemplate\":\"variable=spring_temp<br>index=%{x}<br>value=%{y}<extra></extra>\",\"legendgroup\":\"spring_temp\",\"line\":{\"color\":\"#636efa\",\"dash\":\"solid\"},\"marker\":{\"symbol\":\"circle\"},\"mode\":\"lines\",\"name\":\"spring_temp\",\"showlegend\":true,\"type\":\"scattergl\",\"x\":[0,1,2,3,4,5,6,7,8,9,10,11,12,13,14,15,16,17,18,19,20,21,22,23,24,25,26,27,28,29,30,31,32,33,34,35,36,37,38,39,40,41,42,43,44,45,46,47,48,49,50,51,52,53,54,55,56,57,58,59,60,61,62,63,64,65,66,67,68,69,70,71,72,73,74,75,76,77,78,79,80,81,82,83,84,85,86,87,88,89,90,91,92,93,94,95,96,97,98,99,100,101,102,103,104,105,106,107,108,109,110,111,112,113,114,115,116,117,118,119,120,121,122,123,124,125,126,127,128,129,130,131,132,133,134,135,136,137,138,139,140,141,142,143,144,145,146,147,148,149,150,151,152,153,154,155,156,157,158,159,160,161,162,163,164,165,166,167,168,169,170,171,172,173,174,175,176,177,178,179,180,181,182,183,184,185,186,187,188,189,190,191,192,193,194,195,196,197,198,199,200,201,202,203,204,205,206,207,208,209,210,211,212,213,214,215,216,217,218,219,220,221,222,223,224,225,226,227,228,229,230,231,232,233,234,235,236,237,238,239,240,241,242,243,244,245,246,247,248,249,250,251,252,253,254,255,256,257,258,259,260,261,262,263,264,265,266,267,268,269,270,271,272],\"xaxis\":\"x\",\"y\":[null,0.0,0.0,0.0,0.0,0.0,0.0,0.05946527421474457,0.03118055686354637,0.032571762800216675,0.05829279124736786,0.06131306290626526,0.05760850012302399,0.06353019922971725,0.057749439030885696,0.04507625475525856,0.04508061334490776,0.043488018214702606,0.05789610743522644,0.050709955394268036,0.04332903027534485,0.052851613610982895,0.057217203080654144,0.05440215393900871,0.050522580742836,0.0396387092769146,0.05240079388022423,0.0424523800611496,0.036025796085596085,0.04255158454179764,0.05277976021170616,0.06313690543174744,0.053156863898038864,0.044249020516872406,0.04442476108670235,0.051188573241233826,0.05926095321774483,0.06288035959005356,0.04063636437058449,0.03952406346797943,0.04490552842617035,0.03934759274125099,0.03301426023244858,0.047324419021606445,0.04060033708810806,0.04162925109267235,0.0397091805934906,0.035700682550668716,0.040162164717912674,0.03957333415746689,0.04123999923467636,0.04573166370391846,0.04276000335812569,0.030518967658281326,0.028554201126098633,0.036395665258169174,0.03268970176577568,0.03343360498547554,0.035205960273742676,0.03154607117176056,0.035177506506443024,0.036028455942869186,0.03385772183537483,0.032826557755470276,0.028577236458659172,0.02872628904879093,0.02690419927239418,0.02705512009561062,0.025419605895876884,0.02372158318758011,0.027005109935998917,0.024615582078695297,0.025665391236543655,0.02606721594929695,0.025835100561380386,0.03127985820174217,0.02282373420894146,0.028370875865221024,0.024823708459734917,0.026765121147036552,0.02311111055314541,0.022521739825606346,0.021735064685344696,0.021727273240685463,0.02370302937924862,0.02200598455965519,0.0205012708902359,0.019629908725619316,0.01945112831890583,0.018367379903793335,0.018016470596194267,0.019650980830192566,0.017482087016105652,0.017903652042150497,0.015809303149580956,0.016324302181601524,0.016016896814107895,0.017229165881872177,0.014791341498494148,0.01744326390326023,0.015769872814416885,0.01550348661839962,0.016073305159807205,0.017069848254323006,0.01566251553595066,0.01624896377325058,0.014962741173803806,0.014242132194340229,0.014426563866436481,0.014393359422683716,0.014290954917669296,0.014810247346758842,0.015344870276749134,0.01377919688820839,0.012611878104507923,0.014323757961392403,0.014946834184229374,0.013307096436619759,0.013412045314908028,0.013444842770695686,0.01412880141288042,0.013738563284277916,0.013232323341071606,0.013779952190816402,0.013619132339954376,0.014101525768637657,0.013843896798789501,0.014010563492774963,0.013974765315651894,0.014064554125070572,0.013598592020571232,0.01394248753786087,0.01326186303049326,0.013822807930409908,0.014239344745874405,0.01545687671750784,0.01369172427803278,0.013569347560405731,0.01425130944699049,0.013692173175513744,0.013501439243555069,0.012248705141246319,0.012967761605978012,0.013215313665568829,0.01334542315453291,0.01310592982918024,0.014467472210526466,0.012903280556201935,0.013332182541489601,0.012979850172996521,0.013655727729201317,0.013658607378602028,0.013679884374141693,0.012932183220982552,0.013793103396892548,0.012927011586725712,0.01374827604740858,0.014425287954509258,0.014581035822629929,0.01363907940685749,0.01349140889942646,0.013190149329602718,0.01338602602481842,0.014164948835968971,0.01290320698171854,0.013235395774245262,0.013020618818700314,0.01358304638415575,0.013268041424453259,0.013653494417667389,0.013336196541786194,0.01393184345215559,0.014513745903968811,0.013668384402990341,0.013050400651991367,0.01317010261118412,0.01385967992246151,0.01411855686455965,0.014117985032498837,0.014108247123658657,0.01343871746212244,0.014037800952792168,0.01409335620701313,0.014292668551206589,0.013635165989398956,0.013958764262497425,0.013807560317218304,0.01418671291321516,0.01397651806473732,0.014288660138845444,0.013769187033176422,0.013924398459494114,0.013789232820272446,0.013979954645037651,0.01398224476724863,0.014902634546160698,0.014191294088959694,0.014615120366215706,0.014479381963610649,0.014353952370584011,0.014467925764620304,0.014489690773189068,0.014296677894890308,0.014563573524355888,0.014785796403884888,0.014243720099329948,0.014115296304225922,0.014055270701646805,0.014185754582285881,0.01411965861916542,0.014882051385939121,0.013842734508216381,0.013625641353428364,0.013408546335995197,0.014051851816475391,0.014525356702506542,0.014812535606324673,0.013280912302434444,0.014725924469530582,0.014357835054397583,0.013854701071977615,0.013499714434146881,0.01389971561729908,0.014181196689605713,0.014521937817335129,0.014609686098992825,0.014279772527515888,0.014291169121861458,0.01398917380720377,0.014119087718427181,0.015115099959075451,0.014116239733994007,0.014833047054708004,0.01353447325527668,0.015003989450633526,0.01470769289880991,0.014317949302494526,0.014855841174721718,0.015246153809130192,0.01406609732657671,0.014883761294186115,0.014859829097986221,0.014535612426698208,0.014932763762772083,0.01445299107581377,0.015256411395967007,0.014678631909191608,0.01580056920647621,0.015051851980388165,0.014848433434963226,0.014864956960082054,0.015061537735164165,0.015098575502634048,0.014695726335048676,0.015097436495125294,0.015767522156238556,0.014856981113553047,0.015752136707305908,0.015797151252627373,0.016096295788884163,0.015586894005537033,0.015464956872165203,0.01617549918591976,0.01548148225992918,0.01642507128417492,0.01609971560537815,0.01570655219256878,0.016418803483247757,0.015709402039647102,0.016119088977575302,0.01566951535642147,9.51633358001709,9.454999923706055],\"yaxis\":\"y\"},{\"hovertemplate\":\"variable=summer_temp<br>index=%{x}<br>value=%{y}<extra></extra>\",\"legendgroup\":\"summer_temp\",\"line\":{\"color\":\"#EF553B\",\"dash\":\"solid\"},\"marker\":{\"symbol\":\"circle\"},\"mode\":\"lines\",\"name\":\"summer_temp\",\"showlegend\":true,\"type\":\"scattergl\",\"x\":[0,1,2,3,4,5,6,7,8,9,10,11,12,13,14,15,16,17,18,19,20,21,22,23,24,25,26,27,28,29,30,31,32,33,34,35,36,37,38,39,40,41,42,43,44,45,46,47,48,49,50,51,52,53,54,55,56,57,58,59,60,61,62,63,64,65,66,67,68,69,70,71,72,73,74,75,76,77,78,79,80,81,82,83,84,85,86,87,88,89,90,91,92,93,94,95,96,97,98,99,100,101,102,103,104,105,106,107,108,109,110,111,112,113,114,115,116,117,118,119,120,121,122,123,124,125,126,127,128,129,130,131,132,133,134,135,136,137,138,139,140,141,142,143,144,145,146,147,148,149,150,151,152,153,154,155,156,157,158,159,160,161,162,163,164,165,166,167,168,169,170,171,172,173,174,175,176,177,178,179,180,181,182,183,184,185,186,187,188,189,190,191,192,193,194,195,196,197,198,199,200,201,202,203,204,205,206,207,208,209,210,211,212,213,214,215,216,217,218,219,220,221,222,223,224,225,226,227,228,229,230,231,232,233,234,235,236,237,238,239,240,241,242,243,244,245,246,247,248,249,250,251,252,253,254,255,256,257,258,259,260,261,262,263,264,265,266,267,268,269,270,271,272],\"xaxis\":\"x\",\"y\":[null,0.0,0.0,0.0,0.0,0.0,0.0,0.10082176327705383,0.06535185128450394,0.0,0.09870495647192001,0.0960022509098053,0.09685011208057404,0.09371364861726761,0.11775167286396027,0.08454030752182007,0.08850762248039246,0.08442047983407974,0.11076407134532928,0.09136579930782318,0.09201721101999283,0.07852043211460114,0.0815182775259018,0.0880989208817482,0.09047311544418335,0.0832623615860939,0.08550991863012314,0.06928174197673798,0.08360318094491959,0.08199603110551834,0.08118849247694016,0.09125198423862457,0.08130981028079987,0.08531177043914795,0.07215428352355957,0.0754990503191948,0.07620000094175339,0.07821211963891983,0.07148662954568863,0.07737790048122406,0.07376114279031754,0.0777379646897316,0.07607486844062805,0.07626380771398544,0.07036564499139786,0.0751037448644638,0.07280442118644714,0.07054932415485382,0.06764500588178635,0.06678999215364456,0.0677366629242897,0.06391999870538712,0.06788000464439392,0.05860704556107521,0.056909214705228806,0.058199185878038406,0.05777100473642349,0.055539295077323914,0.05474119633436203,0.05845257639884949,0.06001761555671692,0.05970054119825363,0.05961924046278,0.055466122925281525,0.05586720630526543,0.05551083758473396,0.05060236155986786,0.047934383153915405,0.04891372472047806,0.052845463156700134,0.052183907479047775,0.048554275184869766,0.04950829967856407,0.04314134269952774,0.04324941337108612,0.047369588166475296,0.04381724074482918,0.04219890758395195,0.03930293768644333,0.04077945649623871,0.04095734283328056,0.03776630386710167,0.03553333505988121,0.03516104072332382,0.03629956766963005,0.035927534103393555,0.0338212214410305,0.03438178822398186,0.03280952572822571,0.03052256442606449,0.03143059089779854,0.03169254586100578,0.029172897338867188,0.03032245673239231,0.02995581179857254,0.031459394842386246,0.03148810565471649,0.030594654381275177,0.029306381940841675,0.027981558814644814,0.02776569128036499,0.027759414166212082,0.028172889724373817,0.029442599043250084,0.02800276316702366,0.028340939432382584,0.02731936238706112,0.02677007019519806,0.02662835270166397,0.026068702340126038,0.026570525020360947,0.026192283257842064,0.025206854566931725,0.024656934663653374,0.023841125890612602,0.023849790915846825,0.02400597371160984,0.024591533467173576,0.024233750998973846,0.023837804794311523,0.023764461278915405,0.02433808520436287,0.024369578808546066,0.024310201406478882,0.024079812690615654,0.024307509884238243,0.024579813703894615,0.024492958560585976,0.024238262325525284,0.024155516177415848,0.02432335540652275,0.02420363761484623,0.023844171315431595,0.02392226830124855,0.024621717631816864,0.024843821302056313,0.023725522682070732,0.024053029716014862,0.023652123287320137,0.02333623170852661,0.023337362334132195,0.022686239331960678,0.023050662130117416,0.023222796618938446,0.023032814264297485,0.02341623231768608,0.0236137006431818,0.023127231746912003,0.02320898324251175,0.023358087986707687,0.023502014577388763,0.023229705169796944,0.02333333157002926,0.02365574613213539,0.02373390831053257,0.023627586662769318,0.02344367839396,0.023724136874079704,0.02387988567352295,0.023588504642248154,0.02307559922337532,0.023086482658982277,0.023348797112703323,0.023566437885165215,0.022829324007034302,0.023405499756336212,0.02335280552506447,0.023543529212474823,0.02324742265045643,0.0230303555727005,0.023405499756336212,0.023782361298799515,0.023776059970259666,0.023238256573677063,0.023278923705220222,0.02310481108725071,0.023647192865610123,0.023509735241532326,0.023732531815767288,0.023592783138155937,0.0234198160469532,0.023654066026210785,0.023438716307282448,0.02367124706506729,0.02365005761384964,0.023545246571302414,0.02323310635983944,0.023906072601675987,0.024209050461649895,0.023765752092003822,0.02354295738041401,0.02378178760409355,0.02372966706752777,0.023970218375325203,0.024046391248703003,0.02392096444964409,0.023973654955625534,0.024034937843680382,0.024256587028503418,0.023829324170947075,0.02370847761631012,0.024033790454268456,0.02397136390209198,0.023792097344994545,0.023845933377742767,0.02397545427083969,0.023543380200862885,0.02335156686604023,0.023700855672359467,0.023905983194708824,0.023967523127794266,0.02365185134112835,0.02398005686700344,0.02309344708919525,0.02392820455133915,0.023488318547606468,0.023862678557634354,0.02365071140229702,0.023839887231588364,0.02355840615928173,0.024060966446995735,0.023611396551132202,0.02347179502248764,0.023867236450314522,0.023558974266052246,0.02322165109217167,0.02364501543343067,0.02368433214724064,0.02342848852276802,0.023876354098320007,0.024004559963941574,0.02375270612537861,0.023602278903126717,0.02322051301598549,0.02427179552614689,0.02329401671886444,0.023609118536114693,0.0242239311337471,0.024504274129867554,0.023695725947618484,0.02403874695301056,0.02381766401231289,0.023704271763563156,0.023762963712215424,0.0243378933519125,0.024757836014032364,0.024042164906859398,0.02437151037156582,0.02482564188539982,0.023635897785425186,0.02390199340879917,0.024375498294830322,0.025023361667990685,0.024564672261476517,0.024474073201417923,0.02549002878367901,0.0246336180716753,0.024744730442762375,0.02489914372563362,0.025070086121559143,0.024895157665014267,0.024153275415301323,0.025171510875225067,0.02529800683259964,0.025237036868929863,0.02489800564944744,0.025120796635746956,0.02530028484761715,0.02556353434920311,0.025235328823328018,0.025249572470784187,14.69433307647705,14.770333290100098],\"yaxis\":\"y\"},{\"hovertemplate\":\"variable=autumn_temp<br>index=%{x}<br>value=%{y}<extra></extra>\",\"legendgroup\":\"autumn_temp\",\"line\":{\"color\":\"#00cc96\",\"dash\":\"solid\"},\"marker\":{\"symbol\":\"circle\"},\"mode\":\"lines\",\"name\":\"autumn_temp\",\"showlegend\":true,\"type\":\"scattergl\",\"x\":[0,1,2,3,4,5,6,7,8,9,10,11,12,13,14,15,16,17,18,19,20,21,22,23,24,25,26,27,28,29,30,31,32,33,34,35,36,37,38,39,40,41,42,43,44,45,46,47,48,49,50,51,52,53,54,55,56,57,58,59,60,61,62,63,64,65,66,67,68,69,70,71,72,73,74,75,76,77,78,79,80,81,82,83,84,85,86,87,88,89,90,91,92,93,94,95,96,97,98,99,100,101,102,103,104,105,106,107,108,109,110,111,112,113,114,115,116,117,118,119,120,121,122,123,124,125,126,127,128,129,130,131,132,133,134,135,136,137,138,139,140,141,142,143,144,145,146,147,148,149,150,151,152,153,154,155,156,157,158,159,160,161,162,163,164,165,166,167,168,169,170,171,172,173,174,175,176,177,178,179,180,181,182,183,184,185,186,187,188,189,190,191,192,193,194,195,196,197,198,199,200,201,202,203,204,205,206,207,208,209,210,211,212,213,214,215,216,217,218,219,220,221,222,223,224,225,226,227,228,229,230,231,232,233,234,235,236,237,238,239,240,241,242,243,244,245,246,247,248,249,250,251,252,253,254,255,256,257,258,259,260,261,262,263,264,265,266,267,268,269,270,271,272],\"xaxis\":\"x\",\"y\":[0.0,0.0,0.0,0.0,0.0,0.0,0.0,0.04115740954875946,0.024706019088625908,0.0351249985396862,0.06224549934267998,0.060522519052028656,0.061970919370651245,0.054114095866680145,0.0567472018301487,0.04112635925412178,0.054816994816064835,0.05083660036325455,0.05379004776477814,0.04945671185851097,0.04623870924115181,0.056984949856996536,0.05268817022442818,0.060578495264053345,0.06154193729162216,0.045900795608758926,0.03836706653237343,0.04995238035917282,0.052769843488931656,0.054180555045604706,0.04972817376255989,0.044751983135938644,0.058131370693445206,0.048101965337991714,0.04545523598790169,0.0481523796916008,0.051871269941329956,0.04443137347698212,0.04701247811317444,0.04693761095404625,0.03477896749973297,0.03860784322023392,0.041664883494377136,0.04565240815281868,0.04069728031754494,0.046188775449991226,0.043149661272764206,0.04275679960846901,0.043271664530038834,0.04315666854381561,0.043434999883174896,0.04381333291530609,0.040209997445344925,0.03609485179185867,0.03580894321203232,0.035654470324516296,0.03769782930612564,0.035008132457733154,0.0356111116707325,0.03668021783232689,0.037140924483537674,0.03913550078868866,0.03283197805285454,0.03550948202610016,0.0372452549636364,0.03341512009501457,0.02981102280318737,0.026234908029437065,0.026733333244919777,0.028284801170229912,0.03554278612136841,0.03165900334715843,0.028692208230495453,0.02373027242720127,0.023066900670528412,0.026043275371193886,0.029144829139113426,0.02349645271897316,0.024609312415122986,0.023131921887397766,0.02217063494026661,0.023190215229988098,0.02180519513785839,0.02274545468389988,0.022226840257644653,0.021051151677966118,0.020390141755342484,0.021742690354585648,0.018536342307925224,0.01840726099908352,0.020181961357593536,0.020818037912249565,0.01720327138900757,0.018167832866311073,0.017540311440825462,0.019174013286828995,0.017618389800190926,0.01678990200161934,0.017326241359114647,0.01707163080573082,0.017430266365408897,0.01668061502277851,0.01674273982644081,0.01729668118059635,0.017849929630756378,0.017248963937163353,0.017139721661806107,0.015625562518835068,0.016457214951515198,0.01586095243692398,0.01583048701286316,0.017091713845729828,0.015433644875884056,0.014838808216154575,0.014682253822684288,0.015528426505625248,0.015427717939019203,0.015283840708434582,0.01525998767465353,0.0143726896494627,0.014822302386164665,0.015090315602719784,0.01608853228390217,0.015378410927951336,0.016381453722715378,0.015439554117619991,0.01586032658815384,0.015470658428966999,0.015211266465485096,0.015592723153531551,0.015575118362903595,0.015868544578552246,0.014363209716975689,0.015018097124993801,0.016168124973773956,0.016149185597896576,0.015270397998392582,0.015123543329536915,0.015015707351267338,0.014635941945016384,0.014483017846941948,0.01438111625611782,0.014727692119777203,0.014640184119343758,0.014989636838436127,0.015358665026724339,0.014629245735704899,0.01482671219855547,0.014738054014742374,0.01491825096309185,0.015445596538484097,0.015023015439510345,0.015289654955267906,0.015290806069970131,0.015362069010734558,0.01496149506419897,0.01617356389760971,0.015761494636535645,0.01549597643315792,0.014870114624500275,0.01479324046522379,0.01514547597616911,0.01547995489090681,0.015200458467006683,0.014951889403164387,0.01495647057890892,0.01563974842429161,0.014923825860023499,0.01538659818470478,0.014381444081664085,0.015383733436465263,0.015498855151236057,0.015502290800213814,0.015105956234037876,0.014953607693314552,0.015462199226021767,0.015372280031442642,0.015109391883015633,0.015462199226021767,0.015393470413982868,0.015911225229501724,0.015784651041030884,0.015758877620100975,0.015993699431419373,0.016315577551722527,0.015951890498399734,0.015715349465608597,0.0158699881285429,0.01630183309316635,0.015979383140802383,0.015453607775270939,0.01577605865895748,0.015439862385392189,0.015871133655309677,0.016321878880262375,0.016461053863167763,0.015672966837882996,0.015922680497169495,0.01573825813829899,0.01613287441432476,0.016187284141778946,0.01623653993010521,0.01596391759812832,0.015796106308698654,0.01637113466858864,0.015938354656100273,0.015773970633745193,0.015086608938872814,0.01607920229434967,0.01528205070644617,0.01579088345170021,0.01608148030936718,0.01576182246208191,0.015070656314492226,0.016067806631326675,0.015658119693398476,0.015303702093660831,0.015623930841684341,0.01582906022667885,0.015822792425751686,0.016557835042476654,0.015053561888635159,0.01542905904352665,0.015529913827776909,0.015976637601852417,0.015364103019237518,0.015929915010929108,0.015767522156238556,0.015852991491556168,0.015409685671329498,0.015929345041513443,0.015246153809130192,0.01559145376086235,0.01485242135822773,0.015704844146966934,0.01579430140554905,0.016022222116589546,0.016270656138658524,0.01589914597570896,0.015516809187829494,0.016490597277879715,0.015500855632126331,0.015547579154372215,0.015404559671878815,0.016007406637072563,0.01649857498705387,0.016149288043379784,0.01652250625193119,0.016450142487883568,0.015335611999034882,0.015545300208032131,0.016698574647307396,0.016770370304584503,0.016162963584065437,0.016886040568351746,0.01653447188436985,0.016701994463801384,0.016150997951626778,0.01708832010626793,0.01699715107679367,0.01712934486567974,0.017141880467534065,0.017801139503717422,0.01716182380914688,0.017291167750954628,0.017336182296276093,0.017276352271437645,0.017545299604535103,0.017138460651040077,0.017449572682380676,0.05252810940146446,10.044666290283203,10.41100025177002],\"yaxis\":\"y\"},{\"hovertemplate\":\"variable=winter_temp<br>index=%{x}<br>value=%{y}<extra></extra>\",\"legendgroup\":\"winter_temp\",\"line\":{\"color\":\"#ab63fa\",\"dash\":\"solid\"},\"marker\":{\"symbol\":\"circle\"},\"mode\":\"lines\",\"name\":\"winter_temp\",\"showlegend\":true,\"type\":\"scattergl\",\"x\":[0,1,2,3,4,5,6,7,8,9,10,11,12,13,14,15,16,17,18,19,20,21,22,23,24,25,26,27,28,29,30,31,32,33,34,35,36,37,38,39,40,41,42,43,44,45,46,47,48,49,50,51,52,53,54,55,56,57,58,59,60,61,62,63,64,65,66,67,68,69,70,71,72,73,74,75,76,77,78,79,80,81,82,83,84,85,86,87,88,89,90,91,92,93,94,95,96,97,98,99,100,101,102,103,104,105,106,107,108,109,110,111,112,113,114,115,116,117,118,119,120,121,122,123,124,125,126,127,128,129,130,131,132,133,134,135,136,137,138,139,140,141,142,143,144,145,146,147,148,149,150,151,152,153,154,155,156,157,158,159,160,161,162,163,164,165,166,167,168,169,170,171,172,173,174,175,176,177,178,179,180,181,182,183,184,185,186,187,188,189,190,191,192,193,194,195,196,197,198,199,200,201,202,203,204,205,206,207,208,209,210,211,212,213,214,215,216,217,218,219,220,221,222,223,224,225,226,227,228,229,230,231,232,233,234,235,236,237,238,239,240,241,242,243,244,245,246,247,248,249,250,251,252,253,254,255,256,257,258,259,260,261,262,263,264,265,266,267,268,269,270,271,272],\"xaxis\":\"x\",\"y\":[0.0,0.0,0.0,0.0,0.0,0.0,0.0,0.020576389506459236,0.00800462905317545,0.012578703463077545,0.007461711764335632,0.011063062585890293,0.007881431840360165,0.026214763522148132,0.009953020140528679,0.005658536683768034,0.020355118438601494,0.009102396667003632,0.005406926851719618,0.03201298788189888,0.011879569850862026,0.028425807133316994,0.021529031917452812,0.01384085975587368,0.009630108252167702,0.002286611357703805,0.00692658731713891,0.02145436406135559,0.014581348747015,0.016355158761143684,0.012053570710122585,0.009720238856971264,0.02347451075911522,0.017725490033626556,0.026936538517475128,0.020411428064107895,0.016565298661589622,0.0164203941822052,0.014181818813085556,0.005171122960746288,0.010850267484784126,0.01247771829366684,0.006743315607309341,0.007404635194689035,0.012251700274646282,0.009469387121498585,0.014421767555177212,0.013897959142923355,0.014332771301269531,0.012260000221431255,0.012171666137874126,0.017054999247193336,0.016156667843461037,0.009266937151551247,0.01711111143231392,0.010730352252721786,0.010146341286599636,0.013974255882203579,0.0141111109405756,0.012803521938621998,0.005924118682742119,0.00895392894744873,0.01292276382446289,0.013337398879230022,0.012967479415237904,0.005576407071202993,0.0041220467537641525,0.007793963421136141,0.006533333566039801,0.003136653918772936,0.003887611674144864,0.011519796214997768,0.00708173681050539,0.005429814103990793,0.006304705981165171,0.005235638935118914,0.005923963151872158,0.005086339078843594,0.009589068591594696,0.008319878950715065,0.005649801343679428,0.009425724856555462,0.008088312111794949,0.007187878713011742,0.009290043264627457,0.004612297285348177,0.005248941946774721,0.009626566432416439,0.005786132533103228,0.003424505703151226,0.005787451285868883,0.004513725638389587,0.005230529699474573,0.005362082272768021,0.005309542175382376,0.0028032532427459955,0.005147239193320274,0.004900820087641478,0.004023437388241291,0.005782269407063723,0.007433054503053427,0.004042538348585367,0.004165975376963615,0.007168049458414316,0.00558852031826973,0.0043810512870550156,0.0043260143138468266,0.004253692924976349,0.005159004125744104,0.005545570515096188,0.0043466161005198956,0.00422454159706831,0.004857142921537161,0.0050894166342914104,0.004689262248575687,0.004468581639230251,0.004773596301674843,0.0037823491729795933,0.00324090663343668,0.0024311270099133253,0.005329755134880543,0.0037569815758615732,0.004618538077920675,0.005557007156312466,0.005330399144440889,0.0042353286407887936,0.005096831358969212,0.003781690262258053,0.003724178532138467,0.003890258027240634,0.005313380155712366,0.005373020190745592,0.003782659536227584,0.0038965516723692417,0.00479276105761528,0.005302800331264734,0.004416083917021751,0.004028555005788803,0.004824111703783274,0.004884637426584959,0.0037864132318645716,0.004388025030493736,0.0039666094817221165,0.003875071881338954,0.0033120322041213512,0.004012089688330889,0.004761082585901022,0.00421473802998662,0.004122049547731876,0.0044663213193416595,0.0030564190819859505,0.004457422532141209,0.0038833334110677242,0.004775862209498882,0.00430632196366787,0.004883908201009035,0.004540230147540569,0.004720689728856087,0.004952873568981886,0.005174138117581606,0.005135738756507635,0.004185567144304514,0.004315578378736973,0.004656357225030661,0.003935280721634626,0.0046643759123981,0.004194730892777443,0.004465063102543354,0.004297250881791115,0.005054410081356764,0.004903780296444893,0.005828178953379393,0.005267468746751547,0.00451832776889205,0.0038602519780397415,0.004144902806729078,0.004730813205242157,0.004710767883807421,0.0055945017375051975,0.004692439921200275,0.005114547908306122,0.004989690613001585,0.005364833865314722,0.006034364458173513,0.004970218054950237,0.0058717066422104836,0.003892898093909025,0.00537457037717104,0.00543871708214283,0.005796106066554785,0.0045418101362884045,0.005819014739245176,0.005568728782236576,0.00496907252818346,0.005431844387203455,0.005634020548313856,0.006370561197400093,0.005665521137416363,0.005791523028165102,0.005672966595739126,0.005808705929666758,0.006030355114489794,0.004770332481712103,0.005483390763401985,0.005458190105855465,0.0057582855224609375,0.005380707792937756,0.004707525484263897,0.00501310545951128,0.005757264792919159,0.006034757476300001,0.00495840422809124,0.005615384317934513,0.005039885640144348,0.00566153833642602,0.006319657899439335,0.005731624085456133,0.00613675219938159,0.005760114174336195,0.006062108092010021,0.006080341525375843,0.0053373221307992935,0.005506552290171385,0.005220512859523296,0.005430199205875397,0.005035897251218557,0.004915099591016769,0.005750427488237619,0.00552763557061553,0.004711681045591831,0.0061356122605502605,0.0047823358327150345,0.005766951944679022,0.00546780601143837,0.005533902905881405,0.005641595460474491,0.00576638150960207,0.006053560879081488,0.007022792007774115,0.005792592652142048,0.006317948456853628,0.005252991337329149,0.005412535276263952,0.006300284527242184,0.006701993755996227,0.006403988692909479,0.006135042756795883,0.006445014383643866,0.006437607109546661,0.006601139437407255,0.00631395960226655,0.005667806137353182,0.0070193735882639885,0.0063811964355409145,0.006466096732765436,0.007320228032767773,0.007295156363397837,0.006266096606850624,0.006588603835552931,0.007275213487446308,0.007520797196775675,0.006997720804065466,0.007182905916124582,0.0072381761856377125,0.007591452915221453,0.006156695540994406,0.006889458280056715,0.007081481162458658,0.006655270699411631,0.00620341906324029,0.010786507278680801,4.027333736419678,4.687666416168213],\"yaxis\":\"y\"}],                        {\"legend\":{\"title\":{\"text\":\"variable\"},\"tracegroupgap\":0},\"template\":{\"data\":{\"bar\":[{\"error_x\":{\"color\":\"#2a3f5f\"},\"error_y\":{\"color\":\"#2a3f5f\"},\"marker\":{\"line\":{\"color\":\"#E5ECF6\",\"width\":0.5},\"pattern\":{\"fillmode\":\"overlay\",\"size\":10,\"solidity\":0.2}},\"type\":\"bar\"}],\"barpolar\":[{\"marker\":{\"line\":{\"color\":\"#E5ECF6\",\"width\":0.5},\"pattern\":{\"fillmode\":\"overlay\",\"size\":10,\"solidity\":0.2}},\"type\":\"barpolar\"}],\"carpet\":[{\"aaxis\":{\"endlinecolor\":\"#2a3f5f\",\"gridcolor\":\"white\",\"linecolor\":\"white\",\"minorgridcolor\":\"white\",\"startlinecolor\":\"#2a3f5f\"},\"baxis\":{\"endlinecolor\":\"#2a3f5f\",\"gridcolor\":\"white\",\"linecolor\":\"white\",\"minorgridcolor\":\"white\",\"startlinecolor\":\"#2a3f5f\"},\"type\":\"carpet\"}],\"choropleth\":[{\"colorbar\":{\"outlinewidth\":0,\"ticks\":\"\"},\"type\":\"choropleth\"}],\"contour\":[{\"colorbar\":{\"outlinewidth\":0,\"ticks\":\"\"},\"colorscale\":[[0.0,\"#0d0887\"],[0.1111111111111111,\"#46039f\"],[0.2222222222222222,\"#7201a8\"],[0.3333333333333333,\"#9c179e\"],[0.4444444444444444,\"#bd3786\"],[0.5555555555555556,\"#d8576b\"],[0.6666666666666666,\"#ed7953\"],[0.7777777777777778,\"#fb9f3a\"],[0.8888888888888888,\"#fdca26\"],[1.0,\"#f0f921\"]],\"type\":\"contour\"}],\"contourcarpet\":[{\"colorbar\":{\"outlinewidth\":0,\"ticks\":\"\"},\"type\":\"contourcarpet\"}],\"heatmap\":[{\"colorbar\":{\"outlinewidth\":0,\"ticks\":\"\"},\"colorscale\":[[0.0,\"#0d0887\"],[0.1111111111111111,\"#46039f\"],[0.2222222222222222,\"#7201a8\"],[0.3333333333333333,\"#9c179e\"],[0.4444444444444444,\"#bd3786\"],[0.5555555555555556,\"#d8576b\"],[0.6666666666666666,\"#ed7953\"],[0.7777777777777778,\"#fb9f3a\"],[0.8888888888888888,\"#fdca26\"],[1.0,\"#f0f921\"]],\"type\":\"heatmap\"}],\"heatmapgl\":[{\"colorbar\":{\"outlinewidth\":0,\"ticks\":\"\"},\"colorscale\":[[0.0,\"#0d0887\"],[0.1111111111111111,\"#46039f\"],[0.2222222222222222,\"#7201a8\"],[0.3333333333333333,\"#9c179e\"],[0.4444444444444444,\"#bd3786\"],[0.5555555555555556,\"#d8576b\"],[0.6666666666666666,\"#ed7953\"],[0.7777777777777778,\"#fb9f3a\"],[0.8888888888888888,\"#fdca26\"],[1.0,\"#f0f921\"]],\"type\":\"heatmapgl\"}],\"histogram\":[{\"marker\":{\"pattern\":{\"fillmode\":\"overlay\",\"size\":10,\"solidity\":0.2}},\"type\":\"histogram\"}],\"histogram2d\":[{\"colorbar\":{\"outlinewidth\":0,\"ticks\":\"\"},\"colorscale\":[[0.0,\"#0d0887\"],[0.1111111111111111,\"#46039f\"],[0.2222222222222222,\"#7201a8\"],[0.3333333333333333,\"#9c179e\"],[0.4444444444444444,\"#bd3786\"],[0.5555555555555556,\"#d8576b\"],[0.6666666666666666,\"#ed7953\"],[0.7777777777777778,\"#fb9f3a\"],[0.8888888888888888,\"#fdca26\"],[1.0,\"#f0f921\"]],\"type\":\"histogram2d\"}],\"histogram2dcontour\":[{\"colorbar\":{\"outlinewidth\":0,\"ticks\":\"\"},\"colorscale\":[[0.0,\"#0d0887\"],[0.1111111111111111,\"#46039f\"],[0.2222222222222222,\"#7201a8\"],[0.3333333333333333,\"#9c179e\"],[0.4444444444444444,\"#bd3786\"],[0.5555555555555556,\"#d8576b\"],[0.6666666666666666,\"#ed7953\"],[0.7777777777777778,\"#fb9f3a\"],[0.8888888888888888,\"#fdca26\"],[1.0,\"#f0f921\"]],\"type\":\"histogram2dcontour\"}],\"mesh3d\":[{\"colorbar\":{\"outlinewidth\":0,\"ticks\":\"\"},\"type\":\"mesh3d\"}],\"parcoords\":[{\"line\":{\"colorbar\":{\"outlinewidth\":0,\"ticks\":\"\"}},\"type\":\"parcoords\"}],\"pie\":[{\"automargin\":true,\"type\":\"pie\"}],\"scatter\":[{\"marker\":{\"colorbar\":{\"outlinewidth\":0,\"ticks\":\"\"}},\"type\":\"scatter\"}],\"scatter3d\":[{\"line\":{\"colorbar\":{\"outlinewidth\":0,\"ticks\":\"\"}},\"marker\":{\"colorbar\":{\"outlinewidth\":0,\"ticks\":\"\"}},\"type\":\"scatter3d\"}],\"scattercarpet\":[{\"marker\":{\"colorbar\":{\"outlinewidth\":0,\"ticks\":\"\"}},\"type\":\"scattercarpet\"}],\"scattergeo\":[{\"marker\":{\"colorbar\":{\"outlinewidth\":0,\"ticks\":\"\"}},\"type\":\"scattergeo\"}],\"scattergl\":[{\"marker\":{\"colorbar\":{\"outlinewidth\":0,\"ticks\":\"\"}},\"type\":\"scattergl\"}],\"scattermapbox\":[{\"marker\":{\"colorbar\":{\"outlinewidth\":0,\"ticks\":\"\"}},\"type\":\"scattermapbox\"}],\"scatterpolar\":[{\"marker\":{\"colorbar\":{\"outlinewidth\":0,\"ticks\":\"\"}},\"type\":\"scatterpolar\"}],\"scatterpolargl\":[{\"marker\":{\"colorbar\":{\"outlinewidth\":0,\"ticks\":\"\"}},\"type\":\"scatterpolargl\"}],\"scatterternary\":[{\"marker\":{\"colorbar\":{\"outlinewidth\":0,\"ticks\":\"\"}},\"type\":\"scatterternary\"}],\"surface\":[{\"colorbar\":{\"outlinewidth\":0,\"ticks\":\"\"},\"colorscale\":[[0.0,\"#0d0887\"],[0.1111111111111111,\"#46039f\"],[0.2222222222222222,\"#7201a8\"],[0.3333333333333333,\"#9c179e\"],[0.4444444444444444,\"#bd3786\"],[0.5555555555555556,\"#d8576b\"],[0.6666666666666666,\"#ed7953\"],[0.7777777777777778,\"#fb9f3a\"],[0.8888888888888888,\"#fdca26\"],[1.0,\"#f0f921\"]],\"type\":\"surface\"}],\"table\":[{\"cells\":{\"fill\":{\"color\":\"#EBF0F8\"},\"line\":{\"color\":\"white\"}},\"header\":{\"fill\":{\"color\":\"#C8D4E3\"},\"line\":{\"color\":\"white\"}},\"type\":\"table\"}]},\"layout\":{\"annotationdefaults\":{\"arrowcolor\":\"#2a3f5f\",\"arrowhead\":0,\"arrowwidth\":1},\"autotypenumbers\":\"strict\",\"coloraxis\":{\"colorbar\":{\"outlinewidth\":0,\"ticks\":\"\"}},\"colorscale\":{\"diverging\":[[0,\"#8e0152\"],[0.1,\"#c51b7d\"],[0.2,\"#de77ae\"],[0.3,\"#f1b6da\"],[0.4,\"#fde0ef\"],[0.5,\"#f7f7f7\"],[0.6,\"#e6f5d0\"],[0.7,\"#b8e186\"],[0.8,\"#7fbc41\"],[0.9,\"#4d9221\"],[1,\"#276419\"]],\"sequential\":[[0.0,\"#0d0887\"],[0.1111111111111111,\"#46039f\"],[0.2222222222222222,\"#7201a8\"],[0.3333333333333333,\"#9c179e\"],[0.4444444444444444,\"#bd3786\"],[0.5555555555555556,\"#d8576b\"],[0.6666666666666666,\"#ed7953\"],[0.7777777777777778,\"#fb9f3a\"],[0.8888888888888888,\"#fdca26\"],[1.0,\"#f0f921\"]],\"sequentialminus\":[[0.0,\"#0d0887\"],[0.1111111111111111,\"#46039f\"],[0.2222222222222222,\"#7201a8\"],[0.3333333333333333,\"#9c179e\"],[0.4444444444444444,\"#bd3786\"],[0.5555555555555556,\"#d8576b\"],[0.6666666666666666,\"#ed7953\"],[0.7777777777777778,\"#fb9f3a\"],[0.8888888888888888,\"#fdca26\"],[1.0,\"#f0f921\"]]},\"colorway\":[\"#636efa\",\"#EF553B\",\"#00cc96\",\"#ab63fa\",\"#FFA15A\",\"#19d3f3\",\"#FF6692\",\"#B6E880\",\"#FF97FF\",\"#FECB52\"],\"font\":{\"color\":\"#2a3f5f\"},\"geo\":{\"bgcolor\":\"white\",\"lakecolor\":\"white\",\"landcolor\":\"#E5ECF6\",\"showlakes\":true,\"showland\":true,\"subunitcolor\":\"white\"},\"hoverlabel\":{\"align\":\"left\"},\"hovermode\":\"closest\",\"mapbox\":{\"style\":\"light\"},\"paper_bgcolor\":\"white\",\"plot_bgcolor\":\"#E5ECF6\",\"polar\":{\"angularaxis\":{\"gridcolor\":\"white\",\"linecolor\":\"white\",\"ticks\":\"\"},\"bgcolor\":\"#E5ECF6\",\"radialaxis\":{\"gridcolor\":\"white\",\"linecolor\":\"white\",\"ticks\":\"\"}},\"scene\":{\"xaxis\":{\"backgroundcolor\":\"#E5ECF6\",\"gridcolor\":\"white\",\"gridwidth\":2,\"linecolor\":\"white\",\"showbackground\":true,\"ticks\":\"\",\"zerolinecolor\":\"white\"},\"yaxis\":{\"backgroundcolor\":\"#E5ECF6\",\"gridcolor\":\"white\",\"gridwidth\":2,\"linecolor\":\"white\",\"showbackground\":true,\"ticks\":\"\",\"zerolinecolor\":\"white\"},\"zaxis\":{\"backgroundcolor\":\"#E5ECF6\",\"gridcolor\":\"white\",\"gridwidth\":2,\"linecolor\":\"white\",\"showbackground\":true,\"ticks\":\"\",\"zerolinecolor\":\"white\"}},\"shapedefaults\":{\"line\":{\"color\":\"#2a3f5f\"}},\"ternary\":{\"aaxis\":{\"gridcolor\":\"white\",\"linecolor\":\"white\",\"ticks\":\"\"},\"baxis\":{\"gridcolor\":\"white\",\"linecolor\":\"white\",\"ticks\":\"\"},\"bgcolor\":\"#E5ECF6\",\"caxis\":{\"gridcolor\":\"white\",\"linecolor\":\"white\",\"ticks\":\"\"}},\"title\":{\"x\":0.05},\"xaxis\":{\"automargin\":true,\"gridcolor\":\"white\",\"linecolor\":\"white\",\"ticks\":\"\",\"title\":{\"standoff\":15},\"zerolinecolor\":\"white\",\"zerolinewidth\":2},\"yaxis\":{\"automargin\":true,\"gridcolor\":\"white\",\"linecolor\":\"white\",\"ticks\":\"\",\"title\":{\"standoff\":15},\"zerolinecolor\":\"white\",\"zerolinewidth\":2}}},\"title\":{\"text\":\"Avg.temperature in each season\"},\"xaxis\":{\"anchor\":\"y\",\"domain\":[0.0,1.0],\"title\":{\"text\":\"index\"}},\"yaxis\":{\"anchor\":\"x\",\"domain\":[0.0,1.0],\"title\":{\"text\":\"value\"}}},                        {\"responsive\": true}                    ).then(function(){\n",
       "                            \n",
       "var gd = document.getElementById('e5656a3e-116f-4e70-bb95-df42f2ddf833');\n",
       "var x = new MutationObserver(function (mutations, observer) {{\n",
       "        var display = window.getComputedStyle(gd).display;\n",
       "        if (!display || display === 'none') {{\n",
       "            console.log([gd, 'removed!']);\n",
       "            Plotly.purge(gd);\n",
       "            observer.disconnect();\n",
       "        }}\n",
       "}});\n",
       "\n",
       "// Listen for the removal of the full notebook cells\n",
       "var notebookContainer = gd.closest('#notebook-container');\n",
       "if (notebookContainer) {{\n",
       "    x.observe(notebookContainer, {childList: true});\n",
       "}}\n",
       "\n",
       "// Listen for the clearing of the current output cell\n",
       "var outputEl = gd.closest('.output');\n",
       "if (outputEl) {{\n",
       "    x.observe(outputEl, {childList: true});\n",
       "}}\n",
       "\n",
       "                        })                };                });            </script>        </div>"
      ]
     },
     "metadata": {},
     "output_type": "display_data"
    }
   ],
   "source": [
    "fig=px.line(season,y=['spring_temp','summer_temp','autumn_temp','winter_temp'],title='Avg.temperature in each season')\n",
    "fig.show()   #season wise it gets warmer"
   ]
  },
  {
   "cell_type": "code",
   "execution_count": null,
   "id": "7341c882",
   "metadata": {},
   "outputs": [],
   "source": []
  }
 ],
 "metadata": {
  "kernelspec": {
   "display_name": "Python 3",
   "language": "python",
   "name": "python3"
  },
  "language_info": {
   "codemirror_mode": {
    "name": "ipython",
    "version": 3
   },
   "file_extension": ".py",
   "mimetype": "text/x-python",
   "name": "python",
   "nbconvert_exporter": "python",
   "pygments_lexer": "ipython3",
   "version": "3.8.10"
  }
 },
 "nbformat": 4,
 "nbformat_minor": 5
}
