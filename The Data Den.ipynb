{
 "cells": [
  {
   "cell_type": "code",
   "execution_count": null,
   "id": "321307b3",
   "metadata": {},
   "outputs": [],
   "source": [
    "import pandas as pd\n",
    "import numpy as np\n",
    "import matplotlib.pyplot as plt\n",
    "%matplotlib inline\n",
    "import seaborn as sns"
   ]
  },
  {
   "cell_type": "code",
   "execution_count": 1,
   "id": "d6ef9db9",
   "metadata": {},
   "outputs": [],
   "source": [
    "import os, glob\n",
    "import pandas as pd\n",
    "path = r\"C:\\Users\\DELL\\Desktop\\PES 5 SEM\\DATA ANALYTICS\\PROJECT CLIMATE CHANGE\\Dataset\"\n",
    "all_files = glob.glob(os.path.join(path, \"Global*.csv\"))\n",
    "df_from_each_file = (pd.read_csv(f, sep=',') for f in all_files)\n",
    "df_merged = pd.concat(df_from_each_file, ignore_index = True)\n",
    "df_merged.to_csv(\"merged.csv\")"
   ]
  },
  {
   "cell_type": "code",
   "execution_count": 2,
   "id": "f69caae1",
   "metadata": {},
   "outputs": [
    {
     "name": "stderr",
     "output_type": "stream",
     "text": [
      "C:\\Users\\DELL\\anaconda3\\lib\\site-packages\\IPython\\core\\interactiveshell.py:3165: DtypeWarning: Columns (4,6,7,8) have mixed types.Specify dtype option on import or set low_memory=False.\n",
      "  has_raised = await self.run_ast_nodes(code_ast.body, cell_name,\n"
     ]
    }
   ],
   "source": [
    "df = pd.read_csv(r\"C:\\Users\\DELL\\Desktop\\PES 5 SEM\\DATA ANALYTICS\\PROJECT CLIMATE CHANGE\\merged.csv\")"
   ]
  },
  {
   "cell_type": "code",
   "execution_count": 4,
   "id": "2f8b4ab8",
   "metadata": {},
   "outputs": [
    {
     "data": {
      "text/html": [
       "<div>\n",
       "<style scoped>\n",
       "    .dataframe tbody tr th:only-of-type {\n",
       "        vertical-align: middle;\n",
       "    }\n",
       "\n",
       "    .dataframe tbody tr th {\n",
       "        vertical-align: top;\n",
       "    }\n",
       "\n",
       "    .dataframe thead th {\n",
       "        text-align: right;\n",
       "    }\n",
       "</style>\n",
       "<table border=\"1\" class=\"dataframe\">\n",
       "  <thead>\n",
       "    <tr style=\"text-align: right;\">\n",
       "      <th></th>\n",
       "      <th>Unnamed: 0</th>\n",
       "      <th>dt</th>\n",
       "      <th>AverageTemperature</th>\n",
       "      <th>AverageTemperatureUncertainty</th>\n",
       "      <th>City</th>\n",
       "      <th>Country</th>\n",
       "      <th>Latitude</th>\n",
       "      <th>Longitude</th>\n",
       "      <th>State</th>\n",
       "      <th>LandAverageTemperature</th>\n",
       "      <th>LandAverageTemperatureUncertainty</th>\n",
       "      <th>LandMaxTemperature</th>\n",
       "      <th>LandMaxTemperatureUncertainty</th>\n",
       "      <th>LandMinTemperature</th>\n",
       "      <th>LandMinTemperatureUncertainty</th>\n",
       "      <th>LandAndOceanAverageTemperature</th>\n",
       "      <th>LandAndOceanAverageTemperatureUncertainty</th>\n",
       "    </tr>\n",
       "  </thead>\n",
       "  <tbody>\n",
       "    <tr>\n",
       "      <th>0</th>\n",
       "      <td>0</td>\n",
       "      <td>1743-11-01</td>\n",
       "      <td>6.068</td>\n",
       "      <td>1.737</td>\n",
       "      <td>Århus</td>\n",
       "      <td>Denmark</td>\n",
       "      <td>57.05N</td>\n",
       "      <td>10.33E</td>\n",
       "      <td>NaN</td>\n",
       "      <td>NaN</td>\n",
       "      <td>NaN</td>\n",
       "      <td>NaN</td>\n",
       "      <td>NaN</td>\n",
       "      <td>NaN</td>\n",
       "      <td>NaN</td>\n",
       "      <td>NaN</td>\n",
       "      <td>NaN</td>\n",
       "    </tr>\n",
       "    <tr>\n",
       "      <th>1</th>\n",
       "      <td>1</td>\n",
       "      <td>1743-12-01</td>\n",
       "      <td>NaN</td>\n",
       "      <td>NaN</td>\n",
       "      <td>Århus</td>\n",
       "      <td>Denmark</td>\n",
       "      <td>57.05N</td>\n",
       "      <td>10.33E</td>\n",
       "      <td>NaN</td>\n",
       "      <td>NaN</td>\n",
       "      <td>NaN</td>\n",
       "      <td>NaN</td>\n",
       "      <td>NaN</td>\n",
       "      <td>NaN</td>\n",
       "      <td>NaN</td>\n",
       "      <td>NaN</td>\n",
       "      <td>NaN</td>\n",
       "    </tr>\n",
       "    <tr>\n",
       "      <th>2</th>\n",
       "      <td>2</td>\n",
       "      <td>1744-01-01</td>\n",
       "      <td>NaN</td>\n",
       "      <td>NaN</td>\n",
       "      <td>Århus</td>\n",
       "      <td>Denmark</td>\n",
       "      <td>57.05N</td>\n",
       "      <td>10.33E</td>\n",
       "      <td>NaN</td>\n",
       "      <td>NaN</td>\n",
       "      <td>NaN</td>\n",
       "      <td>NaN</td>\n",
       "      <td>NaN</td>\n",
       "      <td>NaN</td>\n",
       "      <td>NaN</td>\n",
       "      <td>NaN</td>\n",
       "      <td>NaN</td>\n",
       "    </tr>\n",
       "    <tr>\n",
       "      <th>3</th>\n",
       "      <td>3</td>\n",
       "      <td>1744-02-01</td>\n",
       "      <td>NaN</td>\n",
       "      <td>NaN</td>\n",
       "      <td>Århus</td>\n",
       "      <td>Denmark</td>\n",
       "      <td>57.05N</td>\n",
       "      <td>10.33E</td>\n",
       "      <td>NaN</td>\n",
       "      <td>NaN</td>\n",
       "      <td>NaN</td>\n",
       "      <td>NaN</td>\n",
       "      <td>NaN</td>\n",
       "      <td>NaN</td>\n",
       "      <td>NaN</td>\n",
       "      <td>NaN</td>\n",
       "      <td>NaN</td>\n",
       "    </tr>\n",
       "    <tr>\n",
       "      <th>4</th>\n",
       "      <td>4</td>\n",
       "      <td>1744-03-01</td>\n",
       "      <td>NaN</td>\n",
       "      <td>NaN</td>\n",
       "      <td>Århus</td>\n",
       "      <td>Denmark</td>\n",
       "      <td>57.05N</td>\n",
       "      <td>10.33E</td>\n",
       "      <td>NaN</td>\n",
       "      <td>NaN</td>\n",
       "      <td>NaN</td>\n",
       "      <td>NaN</td>\n",
       "      <td>NaN</td>\n",
       "      <td>NaN</td>\n",
       "      <td>NaN</td>\n",
       "      <td>NaN</td>\n",
       "      <td>NaN</td>\n",
       "    </tr>\n",
       "  </tbody>\n",
       "</table>\n",
       "</div>"
      ],
      "text/plain": [
       "   Unnamed: 0          dt  AverageTemperature  AverageTemperatureUncertainty  \\\n",
       "0           0  1743-11-01               6.068                          1.737   \n",
       "1           1  1743-12-01                 NaN                            NaN   \n",
       "2           2  1744-01-01                 NaN                            NaN   \n",
       "3           3  1744-02-01                 NaN                            NaN   \n",
       "4           4  1744-03-01                 NaN                            NaN   \n",
       "\n",
       "    City  Country Latitude Longitude State  LandAverageTemperature  \\\n",
       "0  Århus  Denmark   57.05N    10.33E   NaN                     NaN   \n",
       "1  Århus  Denmark   57.05N    10.33E   NaN                     NaN   \n",
       "2  Århus  Denmark   57.05N    10.33E   NaN                     NaN   \n",
       "3  Århus  Denmark   57.05N    10.33E   NaN                     NaN   \n",
       "4  Århus  Denmark   57.05N    10.33E   NaN                     NaN   \n",
       "\n",
       "   LandAverageTemperatureUncertainty  LandMaxTemperature  \\\n",
       "0                                NaN                 NaN   \n",
       "1                                NaN                 NaN   \n",
       "2                                NaN                 NaN   \n",
       "3                                NaN                 NaN   \n",
       "4                                NaN                 NaN   \n",
       "\n",
       "   LandMaxTemperatureUncertainty  LandMinTemperature  \\\n",
       "0                            NaN                 NaN   \n",
       "1                            NaN                 NaN   \n",
       "2                            NaN                 NaN   \n",
       "3                            NaN                 NaN   \n",
       "4                            NaN                 NaN   \n",
       "\n",
       "   LandMinTemperatureUncertainty  LandAndOceanAverageTemperature  \\\n",
       "0                            NaN                             NaN   \n",
       "1                            NaN                             NaN   \n",
       "2                            NaN                             NaN   \n",
       "3                            NaN                             NaN   \n",
       "4                            NaN                             NaN   \n",
       "\n",
       "   LandAndOceanAverageTemperatureUncertainty  \n",
       "0                                        NaN  \n",
       "1                                        NaN  \n",
       "2                                        NaN  \n",
       "3                                        NaN  \n",
       "4                                        NaN  "
      ]
     },
     "execution_count": 4,
     "metadata": {},
     "output_type": "execute_result"
    }
   ],
   "source": [
    "df.head()"
   ]
  },
  {
   "cell_type": "code",
   "execution_count": 34,
   "id": "5f8064a4",
   "metadata": {},
   "outputs": [
    {
     "data": {
      "text/plain": [
       "Index(['Unnamed: 0', 'dt', 'AverageTemperature',\n",
       "       'AverageTemperatureUncertainty', 'City', 'Country', 'Latitude',\n",
       "       'Longitude', 'State', 'LandAverageTemperature',\n",
       "       'LandAverageTemperatureUncertainty', 'LandMaxTemperature',\n",
       "       'LandMaxTemperatureUncertainty', 'LandMinTemperature',\n",
       "       'LandMinTemperatureUncertainty', 'LandAndOceanAverageTemperature',\n",
       "       'LandAndOceanAverageTemperatureUncertainty'],\n",
       "      dtype='object')"
      ]
     },
     "execution_count": 34,
     "metadata": {},
     "output_type": "execute_result"
    }
   ],
   "source": [
    "df.columns"
   ]
  },
  {
   "cell_type": "code",
   "execution_count": 10,
   "id": "48785a84",
   "metadata": {},
   "outputs": [
    {
     "name": "stdout",
     "output_type": "stream",
     "text": [
      "<class 'pandas.core.frame.DataFrame'>\n",
      "RangeIndex: 10064718 entries, 0 to 10064717\n",
      "Data columns (total 17 columns):\n",
      " #   Column                                     Dtype  \n",
      "---  ------                                     -----  \n",
      " 0   Unnamed: 0                                 int64  \n",
      " 1   dt                                         object \n",
      " 2   AverageTemperature                         float64\n",
      " 3   AverageTemperatureUncertainty              float64\n",
      " 4   City                                       object \n",
      " 5   Country                                    object \n",
      " 6   Latitude                                   object \n",
      " 7   Longitude                                  object \n",
      " 8   State                                      object \n",
      " 9   LandAverageTemperature                     float64\n",
      " 10  LandAverageTemperatureUncertainty          float64\n",
      " 11  LandMaxTemperature                         float64\n",
      " 12  LandMaxTemperatureUncertainty              float64\n",
      " 13  LandMinTemperature                         float64\n",
      " 14  LandMinTemperatureUncertainty              float64\n",
      " 15  LandAndOceanAverageTemperature             float64\n",
      " 16  LandAndOceanAverageTemperatureUncertainty  float64\n",
      "dtypes: float64(10), int64(1), object(6)\n",
      "memory usage: 1.3+ GB\n"
     ]
    }
   ],
   "source": [
    "df.info()"
   ]
  },
  {
   "cell_type": "code",
   "execution_count": 33,
   "id": "4de6ae4d",
   "metadata": {},
   "outputs": [
    {
     "data": {
      "text/html": [
       "<div>\n",
       "<style scoped>\n",
       "    .dataframe tbody tr th:only-of-type {\n",
       "        vertical-align: middle;\n",
       "    }\n",
       "\n",
       "    .dataframe tbody tr th {\n",
       "        vertical-align: top;\n",
       "    }\n",
       "\n",
       "    .dataframe thead th {\n",
       "        text-align: right;\n",
       "    }\n",
       "</style>\n",
       "<table border=\"1\" class=\"dataframe\">\n",
       "  <thead>\n",
       "    <tr style=\"text-align: right;\">\n",
       "      <th></th>\n",
       "      <th>Unnamed: 0</th>\n",
       "      <th>AverageTemperature</th>\n",
       "      <th>AverageTemperatureUncertainty</th>\n",
       "      <th>LandAverageTemperature</th>\n",
       "      <th>LandAverageTemperatureUncertainty</th>\n",
       "      <th>LandMaxTemperature</th>\n",
       "      <th>LandMaxTemperatureUncertainty</th>\n",
       "      <th>LandMinTemperature</th>\n",
       "      <th>LandMinTemperatureUncertainty</th>\n",
       "      <th>LandAndOceanAverageTemperature</th>\n",
       "      <th>LandAndOceanAverageTemperatureUncertainty</th>\n",
       "    </tr>\n",
       "  </thead>\n",
       "  <tbody>\n",
       "    <tr>\n",
       "      <th>count</th>\n",
       "      <td>1.006472e+07</td>\n",
       "      <td>1.006472e+07</td>\n",
       "      <td>1.006472e+07</td>\n",
       "      <td>1.006472e+07</td>\n",
       "      <td>1.006472e+07</td>\n",
       "      <td>1.006472e+07</td>\n",
       "      <td>1.006472e+07</td>\n",
       "      <td>1.006472e+07</td>\n",
       "      <td>1.006472e+07</td>\n",
       "      <td>1.006472e+07</td>\n",
       "      <td>1.006472e+07</td>\n",
       "    </tr>\n",
       "    <tr>\n",
       "      <th>mean</th>\n",
       "      <td>5.032358e+06</td>\n",
       "      <td>1.631380e+01</td>\n",
       "      <td>1.081764e+00</td>\n",
       "      <td>3.035691e+00</td>\n",
       "      <td>3.573167e+00</td>\n",
       "      <td>8.243209e+00</td>\n",
       "      <td>1.737751e+00</td>\n",
       "      <td>-3.204822e+00</td>\n",
       "      <td>2.821527e+00</td>\n",
       "      <td>1.283347e+01</td>\n",
       "      <td>3.669528e-01</td>\n",
       "    </tr>\n",
       "    <tr>\n",
       "      <th>std</th>\n",
       "      <td>2.905434e+06</td>\n",
       "      <td>1.082115e+01</td>\n",
       "      <td>1.153479e+00</td>\n",
       "      <td>1.229276e-01</td>\n",
       "      <td>5.073981e-02</td>\n",
       "      <td>1.051565e-01</td>\n",
       "      <td>1.950769e-02</td>\n",
       "      <td>1.020835e-01</td>\n",
       "      <td>3.420196e-02</td>\n",
       "      <td>3.796822e-02</td>\n",
       "      <td>3.510559e-03</td>\n",
       "    </tr>\n",
       "    <tr>\n",
       "      <th>min</th>\n",
       "      <td>0.000000e+00</td>\n",
       "      <td>-4.538900e+01</td>\n",
       "      <td>3.400000e-02</td>\n",
       "      <td>-2.080000e+00</td>\n",
       "      <td>3.400000e-02</td>\n",
       "      <td>5.900000e+00</td>\n",
       "      <td>4.400000e-02</td>\n",
       "      <td>-5.407000e+00</td>\n",
       "      <td>4.500000e-02</td>\n",
       "      <td>1.247500e+01</td>\n",
       "      <td>4.200000e-02</td>\n",
       "    </tr>\n",
       "    <tr>\n",
       "      <th>25%</th>\n",
       "      <td>2.516179e+06</td>\n",
       "      <td>9.661000e+00</td>\n",
       "      <td>3.440000e-01</td>\n",
       "      <td>3.034000e+00</td>\n",
       "      <td>3.574000e+00</td>\n",
       "      <td>8.242000e+00</td>\n",
       "      <td>1.738000e+00</td>\n",
       "      <td>-3.206000e+00</td>\n",
       "      <td>2.822000e+00</td>\n",
       "      <td>1.283300e+01</td>\n",
       "      <td>3.670000e-01</td>\n",
       "    </tr>\n",
       "    <tr>\n",
       "      <th>50%</th>\n",
       "      <td>5.032358e+06</td>\n",
       "      <td>1.864800e+01</td>\n",
       "      <td>6.310000e-01</td>\n",
       "      <td>3.034000e+00</td>\n",
       "      <td>3.574000e+00</td>\n",
       "      <td>8.242000e+00</td>\n",
       "      <td>1.738000e+00</td>\n",
       "      <td>-3.206000e+00</td>\n",
       "      <td>2.822000e+00</td>\n",
       "      <td>1.283300e+01</td>\n",
       "      <td>3.670000e-01</td>\n",
       "    </tr>\n",
       "    <tr>\n",
       "      <th>75%</th>\n",
       "      <td>7.548538e+06</td>\n",
       "      <td>2.515200e+01</td>\n",
       "      <td>1.447000e+00</td>\n",
       "      <td>3.034000e+00</td>\n",
       "      <td>3.574000e+00</td>\n",
       "      <td>8.242000e+00</td>\n",
       "      <td>1.738000e+00</td>\n",
       "      <td>-3.206000e+00</td>\n",
       "      <td>2.822000e+00</td>\n",
       "      <td>1.283300e+01</td>\n",
       "      <td>3.670000e-01</td>\n",
       "    </tr>\n",
       "    <tr>\n",
       "      <th>max</th>\n",
       "      <td>1.006472e+07</td>\n",
       "      <td>3.965100e+01</td>\n",
       "      <td>1.539600e+01</td>\n",
       "      <td>1.902100e+01</td>\n",
       "      <td>7.880000e+00</td>\n",
       "      <td>2.132000e+01</td>\n",
       "      <td>4.373000e+00</td>\n",
       "      <td>9.715000e+00</td>\n",
       "      <td>3.498000e+00</td>\n",
       "      <td>1.761100e+01</td>\n",
       "      <td>4.570000e-01</td>\n",
       "    </tr>\n",
       "  </tbody>\n",
       "</table>\n",
       "</div>"
      ],
      "text/plain": [
       "         Unnamed: 0  AverageTemperature  AverageTemperatureUncertainty  \\\n",
       "count  1.006472e+07        1.006472e+07                   1.006472e+07   \n",
       "mean   5.032358e+06        1.631380e+01                   1.081764e+00   \n",
       "std    2.905434e+06        1.082115e+01                   1.153479e+00   \n",
       "min    0.000000e+00       -4.538900e+01                   3.400000e-02   \n",
       "25%    2.516179e+06        9.661000e+00                   3.440000e-01   \n",
       "50%    5.032358e+06        1.864800e+01                   6.310000e-01   \n",
       "75%    7.548538e+06        2.515200e+01                   1.447000e+00   \n",
       "max    1.006472e+07        3.965100e+01                   1.539600e+01   \n",
       "\n",
       "       LandAverageTemperature  LandAverageTemperatureUncertainty  \\\n",
       "count            1.006472e+07                       1.006472e+07   \n",
       "mean             3.035691e+00                       3.573167e+00   \n",
       "std              1.229276e-01                       5.073981e-02   \n",
       "min             -2.080000e+00                       3.400000e-02   \n",
       "25%              3.034000e+00                       3.574000e+00   \n",
       "50%              3.034000e+00                       3.574000e+00   \n",
       "75%              3.034000e+00                       3.574000e+00   \n",
       "max              1.902100e+01                       7.880000e+00   \n",
       "\n",
       "       LandMaxTemperature  LandMaxTemperatureUncertainty  LandMinTemperature  \\\n",
       "count        1.006472e+07                   1.006472e+07        1.006472e+07   \n",
       "mean         8.243209e+00                   1.737751e+00       -3.204822e+00   \n",
       "std          1.051565e-01                   1.950769e-02        1.020835e-01   \n",
       "min          5.900000e+00                   4.400000e-02       -5.407000e+00   \n",
       "25%          8.242000e+00                   1.738000e+00       -3.206000e+00   \n",
       "50%          8.242000e+00                   1.738000e+00       -3.206000e+00   \n",
       "75%          8.242000e+00                   1.738000e+00       -3.206000e+00   \n",
       "max          2.132000e+01                   4.373000e+00        9.715000e+00   \n",
       "\n",
       "       LandMinTemperatureUncertainty  LandAndOceanAverageTemperature  \\\n",
       "count                   1.006472e+07                    1.006472e+07   \n",
       "mean                    2.821527e+00                    1.283347e+01   \n",
       "std                     3.420196e-02                    3.796822e-02   \n",
       "min                     4.500000e-02                    1.247500e+01   \n",
       "25%                     2.822000e+00                    1.283300e+01   \n",
       "50%                     2.822000e+00                    1.283300e+01   \n",
       "75%                     2.822000e+00                    1.283300e+01   \n",
       "max                     3.498000e+00                    1.761100e+01   \n",
       "\n",
       "       LandAndOceanAverageTemperatureUncertainty  \n",
       "count                               1.006472e+07  \n",
       "mean                                3.669528e-01  \n",
       "std                                 3.510559e-03  \n",
       "min                                 4.200000e-02  \n",
       "25%                                 3.670000e-01  \n",
       "50%                                 3.670000e-01  \n",
       "75%                                 3.670000e-01  \n",
       "max                                 4.570000e-01  "
      ]
     },
     "execution_count": 33,
     "metadata": {},
     "output_type": "execute_result"
    }
   ],
   "source": [
    "df.describe()"
   ]
  },
  {
   "cell_type": "code",
   "execution_count": 11,
   "id": "bf81f0cb",
   "metadata": {},
   "outputs": [
    {
     "data": {
      "text/plain": [
       "(10064718, 17)"
      ]
     },
     "execution_count": 11,
     "metadata": {},
     "output_type": "execute_result"
    }
   ],
   "source": [
    "df.shape  #rows and cols"
   ]
  },
  {
   "cell_type": "code",
   "execution_count": 4,
   "id": "12bc4670",
   "metadata": {},
   "outputs": [
    {
     "data": {
      "text/plain": [
       "Unnamed: 0                                          0\n",
       "dt                                                  0\n",
       "AverageTemperature                             436623\n",
       "AverageTemperatureUncertainty                  435884\n",
       "City                                          1226329\n",
       "Country                                          3192\n",
       "Latitude                                      1226329\n",
       "Longitude                                     1226329\n",
       "State                                         9419043\n",
       "LandAverageTemperature                       10061538\n",
       "LandAverageTemperatureUncertainty            10061538\n",
       "LandMaxTemperature                           10062726\n",
       "LandMaxTemperatureUncertainty                10062726\n",
       "LandMinTemperature                           10062726\n",
       "LandMinTemperatureUncertainty                10062726\n",
       "LandAndOceanAverageTemperature               10062726\n",
       "LandAndOceanAverageTemperatureUncertainty    10062726\n",
       "dtype: int64"
      ]
     },
     "execution_count": 4,
     "metadata": {},
     "output_type": "execute_result"
    }
   ],
   "source": [
    "df.isnull().sum()"
   ]
  },
  {
   "cell_type": "code",
   "execution_count": 5,
   "id": "b0fe968a",
   "metadata": {},
   "outputs": [
    {
     "data": {
      "text/plain": [
       "94473161"
      ]
     },
     "execution_count": 5,
     "metadata": {},
     "output_type": "execute_result"
    }
   ],
   "source": [
    "df.isnull().sum().sum() #Total missing values"
   ]
  },
  {
   "cell_type": "code",
   "execution_count": 35,
   "id": "6cf61147",
   "metadata": {},
   "outputs": [
    {
     "data": {
      "text/plain": [
       "Xian                653503\n",
       "Abidjan             581416\n",
       "Saint Petersburg      9717\n",
       "London                9717\n",
       "Springfield           9545\n",
       "                     ...  \n",
       "Sullana               1591\n",
       "Chiclayo              1584\n",
       "Trujillo              1584\n",
       "Chimbote              1584\n",
       "Port Moresby          1581\n",
       "Name: City, Length: 3448, dtype: int64"
      ]
     },
     "execution_count": 35,
     "metadata": {},
     "output_type": "execute_result"
    }
   ],
   "source": [
    "df['City'].value_counts()  #so max cities-Xian,min -port Moresby"
   ]
  },
  {
   "cell_type": "code",
   "execution_count": 36,
   "id": "201d6cad",
   "metadata": {},
   "outputs": [
    {
     "data": {
      "text/plain": [
       "Acre                    9417752\n",
       "Zhejiang                   5265\n",
       "Kentucky                   3239\n",
       "Ontario                    3239\n",
       "District Of Columbia       3239\n",
       "                         ...   \n",
       "Rio Grande Do Norte        1953\n",
       "Western Australia          1935\n",
       "Northern Territory         1901\n",
       "Queensland                 1901\n",
       "Hawaii                     1569\n",
       "Name: State, Length: 241, dtype: int64"
      ]
     },
     "execution_count": 36,
     "metadata": {},
     "output_type": "execute_result"
    }
   ],
   "source": [
    "df['State'].value_counts()   #so max State-Acre,min-Hawaii"
   ]
  },
  {
   "cell_type": "code",
   "execution_count": 37,
   "id": "5651d45f",
   "metadata": {},
   "outputs": [
    {
     "data": {
      "text/plain": [
       "India                                  1140765\n",
       "China                                   937262\n",
       "United States                           848430\n",
       "Russia                                  725105\n",
       "Brazil                                  525019\n",
       "                                        ...   \n",
       "Guam                                      1329\n",
       "Northern Mariana Islands                  1329\n",
       "Heard Island And Mcdonald Islands          788\n",
       "French Southern And Antarctic Lands        788\n",
       "Antarctica                                 764\n",
       "Name: Country, Length: 243, dtype: int64"
      ]
     },
     "execution_count": 37,
     "metadata": {},
     "output_type": "execute_result"
    }
   ],
   "source": [
    "df['Country'].value_counts()   #so max country-India,min-Antarctica"
   ]
  },
  {
   "cell_type": "code",
   "execution_count": 4,
   "id": "5c17071b",
   "metadata": {},
   "outputs": [
    {
     "data": {
      "text/plain": [
       "94473161"
      ]
     },
     "execution_count": 4,
     "metadata": {},
     "output_type": "execute_result"
    }
   ],
   "source": [
    "df.isnull().sum().sum()"
   ]
  },
  {
   "cell_type": "code",
   "execution_count": 5,
   "id": "5ea582e6",
   "metadata": {},
   "outputs": [],
   "source": [
    "cateogry_columns=df.select_dtypes(include=['object']).columns.tolist()\n",
    "integer_columns=df.select_dtypes(include=['int64','float64']).columns.tolist()\n",
    "\n",
    "for column in df:\n",
    "    if df[column].isnull().any():\n",
    "        if(column in cateogry_columns):\n",
    "            df[column]=df[column].fillna(df[column].mode()[0])\n",
    "        else:\n",
    "            df[column]=df[column].fillna(df[column].mean)"
   ]
  },
  {
   "cell_type": "code",
   "execution_count": 7,
   "id": "dd37096c",
   "metadata": {},
   "outputs": [
    {
     "data": {
      "text/plain": [
       "Unnamed: 0                                   0\n",
       "dt                                           0\n",
       "AverageTemperature                           0\n",
       "AverageTemperatureUncertainty                0\n",
       "City                                         0\n",
       "Country                                      0\n",
       "Latitude                                     0\n",
       "Longitude                                    0\n",
       "State                                        0\n",
       "LandAverageTemperature                       0\n",
       "LandAverageTemperatureUncertainty            0\n",
       "LandMaxTemperature                           0\n",
       "LandMaxTemperatureUncertainty                0\n",
       "LandMinTemperature                           0\n",
       "LandMinTemperatureUncertainty                0\n",
       "LandAndOceanAverageTemperature               0\n",
       "LandAndOceanAverageTemperatureUncertainty    0\n",
       "dtype: int64"
      ]
     },
     "execution_count": 7,
     "metadata": {},
     "output_type": "execute_result"
    }
   ],
   "source": [
    "df.isnull().sum()"
   ]
  },
  {
   "cell_type": "code",
   "execution_count": 6,
   "id": "ef1cb90e",
   "metadata": {},
   "outputs": [],
   "source": [
    "Q1 = df.quantile(0.25)\n",
    "Q3 = df.quantile(0.75)\n",
    "IQR = Q3 - Q1"
   ]
  },
  {
   "cell_type": "code",
   "execution_count": null,
   "id": "41266182",
   "metadata": {},
   "outputs": [],
   "source": [
    "print(((df < (Q1 - 1.5 * IQR)) | (df > (Q3 + 1.5 * IQR))).sum()))"
   ]
  },
  {
   "cell_type": "code",
   "execution_count": null,
   "id": "af90ea2c",
   "metadata": {},
   "outputs": [],
   "source": [
    "df.corr()"
   ]
  },
  {
   "cell_type": "code",
   "execution_count": null,
   "id": "6416fb52",
   "metadata": {},
   "outputs": [],
   "source": [
    "sns.heatmap(df.corr())"
   ]
  }
 ],
 "metadata": {
  "kernelspec": {
   "display_name": "Python 3",
   "language": "python",
   "name": "python3"
  },
  "language_info": {
   "codemirror_mode": {
    "name": "ipython",
    "version": 3
   },
   "file_extension": ".py",
   "mimetype": "text/x-python",
   "name": "python",
   "nbconvert_exporter": "python",
   "pygments_lexer": "ipython3",
   "version": "3.8.10"
  }
 },
 "nbformat": 4,
 "nbformat_minor": 5
}
